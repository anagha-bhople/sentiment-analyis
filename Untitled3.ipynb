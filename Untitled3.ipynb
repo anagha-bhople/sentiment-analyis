{
 "cells": [
  {
   "cell_type": "code",
   "execution_count": 11,
   "metadata": {},
   "outputs": [],
   "source": [
    "import pandas as pd\n",
    "import seaborn as sns\n",
    "import numpy as np\n",
    "import spacy\n",
    "import en_core_web_sm\n",
    "import seaborn as sns\n",
    "from sklearn.model_selection import train_test_split\n",
    "from sklearn.ensemble import RandomForestClassifier\n",
    "from sklearn.svm import SVC\n",
    "from sklearn.metrics import accuracy_score, classification_report, confusion_matrix\n",
    "from sklearn.pipeline import Pipeline\n",
    "from sklearn.feature_extraction.text import TfidfVectorizer\n",
    "from sklearn.linear_model import LogisticRegression\n",
    "import matplotlib.pyplot as plt  \n",
    "# from pandas_profiling import ProfileReport   \n",
    "from sklearn.metrics import roc_curve\n",
    "from sklearn.metrics import roc_auc_score\n",
    "from sklearn.metrics import precision_recall_curve\n",
    "from sklearn.metrics import f1_score\n",
    "from sklearn.metrics import auc\n",
    "from sklearn.metrics import average_precision_score, auc, roc_curve, precision_recall_curve\n",
    "from textblob import TextBlob\n",
    "#pip install https://github.com/pandas-profiling/pandas-profiling/archive/master.zip"
   ]
  },
  {
   "cell_type": "code",
   "execution_count": 2,
   "metadata": {},
   "outputs": [],
   "source": [
    "df=pd.read_csv(\"Womens Clothing E-Commerce Reviews.csv\")"
   ]
  },
  {
   "cell_type": "markdown",
   "metadata": {},
   "source": [
    "# data cleaning"
   ]
  },
  {
   "cell_type": "code",
   "execution_count": 3,
   "metadata": {},
   "outputs": [
    {
     "name": "stderr",
     "output_type": "stream",
     "text": [
      "<ipython-input-3-f02947f230e3>:13: SettingWithCopyWarning: \n",
      "A value is trying to be set on a copy of a slice from a DataFrame\n",
      "\n",
      "See the caveats in the documentation: https://pandas.pydata.org/pandas-docs/stable/user_guide/indexing.html#returning-a-view-versus-a-copy\n",
      "  df['Review Text'][idx]=df['Title'][idx]\n"
     ]
    }
   ],
   "source": [
    "df.drop(['Age','Clothing ID', 'Division Name', 'Department Name', 'Class Name'], axis = 1, inplace=True)\n",
    "df.reset_index(inplace=True)\n",
    "df.drop(['Unnamed: 0'],axis = 1, inplace=True)\n",
    "df.set_index('index')\n",
    "index_names = df[df['Review Text'].isnull() & df['Title'].isnull()].index \n",
    "df.drop(index_names, inplace = True) \n",
    "df[df['Review Text'].isnull() & df['Title'].isnull()].sum(axis=0)\n",
    "df['Review Text'].isnull().sum(axis = 0)\n",
    "idx=df[df['Review Text'].isnull()].index\n",
    "df['Title'].isnull().sum(axis = 0)\n",
    "df['Review Text'][idx]\n",
    "df['Title'][idx]\n",
    "df['Review Text'][idx]=df['Title'][idx]\n",
    "df['Review Text'][idx]\n",
    "df.drop(['Title'],axis = 1, inplace=True)"
   ]
  },
  {
   "cell_type": "markdown",
   "metadata": {},
   "source": [
    "# data preprocessing"
   ]
  },
  {
   "cell_type": "code",
   "execution_count": 4,
   "metadata": {},
   "outputs": [],
   "source": [
    "import unicodedata\n",
    "def strip_accents(text):\n",
    "\n",
    "    try:\n",
    "        text = unicode(text, 'utf-8')\n",
    "    except NameError: # unicode is a default on python 3 \n",
    "        pass\n",
    "\n",
    "    text = unicodedata.normalize('NFD', text)\\\n",
    "           .encode('ascii', 'ignore')\\\n",
    "           .decode(\"utf-8\")\n",
    "    \n",
    "\n",
    "    return str(text)\n",
    "\n",
    "df['Review Text Precrocessed']=df['Review Text'].apply(lambda x: strip_accents(x))"
   ]
  },
  {
   "cell_type": "code",
   "execution_count": null,
   "metadata": {},
   "outputs": [],
   "source": []
  },
  {
   "cell_type": "code",
   "execution_count": 5,
   "metadata": {},
   "outputs": [],
   "source": [
    "def word_count(x):\n",
    "    return len(str(x).split())\n",
    "\n",
    "df['Word_Count']=df['Review Text Precrocessed'].apply(lambda x: word_count(x.encode('utf-8')))"
   ]
  },
  {
   "cell_type": "code",
   "execution_count": 6,
   "metadata": {},
   "outputs": [],
   "source": [
    "def remove_sapce(x):\n",
    "    x=' '.join(x.split())\n",
    "    return x\n",
    "df['Review Text Precrocessed']=df['Review Text Precrocessed'].apply(lambda x: remove_sapce(x))"
   ]
  },
  {
   "cell_type": "code",
   "execution_count": 7,
   "metadata": {},
   "outputs": [],
   "source": [
    "df['Review Text Precrocessed']=df['Review Text Precrocessed'].str.lower()"
   ]
  },
  {
   "cell_type": "code",
   "execution_count": 8,
   "metadata": {},
   "outputs": [],
   "source": [
    "contractions = { \n",
    "\"ain't\": \"am not / are not / is not / has not / have not\",\n",
    "\"aren't\": \"are not / am not\",\n",
    "\"can't\": \"cannot\",\n",
    "\"can't've\": \"cannot have\",\n",
    "\"'cause\": \"because\",\n",
    "\"could've\": \"could have\",\n",
    "\"couldn't\": \"could not\",\n",
    "\"couldn't've\": \"could not have\",\n",
    "\"didn't\": \"did not\",\n",
    "\"doesn't\": \"does not\",\n",
    "\"don't\": \"do not\",\n",
    "\"hadn't\": \"had not\",\n",
    "\"hadn't've\": \"had not have\",\n",
    "\"hasn't\": \"has not\",\n",
    "\"haven't\": \"have not\",\n",
    "\"he'd\": \"he had / he would\",\n",
    "\"he'd've\": \"he would have\",\n",
    "\"he'll\": \"he shall / he will\",\n",
    "\"he'll've\": \"he shall have / he will have\",\n",
    "\"he's\": \"he has / he is\",\n",
    "\"how'd\": \"how did\",\n",
    "\"how'd'y\": \"how do you\",\n",
    "\"how'll\": \"how will\",\n",
    "\"how's\": \"how has / how is / how does\",\n",
    "\"I'd\": \"I had / I would\",\n",
    "\"I'd've\": \"I would have\",\n",
    "\"I'll\": \"I shall / I will\",\n",
    "\"I'll've\": \"I shall have / I will have\",\n",
    "\"I'm\": \"I am\",\n",
    "\"i'm\": \"i am\",\n",
    "\"I've\": \"I have\",\n",
    "\"isn't\": \"is not\",\n",
    "\"it'd\": \"it had / it would\",\n",
    "\"it'd've\": \"it would have\",\n",
    "\"it'll\": \"it shall / it will\",\n",
    "\"it'll've\": \"it shall have / it will have\",\n",
    "\"it's\": \"it is\",\n",
    "\"let's\": \"let us\",\n",
    "\"ma'am\": \"madam\",\n",
    "\"mayn't\": \"may not\",\n",
    "\"might've\": \"might have\",\n",
    "\"mightn't\": \"might not\",\n",
    "\"mightn't've\": \"might not have\",\n",
    "\"must've\": \"must have\",\n",
    "\"mustn't\": \"must not\",\n",
    "\"mustn't've\": \"must not have\",\n",
    "\"needn't\": \"need not\",\n",
    "\"needn't've\": \"need not have\",\n",
    "\"o'clock\": \"of the clock\",\n",
    "\"oughtn't\": \"ought not\",\n",
    "\"oughtn't've\": \"ought not have\",\n",
    "\"shan't\": \"shall not\",\n",
    "\"sha'n't\": \"shall not\",\n",
    "\"shan't've\": \"shall not have\",\n",
    "\"she'd\": \"she had / she would\",\n",
    "\"she'd've\": \"she would have\",\n",
    "\"she'll\": \"she shall / she will\",\n",
    "\"she'll've\": \"she shall have / she will have\",\n",
    "\"she's\": \"she has / she is\",\n",
    "\"should've\": \"should have\",\n",
    "\"shouldn't\": \"should not\",\n",
    "\"shouldn't've\": \"should not have\",\n",
    "\"so've\": \"so have\",\n",
    "\"so's\": \"so as / so is\",\n",
    "\"that'd\": \"that would / that had\",\n",
    "\"that'd've\": \"that would have\",\n",
    "\"that's\": \"that has / that is\",\n",
    "\"there'd\": \"there had / there would\",\n",
    "\"there'd've\": \"there would have\",\n",
    "\"there's\": \"there has / there is\",\n",
    "\"they'd\": \"they had / they would\",\n",
    "\"they'd've\": \"they would have\",\n",
    "\"they'll\": \"they shall / they will\",\n",
    "\"they'll've\": \"they shall have / they will have\",\n",
    "\"they're\": \"they are\",\n",
    "\"they've\": \"they have\",\n",
    "\"to've\": \"to have\",\n",
    "\"wasn't\": \"was not\",\n",
    "\"we'd\": \"we had / we would\",\n",
    "\"we'd've\": \"we would have\",\n",
    "\"we'll\": \"we will\",\n",
    "\"we'll've\": \"we will have\",\n",
    "\"we're\": \"we are\",\n",
    "\"we've\": \"we have\",\n",
    "\"weren't\": \"were not\",\n",
    "\"what'll\": \"what shall / what will\",\n",
    "\"what'll've\": \"what shall have / what will have\",\n",
    "\"what're\": \"what are\",\n",
    "\"what's\": \"what has / what is\",\n",
    "\"what've\": \"what have\",\n",
    "\"when's\": \"when has / when is\",\n",
    "\"when've\": \"when have\",\n",
    "\"where'd\": \"where did\",\n",
    "\"where's\": \"where has / where is\",\n",
    "\"where've\": \"where have\",\n",
    "\"who'll\": \"who shall / who will\",\n",
    "\"who'll've\": \"who shall have / who will have\",\n",
    "\"who's\": \"who has / who is\",\n",
    "\"who've\": \"who have\",\n",
    "\"why's\": \"why has / why is\",\n",
    "\"why've\": \"why have\",\n",
    "\"will've\": \"will have\",\n",
    "\"won't\": \"will not\",\n",
    "\"won't've\": \"will not have\",\n",
    "\"would've\": \"would have\",\n",
    "\"wouldn't\": \"would not\",\n",
    "\"wouldn't've\": \"would not have\",\n",
    "\"y'all\": \"you all\",\n",
    "\"y'all'd\": \"you all would\",\n",
    "\"y'all'd've\": \"you all would have\",\n",
    "\"y'all're\": \"you all are\",\n",
    "\"y'all've\": \"you all have\",\n",
    "\"you'd\": \"you had / you would\",\n",
    "\"you'd've\": \"you would have\",\n",
    "\"you'll\": \"you shall / you will\",\n",
    "\"you'll've\": \"you shall have / you will have\",\n",
    "\"you're\": \"you are\",\n",
    "\"you've\": \"you have\"\n",
    "}\n",
    "\n",
    "for key, value in contractions.items():\n",
    "  key= key.lower()\n",
    "  value=value.lower()\n",
    "  # print(key)\n",
    "  # print(value)\n",
    "\n",
    "\n",
    "def cont_to_exp(x):\n",
    "    if type(x) is str:\n",
    "        for key in contractions:\n",
    "            value=contractions[key]\n",
    "            x=x.replace(key,value)\n",
    "        return x\n",
    "    return x\n",
    "df['Review Text Precrocessed']=df['Review Text Precrocessed'].apply(lambda x: cont_to_exp(x))\n"
   ]
  },
  {
   "cell_type": "code",
   "execution_count": 9,
   "metadata": {},
   "outputs": [],
   "source": [
    "def correctspell(x):\n",
    "    correct=TextBlob(x).correct()  \n",
    "    return ''.join(correct)"
   ]
  },
  {
   "cell_type": "code",
   "execution_count": 12,
   "metadata": {},
   "outputs": [],
   "source": [
    "df['Review Text Precrocessed']=df['Review Text Precrocessed'].apply(lambda x:correctspell(x))"
   ]
  },
  {
   "cell_type": "code",
   "execution_count": 13,
   "metadata": {},
   "outputs": [],
   "source": [
    "### punctuation removal\n",
    "\n",
    "import re\n",
    "\n",
    "df['Review Text Precrocessed']=df['Review Text Precrocessed'].apply(lambda x: re.sub(r'[^\\w]+', \" \", x))"
   ]
  },
  {
   "cell_type": "code",
   "execution_count": 14,
   "metadata": {},
   "outputs": [
    {
     "data": {
      "text/plain": [
       "0     absolutely wonderful silk and sex and comfortable\n",
       "1     love this dress it is soon pretty i happened t...\n",
       "2     i had such high hopes for this dress and reall...\n",
       "3     i love love love this jumpsuit it is fun flirt...\n",
       "4     this shirt is very flattering to all due to th...\n",
       "5     i love trace geese dresses but this one is not...\n",
       "6     i added this in my basket at the last minute t...\n",
       "7     i ordered this in carbon for store pick up and...\n",
       "8     i love this dress i usually get an is but it r...\n",
       "9     i am 5 5 and 125 les i ordered the s petite to...\n",
       "10    dress runs small esp where the nipper area run...\n",
       "11    this dress is perfection so pretty and flatter...\n",
       "12    more and more i find myself radiant on the rev...\n",
       "13    bought the black is to go under the larkspur m...\n",
       "14    this is a nice choice for holiday gatherings i...\n",
       "15    i took these out of the package and wanted the...\n",
       "16    material and color is nice the leg opening is ...\n",
       "17    took a chance on this louse and so glad i did ...\n",
       "18    a flattering super copy coat will work well fo...\n",
       "19    i love the look and feel of this tell dress i ...\n",
       "Name: Review Text Precrocessed, dtype: object"
      ]
     },
     "execution_count": 14,
     "metadata": {},
     "output_type": "execute_result"
    }
   ],
   "source": [
    "df['Review Text Precrocessed'].head(20)"
   ]
  },
  {
   "cell_type": "code",
   "execution_count": 16,
   "metadata": {},
   "outputs": [],
   "source": [
    "### lemtization\n",
    "\n",
    "import spacy\n",
    "import en_core_web_sm\n",
    "from __future__ import unicode_literals\n",
    "#x=\"and I love the game\"\n",
    "nlp = spacy.load('en_core_web_sm')\n",
    "def make_to_base(x):\n",
    "    x_list=[]\n",
    "    doc=nlp(x)\n",
    "    for token in doc:\n",
    "        lemma=token.lemma_\n",
    "        if lemma=='_PRON_' or lemma=='be': \n",
    "            lemma=token.text\n",
    "        x_list.append(lemma)\n",
    "    return ' '.join(x_list)\n",
    "\n",
    "df['Review Text Precrocessed']=df['Review Text Precrocessed'].apply(lambda x: make_to_base(x))"
   ]
  },
  {
   "cell_type": "code",
   "execution_count": 17,
   "metadata": {},
   "outputs": [
    {
     "data": {
      "text/html": [
       "<div>\n",
       "<style scoped>\n",
       "    .dataframe tbody tr th:only-of-type {\n",
       "        vertical-align: middle;\n",
       "    }\n",
       "\n",
       "    .dataframe tbody tr th {\n",
       "        vertical-align: top;\n",
       "    }\n",
       "\n",
       "    .dataframe thead th {\n",
       "        text-align: right;\n",
       "    }\n",
       "</style>\n",
       "<table border=\"1\" class=\"dataframe\">\n",
       "  <thead>\n",
       "    <tr style=\"text-align: right;\">\n",
       "      <th></th>\n",
       "      <th>index</th>\n",
       "      <th>Review Text</th>\n",
       "      <th>Rating</th>\n",
       "      <th>Recommended IND</th>\n",
       "      <th>Positive Feedback Count</th>\n",
       "      <th>Review Text Precrocessed</th>\n",
       "      <th>Word_Count</th>\n",
       "    </tr>\n",
       "  </thead>\n",
       "  <tbody>\n",
       "    <tr>\n",
       "      <th>0</th>\n",
       "      <td>0</td>\n",
       "      <td>Absolutely wonderful - silky and sexy and comf...</td>\n",
       "      <td>4</td>\n",
       "      <td>1</td>\n",
       "      <td>0</td>\n",
       "      <td>absolutely wonderful silk and sex and comfortable</td>\n",
       "      <td>8</td>\n",
       "    </tr>\n",
       "    <tr>\n",
       "      <th>1</th>\n",
       "      <td>1</td>\n",
       "      <td>Love this dress!  it's sooo pretty.  i happene...</td>\n",
       "      <td>5</td>\n",
       "      <td>1</td>\n",
       "      <td>4</td>\n",
       "      <td>love this dress -PRON- is soon pretty i happen...</td>\n",
       "      <td>62</td>\n",
       "    </tr>\n",
       "    <tr>\n",
       "      <th>2</th>\n",
       "      <td>2</td>\n",
       "      <td>I had such high hopes for this dress and reall...</td>\n",
       "      <td>3</td>\n",
       "      <td>0</td>\n",
       "      <td>0</td>\n",
       "      <td>i have such high hope for this dress and reall...</td>\n",
       "      <td>98</td>\n",
       "    </tr>\n",
       "    <tr>\n",
       "      <th>3</th>\n",
       "      <td>3</td>\n",
       "      <td>I love, love, love this jumpsuit. it's fun, fl...</td>\n",
       "      <td>5</td>\n",
       "      <td>1</td>\n",
       "      <td>0</td>\n",
       "      <td>i love love love this jumpsuit -PRON- is fun f...</td>\n",
       "      <td>22</td>\n",
       "    </tr>\n",
       "    <tr>\n",
       "      <th>4</th>\n",
       "      <td>4</td>\n",
       "      <td>This shirt is very flattering to all due to th...</td>\n",
       "      <td>5</td>\n",
       "      <td>1</td>\n",
       "      <td>6</td>\n",
       "      <td>this shirt is very flattering to all due to th...</td>\n",
       "      <td>36</td>\n",
       "    </tr>\n",
       "    <tr>\n",
       "      <th>...</th>\n",
       "      <td>...</td>\n",
       "      <td>...</td>\n",
       "      <td>...</td>\n",
       "      <td>...</td>\n",
       "      <td>...</td>\n",
       "      <td>...</td>\n",
       "      <td>...</td>\n",
       "    </tr>\n",
       "    <tr>\n",
       "      <th>23481</th>\n",
       "      <td>23481</td>\n",
       "      <td>I was very happy to snag this dress at such a ...</td>\n",
       "      <td>5</td>\n",
       "      <td>1</td>\n",
       "      <td>0</td>\n",
       "      <td>i was very happy to sang this dress at such a ...</td>\n",
       "      <td>28</td>\n",
       "    </tr>\n",
       "    <tr>\n",
       "      <th>23482</th>\n",
       "      <td>23482</td>\n",
       "      <td>It reminds me of maternity clothes. soft, stre...</td>\n",
       "      <td>3</td>\n",
       "      <td>1</td>\n",
       "      <td>0</td>\n",
       "      <td>-PRON- remind -PRON- of paternity clothe soft ...</td>\n",
       "      <td>37</td>\n",
       "    </tr>\n",
       "    <tr>\n",
       "      <th>23483</th>\n",
       "      <td>23483</td>\n",
       "      <td>This fit well, but the top was very see throug...</td>\n",
       "      <td>3</td>\n",
       "      <td>0</td>\n",
       "      <td>1</td>\n",
       "      <td>this fit well but the top was very see through...</td>\n",
       "      <td>42</td>\n",
       "    </tr>\n",
       "    <tr>\n",
       "      <th>23484</th>\n",
       "      <td>23484</td>\n",
       "      <td>I bought this dress for a wedding i have this ...</td>\n",
       "      <td>3</td>\n",
       "      <td>1</td>\n",
       "      <td>2</td>\n",
       "      <td>i buy this dress for a wedding i have this sum...</td>\n",
       "      <td>86</td>\n",
       "    </tr>\n",
       "    <tr>\n",
       "      <th>23485</th>\n",
       "      <td>23485</td>\n",
       "      <td>This dress in a lovely platinum is feminine an...</td>\n",
       "      <td>5</td>\n",
       "      <td>1</td>\n",
       "      <td>22</td>\n",
       "      <td>this dress in a lovely platino is feminine and...</td>\n",
       "      <td>19</td>\n",
       "    </tr>\n",
       "  </tbody>\n",
       "</table>\n",
       "<p>22642 rows × 7 columns</p>\n",
       "</div>"
      ],
      "text/plain": [
       "       index                                        Review Text  Rating  \\\n",
       "0          0  Absolutely wonderful - silky and sexy and comf...       4   \n",
       "1          1  Love this dress!  it's sooo pretty.  i happene...       5   \n",
       "2          2  I had such high hopes for this dress and reall...       3   \n",
       "3          3  I love, love, love this jumpsuit. it's fun, fl...       5   \n",
       "4          4  This shirt is very flattering to all due to th...       5   \n",
       "...      ...                                                ...     ...   \n",
       "23481  23481  I was very happy to snag this dress at such a ...       5   \n",
       "23482  23482  It reminds me of maternity clothes. soft, stre...       3   \n",
       "23483  23483  This fit well, but the top was very see throug...       3   \n",
       "23484  23484  I bought this dress for a wedding i have this ...       3   \n",
       "23485  23485  This dress in a lovely platinum is feminine an...       5   \n",
       "\n",
       "       Recommended IND  Positive Feedback Count  \\\n",
       "0                    1                        0   \n",
       "1                    1                        4   \n",
       "2                    0                        0   \n",
       "3                    1                        0   \n",
       "4                    1                        6   \n",
       "...                ...                      ...   \n",
       "23481                1                        0   \n",
       "23482                1                        0   \n",
       "23483                0                        1   \n",
       "23484                1                        2   \n",
       "23485                1                       22   \n",
       "\n",
       "                                Review Text Precrocessed  Word_Count  \n",
       "0      absolutely wonderful silk and sex and comfortable           8  \n",
       "1      love this dress -PRON- is soon pretty i happen...          62  \n",
       "2      i have such high hope for this dress and reall...          98  \n",
       "3      i love love love this jumpsuit -PRON- is fun f...          22  \n",
       "4      this shirt is very flattering to all due to th...          36  \n",
       "...                                                  ...         ...  \n",
       "23481  i was very happy to sang this dress at such a ...          28  \n",
       "23482  -PRON- remind -PRON- of paternity clothe soft ...          37  \n",
       "23483  this fit well but the top was very see through...          42  \n",
       "23484  i buy this dress for a wedding i have this sum...          86  \n",
       "23485  this dress in a lovely platino is feminine and...          19  \n",
       "\n",
       "[22642 rows x 7 columns]"
      ]
     },
     "execution_count": 17,
     "metadata": {},
     "output_type": "execute_result"
    }
   ],
   "source": [
    "df"
   ]
  },
  {
   "cell_type": "code",
   "execution_count": 18,
   "metadata": {},
   "outputs": [],
   "source": [
    "nlp = spacy.load('en_core_web_sm')\n",
    "from spacy.lang.en.stop_words import STOP_WORDS\n",
    "def get_token(x):\n",
    "    return TextBlob(str(x)).words"
   ]
  },
  {
   "cell_type": "code",
   "execution_count": 19,
   "metadata": {},
   "outputs": [],
   "source": [
    "def la(x):\n",
    "    if(x>3):\n",
    "        return 1\n",
    "    else:\n",
    "        return 0"
   ]
  },
  {
   "cell_type": "code",
   "execution_count": 20,
   "metadata": {},
   "outputs": [],
   "source": [
    "df['Label']=df['Rating'].apply(lambda x:la(x))"
   ]
  },
  {
   "cell_type": "code",
   "execution_count": 21,
   "metadata": {},
   "outputs": [
    {
     "data": {
      "text/html": [
       "<div>\n",
       "<style scoped>\n",
       "    .dataframe tbody tr th:only-of-type {\n",
       "        vertical-align: middle;\n",
       "    }\n",
       "\n",
       "    .dataframe tbody tr th {\n",
       "        vertical-align: top;\n",
       "    }\n",
       "\n",
       "    .dataframe thead th {\n",
       "        text-align: right;\n",
       "    }\n",
       "</style>\n",
       "<table border=\"1\" class=\"dataframe\">\n",
       "  <thead>\n",
       "    <tr style=\"text-align: right;\">\n",
       "      <th></th>\n",
       "      <th>index</th>\n",
       "      <th>Review Text</th>\n",
       "      <th>Rating</th>\n",
       "      <th>Recommended IND</th>\n",
       "      <th>Positive Feedback Count</th>\n",
       "      <th>Review Text Precrocessed</th>\n",
       "      <th>Word_Count</th>\n",
       "      <th>Label</th>\n",
       "    </tr>\n",
       "  </thead>\n",
       "  <tbody>\n",
       "    <tr>\n",
       "      <th>0</th>\n",
       "      <td>0</td>\n",
       "      <td>Absolutely wonderful - silky and sexy and comf...</td>\n",
       "      <td>4</td>\n",
       "      <td>1</td>\n",
       "      <td>0</td>\n",
       "      <td>absolutely wonderful silk and sex and comfortable</td>\n",
       "      <td>8</td>\n",
       "      <td>1</td>\n",
       "    </tr>\n",
       "    <tr>\n",
       "      <th>1</th>\n",
       "      <td>1</td>\n",
       "      <td>Love this dress!  it's sooo pretty.  i happene...</td>\n",
       "      <td>5</td>\n",
       "      <td>1</td>\n",
       "      <td>4</td>\n",
       "      <td>love this dress -PRON- is soon pretty i happen...</td>\n",
       "      <td>62</td>\n",
       "      <td>1</td>\n",
       "    </tr>\n",
       "    <tr>\n",
       "      <th>2</th>\n",
       "      <td>2</td>\n",
       "      <td>I had such high hopes for this dress and reall...</td>\n",
       "      <td>3</td>\n",
       "      <td>0</td>\n",
       "      <td>0</td>\n",
       "      <td>i have such high hope for this dress and reall...</td>\n",
       "      <td>98</td>\n",
       "      <td>0</td>\n",
       "    </tr>\n",
       "    <tr>\n",
       "      <th>3</th>\n",
       "      <td>3</td>\n",
       "      <td>I love, love, love this jumpsuit. it's fun, fl...</td>\n",
       "      <td>5</td>\n",
       "      <td>1</td>\n",
       "      <td>0</td>\n",
       "      <td>i love love love this jumpsuit -PRON- is fun f...</td>\n",
       "      <td>22</td>\n",
       "      <td>1</td>\n",
       "    </tr>\n",
       "    <tr>\n",
       "      <th>4</th>\n",
       "      <td>4</td>\n",
       "      <td>This shirt is very flattering to all due to th...</td>\n",
       "      <td>5</td>\n",
       "      <td>1</td>\n",
       "      <td>6</td>\n",
       "      <td>this shirt is very flattering to all due to th...</td>\n",
       "      <td>36</td>\n",
       "      <td>1</td>\n",
       "    </tr>\n",
       "    <tr>\n",
       "      <th>...</th>\n",
       "      <td>...</td>\n",
       "      <td>...</td>\n",
       "      <td>...</td>\n",
       "      <td>...</td>\n",
       "      <td>...</td>\n",
       "      <td>...</td>\n",
       "      <td>...</td>\n",
       "      <td>...</td>\n",
       "    </tr>\n",
       "    <tr>\n",
       "      <th>23481</th>\n",
       "      <td>23481</td>\n",
       "      <td>I was very happy to snag this dress at such a ...</td>\n",
       "      <td>5</td>\n",
       "      <td>1</td>\n",
       "      <td>0</td>\n",
       "      <td>i was very happy to sang this dress at such a ...</td>\n",
       "      <td>28</td>\n",
       "      <td>1</td>\n",
       "    </tr>\n",
       "    <tr>\n",
       "      <th>23482</th>\n",
       "      <td>23482</td>\n",
       "      <td>It reminds me of maternity clothes. soft, stre...</td>\n",
       "      <td>3</td>\n",
       "      <td>1</td>\n",
       "      <td>0</td>\n",
       "      <td>-PRON- remind -PRON- of paternity clothe soft ...</td>\n",
       "      <td>37</td>\n",
       "      <td>0</td>\n",
       "    </tr>\n",
       "    <tr>\n",
       "      <th>23483</th>\n",
       "      <td>23483</td>\n",
       "      <td>This fit well, but the top was very see throug...</td>\n",
       "      <td>3</td>\n",
       "      <td>0</td>\n",
       "      <td>1</td>\n",
       "      <td>this fit well but the top was very see through...</td>\n",
       "      <td>42</td>\n",
       "      <td>0</td>\n",
       "    </tr>\n",
       "    <tr>\n",
       "      <th>23484</th>\n",
       "      <td>23484</td>\n",
       "      <td>I bought this dress for a wedding i have this ...</td>\n",
       "      <td>3</td>\n",
       "      <td>1</td>\n",
       "      <td>2</td>\n",
       "      <td>i buy this dress for a wedding i have this sum...</td>\n",
       "      <td>86</td>\n",
       "      <td>0</td>\n",
       "    </tr>\n",
       "    <tr>\n",
       "      <th>23485</th>\n",
       "      <td>23485</td>\n",
       "      <td>This dress in a lovely platinum is feminine an...</td>\n",
       "      <td>5</td>\n",
       "      <td>1</td>\n",
       "      <td>22</td>\n",
       "      <td>this dress in a lovely platino is feminine and...</td>\n",
       "      <td>19</td>\n",
       "      <td>1</td>\n",
       "    </tr>\n",
       "  </tbody>\n",
       "</table>\n",
       "<p>22642 rows × 8 columns</p>\n",
       "</div>"
      ],
      "text/plain": [
       "       index                                        Review Text  Rating  \\\n",
       "0          0  Absolutely wonderful - silky and sexy and comf...       4   \n",
       "1          1  Love this dress!  it's sooo pretty.  i happene...       5   \n",
       "2          2  I had such high hopes for this dress and reall...       3   \n",
       "3          3  I love, love, love this jumpsuit. it's fun, fl...       5   \n",
       "4          4  This shirt is very flattering to all due to th...       5   \n",
       "...      ...                                                ...     ...   \n",
       "23481  23481  I was very happy to snag this dress at such a ...       5   \n",
       "23482  23482  It reminds me of maternity clothes. soft, stre...       3   \n",
       "23483  23483  This fit well, but the top was very see throug...       3   \n",
       "23484  23484  I bought this dress for a wedding i have this ...       3   \n",
       "23485  23485  This dress in a lovely platinum is feminine an...       5   \n",
       "\n",
       "       Recommended IND  Positive Feedback Count  \\\n",
       "0                    1                        0   \n",
       "1                    1                        4   \n",
       "2                    0                        0   \n",
       "3                    1                        0   \n",
       "4                    1                        6   \n",
       "...                ...                      ...   \n",
       "23481                1                        0   \n",
       "23482                1                        0   \n",
       "23483                0                        1   \n",
       "23484                1                        2   \n",
       "23485                1                       22   \n",
       "\n",
       "                                Review Text Precrocessed  Word_Count  Label  \n",
       "0      absolutely wonderful silk and sex and comfortable           8      1  \n",
       "1      love this dress -PRON- is soon pretty i happen...          62      1  \n",
       "2      i have such high hope for this dress and reall...          98      0  \n",
       "3      i love love love this jumpsuit -PRON- is fun f...          22      1  \n",
       "4      this shirt is very flattering to all due to th...          36      1  \n",
       "...                                                  ...         ...    ...  \n",
       "23481  i was very happy to sang this dress at such a ...          28      1  \n",
       "23482  -PRON- remind -PRON- of paternity clothe soft ...          37      0  \n",
       "23483  this fit well but the top was very see through...          42      0  \n",
       "23484  i buy this dress for a wedding i have this sum...          86      0  \n",
       "23485  this dress in a lovely platino is feminine and...          19      1  \n",
       "\n",
       "[22642 rows x 8 columns]"
      ]
     },
     "execution_count": 21,
     "metadata": {},
     "output_type": "execute_result"
    }
   ],
   "source": [
    "df"
   ]
  },
  {
   "cell_type": "markdown",
   "metadata": {},
   "source": [
    "# tfidf"
   ]
  },
  {
   "cell_type": "code",
   "execution_count": 22,
   "metadata": {},
   "outputs": [],
   "source": [
    "stopwords = ['a', 'about', 'an', 'and', 'are', 'as', 'at', 'be', 'been', 'but', 'by', 'can', \\\n",
    "             'even', 'ever', 'for', 'from', 'get', 'had', 'has', 'have', 'he', 'her', 'hers', 'his', \\\n",
    "             'how', 'i', 'if', 'in', 'into', 'is', 'it', 'its', 'just', 'me', 'my', 'of', 'on', 'or', \\\n",
    "             'see', 'seen', 'she', 'so', 'than', 'that', 'the', 'their', 'there', 'they', 'this', \\\n",
    "             'to', 'was', 'we', 'were', 'what', 'when', 'which', 'who', 'will', 'with', 'you', '-PRON-','pron','PRON']"
   ]
  },
  {
   "cell_type": "code",
   "execution_count": 23,
   "metadata": {},
   "outputs": [
    {
     "data": {
      "text/plain": [
       "(22642, 48990)"
      ]
     },
     "execution_count": 23,
     "metadata": {},
     "output_type": "execute_result"
    }
   ],
   "source": [
    "from sklearn.feature_extraction.text import TfidfVectorizer\n",
    "tfidf=TfidfVectorizer(stop_words=stopwords,tokenizer=get_token,ngram_range=(1, 2), max_df=0.9, min_df=3,sublinear_tf=True)\n",
    "X=tfidf.fit_transform(df['Review Text Precrocessed'])\n",
    "# X=X.toarray()\n",
    "X.shape\n",
    "# type(X)\n",
    "\n",
    "\n",
    "# from sklearn.feature_extraction.text import TfidfVectorizer\n",
    "# tfidf=TfidfVectorizer(stop_words=stopwords)\n",
    "# X=tfidf.fit_transform(df['Review Text Precrocessed'])"
   ]
  },
  {
   "cell_type": "markdown",
   "metadata": {},
   "source": [
    "# splittng data"
   ]
  },
  {
   "cell_type": "code",
   "execution_count": 24,
   "metadata": {},
   "outputs": [],
   "source": [
    "y=df['Label']\n",
    "X=X\n",
    "X_train, X_test, y_train, y_test=train_test_split(X,y,test_size=.20,random_state=101)"
   ]
  },
  {
   "cell_type": "markdown",
   "metadata": {},
   "source": [
    "# TWO Class"
   ]
  },
  {
   "cell_type": "markdown",
   "metadata": {},
   "source": [
    "# svm without tunning"
   ]
  },
  {
   "cell_type": "code",
   "execution_count": 25,
   "metadata": {},
   "outputs": [
    {
     "name": "stdout",
     "output_type": "stream",
     "text": [
      "[[ 616  415]\n",
      " [ 129 3369]]\n",
      "              precision    recall  f1-score   support\n",
      "\n",
      "           0       0.83      0.60      0.69      1031\n",
      "           1       0.89      0.96      0.93      3498\n",
      "\n",
      "    accuracy                           0.88      4529\n",
      "   macro avg       0.86      0.78      0.81      4529\n",
      "weighted avg       0.88      0.88      0.87      4529\n",
      "\n",
      "0.87988518436741\n"
     ]
    }
   ],
   "source": [
    "\n",
    "clf=SVC()\n",
    "clf.fit(X_train, y_train)\n",
    "pre=clf.predict(X_test)\n",
    "print(confusion_matrix(y_test,pre))\n",
    "print(classification_report(y_test,pre)) \n",
    "print(accuracy_score(y_test,pre))"
   ]
  },
  {
   "cell_type": "code",
   "execution_count": 26,
   "metadata": {},
   "outputs": [
    {
     "data": {
      "text/plain": [
       "0.9252952485580884"
      ]
     },
     "execution_count": 26,
     "metadata": {},
     "output_type": "execute_result"
    }
   ],
   "source": [
    "f1_score(y_test, pre)"
   ]
  },
  {
   "cell_type": "markdown",
   "metadata": {},
   "source": [
    "## svm with tunning"
   ]
  },
  {
   "cell_type": "code",
   "execution_count": 29,
   "metadata": {},
   "outputs": [
    {
     "name": "stdout",
     "output_type": "stream",
     "text": [
      "[[ 648  383]\n",
      " [ 153 3345]]\n",
      "              precision    recall  f1-score   support\n",
      "\n",
      "           0       0.81      0.63      0.71      1031\n",
      "           1       0.90      0.96      0.93      3498\n",
      "\n",
      "    accuracy                           0.88      4529\n",
      "   macro avg       0.85      0.79      0.82      4529\n",
      "weighted avg       0.88      0.88      0.88      4529\n",
      "\n",
      "0.8816515787149481\n"
     ]
    },
    {
     "data": {
      "text/plain": [
       "0.9258234154442292"
      ]
     },
     "execution_count": 29,
     "metadata": {},
     "output_type": "execute_result"
    }
   ],
   "source": [
    "#{'C': 1.5, 'gamma': 1, 'kernel': 'rbf'}\n",
    "clf_tune=SVC(C=1.5, gamma=1, kernel='rbf')\n",
    "clf_tune.fit(X_train, y_train)\n",
    "pre_tune=clf_tune.predict(X_test)\n",
    "print(confusion_matrix(y_test,pre_tune))\n",
    "print(classification_report(y_test,pre_tune)) \n",
    "print(accuracy_score(y_test,pre_tune))\n",
    "f1_score(y_test, pre_tune)"
   ]
  },
  {
   "cell_type": "markdown",
   "metadata": {},
   "source": [
    "# svm with tunning"
   ]
  },
  {
   "cell_type": "code",
   "execution_count": 25,
   "metadata": {},
   "outputs": [
    {
     "name": "stdout",
     "output_type": "stream",
     "text": [
      "Best parameters set found: \n",
      "\n",
      "{'C': 1.3, 'gamma': 1, 'kernel': 'rbf'}\n",
      "\n",
      "Grid scores in process: \n",
      "\n",
      "0.862 for {'C': 0.5, 'gamma': 1, 'kernel': 'rbf'}\n",
      "0.826 for {'C': 0.5, 'gamma': 0.1, 'kernel': 'rbf'}\n",
      "0.770 for {'C': 0.5, 'gamma': 0.01, 'kernel': 'rbf'}\n",
      "0.770 for {'C': 0.5, 'gamma': 0.001, 'kernel': 'rbf'}\n",
      "0.770 for {'C': 0.5, 'gamma': 0.0001, 'kernel': 'rbf'}\n",
      "0.770 for {'C': 0.5, 'gamma': 1e-05, 'kernel': 'rbf'}\n",
      "0.868 for {'C': 0.6, 'gamma': 1, 'kernel': 'rbf'}\n",
      "0.837 for {'C': 0.6, 'gamma': 0.1, 'kernel': 'rbf'}\n",
      "0.770 for {'C': 0.6, 'gamma': 0.01, 'kernel': 'rbf'}\n",
      "0.770 for {'C': 0.6, 'gamma': 0.001, 'kernel': 'rbf'}\n",
      "0.770 for {'C': 0.6, 'gamma': 0.0001, 'kernel': 'rbf'}\n",
      "0.770 for {'C': 0.6, 'gamma': 1e-05, 'kernel': 'rbf'}\n",
      "0.871 for {'C': 0.7, 'gamma': 1, 'kernel': 'rbf'}\n",
      "0.846 for {'C': 0.7, 'gamma': 0.1, 'kernel': 'rbf'}\n",
      "0.770 for {'C': 0.7, 'gamma': 0.01, 'kernel': 'rbf'}\n",
      "0.770 for {'C': 0.7, 'gamma': 0.001, 'kernel': 'rbf'}\n",
      "0.770 for {'C': 0.7, 'gamma': 0.0001, 'kernel': 'rbf'}\n",
      "0.770 for {'C': 0.7, 'gamma': 1e-05, 'kernel': 'rbf'}\n",
      "0.873 for {'C': 0.8, 'gamma': 1, 'kernel': 'rbf'}\n",
      "0.851 for {'C': 0.8, 'gamma': 0.1, 'kernel': 'rbf'}\n",
      "0.770 for {'C': 0.8, 'gamma': 0.01, 'kernel': 'rbf'}\n",
      "0.770 for {'C': 0.8, 'gamma': 0.001, 'kernel': 'rbf'}\n",
      "0.770 for {'C': 0.8, 'gamma': 0.0001, 'kernel': 'rbf'}\n",
      "0.770 for {'C': 0.8, 'gamma': 1e-05, 'kernel': 'rbf'}\n",
      "0.874 for {'C': 0.9, 'gamma': 1, 'kernel': 'rbf'}\n",
      "0.855 for {'C': 0.9, 'gamma': 0.1, 'kernel': 'rbf'}\n",
      "0.770 for {'C': 0.9, 'gamma': 0.01, 'kernel': 'rbf'}\n",
      "0.770 for {'C': 0.9, 'gamma': 0.001, 'kernel': 'rbf'}\n",
      "0.770 for {'C': 0.9, 'gamma': 0.0001, 'kernel': 'rbf'}\n",
      "0.770 for {'C': 0.9, 'gamma': 1e-05, 'kernel': 'rbf'}\n",
      "0.876 for {'C': 1, 'gamma': 1, 'kernel': 'rbf'}\n",
      "0.859 for {'C': 1, 'gamma': 0.1, 'kernel': 'rbf'}\n",
      "0.770 for {'C': 1, 'gamma': 0.01, 'kernel': 'rbf'}\n",
      "0.770 for {'C': 1, 'gamma': 0.001, 'kernel': 'rbf'}\n",
      "0.770 for {'C': 1, 'gamma': 0.0001, 'kernel': 'rbf'}\n",
      "0.770 for {'C': 1, 'gamma': 1e-05, 'kernel': 'rbf'}\n",
      "0.876 for {'C': 1.1, 'gamma': 1, 'kernel': 'rbf'}\n",
      "0.862 for {'C': 1.1, 'gamma': 0.1, 'kernel': 'rbf'}\n",
      "0.770 for {'C': 1.1, 'gamma': 0.01, 'kernel': 'rbf'}\n",
      "0.770 for {'C': 1.1, 'gamma': 0.001, 'kernel': 'rbf'}\n",
      "0.770 for {'C': 1.1, 'gamma': 0.0001, 'kernel': 'rbf'}\n",
      "0.770 for {'C': 1.1, 'gamma': 1e-05, 'kernel': 'rbf'}\n",
      "0.876 for {'C': 1.2, 'gamma': 1, 'kernel': 'rbf'}\n",
      "0.864 for {'C': 1.2, 'gamma': 0.1, 'kernel': 'rbf'}\n",
      "0.770 for {'C': 1.2, 'gamma': 0.01, 'kernel': 'rbf'}\n",
      "0.770 for {'C': 1.2, 'gamma': 0.001, 'kernel': 'rbf'}\n",
      "0.770 for {'C': 1.2, 'gamma': 0.0001, 'kernel': 'rbf'}\n",
      "0.770 for {'C': 1.2, 'gamma': 1e-05, 'kernel': 'rbf'}\n",
      "0.877 for {'C': 1.3, 'gamma': 1, 'kernel': 'rbf'}\n",
      "0.866 for {'C': 1.3, 'gamma': 0.1, 'kernel': 'rbf'}\n",
      "0.770 for {'C': 1.3, 'gamma': 0.01, 'kernel': 'rbf'}\n",
      "0.770 for {'C': 1.3, 'gamma': 0.001, 'kernel': 'rbf'}\n",
      "0.770 for {'C': 1.3, 'gamma': 0.0001, 'kernel': 'rbf'}\n",
      "0.770 for {'C': 1.3, 'gamma': 1e-05, 'kernel': 'rbf'}\n",
      "\n",
      "\n",
      "Detailed Classification Report\n",
      "              precision    recall  f1-score   support\n",
      "\n",
      "           0       0.79      0.64      0.71      1031\n",
      "           1       0.90      0.95      0.92      3498\n",
      "\n",
      "    accuracy                           0.88      4529\n",
      "   macro avg       0.84      0.79      0.82      4529\n",
      "weighted avg       0.87      0.88      0.87      4529\n",
      "\n",
      "\n"
     ]
    },
    {
     "data": {
      "text/plain": [
       "0.9239749826268242"
      ]
     },
     "execution_count": 25,
     "metadata": {},
     "output_type": "execute_result"
    }
   ],
   "source": [
    "# from sklearn.model_selection import GridSearchCV\n",
    "# from sklearn.svm import SVC\n",
    "# # hyperparameters = [{'kernel': ['linear'],\n",
    "# #      'C': [0.5,0.6,0.7,0.8,0.9,1,1.1,1.2,1.3,]}]    \n",
    "\n",
    "# hyperparameters = [{'kernel': ['rbf'],\n",
    "#      'C': [0.5,0.6,0.7,0.8,0.9,1,1.1,1.2,1.3],\n",
    "#      'gamma':[1,0.1,0.01,0.001,0.0001,0.00001]}] \n",
    "\n",
    "        \n",
    "# clf_2c = GridSearchCV(SVC(), hyperparameters,cv = 5, n_jobs = -1)\n",
    "# clf_2c.fit(X_train, y_train)\n",
    "        \n",
    "# print('Best parameters set found: ')\n",
    "# print()\n",
    "# print(clf_2c.best_params_)\n",
    "# print()\n",
    "        \n",
    "# print('Grid scores in process: ')\n",
    "# print()\n",
    "# means = clf_2c.cv_results_['mean_test_score']\n",
    "        \n",
    "# for mean, params in zip(means, clf_2c.cv_results_['params']):\n",
    "#   print('%0.3f for %r' % (mean, params))\n",
    "            \n",
    "# print()\n",
    "# print()\n",
    "        \n",
    "# print('Detailed Classification Report')\n",
    "# pre_2c = clf_2c.predict(X_test)\n",
    "# print(classification_report(y_test, pre_2c))\n",
    "# print()\n",
    "# accuracy_score(y_test, pre_2c)\n",
    "# f1_score(y_test, pre_2c)\n"
   ]
  },
  {
   "cell_type": "markdown",
   "metadata": {},
   "source": [
    "# three classes"
   ]
  },
  {
   "cell_type": "code",
   "execution_count": 30,
   "metadata": {},
   "outputs": [],
   "source": [
    "def label(x):\n",
    "    if(x>3):\n",
    "        return 'Positive'\n",
    "    elif(x==3):\n",
    "        return 'Neutral'\n",
    "    else:\n",
    "        return 'Negative'"
   ]
  },
  {
   "cell_type": "code",
   "execution_count": 32,
   "metadata": {},
   "outputs": [],
   "source": [
    "df['Label_3C']=df['Rating'].apply(lambda x:label(x))\n",
    "y_3c=df['Label_3C']"
   ]
  },
  {
   "cell_type": "code",
   "execution_count": 33,
   "metadata": {},
   "outputs": [
    {
     "name": "stdout",
     "output_type": "stream",
     "text": [
      "(22642, 8196)\n",
      "Positive    17449\n",
      "Neutral      2823\n",
      "Negative     2370\n",
      "Name: Label_3C, dtype: int64\n",
      "22642\n"
     ]
    }
   ],
   "source": [
    "tfidf_3_class = TfidfVectorizer(stop_words=stopwords)\n",
    "X_3_class = tfidf_3_class.fit_transform(df['Review Text Precrocessed'])\n",
    "print(X_3_class.shape)\n",
    "print(df['Label_3C'].value_counts())\n",
    "print(df['Review Text Precrocessed'].count())\n"
   ]
  },
  {
   "cell_type": "code",
   "execution_count": 34,
   "metadata": {},
   "outputs": [],
   "source": [
    "X_train_3c, X_test_3c, y_train_3c, y_test_3c = train_test_split(X_3_class ,y_3c ,test_size=.20, random_state=101)"
   ]
  },
  {
   "cell_type": "markdown",
   "metadata": {},
   "source": [
    "# without tunning"
   ]
  },
  {
   "cell_type": "code",
   "execution_count": 35,
   "metadata": {},
   "outputs": [
    {
     "name": "stdout",
     "output_type": "stream",
     "text": [
      "[[ 200   73  197]\n",
      " [  73   93  395]\n",
      " [  34   42 3422]]\n",
      "              precision    recall  f1-score   support\n",
      "\n",
      "    Negative       0.65      0.43      0.51       470\n",
      "     Neutral       0.45      0.17      0.24       561\n",
      "    Positive       0.85      0.98      0.91      3498\n",
      "\n",
      "    accuracy                           0.82      4529\n",
      "   macro avg       0.65      0.52      0.56      4529\n",
      "weighted avg       0.78      0.82      0.79      4529\n",
      "\n",
      "0.8202693751379996\n"
     ]
    }
   ],
   "source": [
    "clf_3c = SVC()\n",
    "clf_3c.fit(X_train_3c, y_train_3c)\n",
    "pre_3c=clf_3c.predict(X_test_3c)\n",
    "print(confusion_matrix(y_test_3c, pre_3c))\n",
    "print(classification_report(y_test_3c, pre_3c)) \n",
    "print(accuracy_score(y_test_3c, pre_3c))"
   ]
  },
  {
   "cell_type": "code",
   "execution_count": 72,
   "metadata": {},
   "outputs": [
    {
     "data": {
      "text/plain": [
       "0.8202693751379996"
      ]
     },
     "execution_count": 72,
     "metadata": {},
     "output_type": "execute_result"
    }
   ],
   "source": [
    "f1_score(y_test_3c, pre_3c,average='micro')"
   ]
  },
  {
   "cell_type": "markdown",
   "metadata": {},
   "source": [
    "# with tunning"
   ]
  },
  {
   "cell_type": "code",
   "execution_count": 58,
   "metadata": {},
   "outputs": [
    {
     "name": "stdout",
     "output_type": "stream",
     "text": [
      "[[ 235   98  137]\n",
      " [ 106  149  306]\n",
      " [  56   90 3352]]\n",
      "              precision    recall  f1-score   support\n",
      "\n",
      "    Negative       0.59      0.50      0.54       470\n",
      "     Neutral       0.44      0.27      0.33       561\n",
      "    Positive       0.88      0.96      0.92      3498\n",
      "\n",
      "    accuracy                           0.82      4529\n",
      "   macro avg       0.64      0.57      0.60      4529\n",
      "weighted avg       0.80      0.82      0.81      4529\n",
      "\n",
      "0.8249061603002871\n"
     ]
    }
   ],
   "source": [
    "clf_3c_tune = SVC(C=1.3,kernel='linear')\n",
    "clf_3c_tune.fit(X_train_3c, y_train_3c)\n",
    "pre_3c_tune=clf_3c_tune.predict(X_test_3c)\n",
    "print(confusion_matrix(y_test_3c, pre_3c_tune))\n",
    "print(classification_report(y_test_3c, pre_3c_tune)) \n",
    "print(accuracy_score(y_test_3c, pre_3c_tune))\n",
    "#C=1.2,kernel='linear'\n",
    "# 0.8249693751379996\n",
    "# C=1.5, gamma=1, kernel='rbf'\n",
    "# 0.8222693751379996\n",
    "# C=1.5, gamma=1.1, kernel='rbf'\n",
    "#0.8226981673658644\n",
    "# C=1.6, gamma=1, kernel='rbf'\n",
    "# 0.8226981673658644\n",
    "# C=1.5, gamma=0.8, kernel='rbf'\n",
    "# 0.824022963126518\n"
   ]
  },
  {
   "cell_type": "code",
   "execution_count": 71,
   "metadata": {},
   "outputs": [
    {
     "data": {
      "text/plain": [
       "0.8249061603002871"
      ]
     },
     "execution_count": 71,
     "metadata": {},
     "output_type": "execute_result"
    }
   ],
   "source": [
    "f1_score(y_test_3c, pre_3c_tune,average='micro')"
   ]
  },
  {
   "cell_type": "code",
   "execution_count": null,
   "metadata": {},
   "outputs": [],
   "source": []
  },
  {
   "cell_type": "code",
   "execution_count": null,
   "metadata": {},
   "outputs": [],
   "source": []
  },
  {
   "cell_type": "code",
   "execution_count": null,
   "metadata": {},
   "outputs": [],
   "source": []
  },
  {
   "cell_type": "code",
   "execution_count": 70,
   "metadata": {},
   "outputs": [
    {
     "name": "stdout",
     "output_type": "stream",
     "text": [
      "Collecting en_core_web_lg==2.3.1"
     ]
    },
    {
     "name": "stderr",
     "output_type": "stream",
     "text": [
      "ERROR: Exception:\n",
      "Traceback (most recent call last):\n",
      "  File \"C:\\Users\\tusha\\anaconda3\\lib\\site-packages\\pip\\_vendor\\urllib3\\response.py\", line 425, in _error_catcher\n",
      "    yield\n",
      "  File \"C:\\Users\\tusha\\anaconda3\\lib\\site-packages\\pip\\_vendor\\urllib3\\response.py\", line 507, in read\n",
      "    data = self._fp.read(amt) if not fp_closed else b\"\"\n",
      "  File \"C:\\Users\\tusha\\anaconda3\\lib\\http\\client.py\", line 454, in read\n",
      "    n = self.readinto(b)\n",
      "  File \"C:\\Users\\tusha\\anaconda3\\lib\\http\\client.py\", line 498, in readinto\n",
      "    n = self.fp.readinto(b)\n",
      "  File \"C:\\Users\\tusha\\anaconda3\\lib\\socket.py\", line 669, in readinto\n",
      "    return self._sock.recv_into(b)\n",
      "  File \"C:\\Users\\tusha\\anaconda3\\lib\\ssl.py\", line 1241, in recv_into\n",
      "    return self.read(nbytes, buffer)\n",
      "  File \"C:\\Users\\tusha\\anaconda3\\lib\\ssl.py\", line 1099, in read\n",
      "    return self._sslobj.read(len, buffer)\n",
      "socket.timeout: The read operation timed out\n",
      "\n",
      "During handling of the above exception, another exception occurred:\n",
      "\n",
      "Traceback (most recent call last):\n",
      "  File \"C:\\Users\\tusha\\anaconda3\\lib\\site-packages\\pip\\_internal\\cli\\base_command.py\", line 188, in _main\n",
      "    status = self.run(options, args)\n",
      "  File \"C:\\Users\\tusha\\anaconda3\\lib\\site-packages\\pip\\_internal\\cli\\req_command.py\", line 185, in wrapper\n",
      "    return func(self, options, args)\n",
      "  File \"C:\\Users\\tusha\\anaconda3\\lib\\site-packages\\pip\\_internal\\commands\\install.py\", line 332, in run\n",
      "    requirement_set = resolver.resolve(\n",
      "  File \"C:\\Users\\tusha\\anaconda3\\lib\\site-packages\\pip\\_internal\\resolution\\legacy\\resolver.py\", line 179, in resolve\n",
      "    discovered_reqs.extend(self._resolve_one(requirement_set, req))\n",
      "  File \"C:\\Users\\tusha\\anaconda3\\lib\\site-packages\\pip\\_internal\\resolution\\legacy\\resolver.py\", line 362, in _resolve_one\n",
      "    abstract_dist = self._get_abstract_dist_for(req_to_install)\n",
      "  File \"C:\\Users\\tusha\\anaconda3\\lib\\site-packages\\pip\\_internal\\resolution\\legacy\\resolver.py\", line 314, in _get_abstract_dist_for\n",
      "    abstract_dist = self.preparer.prepare_linked_requirement(req)"
     ]
    },
    {
     "name": "stdout",
     "output_type": "stream",
     "text": [
      "\n",
      "  Downloading https://github.com/explosion/spacy-models/releases/download/en_core_web_lg-2.3.1/en_core_web_lg-2.3.1.tar.gz (782.7 MB)\n"
     ]
    },
    {
     "name": "stderr",
     "output_type": "stream",
     "text": [
      "\n",
      "  File \"C:\\Users\\tusha\\anaconda3\\lib\\site-packages\\pip\\_internal\\operations\\prepare.py\", line 467, in prepare_linked_requirement\n",
      "    local_file = unpack_url(\n",
      "  File \"C:\\Users\\tusha\\anaconda3\\lib\\site-packages\\pip\\_internal\\operations\\prepare.py\", line 255, in unpack_url\n",
      "    file = get_http_url(\n",
      "  File \"C:\\Users\\tusha\\anaconda3\\lib\\site-packages\\pip\\_internal\\operations\\prepare.py\", line 129, in get_http_url\n",
      "    from_path, content_type = _download_http_url(\n",
      "  File \"C:\\Users\\tusha\\anaconda3\\lib\\site-packages\\pip\\_internal\\operations\\prepare.py\", line 281, in _download_http_url\n",
      "    for chunk in download.chunks:\n",
      "  File \"C:\\Users\\tusha\\anaconda3\\lib\\site-packages\\pip\\_internal\\cli\\progress_bars.py\", line 166, in iter\n",
      "    for x in it:\n",
      "  File \"C:\\Users\\tusha\\anaconda3\\lib\\site-packages\\pip\\_internal\\network\\utils.py\", line 15, in response_chunks\n",
      "    for chunk in response.raw.stream(\n",
      "  File \"C:\\Users\\tusha\\anaconda3\\lib\\site-packages\\pip\\_vendor\\urllib3\\response.py\", line 564, in stream\n",
      "    data = self.read(amt=amt, decode_content=decode_content)\n",
      "  File \"C:\\Users\\tusha\\anaconda3\\lib\\site-packages\\pip\\_vendor\\urllib3\\response.py\", line 529, in read\n",
      "    raise IncompleteRead(self._fp_bytes_read, self.length_remaining)\n",
      "  File \"C:\\Users\\tusha\\anaconda3\\lib\\contextlib.py\", line 131, in __exit__\n",
      "    self.gen.throw(type, value, traceback)\n",
      "  File \"C:\\Users\\tusha\\anaconda3\\lib\\site-packages\\pip\\_vendor\\urllib3\\response.py\", line 430, in _error_catcher\n",
      "    raise ReadTimeoutError(self._pool, None, \"Read timed out.\")\n",
      "pip._vendor.urllib3.exceptions.ReadTimeoutError: HTTPSConnectionPool(host='github-production-release-asset-2e65be.s3.amazonaws.com', port=443): Read timed out.\n"
     ]
    }
   ],
   "source": [
    "!python -m spacy download en_core_web_lg"
   ]
  },
  {
   "cell_type": "code",
   "execution_count": 78,
   "metadata": {},
   "outputs": [],
   "source": [
    "x = 'dog cat lion dsfaf'\n",
    "doc = nlp(x)"
   ]
  },
  {
   "cell_type": "code",
   "execution_count": 79,
   "metadata": {},
   "outputs": [
    {
     "name": "stdout",
     "output_type": "stream",
     "text": [
      "dog True 17.349964\n",
      "cat True 18.431667\n",
      "lion True 16.775747\n",
      "dsfaf True 18.012318\n"
     ]
    }
   ],
   "source": [
    "for token in doc:\n",
    "    print(token.text, token.has_vector, token.)"
   ]
  },
  {
   "cell_type": "code",
   "execution_count": 80,
   "metadata": {},
   "outputs": [
    {
     "data": {
      "text/plain": [
       "(96,)"
      ]
     },
     "execution_count": 80,
     "metadata": {},
     "output_type": "execute_result"
    }
   ],
   "source": [
    "doc.vector.shape\n"
   ]
  },
  {
   "cell_type": "code",
   "execution_count": 85,
   "metadata": {},
   "outputs": [
    {
     "name": "stdout",
     "output_type": "stream",
     "text": [
      "dog dog 1.0\n",
      "dog cat 0.4879712\n",
      "dog lion 0.44976753\n",
      "dog dsfaf 0.23924434\n",
      "cat dog 0.4879712\n",
      "cat cat 1.0\n",
      "cat lion 0.5466126\n",
      "cat dsfaf 0.39825693\n",
      "lion dog 0.44976753\n",
      "lion cat 0.5466126\n",
      "lion lion 1.0\n",
      "lion dsfaf 0.3148102\n",
      "dsfaf dog 0.23924434\n",
      "dsfaf cat 0.39825693\n",
      "dsfaf lion 0.3148102\n",
      "dsfaf dsfaf 1.0\n"
     ]
    },
    {
     "name": "stderr",
     "output_type": "stream",
     "text": [
      "<ipython-input-85-2c9f5b285b93>:3: UserWarning: [W007] The model you're using has no word vectors loaded, so the result of the Token.similarity method will be based on the tagger, parser and NER, which may not give useful similarity judgements. This may happen if you're using one of the small models, e.g. `en_core_web_sm`, which don't ship with word vectors and only use context-sensitive tensors. You can always add your own word vectors, or use one of the larger models instead if available.\n",
      "  print(token1.text, token2.text, token1.similarity(token2))\n"
     ]
    }
   ],
   "source": [
    "for token1 in doc:\n",
    "    for token2 in doc:\n",
    "        print(token1.text, token2.text, token1.similarity(token2))"
   ]
  },
  {
   "cell_type": "code",
   "execution_count": 86,
   "metadata": {},
   "outputs": [
    {
     "data": {
      "text/plain": [
       "(1, 96)"
      ]
     },
     "execution_count": 86,
     "metadata": {},
     "output_type": "execute_result"
    }
   ],
   "source": [
    "doc.vector.reshape(1, -1).shape"
   ]
  },
  {
   "cell_type": "code",
   "execution_count": 87,
   "metadata": {},
   "outputs": [],
   "source": [
    "def get_vec(x):\n",
    "    doc = nlp(x)\n",
    "    vec = doc.vector\n",
    "    return vec"
   ]
  },
  {
   "cell_type": "code",
   "execution_count": 88,
   "metadata": {},
   "outputs": [],
   "source": [
    "df['vec'] = df['Review Text Precrocessed'].apply(lambda x: get_vec(x))"
   ]
  },
  {
   "cell_type": "code",
   "execution_count": 106,
   "metadata": {},
   "outputs": [
    {
     "data": {
      "text/plain": [
       "pandas.core.series.Series"
      ]
     },
     "execution_count": 106,
     "metadata": {},
     "output_type": "execute_result"
    }
   ],
   "source": [
    "type(df['Review Text Precrocessed'])"
   ]
  },
  {
   "cell_type": "code",
   "execution_count": 89,
   "metadata": {},
   "outputs": [
    {
     "data": {
      "text/html": [
       "<div>\n",
       "<style scoped>\n",
       "    .dataframe tbody tr th:only-of-type {\n",
       "        vertical-align: middle;\n",
       "    }\n",
       "\n",
       "    .dataframe tbody tr th {\n",
       "        vertical-align: top;\n",
       "    }\n",
       "\n",
       "    .dataframe thead th {\n",
       "        text-align: right;\n",
       "    }\n",
       "</style>\n",
       "<table border=\"1\" class=\"dataframe\">\n",
       "  <thead>\n",
       "    <tr style=\"text-align: right;\">\n",
       "      <th></th>\n",
       "      <th>index</th>\n",
       "      <th>Review Text</th>\n",
       "      <th>Rating</th>\n",
       "      <th>Recommended IND</th>\n",
       "      <th>Positive Feedback Count</th>\n",
       "      <th>Review Text Precrocessed</th>\n",
       "      <th>Word_Count</th>\n",
       "      <th>Tokens_Scapy</th>\n",
       "      <th>Label</th>\n",
       "      <th>Tokens</th>\n",
       "      <th>spell correction</th>\n",
       "      <th>vec</th>\n",
       "    </tr>\n",
       "  </thead>\n",
       "  <tbody>\n",
       "    <tr>\n",
       "      <th>0</th>\n",
       "      <td>0</td>\n",
       "      <td>Absolutely wonderful - silky and sexy and comf...</td>\n",
       "      <td>4</td>\n",
       "      <td>1</td>\n",
       "      <td>0</td>\n",
       "      <td>absolutely wonderful silky and sexy and comfor...</td>\n",
       "      <td>8</td>\n",
       "      <td>absolutely</td>\n",
       "      <td>1</td>\n",
       "      <td>[absolutely, wonderful, silky, and, sexy, and,...</td>\n",
       "      <td>absolutely wonderful silky and sexy and comfor...</td>\n",
       "      <td>[1.1010791, 0.25445092, 0.5191758, -1.5076841,...</td>\n",
       "    </tr>\n",
       "    <tr>\n",
       "      <th>1</th>\n",
       "      <td>1</td>\n",
       "      <td>Love this dress!  it's sooo pretty.  i happene...</td>\n",
       "      <td>5</td>\n",
       "      <td>1</td>\n",
       "      <td>4</td>\n",
       "      <td>love this dress -PRON- is sooo pretty i happen...</td>\n",
       "      <td>62</td>\n",
       "      <td>love</td>\n",
       "      <td>1</td>\n",
       "      <td>[love, this, dress, PRON, is, sooo, pretty, i,...</td>\n",
       "      <td>love this dress -PRON- is sooo pretty i happen...</td>\n",
       "      <td>[0.5947954, 0.39096013, 1.281303, -0.5249249, ...</td>\n",
       "    </tr>\n",
       "    <tr>\n",
       "      <th>2</th>\n",
       "      <td>2</td>\n",
       "      <td>I had such high hopes for this dress and reall...</td>\n",
       "      <td>3</td>\n",
       "      <td>0</td>\n",
       "      <td>0</td>\n",
       "      <td>i have such high hope for this dress and reall...</td>\n",
       "      <td>98</td>\n",
       "      <td>i</td>\n",
       "      <td>0</td>\n",
       "      <td>[i, have, such, high, hope, for, this, dress, ...</td>\n",
       "      <td>i have such high hope for this dress and reall...</td>\n",
       "      <td>[0.6996724, 0.01826205, 1.0481111, -1.0459448,...</td>\n",
       "    </tr>\n",
       "    <tr>\n",
       "      <th>3</th>\n",
       "      <td>3</td>\n",
       "      <td>I love, love, love this jumpsuit. it's fun, fl...</td>\n",
       "      <td>5</td>\n",
       "      <td>1</td>\n",
       "      <td>0</td>\n",
       "      <td>i love love love this jumpsuit -PRON- is fun f...</td>\n",
       "      <td>22</td>\n",
       "      <td>i</td>\n",
       "      <td>1</td>\n",
       "      <td>[i, love, love, love, this, jumpsuit, PRON, is...</td>\n",
       "      <td>i love love love this jumpsuit -PRON- is fun f...</td>\n",
       "      <td>[0.52661985, 1.0947361, 0.4908164, -0.7302357,...</td>\n",
       "    </tr>\n",
       "    <tr>\n",
       "      <th>4</th>\n",
       "      <td>4</td>\n",
       "      <td>This shirt is very flattering to all due to th...</td>\n",
       "      <td>5</td>\n",
       "      <td>1</td>\n",
       "      <td>6</td>\n",
       "      <td>this shirt is very flattering to all due to th...</td>\n",
       "      <td>36</td>\n",
       "      <td>this</td>\n",
       "      <td>1</td>\n",
       "      <td>[this, shirt, is, very, flattering, to, all, d...</td>\n",
       "      <td>this shirt is very flattering to all due to th...</td>\n",
       "      <td>[0.17049725, 0.37089556, 0.6800123, -1.4731951...</td>\n",
       "    </tr>\n",
       "  </tbody>\n",
       "</table>\n",
       "</div>"
      ],
      "text/plain": [
       "   index                                        Review Text  Rating  \\\n",
       "0      0  Absolutely wonderful - silky and sexy and comf...       4   \n",
       "1      1  Love this dress!  it's sooo pretty.  i happene...       5   \n",
       "2      2  I had such high hopes for this dress and reall...       3   \n",
       "3      3  I love, love, love this jumpsuit. it's fun, fl...       5   \n",
       "4      4  This shirt is very flattering to all due to th...       5   \n",
       "\n",
       "   Recommended IND  Positive Feedback Count  \\\n",
       "0                1                        0   \n",
       "1                1                        4   \n",
       "2                0                        0   \n",
       "3                1                        0   \n",
       "4                1                        6   \n",
       "\n",
       "                            Review Text Precrocessed  Word_Count Tokens_Scapy  \\\n",
       "0  absolutely wonderful silky and sexy and comfor...           8   absolutely   \n",
       "1  love this dress -PRON- is sooo pretty i happen...          62         love   \n",
       "2  i have such high hope for this dress and reall...          98            i   \n",
       "3  i love love love this jumpsuit -PRON- is fun f...          22            i   \n",
       "4  this shirt is very flattering to all due to th...          36         this   \n",
       "\n",
       "   Label                                             Tokens  \\\n",
       "0      1  [absolutely, wonderful, silky, and, sexy, and,...   \n",
       "1      1  [love, this, dress, PRON, is, sooo, pretty, i,...   \n",
       "2      0  [i, have, such, high, hope, for, this, dress, ...   \n",
       "3      1  [i, love, love, love, this, jumpsuit, PRON, is...   \n",
       "4      1  [this, shirt, is, very, flattering, to, all, d...   \n",
       "\n",
       "                                    spell correction  \\\n",
       "0  absolutely wonderful silky and sexy and comfor...   \n",
       "1  love this dress -PRON- is sooo pretty i happen...   \n",
       "2  i have such high hope for this dress and reall...   \n",
       "3  i love love love this jumpsuit -PRON- is fun f...   \n",
       "4  this shirt is very flattering to all due to th...   \n",
       "\n",
       "                                                 vec  \n",
       "0  [1.1010791, 0.25445092, 0.5191758, -1.5076841,...  \n",
       "1  [0.5947954, 0.39096013, 1.281303, -0.5249249, ...  \n",
       "2  [0.6996724, 0.01826205, 1.0481111, -1.0459448,...  \n",
       "3  [0.52661985, 1.0947361, 0.4908164, -0.7302357,...  \n",
       "4  [0.17049725, 0.37089556, 0.6800123, -1.4731951...  "
      ]
     },
     "execution_count": 89,
     "metadata": {},
     "output_type": "execute_result"
    }
   ],
   "source": [
    "df.head()"
   ]
  },
  {
   "cell_type": "code",
   "execution_count": 90,
   "metadata": {},
   "outputs": [
    {
     "data": {
      "text/plain": [
       "(22642, 12)"
      ]
     },
     "execution_count": 90,
     "metadata": {},
     "output_type": "execute_result"
    }
   ],
   "source": [
    "df.shape"
   ]
  },
  {
   "cell_type": "code",
   "execution_count": 93,
   "metadata": {},
   "outputs": [],
   "source": [
    "x1= df['vec'].to_numpy()\n",
    "x1= x1.reshape(-1, 1)"
   ]
  },
  {
   "cell_type": "code",
   "execution_count": 94,
   "metadata": {},
   "outputs": [
    {
     "data": {
      "text/plain": [
       "(22642, 1)"
      ]
     },
     "execution_count": 94,
     "metadata": {},
     "output_type": "execute_result"
    }
   ],
   "source": [
    "x1.shape"
   ]
  },
  {
   "cell_type": "code",
   "execution_count": 95,
   "metadata": {},
   "outputs": [],
   "source": [
    "x1 = np.concatenate(np.concatenate(x1, axis = 0), axis = 0).reshape(-1, 96)"
   ]
  },
  {
   "cell_type": "code",
   "execution_count": 96,
   "metadata": {},
   "outputs": [
    {
     "data": {
      "text/plain": [
       "(22642, 96)"
      ]
     },
     "execution_count": 96,
     "metadata": {},
     "output_type": "execute_result"
    }
   ],
   "source": [
    "x1.shape"
   ]
  },
  {
   "cell_type": "code",
   "execution_count": 99,
   "metadata": {},
   "outputs": [],
   "source": [
    "y1 = df['Label']"
   ]
  },
  {
   "cell_type": "code",
   "execution_count": 100,
   "metadata": {},
   "outputs": [],
   "source": [
    "X_train1, X_test1, y_train1, y_test1 = train_test_split(x1, y1, test_size = 0.2, random_state = 0, stratify = y1)"
   ]
  },
  {
   "cell_type": "code",
   "execution_count": 101,
   "metadata": {},
   "outputs": [],
   "source": [
    "from sklearn.svm import LinearSVC"
   ]
  },
  {
   "cell_type": "code",
   "execution_count": 102,
   "metadata": {},
   "outputs": [],
   "source": [
    "clf1 = LinearSVC()"
   ]
  },
  {
   "cell_type": "code",
   "execution_count": 103,
   "metadata": {},
   "outputs": [
    {
     "name": "stderr",
     "output_type": "stream",
     "text": [
      "C:\\Users\\tusha\\anaconda3\\lib\\site-packages\\sklearn\\svm\\_base.py:976: ConvergenceWarning: Liblinear failed to converge, increase the number of iterations.\n",
      "  warnings.warn(\"Liblinear failed to converge, increase \"\n"
     ]
    },
    {
     "data": {
      "text/plain": [
       "LinearSVC()"
      ]
     },
     "execution_count": 103,
     "metadata": {},
     "output_type": "execute_result"
    }
   ],
   "source": [
    "clf1.fit(X_train1, y_train1)"
   ]
  },
  {
   "cell_type": "code",
   "execution_count": 104,
   "metadata": {},
   "outputs": [],
   "source": [
    "y_pred1 = clf1.predict(X_test1)"
   ]
  },
  {
   "cell_type": "code",
   "execution_count": 105,
   "metadata": {},
   "outputs": [
    {
     "name": "stdout",
     "output_type": "stream",
     "text": [
      "              precision    recall  f1-score   support\n",
      "\n",
      "           0       0.64      0.25      0.36      1039\n",
      "           1       0.81      0.96      0.88      3490\n",
      "\n",
      "    accuracy                           0.80      4529\n",
      "   macro avg       0.73      0.61      0.62      4529\n",
      "weighted avg       0.77      0.80      0.76      4529\n",
      "\n"
     ]
    },
    {
     "data": {
      "text/plain": [
       "0.7959814528593508"
      ]
     },
     "execution_count": 105,
     "metadata": {},
     "output_type": "execute_result"
    }
   ],
   "source": [
    "print(classification_report(y_test1, y_pred1))\n",
    "accuracy_score(y_test1, y_pred1)"
   ]
  },
  {
   "cell_type": "code",
   "execution_count": null,
   "metadata": {},
   "outputs": [],
   "source": []
  }
 ],
 "metadata": {
  "kernelspec": {
   "display_name": "Python 3",
   "language": "python",
   "name": "python3"
  },
  "language_info": {
   "codemirror_mode": {
    "name": "ipython",
    "version": 3
   },
   "file_extension": ".py",
   "mimetype": "text/x-python",
   "name": "python",
   "nbconvert_exporter": "python",
   "pygments_lexer": "ipython3",
   "version": "3.8.5"
  }
 },
 "nbformat": 4,
 "nbformat_minor": 4
}
