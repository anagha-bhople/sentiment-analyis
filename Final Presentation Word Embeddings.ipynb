{
 "cells": [
  {
   "cell_type": "code",
   "execution_count": 3,
   "metadata": {},
   "outputs": [],
   "source": [
    "import re\n",
    "import pandas as pd\n",
    "import seaborn as sns\n",
    "import numpy as np\n",
    "import spacy\n",
    "import unicodedata\n",
    "import en_core_web_sm\n",
    "import seaborn as sns\n",
    "from sklearn.preprocessing import label_binarize\n",
    "from sklearn.multiclass import OneVsRestClassifier\n",
    "from sklearn.model_selection import train_test_split\n",
    "from sklearn.ensemble import RandomForestClassifier\n",
    "from sklearn.svm import SVC\n",
    "from sklearn.metrics import accuracy_score, classification_report, confusion_matrix\n",
    "from sklearn.pipeline import Pipeline\n",
    "from sklearn.feature_extraction.text import TfidfVectorizer\n",
    "from sklearn.linear_model import LogisticRegression\n",
    "import matplotlib.pyplot as plt  \n",
    "from sklearn.metrics import confusion_matrix\n",
    "from sklearn.metrics import roc_curve\n",
    "from sklearn.metrics import roc_auc_score\n",
    "from sklearn.metrics import precision_recall_curve\n",
    "from sklearn.metrics import f1_score\n",
    "from sklearn.metrics import auc\n",
    "from sklearn.linear_model import LogisticRegression\n",
    "from sklearn.metrics import average_precision_score, auc, roc_curve, precision_recall_curve\n",
    "from textblob import TextBlob\n",
    "import random\n",
    "from sklearn.metrics import accuracy_score, log_loss\n",
    "from sklearn.neighbors import KNeighborsClassifier\n",
    "from sklearn.svm import SVC, LinearSVC, NuSVC\n",
    "from sklearn.tree import DecisionTreeClassifier\n",
    "from sklearn.ensemble import RandomForestClassifier, AdaBoostClassifier, GradientBoostingClassifier\n",
    "from sklearn.discriminant_analysis import LinearDiscriminantAnalysis\n",
    "from sklearn.discriminant_analysis import QuadraticDiscriminantAnalysis\n",
    "from sklearn.feature_extraction.text import TfidfVectorizer\n",
    "from sklearn.pipeline import Pipeline\n",
    "import gensim\n",
    "from gensim.models import Word2Vec\n",
    "from sklearn import svm\n",
    "from sklearn.model_selection import GridSearchCV\n",
    "from sklearn import datasets, metrics, model_selection, svm\n",
    "import joblib as joblib\n",
    "from sklearn.naive_bayes import MultinomialNB\n",
    "from sklearn.naive_bayes import GaussianNB  \n",
    "from xgboost import XGBClassifier\n",
    "from gensim.models.fasttext import FastText\n",
    "from IPython import display \n",
    "from sklearn.manifold import TSNE"
   ]
  },
  {
   "cell_type": "code",
   "execution_count": 4,
   "metadata": {},
   "outputs": [],
   "source": [
    "df=pd.read_csv('C:/Users/anagha.bhople/Desktop/Sentiment Analysis/preprocess_womens_clothing_reviews.csv')"
   ]
  },
  {
   "cell_type": "code",
   "execution_count": 5,
   "metadata": {},
   "outputs": [
    {
     "data": {
      "text/html": [
       "<div>\n",
       "<style scoped>\n",
       "    .dataframe tbody tr th:only-of-type {\n",
       "        vertical-align: middle;\n",
       "    }\n",
       "\n",
       "    .dataframe tbody tr th {\n",
       "        vertical-align: top;\n",
       "    }\n",
       "\n",
       "    .dataframe thead th {\n",
       "        text-align: right;\n",
       "    }\n",
       "</style>\n",
       "<table border=\"1\" class=\"dataframe\">\n",
       "  <thead>\n",
       "    <tr style=\"text-align: right;\">\n",
       "      <th></th>\n",
       "      <th>Unnamed: 0</th>\n",
       "      <th>index</th>\n",
       "      <th>Review Text</th>\n",
       "      <th>Rating</th>\n",
       "      <th>Recommended IND</th>\n",
       "      <th>Positive Feedback Count</th>\n",
       "      <th>Review Text Precrocessed</th>\n",
       "      <th>Label</th>\n",
       "      <th>Label_3C</th>\n",
       "      <th>Review Text no Stopwords</th>\n",
       "      <th>tokenized_text</th>\n",
       "    </tr>\n",
       "  </thead>\n",
       "  <tbody>\n",
       "    <tr>\n",
       "      <th>0</th>\n",
       "      <td>0</td>\n",
       "      <td>0</td>\n",
       "      <td>Absolutely wonderful - silky and sexy and comf...</td>\n",
       "      <td>4</td>\n",
       "      <td>1</td>\n",
       "      <td>0</td>\n",
       "      <td>absolutely wonderful silk and sex and comfortable</td>\n",
       "      <td>1</td>\n",
       "      <td>1</td>\n",
       "      <td>absolutely wonderful silk sex comfortable</td>\n",
       "      <td>['absolutely', 'wonderful', 'silk', 'sex', 'co...</td>\n",
       "    </tr>\n",
       "    <tr>\n",
       "      <th>1</th>\n",
       "      <td>1</td>\n",
       "      <td>1</td>\n",
       "      <td>Love this dress!  it's sooo pretty.  i happene...</td>\n",
       "      <td>5</td>\n",
       "      <td>1</td>\n",
       "      <td>4</td>\n",
       "      <td>love this dress -PRON- is soon pretty i happen...</td>\n",
       "      <td>1</td>\n",
       "      <td>1</td>\n",
       "      <td>love dress soon pretty happen find store am gl...</td>\n",
       "      <td>['love', 'dress', 'soon', 'pretty', 'happen', ...</td>\n",
       "    </tr>\n",
       "  </tbody>\n",
       "</table>\n",
       "</div>"
      ],
      "text/plain": [
       "   Unnamed: 0  index                                        Review Text  \\\n",
       "0           0      0  Absolutely wonderful - silky and sexy and comf...   \n",
       "1           1      1  Love this dress!  it's sooo pretty.  i happene...   \n",
       "\n",
       "   Rating  Recommended IND  Positive Feedback Count  \\\n",
       "0       4                1                        0   \n",
       "1       5                1                        4   \n",
       "\n",
       "                            Review Text Precrocessed  Label  Label_3C  \\\n",
       "0  absolutely wonderful silk and sex and comfortable      1         1   \n",
       "1  love this dress -PRON- is soon pretty i happen...      1         1   \n",
       "\n",
       "                            Review Text no Stopwords  \\\n",
       "0          absolutely wonderful silk sex comfortable   \n",
       "1  love dress soon pretty happen find store am gl...   \n",
       "\n",
       "                                      tokenized_text  \n",
       "0  ['absolutely', 'wonderful', 'silk', 'sex', 'co...  \n",
       "1  ['love', 'dress', 'soon', 'pretty', 'happen', ...  "
      ]
     },
     "execution_count": 5,
     "metadata": {},
     "output_type": "execute_result"
    }
   ],
   "source": [
    "df.head(2)"
   ]
  },
  {
   "cell_type": "code",
   "execution_count": 6,
   "metadata": {},
   "outputs": [],
   "source": [
    "X, y = df['Review Text no Stopwords'], df['Label']\n",
    "X_train, X_test, y_train, y_test = train_test_split(X, y, random_state=42)"
   ]
  },
  {
   "cell_type": "code",
   "execution_count": 7,
   "metadata": {},
   "outputs": [],
   "source": [
    "def tokenize(x):\n",
    "    x= TextBlob(str(x)).words\n",
    "    return x"
   ]
  },
  {
   "cell_type": "code",
   "execution_count": 8,
   "metadata": {},
   "outputs": [],
   "source": [
    "def evaluation(y_test, y_pred, X_test, pipeline):\n",
    "    print(\"model score: %.3f\" % pipeline.score(X_test, y_test))\n",
    "    print(confusion_matrix(y_test, y_pred))\n",
    "    print(classification_report(y_test, y_pred))\n",
    "    Accuracy_score = accuracy_score(y_test, y_pred)\n",
    "    print('Accuracy Score: {}'.format(Accuracy_score))\n",
    "    F1_score = f1_score(y_test, y_pred)\n",
    "    print('F1 Score: {}'.format(F1_score))\n",
    "    Average_precision = average_precision_score(y_test, y_pred)\n",
    "    print('Average precision-recall score: {}'.format(Average_precision))\n",
    "    metrics.plot_roc_curve(pipeline, X_test, y_test)  \n",
    "    plt.show()"
   ]
  },
  {
   "cell_type": "code",
   "execution_count": 6,
   "metadata": {},
   "outputs": [],
   "source": [
    "def compare_classifiers(f1score):\n",
    "    name =  [\n",
    "    'LogisticRegression',\n",
    "    'MultinomialNB',\n",
    "    'svm.SVC',\n",
    "    'DecisionTreeClassifier',\n",
    "    'RandomForestClassifier',\n",
    "    'AdaBoostClassifier',\n",
    "    'GradientBoostingClassifier',\n",
    "    'XGBClassifier'\n",
    "    ]\n",
    "  \n",
    "    # Figure Size \n",
    "    fig, ax = plt.subplots(figsize =(10, 5)) \n",
    "\n",
    "    # Horizontal Bar Plot \n",
    "    ax.barh(name, f1score) \n",
    "\n",
    "    # Remove axes splines \n",
    "    for s in ['top', 'bottom', 'left', 'right']: \n",
    "        ax.spines[s].set_visible(False) \n",
    "\n",
    "    # Remove x, y Ticks \n",
    "    ax.xaxis.set_ticks_position('none') \n",
    "    ax.yaxis.set_ticks_position('none') \n",
    "\n",
    "    # Add padding between axes and labels \n",
    "    ax.xaxis.set_tick_params(pad = 5) \n",
    "    ax.yaxis.set_tick_params(pad = 10) \n",
    "\n",
    "    # Add x, y gridlines \n",
    "    ax.grid(b = True, color ='black', \n",
    "            linestyle ='-.', linewidth = 0.5, \n",
    "            alpha = 0.2) \n",
    "\n",
    "    # Show top values  \n",
    "    ax.invert_yaxis() \n",
    "\n",
    "    # Add annotation to bars \n",
    "    for i in ax.patches: \n",
    "        plt.text(i.get_width()+0.1, i.get_y()+0.2,  \n",
    "                 str(round((i.get_width()), 2)), \n",
    "                 fontsize = 10, fontweight ='bold', \n",
    "                 color ='grey') \n",
    "\n",
    "    # Add Plot Title \n",
    "    ax.set_title('Comparision of Different classifiers in terms of F1 Score', \n",
    "                 loc ='left', ) \n",
    "\n",
    "    # Show Plot \n",
    "    plt.show() "
   ]
  },
  {
   "cell_type": "code",
   "execution_count": 7,
   "metadata": {},
   "outputs": [],
   "source": [
    "def tsne_plot(model):\n",
    "    \"Creates and TSNE model and plots it\"\n",
    "    labels = []\n",
    "    tokens = []\n",
    "\n",
    "    for word in model.wv.vocab:\n",
    "        tokens.append(model[word])\n",
    "        labels.append(word)\n",
    "    \n",
    "    tsne_model = TSNE(perplexity=40, n_components=2, init='pca', n_iter=2500, random_state=23)\n",
    "    new_values = tsne_model.fit_transform(tokens)\n",
    "\n",
    "    x = []\n",
    "    y = []\n",
    "    for value in new_values:\n",
    "        x.append(value[0])\n",
    "        y.append(value[1])\n",
    "        \n",
    "    plt.figure(figsize=(16, 16)) \n",
    "    for i in range(len(x)):\n",
    "        plt.scatter(x[i],y[i])\n",
    "        plt.annotate(labels[i],\n",
    "                     xy=(x[i], y[i]),\n",
    "                     xytext=(5, 2),\n",
    "                     textcoords='offset points',\n",
    "                     ha='right',\n",
    "                     va='bottom')\n",
    "    plt.show()"
   ]
  },
  {
   "cell_type": "code",
   "execution_count": 67,
   "metadata": {},
   "outputs": [],
   "source": [
    "def threeD_plot(similar_words):\n",
    "    fig = plt.figure()\n",
    "\n",
    "    ## pca to reduce dimensionality from 300 to 3\n",
    "    words = sum([[k] + v for k, v in similar_words.items()], [])\n",
    "    wvs = model.wv[words]\n",
    "\n",
    "    pca = TSNE(perplexity=40, n_components=3, init='pca')\n",
    "    X = pca.fit_transform(wvs)\n",
    "\n",
    "    ## create dtf\n",
    "    dtf_ = pd.DataFrame(X, index=words, columns=[\"x\",\"y\",\"z\"])\n",
    "    dtf_[\"input\"] = 0\n",
    "\n",
    "    ## plot 3d\n",
    "    from mpl_toolkits.mplot3d import Axes3D\n",
    "\n",
    "    fig1=plt.figure(figsize=(8,8))\n",
    "    ax = fig1.add_subplot(111, projection='3d')\n",
    "    ax.scatter(dtf_[dtf_[\"input\"]==0]['x'], \n",
    "               dtf_[dtf_[\"input\"]==0]['y'], \n",
    "               dtf_[dtf_[\"input\"]==0]['z'], c=\"black\")\n",
    "    ax.set(xlabel=None, ylabel=None, zlabel=None, xticklabels=[], \n",
    "           yticklabels=[], zticklabels=[])\n",
    "\n",
    "    for label, row in dtf_[[\"x\",\"y\",\"z\"]].iterrows():\n",
    "        x, y, z = row\n",
    "        ax.text(x, y, z, s=label)"
   ]
  },
  {
   "cell_type": "code",
   "execution_count": 233,
   "metadata": {},
   "outputs": [],
   "source": [
    "def pca_plot(unique_words):\n",
    "    from sklearn.decomposition import PCA\n",
    "    \n",
    "    words=unique_words\n",
    "    wvs = model.wv[words]\n",
    "    \n",
    "    #words = model.wv.index2word\n",
    "    #wvs = model.wv[words]\n",
    "\n",
    "    pca = PCA(n_components=2)\n",
    "    np.set_printoptions(suppress=True)\n",
    "    P = pca.fit_transform(wvs)\n",
    "    labels = words\n",
    "\n",
    "    plt.figure(figsize=(20, 8))\n",
    "    plt.scatter(P[:, 0], P[:, 1], c='red', edgecolors='g')\n",
    "    for label, x, y in zip(labels, P[:, 0], P[:, 1]):\n",
    "        plt.annotate(label, xy=(x+0.08, y+0.05), xytext=(0, 0), textcoords='offset points')"
   ]
  },
  {
   "cell_type": "code",
   "execution_count": 66,
   "metadata": {},
   "outputs": [],
   "source": [
    "def similar_word_represent(similar_words):\n",
    "    words = sum([[k] + v for k, v in similar_words.items()], [])\n",
    "    wvs = model.wv[words]\n",
    "\n",
    "    tsne = TSNE(n_components=2, random_state=0, n_iter=10000, perplexity=2)\n",
    "    np.set_printoptions(suppress=True)\n",
    "    T = tsne.fit_transform(wvs)\n",
    "    labels = words\n",
    "\n",
    "    plt.figure(figsize=(14, 8))\n",
    "    plt.scatter(T[:, 0], T[:, 1], c='orange', edgecolors='r')\n",
    "    for label, x, y in zip(labels, T[:, 0], T[:, 1]):\n",
    "        plt.annotate(label, xy=(x+1, y+1), xytext=(0, 0), textcoords='offset points')"
   ]
  },
  {
   "cell_type": "markdown",
   "metadata": {},
   "source": [
    "# TFIDF"
   ]
  },
  {
   "cell_type": "code",
   "execution_count": 247,
   "metadata": {},
   "outputs": [],
   "source": [
    "tfidf=TfidfVectorizer(tokenizer= tokenize, ngram_range=(1, 2), max_df=0.9, min_df=3, sublinear_tf=True)"
   ]
  },
  {
   "cell_type": "code",
   "execution_count": 9,
   "metadata": {},
   "outputs": [
    {
     "name": "stdout",
     "output_type": "stream",
     "text": [
      "LogisticRegression()\n",
      "model score: 0.876\n",
      "[[ 722  549]\n",
      " [ 152 4238]]\n",
      "              precision    recall  f1-score   support\n",
      "\n",
      "           0       0.83      0.57      0.67      1271\n",
      "           1       0.89      0.97      0.92      4390\n",
      "\n",
      "    accuracy                           0.88      5661\n",
      "   macro avg       0.86      0.77      0.80      5661\n",
      "weighted avg       0.87      0.88      0.87      5661\n",
      "\n",
      "Accuracy Score: 0.8761702879349939\n",
      "F1 Score: 0.9236133812792852\n",
      "Average precision-recall score: 0.8815115183249703\n"
     ]
    },
    {
     "data": {
      "image/png": "[encoded data removed]",
      "text/plain": [
       "<Figure size 432x288 with 1 Axes>"
      ]
     },
     "metadata": {
      "needs_background": "light"
     },
     "output_type": "display_data"
    },
    {
     "name": "stdout",
     "output_type": "stream",
     "text": [
      "MultinomialNB()\n",
      "model score: 0.796\n",
      "[[ 120 1151]\n",
      " [   5 4385]]\n",
      "              precision    recall  f1-score   support\n",
      "\n",
      "           0       0.96      0.09      0.17      1271\n",
      "           1       0.79      1.00      0.88      4390\n",
      "\n",
      "    accuracy                           0.80      5661\n",
      "   macro avg       0.88      0.55      0.53      5661\n",
      "weighted avg       0.83      0.80      0.72      5661\n",
      "\n",
      "Accuracy Score: 0.7957957957957958\n",
      "F1 Score: 0.8835381825508765\n",
      "Average precision-recall score: 0.7920692359535135\n"
     ]
    },
    {
     "data": {
      "image/png": "[encoded data removed]",
      "text/plain": [
       "<Figure size 432x288 with 1 Axes>"
      ]
     },
     "metadata": {
      "needs_background": "light"
     },
     "output_type": "display_data"
    },
    {
     "name": "stdout",
     "output_type": "stream",
     "text": [
      "SVC()\n",
      "model score: 0.884\n",
      "[[ 774  497]\n",
      " [ 157 4233]]\n",
      "              precision    recall  f1-score   support\n",
      "\n",
      "           0       0.83      0.61      0.70      1271\n",
      "           1       0.89      0.96      0.93      4390\n",
      "\n",
      "    accuracy                           0.88      5661\n",
      "   macro avg       0.86      0.79      0.82      5661\n",
      "weighted avg       0.88      0.88      0.88      5661\n",
      "\n",
      "Accuracy Score: 0.8844727080021197\n",
      "F1 Score: 0.9282894736842104\n",
      "Average precision-recall score: 0.890654293850122\n"
     ]
    },
    {
     "data": {
      "image/png": "[encoded data removed]",
      "text/plain": [
       "<Figure size 432x288 with 1 Axes>"
      ]
     },
     "metadata": {
      "needs_background": "light"
     },
     "output_type": "display_data"
    },
    {
     "name": "stdout",
     "output_type": "stream",
     "text": [
      "DecisionTreeClassifier()\n",
      "model score: 0.790\n",
      "[[ 702  569]\n",
      " [ 619 3771]]\n",
      "              precision    recall  f1-score   support\n",
      "\n",
      "           0       0.53      0.55      0.54      1271\n",
      "           1       0.87      0.86      0.86      4390\n",
      "\n",
      "    accuracy                           0.79      5661\n",
      "   macro avg       0.70      0.71      0.70      5661\n",
      "weighted avg       0.79      0.79      0.79      5661\n",
      "\n",
      "Accuracy Score: 0.7901430842607313\n",
      "F1 Score: 0.8639175257731958\n",
      "Average precision-recall score: 0.8557226134160301\n"
     ]
    },
    {
     "data": {
      "image/png": "[encoded data removed]",
      "text/plain": [
       "<Figure size 432x288 with 1 Axes>"
      ]
     },
     "metadata": {
      "needs_background": "light"
     },
     "output_type": "display_data"
    },
    {
     "name": "stdout",
     "output_type": "stream",
     "text": [
      "RandomForestClassifier()\n",
      "model score: 0.842\n",
      "[[ 452  819]\n",
      " [  78 4312]]\n",
      "              precision    recall  f1-score   support\n",
      "\n",
      "           0       0.85      0.36      0.50      1271\n",
      "           1       0.84      0.98      0.91      4390\n",
      "\n",
      "    accuracy                           0.84      5661\n",
      "   macro avg       0.85      0.67      0.70      5661\n",
      "weighted avg       0.84      0.84      0.82      5661\n",
      "\n",
      "Accuracy Score: 0.8415474297827239\n",
      "F1 Score: 0.9057872072261317\n",
      "Average precision-recall score: 0.8392288599257075\n"
     ]
    },
    {
     "data": {
      "image/png": "[encoded data removed]",
      "text/plain": [
       "<Figure size 432x288 with 1 Axes>"
      ]
     },
     "metadata": {
      "needs_background": "light"
     },
     "output_type": "display_data"
    },
    {
     "name": "stdout",
     "output_type": "stream",
     "text": [
      "AdaBoostClassifier()\n",
      "model score: 0.840\n",
      "[[ 693  578]\n",
      " [ 328 4062]]\n",
      "              precision    recall  f1-score   support\n",
      "\n",
      "           0       0.68      0.55      0.60      1271\n",
      "           1       0.88      0.93      0.90      4390\n",
      "\n",
      "    accuracy                           0.84      5661\n",
      "   macro avg       0.78      0.74      0.75      5661\n",
      "weighted avg       0.83      0.84      0.83      5661\n",
      "\n",
      "Accuracy Score: 0.839957604663487\n",
      "F1 Score: 0.8996677740863789\n",
      "Average precision-recall score: 0.8679632686487538\n"
     ]
    },
    {
     "data": {
      "image/png": "[encoded data removed]",
      "text/plain": [
       "<Figure size 432x288 with 1 Axes>"
      ]
     },
     "metadata": {
      "needs_background": "light"
     },
     "output_type": "display_data"
    },
    {
     "name": "stdout",
     "output_type": "stream",
     "text": [
      "GradientBoostingClassifier()\n",
      "model score: 0.844\n",
      "[[ 534  737]\n",
      " [ 145 4245]]\n",
      "              precision    recall  f1-score   support\n",
      "\n",
      "           0       0.79      0.42      0.55      1271\n",
      "           1       0.85      0.97      0.91      4390\n",
      "\n",
      "    accuracy                           0.84      5661\n",
      "   macro avg       0.82      0.69      0.73      5661\n",
      "weighted avg       0.84      0.84      0.83      5661\n",
      "\n",
      "Accuracy Score: 0.8441971383147854\n",
      "F1 Score: 0.9058898847631243\n",
      "Average precision-recall score: 0.8495378342596115\n"
     ]
    },
    {
     "data": {
      "image/png": "[encoded data removed]",
      "text/plain": [
       "<Figure size 432x288 with 1 Axes>"
      ]
     },
     "metadata": {
      "needs_background": "light"
     },
     "output_type": "display_data"
    },
    {
     "name": "stdout",
     "output_type": "stream",
     "text": [
      "XGBClassifier(base_score=None, booster=None, colsample_bylevel=None,\n",
      "              colsample_bynode=None, colsample_bytree=None, gamma=None,\n",
      "              gpu_id=None, importance_type='gain', interaction_constraints=None,\n",
      "              learning_rate=None, max_delta_step=None, max_depth=None,\n",
      "              min_child_weight=None, missing=nan, monotone_constraints=None,\n",
      "              n_estimators=100, n_jobs=None, num_parallel_tree=None,\n",
      "              random_state=None, reg_alpha=None, reg_lambda=None,\n",
      "              scale_pos_weight=None, subsample=None, tree_method=None,\n",
      "              validate_parameters=None, verbosity=None)\n"
     ]
    },
    {
     "name": "stderr",
     "output_type": "stream",
     "text": [
      "C:\\Users\\anagha.bhople\\AppData\\Roaming\\Python\\Python38\\site-packages\\xgboost\\sklearn.py:888: UserWarning: The use of label encoder in XGBClassifier is deprecated and will be removed in a future release. To remove this warning, do the following: 1) Pass option use_label_encoder=False when constructing XGBClassifier object; and 2) Encode your labels (y) as integers starting with 0, i.e. 0, 1, 2, ..., [num_class - 1].\n",
      "  warnings.warn(label_encoder_deprecation_msg, UserWarning)\n"
     ]
    },
    {
     "name": "stdout",
     "output_type": "stream",
     "text": [
      "[11:13:59] WARNING: C:/Users/Administrator/workspace/xgboost-win64_release_1.3.0/src/learner.cc:1061: Starting in XGBoost 1.3.0, the default evaluation metric used with the objective 'binary:logistic' was changed from 'error' to 'logloss'. Explicitly set eval_metric if you'd like to restore the old behavior.\n",
      "model score: 0.869\n",
      "[[ 761  510]\n",
      " [ 230 4160]]\n",
      "              precision    recall  f1-score   support\n",
      "\n",
      "           0       0.77      0.60      0.67      1271\n",
      "           1       0.89      0.95      0.92      4390\n",
      "\n",
      "    accuracy                           0.87      5661\n",
      "   macro avg       0.83      0.77      0.80      5661\n",
      "weighted avg       0.86      0.87      0.86      5661\n",
      "\n",
      "Accuracy Score: 0.869281045751634\n",
      "F1 Score: 0.9183222958057395\n",
      "Average precision-recall score: 0.8847509442214915\n"
     ]
    },
    {
     "data": {
      "image/png": "[encoded data removed]",
      "text/plain": [
       "<Figure size 432x288 with 1 Axes>"
      ]
     },
     "metadata": {
      "needs_background": "light"
     },
     "output_type": "display_data"
    }
   ],
   "source": [
    "classifiers = [\n",
    "    LogisticRegression(),\n",
    "    MultinomialNB(),\n",
    "    svm.SVC(),\n",
    "    DecisionTreeClassifier(),\n",
    "    RandomForestClassifier(),\n",
    "    AdaBoostClassifier(),\n",
    "    GradientBoostingClassifier(),\n",
    "    XGBClassifier()\n",
    "    ]\n",
    "f1=[]\n",
    "for classifier in classifiers:\n",
    "    print(classifier)\n",
    "    sentiment_pipe = Pipeline(steps=[('preprocessor', tfidf),\n",
    "                      ('classifier', classifier)])\n",
    "    sentiment_pipe.fit(X_train, y_train)   \n",
    "    \n",
    "    y_pred = sentiment_pipe.predict(X_test)\n",
    "    F1 = f1_score(y_test, y_pred)\n",
    "    f1.append(F1)\n",
    "    evaluation(y_test, y_pred, X_test, sentiment_pipe)"
   ]
  },
  {
   "cell_type": "code",
   "execution_count": 22,
   "metadata": {},
   "outputs": [
    {
     "data": {
      "image/png": "[encoded data removed]",
      "text/plain": [
       "<Figure size 720x360 with 1 Axes>"
      ]
     },
     "metadata": {
      "needs_background": "light"
     },
     "output_type": "display_data"
    }
   ],
   "source": [
    "compare_classifiers(f1)"
   ]
  },
  {
   "cell_type": "code",
   "execution_count": 9,
   "metadata": {},
   "outputs": [],
   "source": [
    "param_range = [9, 10]\n",
    "param_range_fl = [1.0, 0.5]\n",
    "\n",
    "Log = [{'clf__penalty': ['l1', 'l2'],\n",
    "        'clf__C': param_range_fl,\n",
    "        'clf__solver': ['liblinear']}] \n",
    "\n",
    "SVC = [{'clf__kernel': ['linear', 'rbf'], \n",
    "        'clf__C': param_range}]\n",
    "\n",
    "RF = [{'clf__criterion': ['gini', 'entropy'],\n",
    "        'clf__max_depth': param_range,\n",
    "        'clf__min_samples_split': param_range[1:]}]\n",
    "\n",
    "params_dict = {0: Log, 1: SVC, 2: RF}\n",
    "\n",
    "grid_dict = {0: 'Logistic Regression', \n",
    "             1: 'Support Vector Machine',\n",
    "             2: 'Random Forest Classifier'}\n",
    "\n",
    "best_acc = 0.0\n",
    "best_clf = 0\n",
    "best_gs = ''"
   ]
  },
  {
   "cell_type": "code",
   "execution_count": 10,
   "metadata": {},
   "outputs": [
    {
     "name": "stdout",
     "output_type": "stream",
     "text": [
      "LogisticRegression()\n",
      "\n",
      "Estimator: [{'clf__penalty': ['l1', 'l2'], 'clf__C': [1.0, 0.5], 'clf__solver': ['liblinear']}]\n",
      "Best params are : {'clf__C': 1.0, 'clf__penalty': 'l1', 'clf__solver': 'liblinear'}\n",
      "Best training accuracy: 0.873\n",
      "model score: 0.844\n",
      "[[ 788  483]\n",
      " [ 222 4168]]\n",
      "              precision    recall  f1-score   support\n",
      "\n",
      "           0       0.78      0.62      0.69      1271\n",
      "           1       0.90      0.95      0.92      4390\n",
      "\n",
      "    accuracy                           0.88      5661\n",
      "   macro avg       0.84      0.78      0.81      5661\n",
      "weighted avg       0.87      0.88      0.87      5661\n",
      "\n",
      "Accuracy Score: 0.8754636989931107\n",
      "F1 Score: 0.9220219002322751\n",
      "Average precision-recall score: 0.890049146539013\n"
     ]
    },
    {
     "data": {
      "image/png": "[encoded data removed]",
      "text/plain": [
       "<Figure size 432x288 with 1 Axes>"
      ]
     },
     "metadata": {
      "needs_background": "light"
     },
     "output_type": "display_data"
    },
    {
     "name": "stdout",
     "output_type": "stream",
     "text": [
      "SVC()\n",
      "\n",
      "Estimator: [{'clf__kernel': ['linear', 'rbf'], 'clf__C': [9, 10]}]\n",
      "Best params are : {'clf__C': 9, 'clf__kernel': 'rbf'}\n",
      "Best training accuracy: 0.883\n",
      "model score: 0.844\n",
      "[[ 823  448]\n",
      " [ 190 4200]]\n",
      "              precision    recall  f1-score   support\n",
      "\n",
      "           0       0.81      0.65      0.72      1271\n",
      "           1       0.90      0.96      0.93      4390\n",
      "\n",
      "    accuracy                           0.89      5661\n",
      "   macro avg       0.86      0.80      0.83      5661\n",
      "weighted avg       0.88      0.89      0.88      5661\n",
      "\n",
      "Accuracy Score: 0.887299063769652\n",
      "F1 Score: 0.9294091613188759\n",
      "Average precision-recall score: 0.8980688341680481\n"
     ]
    },
    {
     "data": {
      "image/png": "[encoded data removed]",
      "text/plain": [
       "<Figure size 432x288 with 1 Axes>"
      ]
     },
     "metadata": {
      "needs_background": "light"
     },
     "output_type": "display_data"
    },
    {
     "name": "stdout",
     "output_type": "stream",
     "text": [
      "RandomForestClassifier()\n",
      "\n",
      "Estimator: [{'clf__criterion': ['gini', 'entropy'], 'clf__max_depth': [9, 10], 'clf__min_samples_split': [10]}]\n",
      "Best params are : {'clf__criterion': 'gini', 'clf__max_depth': 9, 'clf__min_samples_split': 10}\n",
      "Best training accuracy: 0.769\n",
      "model score: 0.844\n",
      "[[   0 1271]\n",
      " [   0 4390]]\n",
      "              precision    recall  f1-score   support\n",
      "\n",
      "           0       0.00      0.00      0.00      1271\n",
      "           1       0.78      1.00      0.87      4390\n",
      "\n",
      "    accuracy                           0.78      5661\n",
      "   macro avg       0.39      0.50      0.44      5661\n",
      "weighted avg       0.60      0.78      0.68      5661\n",
      "\n",
      "Accuracy Score: 0.7754813637166579\n",
      "F1 Score: 0.8735449209033928\n",
      "Average precision-recall score: 0.7754813637166579\n"
     ]
    },
    {
     "name": "stderr",
     "output_type": "stream",
     "text": [
      "C:\\ProgramData\\Anaconda3\\lib\\site-packages\\sklearn\\metrics\\_classification.py:1221: UndefinedMetricWarning: Precision and F-score are ill-defined and being set to 0.0 in labels with no predicted samples. Use `zero_division` parameter to control this behavior.\n",
      "  _warn_prf(average, modifier, msg_start, len(result))\n"
     ]
    },
    {
     "data": {
      "image/png": "[encoded data removed]",
      "text/plain": [
       "<Figure size 432x288 with 1 Axes>"
      ]
     },
     "metadata": {
      "needs_background": "light"
     },
     "output_type": "display_data"
    },
    {
     "name": "stdout",
     "output_type": "stream",
     "text": [
      "\n",
      "Classifier with best test set accuracy: Support Vector Machine\n"
     ]
    }
   ],
   "source": [
    "classifiers = [\n",
    "    LogisticRegression(),\n",
    "    svm.SVC(),\n",
    "    RandomForestClassifier()\n",
    "    ]\n",
    "\n",
    "for idx, classifier in enumerate(classifiers): \n",
    "    \n",
    "    pipe = Pipeline(steps=[(\"word2vec vectorizer\", tfidf),\n",
    "                          ('clf', classifier)])\n",
    "\n",
    "    out = GridSearchCV(estimator=pipe,\n",
    "                param_grid=params_dict[idx],\n",
    "                scoring='accuracy',\n",
    "                cv=10) \n",
    "    \n",
    "    print(classifier)\n",
    "    print('\\nEstimator: %s' % params_dict[idx])\n",
    "    \n",
    "    out.fit(X_train, y_train)\n",
    "    \n",
    "    y_pred = out.predict(X_test)\n",
    "    print('Best params are : %s' % out.best_params_)\n",
    "    print('Best training accuracy: %.3f' % out.best_score_)\n",
    "    \n",
    "    evaluation(y_test, y_pred, X_test, out)\n",
    "    \n",
    "    if accuracy_score(y_test, y_pred) > best_acc:\n",
    "        best_acc = accuracy_score(y_test, y_pred)\n",
    "        best_gs = classifier\n",
    "        best_clf = idx\n",
    "\n",
    "print('\\nClassifier with best test set accuracy: %s' % grid_dict[best_clf])      "
   ]
  },
  {
   "cell_type": "code",
   "execution_count": 13,
   "metadata": {},
   "outputs": [
    {
     "name": "stdout",
     "output_type": "stream",
     "text": [
      "\n",
      "Saved Support Vector Machine grid search pipeline to file: best_grid_search_pipeline_tfidf.pkl\n"
     ]
    }
   ],
   "source": [
    "# Save best grid search pipeline to file\n",
    "dump_file = 'best_grid_search_pipeline_tfidf.pkl'\n",
    "joblib.dump(best_gs, dump_file, compress=1)\n",
    "print('\\nSaved %s grid search pipeline to file: %s' % (grid_dict[best_clf], dump_file))"
   ]
  },
  {
   "cell_type": "markdown",
   "metadata": {},
   "source": [
    "# WHY Word2Vec?"
   ]
  },
  {
   "cell_type": "markdown",
   "metadata": {},
   "source": [
    "## Limitation of TFIDF\n",
    "#### TFIDF and BOW do not capture the meaning of word instead considers each word seperately as a feature.\n",
    "#### Ignores the order of words.\n",
    "#### Sparse matrix is expensive in terms space and time.\n",
    "#### It gives more importance to uncommon words.\n",
    "#### We lose additional information like the semantics, structure, sequence and context around nearby words in each text document."
   ]
  },
  {
   "cell_type": "markdown",
   "metadata": {},
   "source": [
    "# What is Word Embedding?"
   ]
  },
  {
   "cell_type": "markdown",
   "metadata": {},
   "source": [
    "#### Helps computer to understand human language.\n",
    "#### Consider three sentences:\n",
    "###        I have top and jeans,   I have beautiful dress,   I love this shop\n",
    "#### Text Corpus: [I, have, top, and, jeans, beautiful, dress, this, shop]\\\n",
    "##### top = [0, 0, 1, 0, 0, 0, 0, 0, 0]\n",
    "#### Word embedding is a language modelling technique to represent the words or phrases as a vectors.\n",
    "#### Word embeddings are dense vector representation for words that are unique for each word and can also capture meaning and how words are related to each other.\n",
    "#### Word vector representations where words with similar meaning have similar representation.\n",
    "#### Words with a similar meaning falls in close proximity when projected in the embedding space.\n",
    "##### Vec(\"king\") - Vec(\"man\") + Vec(\"woman\") = Vec(\"queen\")"
   ]
  },
  {
   "cell_type": "markdown",
   "metadata": {},
   "source": [
    "![title](img/img1.PNG)"
   ]
  },
  {
   "cell_type": "markdown",
   "metadata": {},
   "source": [
    "# What is Word2Vec?"
   ]
  },
  {
   "cell_type": "markdown",
   "metadata": {},
   "source": [
    "#### Proposed by Thomas Mikolov from Google in 2013\n",
    "#### Neural word embeddings\n",
    "#### If you have two similar words then their word vectors are also similar in the embedding space.\n",
    "#### Uses context information to generate the embeddings for the words.\n",
    "#### It captures a large number of precise syntactic and semantic word relationship.\n",
    "#### Word2Vec consists of models for generating word embedding. \n",
    "#### These models are shallow two layer neural networks having one input layer, one hidden layer and one output layer. "
   ]
  },
  {
   "cell_type": "markdown",
   "metadata": {},
   "source": [
    "# Word2Vec utilizes two architectures :"
   ]
  },
  {
   "cell_type": "markdown",
   "metadata": {},
   "source": [
    " ## 1. CBOW (Continuous Bag of Words):"
   ]
  },
  {
   "cell_type": "markdown",
   "metadata": {},
   "source": [
    "#### CBOW model predicts the current word given context words within specific window. \n",
    "#### The input layer contains the context words and the output layer contains the current word. \n",
    "#### The hidden layer contains the number of dimensions in which we want to represent current word present at the output layer."
   ]
  },
  {
   "cell_type": "markdown",
   "metadata": {},
   "source": [
    "![title](img/img4.PNG)"
   ]
  },
  {
   "cell_type": "markdown",
   "metadata": {},
   "source": [
    "### Consider example: \"Sweater is perfect for fall\""
   ]
  },
  {
   "cell_type": "markdown",
   "metadata": {},
   "source": [
    "![title](img/img2.PNG)"
   ]
  },
  {
   "cell_type": "markdown",
   "metadata": {},
   "source": [
    "## 2. Skip Gram :"
   ]
  },
  {
   "cell_type": "markdown",
   "metadata": {},
   "source": [
    "#### Skip gram predicts the surrounding context words within specific window given current word. \n",
    "#### The input layer contains the current word and the output layer contains the context words. \n",
    "#### The hidden layer contains the number of dimensions in which we want to represent current word present at the input layer."
   ]
  },
  {
   "cell_type": "markdown",
   "metadata": {},
   "source": [
    "![title](img/img3.PNG)"
   ]
  },
  {
   "cell_type": "markdown",
   "metadata": {},
   "source": [
    "## Which model to choose?"
   ]
  },
  {
   "cell_type": "markdown",
   "metadata": {},
   "source": [
    "#### CBOW is faster than the skipgram and provides better representation for frequent words.\n",
    "#### Skipgram needs small amount of training data and gives better representation for rare words and phrases, but slower and computationally expensive."
   ]
  },
  {
   "cell_type": "markdown",
   "metadata": {},
   "source": [
    "## When to use Word2Vec and when to use TFIDF?"
   ]
  },
  {
   "cell_type": "markdown",
   "metadata": {},
   "source": [
    "#### When you have extremely small data in that case TFIDF tend to work better than that of Word2Vec."
   ]
  },
  {
   "cell_type": "markdown",
   "metadata": {},
   "source": [
    "# Word2vec"
   ]
  },
  {
   "cell_type": "code",
   "execution_count": 10,
   "metadata": {},
   "outputs": [],
   "source": [
    "df['Review Text w2v']=df['Review Text no Stopwords'].apply(lambda x: tokenize(x))"
   ]
  },
  {
   "cell_type": "code",
   "execution_count": 11,
   "metadata": {},
   "outputs": [],
   "source": [
    "X1=df['Review Text w2v']\n",
    "y1=df['Label']"
   ]
  },
  {
   "cell_type": "code",
   "execution_count": 248,
   "metadata": {},
   "outputs": [
    {
     "data": {
      "text/plain": [
       "(22642,)"
      ]
     },
     "execution_count": 248,
     "metadata": {},
     "output_type": "execute_result"
    }
   ],
   "source": [
    "X1.shape"
   ]
  },
  {
   "cell_type": "code",
   "execution_count": 12,
   "metadata": {},
   "outputs": [],
   "source": [
    "w2v_Y=y1\n",
    "w2v_X=X1\n",
    "w2vX_train, w2vX_test, w2vy_train, w2vy_test = train_test_split(w2v_X,w2v_Y, test_size=.20, random_state=101)"
   ]
  },
  {
   "cell_type": "code",
   "execution_count": 110,
   "metadata": {},
   "outputs": [],
   "source": [
    "model = Word2Vec(X1, size=550, window=10, min_count=1, workers=10, sg=0, iter=200)"
   ]
  },
  {
   "cell_type": "code",
   "execution_count": 196,
   "metadata": {},
   "outputs": [
    {
     "name": "stdout",
     "output_type": "stream",
     "text": [
      "Vocabulary size: 8250\n"
     ]
    }
   ],
   "source": [
    "print('Vocabulary size:', len(model.wv.vocab))"
   ]
  },
  {
   "cell_type": "code",
   "execution_count": 89,
   "metadata": {},
   "outputs": [
    {
     "data": {
      "text/plain": [
       "array([-0.6546919 , -3.3104997 ,  5.0338764 , -4.5740123 ,  4.600127  ,\n",
       "       -0.73620576,  6.065227  ,  0.661671  , -0.3335245 , -3.161598  ,\n",
       "        2.134943  , -1.302164  , -5.244409  ,  4.9352307 , -2.803048  ,\n",
       "        0.4057285 , -2.5914207 , -1.1156309 , -0.62633526,  1.9828892 ,\n",
       "       -2.1706808 ,  1.8603799 , -0.42487136,  3.640757  ,  1.9332893 ,\n",
       "        2.1121795 ,  0.37853485, -7.8922567 , -0.74926764,  0.2694112 ,\n",
       "       -0.06892549, -4.0008583 ,  1.3130666 ,  3.3153348 , -0.7297637 ,\n",
       "        0.1534908 ,  0.3201107 , -4.963672  , -0.5328984 ,  2.0350673 ,\n",
       "        0.09271318, -0.74220026,  5.471964  ,  0.6411043 ,  3.4064367 ,\n",
       "       -2.770449  ,  3.171584  ,  3.2953856 ,  1.9021695 , -0.48893186,\n",
       "       -2.2725437 ,  4.80828   ,  3.841702  ,  0.7804402 , -2.1994636 ,\n",
       "       -1.8981256 ,  2.576005  ,  0.99047655,  3.2121682 ,  5.072937  ,\n",
       "        3.9928372 ,  0.7205597 , -1.3859888 ,  0.72283524,  3.5312786 ,\n",
       "       -0.7919672 , -3.0168295 ,  4.200889  ,  1.6893078 ,  6.358613  ,\n",
       "       -3.4380186 ,  1.2455626 ,  1.8497055 ,  1.2774322 ,  0.98921293,\n",
       "        2.424145  , -2.0743005 ,  3.4098606 , -1.960084  ,  2.6683412 ,\n",
       "        2.8231626 ,  3.4565024 , -0.79774946,  2.013996  , -2.5676534 ,\n",
       "       -0.14545514, -2.3019395 , -4.6438065 ,  2.8137841 , -3.9278257 ,\n",
       "       -2.0153265 , -2.3588676 , -1.5005025 ,  4.6787205 , -2.793755  ,\n",
       "        1.4150705 ,  1.0642043 ,  3.6751366 ,  2.1822135 ,  2.4595695 ,\n",
       "        0.04361445, -2.5886838 ,  3.6215775 ,  2.2732122 , -4.004927  ,\n",
       "        3.4614396 , -2.9017558 , -2.0652375 ,  1.768789  , -4.8288636 ,\n",
       "        0.00278074,  1.2248646 ,  2.3547666 ,  2.591519  , -1.6268178 ,\n",
       "        1.0976424 ,  5.3755527 , -2.976612  ,  1.6664526 , -2.5578938 ,\n",
       "        4.127492  , -4.7186947 ,  4.604869  , -1.4070841 , -1.1870793 ,\n",
       "        1.1583873 ,  0.39291003,  1.7443968 , -0.04103175, -0.80829674,\n",
       "        1.9712127 ,  6.1777186 , -4.757866  ,  0.61798066,  0.49550968,\n",
       "       -6.8706594 , -2.5220025 ,  0.22796728,  0.98943347, -6.1770735 ,\n",
       "       -0.90096986, -3.6030416 ,  0.5433849 , -1.4370654 ,  7.0992002 ,\n",
       "        4.7612557 ,  4.620213  ,  0.83851683,  0.04478759,  1.5929233 ,\n",
       "       -1.2357843 ,  2.2013223 ,  6.3019114 , -3.565097  , -2.5197124 ,\n",
       "        1.3424565 ,  0.70440274,  1.9521124 , -1.8971044 , -1.6671562 ,\n",
       "       -0.5182198 , -3.5813508 ,  2.514376  , -2.1711671 , -1.3809204 ,\n",
       "       -4.338149  , -4.5625    , -1.8568461 ,  0.8320105 , -0.8262434 ,\n",
       "       -3.2134802 ,  3.2826445 ,  4.1368337 , -2.405503  ,  0.75377655,\n",
       "        0.1960618 ,  2.6923563 , -1.4899229 ,  0.5130979 , -0.6852657 ,\n",
       "       -2.0946867 , -4.2752852 , -1.4190965 ,  4.223025  ,  0.34239286,\n",
       "        2.9187384 , -3.0664098 , -1.430698  ,  1.7538372 ,  3.756623  ,\n",
       "       -3.0146866 , -1.152057  ,  4.19765   , -0.7076466 , -0.9077291 ,\n",
       "        1.2110481 ,  0.8053825 ,  2.0068681 , -5.8947244 , -0.1728286 ,\n",
       "        1.2142358 ,  1.2146629 , -4.475162  , -1.6103896 , -2.2568474 ,\n",
       "       -1.5136254 , -1.2384521 ,  5.349     ,  2.6039584 , -2.6930203 ,\n",
       "        0.08760227, -0.8856173 ,  2.2141635 ,  1.2578932 ,  1.072704  ,\n",
       "        0.6791776 , -0.5110062 , -6.64568   , -4.4001026 ,  0.85348576,\n",
       "        0.8749749 ,  0.20712216, -2.4289846 , -1.1891845 ,  0.64324945,\n",
       "        0.47185966,  1.0085027 , -3.1674335 , -1.0463508 ,  2.8276849 ,\n",
       "       -4.1454163 ,  1.1178278 ,  0.9373663 ,  2.3503485 , -4.079099  ,\n",
       "        1.6893151 ,  2.6765544 , -3.4663928 ,  1.1510735 ,  3.0597582 ,\n",
       "       -1.8093996 , -1.3381289 ,  0.65730196,  1.8498038 , -7.5521193 ,\n",
       "        0.71400434, -1.6532277 , -4.8669205 , -5.152849  , -3.2801394 ,\n",
       "        2.195633  ,  2.8237689 , -2.7454748 , -0.23323818, -1.5984186 ,\n",
       "        6.299054  ,  2.1424203 , -4.0598526 ,  5.5120873 , -1.5784713 ,\n",
       "       -3.3888144 ,  0.5466819 ,  2.7552311 , -0.44699743, -3.754657  ,\n",
       "       -1.5510755 , -1.4449272 , -0.31425923, -2.100415  ,  2.225759  ,\n",
       "       -4.3225527 ,  0.8712516 ,  1.0450001 ,  0.17051777, -5.809137  ,\n",
       "       -1.7281133 , -3.3386183 ,  0.40471494, -2.1776373 , -2.7035067 ,\n",
       "       -5.8636446 , -0.992612  , -1.2110431 , -3.1034007 ,  3.186205  ,\n",
       "       -0.81056803,  2.9653618 , -3.6419513 ,  1.9978645 ,  1.6587058 ,\n",
       "       -5.314628  ,  0.20024069, -0.9995194 ,  3.6408658 ,  1.2612282 ,\n",
       "       -3.1021512 , -3.4841146 ,  0.12916891,  5.0454416 ,  4.1225944 ,\n",
       "       -1.0717492 , -4.062592  ,  1.8398743 , -3.4507687 , -0.9540154 ,\n",
       "        1.9413753 , -2.7275283 , -3.6698005 , -3.071221  , -4.5970654 ,\n",
       "        2.278404  ,  0.5619636 , -3.1356835 , -0.9486796 , -0.53158116,\n",
       "        1.6010236 ,  2.332193  , -0.6106905 ,  4.23781   , -1.1228489 ,\n",
       "        0.4979978 ,  5.314524  , -8.157112  , -1.5436945 ,  2.9093983 ,\n",
       "        7.290595  ,  2.3535876 , -2.9874623 ,  1.2769004 ,  3.6452274 ,\n",
       "        1.3255169 ,  0.00328787, -1.0523975 ,  2.3900297 , -3.762568  ,\n",
       "        2.051056  ,  0.55140084, -0.5459494 , -2.8831563 , -0.04301529,\n",
       "       -1.9197468 ,  0.07338949, -5.87657   , -1.1603602 , -0.6177246 ,\n",
       "       -4.1538267 ,  2.0011106 ,  3.0434535 , -0.03992731,  4.0628195 ,\n",
       "       -1.7559175 , -1.8147718 ,  1.3474789 , -5.083837  , -2.202996  ,\n",
       "       -3.6132202 , -0.41402814, -1.8217106 , -0.8972656 ,  2.4415455 ,\n",
       "        3.681091  , -5.132787  , -5.765566  ,  3.3174863 ,  1.726796  ,\n",
       "       -6.7845016 , -5.6653333 ,  3.962201  , -2.1044784 ,  1.1249808 ,\n",
       "        0.6387916 , -4.939406  ,  5.5131893 , -3.4820204 , -2.4044154 ,\n",
       "       -2.4836988 ,  0.00360938, -4.9365907 , -2.1089087 , -1.2399205 ,\n",
       "        2.5458326 , -3.3102992 , -2.8260128 , -0.6761055 , -0.1743521 ,\n",
       "       -2.4405224 , -3.1534617 , -4.92793   ,  1.00764   ,  4.825908  ,\n",
       "       -1.2118562 ,  2.9683666 , -1.1704304 ,  1.5186949 , -7.2405763 ,\n",
       "       -1.4340734 ,  3.6496267 , -5.6465673 , -2.5724874 , -1.7880528 ,\n",
       "       -1.1804059 ,  0.651558  , -2.3613405 , -2.521412  ,  2.4500887 ,\n",
       "        1.7798272 , 11.49306   , -3.7763243 , -1.3476387 ,  1.8142953 ,\n",
       "        1.257492  ,  4.4510684 , -4.055176  , -3.0251932 , -2.5978422 ,\n",
       "        0.05907926, -1.7643745 ,  3.8508692 ,  2.1424084 ,  3.037282  ,\n",
       "       -2.9337456 ,  0.972468  , -4.4167123 ,  0.00765191, -1.0638158 ,\n",
       "       -0.33475327,  6.434655  , -4.634714  ,  1.4931519 ,  1.7157649 ,\n",
       "       -3.1205964 ,  0.17193653, -5.330015  ,  2.8184242 , -2.3278382 ,\n",
       "       -1.2303677 ,  4.056786  , -2.3583949 , -1.4857273 ,  0.33287087,\n",
       "       -2.9728599 , -1.0316138 ,  2.3150482 ,  6.287529  ,  4.188565  ,\n",
       "       -2.6297948 ,  8.969864  , -3.0468001 ,  1.942697  ,  4.010541  ,\n",
       "       -1.0222616 , -6.097498  ,  0.98599654,  0.11173481,  3.9584463 ,\n",
       "       -0.28178343,  5.0632725 ,  0.22545929,  1.4793321 ,  1.9528127 ,\n",
       "        2.9813788 , -0.15995847,  2.1631894 , -1.3297588 , -1.3316526 ,\n",
       "        5.0448704 , -1.4000573 , -0.29925558,  0.9651753 ,  0.3871222 ,\n",
       "       -4.3792343 ,  2.9828358 , -1.558715  , -2.0887835 ,  0.1099689 ,\n",
       "        0.09087989, -3.7789843 , -0.8183628 ,  0.7969091 , -3.4368763 ,\n",
       "        0.17993811, -4.2974954 ,  0.4104812 ,  1.2699748 , -1.6286288 ,\n",
       "        1.3888714 ,  4.345959  ,  4.586014  , -0.04211439,  0.68525803,\n",
       "        1.0856814 ,  1.801095  , -1.536105  , -5.319854  , -6.0875587 ,\n",
       "       -2.7329674 ,  1.1734678 ,  0.56233007,  5.8650784 ,  5.2491693 ,\n",
       "       -0.09479605,  3.4226239 ,  7.257634  ,  2.8211045 , -4.462391  ,\n",
       "        0.16684562,  2.464005  ,  2.6519485 , -4.542295  ,  6.377669  ,\n",
       "       -0.00020545, -0.13435431, -0.586964  ,  3.4309058 ,  1.6435143 ,\n",
       "       -0.27702552,  1.04965   ,  5.25101   , -1.5490646 ,  5.890552  ,\n",
       "        0.45574182, -3.6674833 ,  0.6200977 ,  0.60546327,  4.771601  ,\n",
       "        0.21735987, -0.4360467 ,  1.1827266 , -5.338605  , -0.8039385 ,\n",
       "        0.21851595, -0.94156355, -0.23680428,  2.161705  , -5.4751005 ,\n",
       "        2.7580006 ,  4.5105033 ,  5.1816125 ,  2.9164171 ,  1.2359178 ,\n",
       "       -3.4715598 , -6.817248  ,  2.7685876 ,  0.48965448,  3.2234504 ,\n",
       "        1.6328613 , -2.9973557 ,  0.53724587,  1.2437087 ,  4.556832  ],\n",
       "      dtype=float32)"
      ]
     },
     "execution_count": 89,
     "metadata": {},
     "output_type": "execute_result"
    }
   ],
   "source": [
    "model.wv['luxurious']"
   ]
  },
  {
   "cell_type": "code",
   "execution_count": 147,
   "metadata": {},
   "outputs": [
    {
     "data": {
      "text/plain": [
       "(550,)"
      ]
     },
     "execution_count": 147,
     "metadata": {},
     "output_type": "execute_result"
    }
   ],
   "source": [
    "model.wv['luxurious'].shape"
   ]
  },
  {
   "cell_type": "code",
   "execution_count": 148,
   "metadata": {},
   "outputs": [
    {
     "name": "stderr",
     "output_type": "stream",
     "text": [
      "<ipython-input-148-266171e29a10>:1: DeprecationWarning: Call to deprecated `most_similar` (Method will be removed in 4.0.0, use self.wv.most_similar() instead).\n",
      "  model.most_similar('dress')\n"
     ]
    },
    {
     "data": {
      "text/plain": [
       "[('wedding', 0.3553197383880615),\n",
       " ('slip', 0.350614458322525),\n",
       " ('jumpsuit', 0.2203442007303238),\n",
       " ('skirt', 0.2183971107006073),\n",
       " ('bust', 0.21581420302391052),\n",
       " ('nipper', 0.21383914351463318),\n",
       " ('shirtdress', 0.20785976946353912),\n",
       " ('mature', 0.20152635872364044),\n",
       " ('byron', 0.19409237802028656),\n",
       " ('bodice', 0.18964779376983643)]"
      ]
     },
     "execution_count": 148,
     "metadata": {},
     "output_type": "execute_result"
    }
   ],
   "source": [
    "model.most_similar('dress')"
   ]
  },
  {
   "cell_type": "code",
   "execution_count": 244,
   "metadata": {},
   "outputs": [
    {
     "data": {
      "text/plain": [
       "[('lack', 0.21128255128860474),\n",
       " ('industry', 0.17512507736682892),\n",
       " ('spending', 0.16459539532661438),\n",
       " ('ridiculous', 0.1600225269794464),\n",
       " ('unfortunately', 0.15860742330551147),\n",
       " ('si', 0.15762566030025482),\n",
       " ('huddle', 0.15720415115356445),\n",
       " ('wonder', 0.1571725308895111),\n",
       " ('puffy', 0.15340861678123474),\n",
       " ('much', 0.15220950543880463)]"
      ]
     },
     "execution_count": 244,
     "metadata": {},
     "output_type": "execute_result"
    }
   ],
   "source": [
    "model.wv.most_similar(positive=['beautiful', 'bad'], negative=['stunning'])"
   ]
  },
  {
   "cell_type": "code",
   "execution_count": 195,
   "metadata": {},
   "outputs": [
    {
     "data": {
      "text/plain": [
       "'summer'"
      ]
     },
     "execution_count": 195,
     "metadata": {},
     "output_type": "execute_result"
    }
   ],
   "source": [
    "model.wv.doesnt_match(\"This sweater is perfect for both summer and winter\".split())"
   ]
  },
  {
   "cell_type": "code",
   "execution_count": 241,
   "metadata": {},
   "outputs": [
    {
     "data": {
      "text/plain": [
       "1.024263933300972"
      ]
     },
     "execution_count": 241,
     "metadata": {},
     "output_type": "execute_result"
    }
   ],
   "source": [
    "model.wv.distance('beautiful', 'awful') "
   ]
  },
  {
   "cell_type": "code",
   "execution_count": 237,
   "metadata": {},
   "outputs": [
    {
     "data": {
      "text/plain": [
       "0.7428700625896454"
      ]
     },
     "execution_count": 237,
     "metadata": {},
     "output_type": "execute_result"
    }
   ],
   "source": [
    "model.wv.distance('beautiful', 'stunning') "
   ]
  },
  {
   "cell_type": "code",
   "execution_count": 141,
   "metadata": {},
   "outputs": [
    {
     "data": {
      "text/plain": [
       "{'top': ['shirt', 'louse', 'tank', 'shoulder', 'bar'],\n",
       " 'occasion': ['compliment', '61', 'exclaim', 'companion', '000'],\n",
       " 'dress': ['wedding', 'slip', 'jumpsuit', 'skirt', 'bust'],\n",
       " 'family': ['moving', 'gothic', 'engagement', 'convert', 'antebellum'],\n",
       " 'color': ['shade', 'print', 'colour', 'white', 'pilcros'],\n",
       " 'summer': ['weather', 'spark', 'workhouse', 'anyhow', 'official'],\n",
       " 'beautiful': ['gorgeous', 'love', 'pretty', 'lovely', 'stunning'],\n",
       " 'wear': ['throw', 'zone', 'retailer', 'sunny', 'looooooove']}"
      ]
     },
     "execution_count": 141,
     "metadata": {},
     "output_type": "execute_result"
    }
   ],
   "source": [
    "similar_words = {search_term: [item[0] for item in model.wv.most_similar([search_term], topn=5)]\n",
    "                  for search_term in ['top','occasion','dress', 'family', 'color', 'summer', 'beautiful','wear']}\n",
    "similar_words"
   ]
  },
  {
   "cell_type": "code",
   "execution_count": 235,
   "metadata": {},
   "outputs": [
    {
     "data": {
      "image/png": "[encoded data removed]",
      "text/plain": [
       "<Figure size 1008x576 with 1 Axes>"
      ]
     },
     "metadata": {
      "needs_background": "light"
     },
     "output_type": "display_data"
    }
   ],
   "source": [
    "similar_word_represent(similar_words)"
   ]
  },
  {
   "cell_type": "markdown",
   "metadata": {},
   "source": [
    "## Pipeline for Sentiment Analysis"
   ]
  },
  {
   "cell_type": "code",
   "execution_count": null,
   "metadata": {},
   "outputs": [],
   "source": [
    "class MeanEmbeddingVectorizer(object):\n",
    "    def __init__(self, word2vec):\n",
    "        self.word2vec = word2vec\n",
    "       \n",
    "    def fit(self, X1, y1):\n",
    "        return self\n",
    "\n",
    "    def transform(self, X1):\n",
    "        mean_vec= np.array([\n",
    "            np.mean([self.word2vec[w] for w in words if w in self.word2vec], axis=0)\n",
    "            for words in X1\n",
    "        ])\n",
    "        \n",
    "        #print(X1.shape)\n",
    "        print(mean_vec.shape)\n",
    "        return mean_vec"
   ]
  },
  {
   "cell_type": "code",
   "execution_count": null,
   "metadata": {},
   "outputs": [],
   "source": [
    "classifiers = [\n",
    "    LogisticRegression(),\n",
    "    GaussianNB(),\n",
    "    svm.SVC(),\n",
    "    DecisionTreeClassifier(),\n",
    "    RandomForestClassifier(),\n",
    "    AdaBoostClassifier(),\n",
    "    GradientBoostingClassifier(),\n",
    "    XGBClassifier()\n",
    "    ]\n",
    "f2=[]\n",
    "for classifier in classifiers:\n",
    "    print(classifier)\n",
    "    \n",
    "    word2vec_pipe = Pipeline(steps=[(\"word2vec vectorizer\", MeanEmbeddingVectorizer(model)),\n",
    "                      ('classifier', classifier)])\n",
    "    \n",
    "    word2vec_pipe.fit(w2vX_train, w2vy_train)  \n",
    "    \n",
    "    w2vy_pred = word2vec_pipe.predict(w2vX_test)\n",
    "    F2 = f1_score(w2vy_test, w2vy_pred)\n",
    "    f2.append(F2)\n",
    "    evaluation(w2vy_test, w2vy_pred, w2vX_test, word2vec_pipe)"
   ]
  },
  {
   "cell_type": "markdown",
   "metadata": {},
   "source": [
    "# With Hyperparameter Tuning"
   ]
  },
  {
   "cell_type": "code",
   "execution_count": 36,
   "metadata": {},
   "outputs": [
    {
     "name": "stdout",
     "output_type": "stream",
     "text": [
      "LogisticRegression()\n",
      "\n",
      "Estimator: [{'clf__penalty': ['l1', 'l2'], 'clf__C': [1.0, 0.5], 'clf__solver': ['liblinear']}]\n"
     ]
    },
    {
     "name": "stderr",
     "output_type": "stream",
     "text": [
      "<ipython-input-34-72bfc365a3f2>:14: DeprecationWarning: Call to deprecated `__contains__` (Method will be removed in 4.0.0, use self.wv.__contains__() instead).\n",
      "  np.mean([self.word2vec[w] for w in words if w in self.word2vec], axis=0)\n",
      "<ipython-input-34-72bfc365a3f2>:14: DeprecationWarning: Call to deprecated `__getitem__` (Method will be removed in 4.0.0, use self.wv.__getitem__() instead).\n",
      "  np.mean([self.word2vec[w] for w in words if w in self.word2vec], axis=0)\n"
     ]
    },
    {
     "name": "stdout",
     "output_type": "stream",
     "text": [
      "(16301,)\n",
      "(16301, 550)\n"
     ]
    },
    {
     "name": "stderr",
     "output_type": "stream",
     "text": [
      "<ipython-input-34-72bfc365a3f2>:14: DeprecationWarning: Call to deprecated `__contains__` (Method will be removed in 4.0.0, use self.wv.__contains__() instead).\n",
      "  np.mean([self.word2vec[w] for w in words if w in self.word2vec], axis=0)\n",
      "<ipython-input-34-72bfc365a3f2>:14: DeprecationWarning: Call to deprecated `__getitem__` (Method will be removed in 4.0.0, use self.wv.__getitem__() instead).\n",
      "  np.mean([self.word2vec[w] for w in words if w in self.word2vec], axis=0)\n"
     ]
    },
    {
     "name": "stdout",
     "output_type": "stream",
     "text": [
      "(1812,)\n",
      "(1812, 550)\n"
     ]
    },
    {
     "name": "stderr",
     "output_type": "stream",
     "text": [
      "<ipython-input-34-72bfc365a3f2>:14: DeprecationWarning: Call to deprecated `__contains__` (Method will be removed in 4.0.0, use self.wv.__contains__() instead).\n",
      "  np.mean([self.word2vec[w] for w in words if w in self.word2vec], axis=0)\n",
      "<ipython-input-34-72bfc365a3f2>:14: DeprecationWarning: Call to deprecated `__getitem__` (Method will be removed in 4.0.0, use self.wv.__getitem__() instead).\n",
      "  np.mean([self.word2vec[w] for w in words if w in self.word2vec], axis=0)\n"
     ]
    },
    {
     "name": "stdout",
     "output_type": "stream",
     "text": [
      "(16301,)\n",
      "(16301, 550)\n"
     ]
    },
    {
     "name": "stderr",
     "output_type": "stream",
     "text": [
      "<ipython-input-34-72bfc365a3f2>:14: DeprecationWarning: Call to deprecated `__contains__` (Method will be removed in 4.0.0, use self.wv.__contains__() instead).\n",
      "  np.mean([self.word2vec[w] for w in words if w in self.word2vec], axis=0)\n",
      "<ipython-input-34-72bfc365a3f2>:14: DeprecationWarning: Call to deprecated `__getitem__` (Method will be removed in 4.0.0, use self.wv.__getitem__() instead).\n",
      "  np.mean([self.word2vec[w] for w in words if w in self.word2vec], axis=0)\n"
     ]
    },
    {
     "name": "stdout",
     "output_type": "stream",
     "text": [
      "(1812,)\n",
      "(1812, 550)\n"
     ]
    },
    {
     "name": "stderr",
     "output_type": "stream",
     "text": [
      "<ipython-input-34-72bfc365a3f2>:14: DeprecationWarning: Call to deprecated `__contains__` (Method will be removed in 4.0.0, use self.wv.__contains__() instead).\n",
      "  np.mean([self.word2vec[w] for w in words if w in self.word2vec], axis=0)\n",
      "<ipython-input-34-72bfc365a3f2>:14: DeprecationWarning: Call to deprecated `__getitem__` (Method will be removed in 4.0.0, use self.wv.__getitem__() instead).\n",
      "  np.mean([self.word2vec[w] for w in words if w in self.word2vec], axis=0)\n"
     ]
    },
    {
     "name": "stdout",
     "output_type": "stream",
     "text": [
      "(16301,)\n",
      "(16301, 550)\n"
     ]
    },
    {
     "name": "stderr",
     "output_type": "stream",
     "text": [
      "<ipython-input-34-72bfc365a3f2>:14: DeprecationWarning: Call to deprecated `__contains__` (Method will be removed in 4.0.0, use self.wv.__contains__() instead).\n",
      "  np.mean([self.word2vec[w] for w in words if w in self.word2vec], axis=0)\n",
      "<ipython-input-34-72bfc365a3f2>:14: DeprecationWarning: Call to deprecated `__getitem__` (Method will be removed in 4.0.0, use self.wv.__getitem__() instead).\n",
      "  np.mean([self.word2vec[w] for w in words if w in self.word2vec], axis=0)\n"
     ]
    },
    {
     "name": "stdout",
     "output_type": "stream",
     "text": [
      "(1812,)\n",
      "(1812, 550)\n"
     ]
    },
    {
     "name": "stderr",
     "output_type": "stream",
     "text": [
      "<ipython-input-34-72bfc365a3f2>:14: DeprecationWarning: Call to deprecated `__contains__` (Method will be removed in 4.0.0, use self.wv.__contains__() instead).\n",
      "  np.mean([self.word2vec[w] for w in words if w in self.word2vec], axis=0)\n",
      "<ipython-input-34-72bfc365a3f2>:14: DeprecationWarning: Call to deprecated `__getitem__` (Method will be removed in 4.0.0, use self.wv.__getitem__() instead).\n",
      "  np.mean([self.word2vec[w] for w in words if w in self.word2vec], axis=0)\n"
     ]
    },
    {
     "name": "stdout",
     "output_type": "stream",
     "text": [
      "(16302,)\n",
      "(16302, 550)\n"
     ]
    },
    {
     "name": "stderr",
     "output_type": "stream",
     "text": [
      "<ipython-input-34-72bfc365a3f2>:14: DeprecationWarning: Call to deprecated `__contains__` (Method will be removed in 4.0.0, use self.wv.__contains__() instead).\n",
      "  np.mean([self.word2vec[w] for w in words if w in self.word2vec], axis=0)\n",
      "<ipython-input-34-72bfc365a3f2>:14: DeprecationWarning: Call to deprecated `__getitem__` (Method will be removed in 4.0.0, use self.wv.__getitem__() instead).\n",
      "  np.mean([self.word2vec[w] for w in words if w in self.word2vec], axis=0)\n"
     ]
    },
    {
     "name": "stdout",
     "output_type": "stream",
     "text": [
      "(1811,)\n",
      "(1811, 550)\n"
     ]
    },
    {
     "name": "stderr",
     "output_type": "stream",
     "text": [
      "<ipython-input-34-72bfc365a3f2>:14: DeprecationWarning: Call to deprecated `__contains__` (Method will be removed in 4.0.0, use self.wv.__contains__() instead).\n",
      "  np.mean([self.word2vec[w] for w in words if w in self.word2vec], axis=0)\n",
      "<ipython-input-34-72bfc365a3f2>:14: DeprecationWarning: Call to deprecated `__getitem__` (Method will be removed in 4.0.0, use self.wv.__getitem__() instead).\n",
      "  np.mean([self.word2vec[w] for w in words if w in self.word2vec], axis=0)\n"
     ]
    },
    {
     "name": "stdout",
     "output_type": "stream",
     "text": [
      "(16302,)\n",
      "(16302, 550)\n"
     ]
    },
    {
     "name": "stderr",
     "output_type": "stream",
     "text": [
      "<ipython-input-34-72bfc365a3f2>:14: DeprecationWarning: Call to deprecated `__contains__` (Method will be removed in 4.0.0, use self.wv.__contains__() instead).\n",
      "  np.mean([self.word2vec[w] for w in words if w in self.word2vec], axis=0)\n",
      "<ipython-input-34-72bfc365a3f2>:14: DeprecationWarning: Call to deprecated `__getitem__` (Method will be removed in 4.0.0, use self.wv.__getitem__() instead).\n",
      "  np.mean([self.word2vec[w] for w in words if w in self.word2vec], axis=0)\n"
     ]
    },
    {
     "name": "stdout",
     "output_type": "stream",
     "text": [
      "(1811,)\n",
      "(1811, 550)\n"
     ]
    },
    {
     "name": "stderr",
     "output_type": "stream",
     "text": [
      "<ipython-input-34-72bfc365a3f2>:14: DeprecationWarning: Call to deprecated `__contains__` (Method will be removed in 4.0.0, use self.wv.__contains__() instead).\n",
      "  np.mean([self.word2vec[w] for w in words if w in self.word2vec], axis=0)\n",
      "<ipython-input-34-72bfc365a3f2>:14: DeprecationWarning: Call to deprecated `__getitem__` (Method will be removed in 4.0.0, use self.wv.__getitem__() instead).\n",
      "  np.mean([self.word2vec[w] for w in words if w in self.word2vec], axis=0)\n"
     ]
    },
    {
     "name": "stdout",
     "output_type": "stream",
     "text": [
      "(16302,)\n",
      "(16302, 550)\n"
     ]
    },
    {
     "name": "stderr",
     "output_type": "stream",
     "text": [
      "<ipython-input-34-72bfc365a3f2>:14: DeprecationWarning: Call to deprecated `__contains__` (Method will be removed in 4.0.0, use self.wv.__contains__() instead).\n",
      "  np.mean([self.word2vec[w] for w in words if w in self.word2vec], axis=0)\n",
      "<ipython-input-34-72bfc365a3f2>:14: DeprecationWarning: Call to deprecated `__getitem__` (Method will be removed in 4.0.0, use self.wv.__getitem__() instead).\n",
      "  np.mean([self.word2vec[w] for w in words if w in self.word2vec], axis=0)\n"
     ]
    },
    {
     "name": "stdout",
     "output_type": "stream",
     "text": [
      "(1811,)\n",
      "(1811, 550)\n"
     ]
    },
    {
     "name": "stderr",
     "output_type": "stream",
     "text": [
      "<ipython-input-34-72bfc365a3f2>:14: DeprecationWarning: Call to deprecated `__contains__` (Method will be removed in 4.0.0, use self.wv.__contains__() instead).\n",
      "  np.mean([self.word2vec[w] for w in words if w in self.word2vec], axis=0)\n",
      "<ipython-input-34-72bfc365a3f2>:14: DeprecationWarning: Call to deprecated `__getitem__` (Method will be removed in 4.0.0, use self.wv.__getitem__() instead).\n",
      "  np.mean([self.word2vec[w] for w in words if w in self.word2vec], axis=0)\n"
     ]
    },
    {
     "name": "stdout",
     "output_type": "stream",
     "text": [
      "(16302,)\n",
      "(16302, 550)\n"
     ]
    },
    {
     "name": "stderr",
     "output_type": "stream",
     "text": [
      "<ipython-input-34-72bfc365a3f2>:14: DeprecationWarning: Call to deprecated `__contains__` (Method will be removed in 4.0.0, use self.wv.__contains__() instead).\n",
      "  np.mean([self.word2vec[w] for w in words if w in self.word2vec], axis=0)\n",
      "<ipython-input-34-72bfc365a3f2>:14: DeprecationWarning: Call to deprecated `__getitem__` (Method will be removed in 4.0.0, use self.wv.__getitem__() instead).\n",
      "  np.mean([self.word2vec[w] for w in words if w in self.word2vec], axis=0)\n"
     ]
    },
    {
     "name": "stdout",
     "output_type": "stream",
     "text": [
      "(1811,)\n",
      "(1811, 550)\n"
     ]
    },
    {
     "name": "stderr",
     "output_type": "stream",
     "text": [
      "<ipython-input-34-72bfc365a3f2>:14: DeprecationWarning: Call to deprecated `__contains__` (Method will be removed in 4.0.0, use self.wv.__contains__() instead).\n",
      "  np.mean([self.word2vec[w] for w in words if w in self.word2vec], axis=0)\n",
      "<ipython-input-34-72bfc365a3f2>:14: DeprecationWarning: Call to deprecated `__getitem__` (Method will be removed in 4.0.0, use self.wv.__getitem__() instead).\n",
      "  np.mean([self.word2vec[w] for w in words if w in self.word2vec], axis=0)\n"
     ]
    },
    {
     "name": "stdout",
     "output_type": "stream",
     "text": [
      "(16302,)\n",
      "(16302, 550)\n"
     ]
    },
    {
     "name": "stderr",
     "output_type": "stream",
     "text": [
      "<ipython-input-34-72bfc365a3f2>:14: DeprecationWarning: Call to deprecated `__contains__` (Method will be removed in 4.0.0, use self.wv.__contains__() instead).\n",
      "  np.mean([self.word2vec[w] for w in words if w in self.word2vec], axis=0)\n",
      "<ipython-input-34-72bfc365a3f2>:14: DeprecationWarning: Call to deprecated `__getitem__` (Method will be removed in 4.0.0, use self.wv.__getitem__() instead).\n",
      "  np.mean([self.word2vec[w] for w in words if w in self.word2vec], axis=0)\n"
     ]
    },
    {
     "name": "stdout",
     "output_type": "stream",
     "text": [
      "(1811,)\n",
      "(1811, 550)\n"
     ]
    },
    {
     "name": "stderr",
     "output_type": "stream",
     "text": [
      "<ipython-input-34-72bfc365a3f2>:14: DeprecationWarning: Call to deprecated `__contains__` (Method will be removed in 4.0.0, use self.wv.__contains__() instead).\n",
      "  np.mean([self.word2vec[w] for w in words if w in self.word2vec], axis=0)\n",
      "<ipython-input-34-72bfc365a3f2>:14: DeprecationWarning: Call to deprecated `__getitem__` (Method will be removed in 4.0.0, use self.wv.__getitem__() instead).\n",
      "  np.mean([self.word2vec[w] for w in words if w in self.word2vec], axis=0)\n"
     ]
    },
    {
     "name": "stdout",
     "output_type": "stream",
     "text": [
      "(16302,)\n",
      "(16302, 550)\n"
     ]
    },
    {
     "name": "stderr",
     "output_type": "stream",
     "text": [
      "<ipython-input-34-72bfc365a3f2>:14: DeprecationWarning: Call to deprecated `__contains__` (Method will be removed in 4.0.0, use self.wv.__contains__() instead).\n",
      "  np.mean([self.word2vec[w] for w in words if w in self.word2vec], axis=0)\n",
      "<ipython-input-34-72bfc365a3f2>:14: DeprecationWarning: Call to deprecated `__getitem__` (Method will be removed in 4.0.0, use self.wv.__getitem__() instead).\n",
      "  np.mean([self.word2vec[w] for w in words if w in self.word2vec], axis=0)\n"
     ]
    },
    {
     "name": "stdout",
     "output_type": "stream",
     "text": [
      "(1811,)\n",
      "(1811, 550)\n"
     ]
    },
    {
     "name": "stderr",
     "output_type": "stream",
     "text": [
      "<ipython-input-34-72bfc365a3f2>:14: DeprecationWarning: Call to deprecated `__contains__` (Method will be removed in 4.0.0, use self.wv.__contains__() instead).\n",
      "  np.mean([self.word2vec[w] for w in words if w in self.word2vec], axis=0)\n",
      "<ipython-input-34-72bfc365a3f2>:14: DeprecationWarning: Call to deprecated `__getitem__` (Method will be removed in 4.0.0, use self.wv.__getitem__() instead).\n",
      "  np.mean([self.word2vec[w] for w in words if w in self.word2vec], axis=0)\n"
     ]
    },
    {
     "name": "stdout",
     "output_type": "stream",
     "text": [
      "(16302,)\n",
      "(16302, 550)\n"
     ]
    },
    {
     "name": "stderr",
     "output_type": "stream",
     "text": [
      "<ipython-input-34-72bfc365a3f2>:14: DeprecationWarning: Call to deprecated `__contains__` (Method will be removed in 4.0.0, use self.wv.__contains__() instead).\n",
      "  np.mean([self.word2vec[w] for w in words if w in self.word2vec], axis=0)\n",
      "<ipython-input-34-72bfc365a3f2>:14: DeprecationWarning: Call to deprecated `__getitem__` (Method will be removed in 4.0.0, use self.wv.__getitem__() instead).\n",
      "  np.mean([self.word2vec[w] for w in words if w in self.word2vec], axis=0)\n"
     ]
    },
    {
     "name": "stdout",
     "output_type": "stream",
     "text": [
      "(1811,)\n",
      "(1811, 550)\n"
     ]
    },
    {
     "name": "stderr",
     "output_type": "stream",
     "text": [
      "<ipython-input-34-72bfc365a3f2>:14: DeprecationWarning: Call to deprecated `__contains__` (Method will be removed in 4.0.0, use self.wv.__contains__() instead).\n",
      "  np.mean([self.word2vec[w] for w in words if w in self.word2vec], axis=0)\n",
      "<ipython-input-34-72bfc365a3f2>:14: DeprecationWarning: Call to deprecated `__getitem__` (Method will be removed in 4.0.0, use self.wv.__getitem__() instead).\n",
      "  np.mean([self.word2vec[w] for w in words if w in self.word2vec], axis=0)\n"
     ]
    },
    {
     "name": "stdout",
     "output_type": "stream",
     "text": [
      "(16301,)\n",
      "(16301, 550)\n"
     ]
    },
    {
     "name": "stderr",
     "output_type": "stream",
     "text": [
      "<ipython-input-34-72bfc365a3f2>:14: DeprecationWarning: Call to deprecated `__contains__` (Method will be removed in 4.0.0, use self.wv.__contains__() instead).\n",
      "  np.mean([self.word2vec[w] for w in words if w in self.word2vec], axis=0)\n",
      "<ipython-input-34-72bfc365a3f2>:14: DeprecationWarning: Call to deprecated `__getitem__` (Method will be removed in 4.0.0, use self.wv.__getitem__() instead).\n",
      "  np.mean([self.word2vec[w] for w in words if w in self.word2vec], axis=0)\n"
     ]
    },
    {
     "name": "stdout",
     "output_type": "stream",
     "text": [
      "(1812,)\n",
      "(1812, 550)\n"
     ]
    },
    {
     "name": "stderr",
     "output_type": "stream",
     "text": [
      "<ipython-input-34-72bfc365a3f2>:14: DeprecationWarning: Call to deprecated `__contains__` (Method will be removed in 4.0.0, use self.wv.__contains__() instead).\n",
      "  np.mean([self.word2vec[w] for w in words if w in self.word2vec], axis=0)\n",
      "<ipython-input-34-72bfc365a3f2>:14: DeprecationWarning: Call to deprecated `__getitem__` (Method will be removed in 4.0.0, use self.wv.__getitem__() instead).\n",
      "  np.mean([self.word2vec[w] for w in words if w in self.word2vec], axis=0)\n"
     ]
    },
    {
     "name": "stdout",
     "output_type": "stream",
     "text": [
      "(16301,)\n",
      "(16301, 550)\n"
     ]
    },
    {
     "name": "stderr",
     "output_type": "stream",
     "text": [
      "<ipython-input-34-72bfc365a3f2>:14: DeprecationWarning: Call to deprecated `__contains__` (Method will be removed in 4.0.0, use self.wv.__contains__() instead).\n",
      "  np.mean([self.word2vec[w] for w in words if w in self.word2vec], axis=0)\n",
      "<ipython-input-34-72bfc365a3f2>:14: DeprecationWarning: Call to deprecated `__getitem__` (Method will be removed in 4.0.0, use self.wv.__getitem__() instead).\n",
      "  np.mean([self.word2vec[w] for w in words if w in self.word2vec], axis=0)\n"
     ]
    },
    {
     "name": "stdout",
     "output_type": "stream",
     "text": [
      "(1812,)\n",
      "(1812, 550)\n"
     ]
    },
    {
     "name": "stderr",
     "output_type": "stream",
     "text": [
      "<ipython-input-34-72bfc365a3f2>:14: DeprecationWarning: Call to deprecated `__contains__` (Method will be removed in 4.0.0, use self.wv.__contains__() instead).\n",
      "  np.mean([self.word2vec[w] for w in words if w in self.word2vec], axis=0)\n",
      "<ipython-input-34-72bfc365a3f2>:14: DeprecationWarning: Call to deprecated `__getitem__` (Method will be removed in 4.0.0, use self.wv.__getitem__() instead).\n",
      "  np.mean([self.word2vec[w] for w in words if w in self.word2vec], axis=0)\n"
     ]
    },
    {
     "name": "stdout",
     "output_type": "stream",
     "text": [
      "(16301,)\n",
      "(16301, 550)\n"
     ]
    },
    {
     "name": "stderr",
     "output_type": "stream",
     "text": [
      "<ipython-input-34-72bfc365a3f2>:14: DeprecationWarning: Call to deprecated `__contains__` (Method will be removed in 4.0.0, use self.wv.__contains__() instead).\n",
      "  np.mean([self.word2vec[w] for w in words if w in self.word2vec], axis=0)\n",
      "<ipython-input-34-72bfc365a3f2>:14: DeprecationWarning: Call to deprecated `__getitem__` (Method will be removed in 4.0.0, use self.wv.__getitem__() instead).\n",
      "  np.mean([self.word2vec[w] for w in words if w in self.word2vec], axis=0)\n"
     ]
    },
    {
     "name": "stdout",
     "output_type": "stream",
     "text": [
      "(1812,)\n",
      "(1812, 550)\n"
     ]
    },
    {
     "name": "stderr",
     "output_type": "stream",
     "text": [
      "<ipython-input-34-72bfc365a3f2>:14: DeprecationWarning: Call to deprecated `__contains__` (Method will be removed in 4.0.0, use self.wv.__contains__() instead).\n",
      "  np.mean([self.word2vec[w] for w in words if w in self.word2vec], axis=0)\n",
      "<ipython-input-34-72bfc365a3f2>:14: DeprecationWarning: Call to deprecated `__getitem__` (Method will be removed in 4.0.0, use self.wv.__getitem__() instead).\n",
      "  np.mean([self.word2vec[w] for w in words if w in self.word2vec], axis=0)\n"
     ]
    },
    {
     "name": "stdout",
     "output_type": "stream",
     "text": [
      "(16302,)\n",
      "(16302, 550)\n"
     ]
    },
    {
     "name": "stderr",
     "output_type": "stream",
     "text": [
      "<ipython-input-34-72bfc365a3f2>:14: DeprecationWarning: Call to deprecated `__contains__` (Method will be removed in 4.0.0, use self.wv.__contains__() instead).\n",
      "  np.mean([self.word2vec[w] for w in words if w in self.word2vec], axis=0)\n",
      "<ipython-input-34-72bfc365a3f2>:14: DeprecationWarning: Call to deprecated `__getitem__` (Method will be removed in 4.0.0, use self.wv.__getitem__() instead).\n",
      "  np.mean([self.word2vec[w] for w in words if w in self.word2vec], axis=0)\n"
     ]
    },
    {
     "name": "stdout",
     "output_type": "stream",
     "text": [
      "(1811,)\n",
      "(1811, 550)\n"
     ]
    },
    {
     "name": "stderr",
     "output_type": "stream",
     "text": [
      "<ipython-input-34-72bfc365a3f2>:14: DeprecationWarning: Call to deprecated `__contains__` (Method will be removed in 4.0.0, use self.wv.__contains__() instead).\n",
      "  np.mean([self.word2vec[w] for w in words if w in self.word2vec], axis=0)\n",
      "<ipython-input-34-72bfc365a3f2>:14: DeprecationWarning: Call to deprecated `__getitem__` (Method will be removed in 4.0.0, use self.wv.__getitem__() instead).\n",
      "  np.mean([self.word2vec[w] for w in words if w in self.word2vec], axis=0)\n"
     ]
    },
    {
     "name": "stdout",
     "output_type": "stream",
     "text": [
      "(16302,)\n",
      "(16302, 550)\n"
     ]
    },
    {
     "name": "stderr",
     "output_type": "stream",
     "text": [
      "<ipython-input-34-72bfc365a3f2>:14: DeprecationWarning: Call to deprecated `__contains__` (Method will be removed in 4.0.0, use self.wv.__contains__() instead).\n",
      "  np.mean([self.word2vec[w] for w in words if w in self.word2vec], axis=0)\n",
      "<ipython-input-34-72bfc365a3f2>:14: DeprecationWarning: Call to deprecated `__getitem__` (Method will be removed in 4.0.0, use self.wv.__getitem__() instead).\n",
      "  np.mean([self.word2vec[w] for w in words if w in self.word2vec], axis=0)\n"
     ]
    },
    {
     "name": "stdout",
     "output_type": "stream",
     "text": [
      "(1811,)\n",
      "(1811, 550)\n"
     ]
    },
    {
     "name": "stderr",
     "output_type": "stream",
     "text": [
      "<ipython-input-34-72bfc365a3f2>:14: DeprecationWarning: Call to deprecated `__contains__` (Method will be removed in 4.0.0, use self.wv.__contains__() instead).\n",
      "  np.mean([self.word2vec[w] for w in words if w in self.word2vec], axis=0)\n",
      "<ipython-input-34-72bfc365a3f2>:14: DeprecationWarning: Call to deprecated `__getitem__` (Method will be removed in 4.0.0, use self.wv.__getitem__() instead).\n",
      "  np.mean([self.word2vec[w] for w in words if w in self.word2vec], axis=0)\n"
     ]
    },
    {
     "name": "stdout",
     "output_type": "stream",
     "text": [
      "(16302,)\n",
      "(16302, 550)\n"
     ]
    },
    {
     "name": "stderr",
     "output_type": "stream",
     "text": [
      "<ipython-input-34-72bfc365a3f2>:14: DeprecationWarning: Call to deprecated `__contains__` (Method will be removed in 4.0.0, use self.wv.__contains__() instead).\n",
      "  np.mean([self.word2vec[w] for w in words if w in self.word2vec], axis=0)\n",
      "<ipython-input-34-72bfc365a3f2>:14: DeprecationWarning: Call to deprecated `__getitem__` (Method will be removed in 4.0.0, use self.wv.__getitem__() instead).\n",
      "  np.mean([self.word2vec[w] for w in words if w in self.word2vec], axis=0)\n"
     ]
    },
    {
     "name": "stdout",
     "output_type": "stream",
     "text": [
      "(1811,)\n",
      "(1811, 550)\n"
     ]
    },
    {
     "name": "stderr",
     "output_type": "stream",
     "text": [
      "<ipython-input-34-72bfc365a3f2>:14: DeprecationWarning: Call to deprecated `__contains__` (Method will be removed in 4.0.0, use self.wv.__contains__() instead).\n",
      "  np.mean([self.word2vec[w] for w in words if w in self.word2vec], axis=0)\n",
      "<ipython-input-34-72bfc365a3f2>:14: DeprecationWarning: Call to deprecated `__getitem__` (Method will be removed in 4.0.0, use self.wv.__getitem__() instead).\n",
      "  np.mean([self.word2vec[w] for w in words if w in self.word2vec], axis=0)\n"
     ]
    },
    {
     "name": "stdout",
     "output_type": "stream",
     "text": [
      "(16302,)\n",
      "(16302, 550)\n"
     ]
    },
    {
     "name": "stderr",
     "output_type": "stream",
     "text": [
      "<ipython-input-34-72bfc365a3f2>:14: DeprecationWarning: Call to deprecated `__contains__` (Method will be removed in 4.0.0, use self.wv.__contains__() instead).\n",
      "  np.mean([self.word2vec[w] for w in words if w in self.word2vec], axis=0)\n",
      "<ipython-input-34-72bfc365a3f2>:14: DeprecationWarning: Call to deprecated `__getitem__` (Method will be removed in 4.0.0, use self.wv.__getitem__() instead).\n",
      "  np.mean([self.word2vec[w] for w in words if w in self.word2vec], axis=0)\n"
     ]
    },
    {
     "name": "stdout",
     "output_type": "stream",
     "text": [
      "(1811,)\n",
      "(1811, 550)\n"
     ]
    },
    {
     "name": "stderr",
     "output_type": "stream",
     "text": [
      "<ipython-input-34-72bfc365a3f2>:14: DeprecationWarning: Call to deprecated `__contains__` (Method will be removed in 4.0.0, use self.wv.__contains__() instead).\n",
      "  np.mean([self.word2vec[w] for w in words if w in self.word2vec], axis=0)\n",
      "<ipython-input-34-72bfc365a3f2>:14: DeprecationWarning: Call to deprecated `__getitem__` (Method will be removed in 4.0.0, use self.wv.__getitem__() instead).\n",
      "  np.mean([self.word2vec[w] for w in words if w in self.word2vec], axis=0)\n"
     ]
    },
    {
     "name": "stdout",
     "output_type": "stream",
     "text": [
      "(16302,)\n",
      "(16302, 550)\n"
     ]
    },
    {
     "name": "stderr",
     "output_type": "stream",
     "text": [
      "<ipython-input-34-72bfc365a3f2>:14: DeprecationWarning: Call to deprecated `__contains__` (Method will be removed in 4.0.0, use self.wv.__contains__() instead).\n",
      "  np.mean([self.word2vec[w] for w in words if w in self.word2vec], axis=0)\n",
      "<ipython-input-34-72bfc365a3f2>:14: DeprecationWarning: Call to deprecated `__getitem__` (Method will be removed in 4.0.0, use self.wv.__getitem__() instead).\n",
      "  np.mean([self.word2vec[w] for w in words if w in self.word2vec], axis=0)\n"
     ]
    },
    {
     "name": "stdout",
     "output_type": "stream",
     "text": [
      "(1811,)\n",
      "(1811, 550)\n"
     ]
    },
    {
     "name": "stderr",
     "output_type": "stream",
     "text": [
      "<ipython-input-34-72bfc365a3f2>:14: DeprecationWarning: Call to deprecated `__contains__` (Method will be removed in 4.0.0, use self.wv.__contains__() instead).\n",
      "  np.mean([self.word2vec[w] for w in words if w in self.word2vec], axis=0)\n",
      "<ipython-input-34-72bfc365a3f2>:14: DeprecationWarning: Call to deprecated `__getitem__` (Method will be removed in 4.0.0, use self.wv.__getitem__() instead).\n",
      "  np.mean([self.word2vec[w] for w in words if w in self.word2vec], axis=0)\n"
     ]
    },
    {
     "name": "stdout",
     "output_type": "stream",
     "text": [
      "(16302,)\n",
      "(16302, 550)\n"
     ]
    },
    {
     "name": "stderr",
     "output_type": "stream",
     "text": [
      "<ipython-input-34-72bfc365a3f2>:14: DeprecationWarning: Call to deprecated `__contains__` (Method will be removed in 4.0.0, use self.wv.__contains__() instead).\n",
      "  np.mean([self.word2vec[w] for w in words if w in self.word2vec], axis=0)\n",
      "<ipython-input-34-72bfc365a3f2>:14: DeprecationWarning: Call to deprecated `__getitem__` (Method will be removed in 4.0.0, use self.wv.__getitem__() instead).\n",
      "  np.mean([self.word2vec[w] for w in words if w in self.word2vec], axis=0)\n"
     ]
    },
    {
     "name": "stdout",
     "output_type": "stream",
     "text": [
      "(1811,)\n",
      "(1811, 550)\n"
     ]
    },
    {
     "name": "stderr",
     "output_type": "stream",
     "text": [
      "<ipython-input-34-72bfc365a3f2>:14: DeprecationWarning: Call to deprecated `__contains__` (Method will be removed in 4.0.0, use self.wv.__contains__() instead).\n",
      "  np.mean([self.word2vec[w] for w in words if w in self.word2vec], axis=0)\n",
      "<ipython-input-34-72bfc365a3f2>:14: DeprecationWarning: Call to deprecated `__getitem__` (Method will be removed in 4.0.0, use self.wv.__getitem__() instead).\n",
      "  np.mean([self.word2vec[w] for w in words if w in self.word2vec], axis=0)\n"
     ]
    },
    {
     "name": "stdout",
     "output_type": "stream",
     "text": [
      "(16302,)\n",
      "(16302, 550)\n"
     ]
    },
    {
     "name": "stderr",
     "output_type": "stream",
     "text": [
      "<ipython-input-34-72bfc365a3f2>:14: DeprecationWarning: Call to deprecated `__contains__` (Method will be removed in 4.0.0, use self.wv.__contains__() instead).\n",
      "  np.mean([self.word2vec[w] for w in words if w in self.word2vec], axis=0)\n",
      "<ipython-input-34-72bfc365a3f2>:14: DeprecationWarning: Call to deprecated `__getitem__` (Method will be removed in 4.0.0, use self.wv.__getitem__() instead).\n",
      "  np.mean([self.word2vec[w] for w in words if w in self.word2vec], axis=0)\n"
     ]
    },
    {
     "name": "stdout",
     "output_type": "stream",
     "text": [
      "(1811,)\n",
      "(1811, 550)\n"
     ]
    },
    {
     "name": "stderr",
     "output_type": "stream",
     "text": [
      "<ipython-input-34-72bfc365a3f2>:14: DeprecationWarning: Call to deprecated `__contains__` (Method will be removed in 4.0.0, use self.wv.__contains__() instead).\n",
      "  np.mean([self.word2vec[w] for w in words if w in self.word2vec], axis=0)\n",
      "<ipython-input-34-72bfc365a3f2>:14: DeprecationWarning: Call to deprecated `__getitem__` (Method will be removed in 4.0.0, use self.wv.__getitem__() instead).\n",
      "  np.mean([self.word2vec[w] for w in words if w in self.word2vec], axis=0)\n"
     ]
    },
    {
     "name": "stdout",
     "output_type": "stream",
     "text": [
      "(16301,)\n",
      "(16301, 550)\n"
     ]
    },
    {
     "name": "stderr",
     "output_type": "stream",
     "text": [
      "<ipython-input-34-72bfc365a3f2>:14: DeprecationWarning: Call to deprecated `__contains__` (Method will be removed in 4.0.0, use self.wv.__contains__() instead).\n",
      "  np.mean([self.word2vec[w] for w in words if w in self.word2vec], axis=0)\n",
      "<ipython-input-34-72bfc365a3f2>:14: DeprecationWarning: Call to deprecated `__getitem__` (Method will be removed in 4.0.0, use self.wv.__getitem__() instead).\n",
      "  np.mean([self.word2vec[w] for w in words if w in self.word2vec], axis=0)\n"
     ]
    },
    {
     "name": "stdout",
     "output_type": "stream",
     "text": [
      "(1812,)\n",
      "(1812, 550)\n"
     ]
    },
    {
     "name": "stderr",
     "output_type": "stream",
     "text": [
      "<ipython-input-34-72bfc365a3f2>:14: DeprecationWarning: Call to deprecated `__contains__` (Method will be removed in 4.0.0, use self.wv.__contains__() instead).\n",
      "  np.mean([self.word2vec[w] for w in words if w in self.word2vec], axis=0)\n",
      "<ipython-input-34-72bfc365a3f2>:14: DeprecationWarning: Call to deprecated `__getitem__` (Method will be removed in 4.0.0, use self.wv.__getitem__() instead).\n",
      "  np.mean([self.word2vec[w] for w in words if w in self.word2vec], axis=0)\n"
     ]
    },
    {
     "name": "stdout",
     "output_type": "stream",
     "text": [
      "(16301,)\n",
      "(16301, 550)\n"
     ]
    },
    {
     "name": "stderr",
     "output_type": "stream",
     "text": [
      "<ipython-input-34-72bfc365a3f2>:14: DeprecationWarning: Call to deprecated `__contains__` (Method will be removed in 4.0.0, use self.wv.__contains__() instead).\n",
      "  np.mean([self.word2vec[w] for w in words if w in self.word2vec], axis=0)\n",
      "<ipython-input-34-72bfc365a3f2>:14: DeprecationWarning: Call to deprecated `__getitem__` (Method will be removed in 4.0.0, use self.wv.__getitem__() instead).\n",
      "  np.mean([self.word2vec[w] for w in words if w in self.word2vec], axis=0)\n"
     ]
    },
    {
     "name": "stdout",
     "output_type": "stream",
     "text": [
      "(1812,)\n",
      "(1812, 550)\n"
     ]
    },
    {
     "name": "stderr",
     "output_type": "stream",
     "text": [
      "<ipython-input-34-72bfc365a3f2>:14: DeprecationWarning: Call to deprecated `__contains__` (Method will be removed in 4.0.0, use self.wv.__contains__() instead).\n",
      "  np.mean([self.word2vec[w] for w in words if w in self.word2vec], axis=0)\n",
      "<ipython-input-34-72bfc365a3f2>:14: DeprecationWarning: Call to deprecated `__getitem__` (Method will be removed in 4.0.0, use self.wv.__getitem__() instead).\n",
      "  np.mean([self.word2vec[w] for w in words if w in self.word2vec], axis=0)\n"
     ]
    },
    {
     "name": "stdout",
     "output_type": "stream",
     "text": [
      "(16301,)\n",
      "(16301, 550)\n"
     ]
    },
    {
     "name": "stderr",
     "output_type": "stream",
     "text": [
      "<ipython-input-34-72bfc365a3f2>:14: DeprecationWarning: Call to deprecated `__contains__` (Method will be removed in 4.0.0, use self.wv.__contains__() instead).\n",
      "  np.mean([self.word2vec[w] for w in words if w in self.word2vec], axis=0)\n",
      "<ipython-input-34-72bfc365a3f2>:14: DeprecationWarning: Call to deprecated `__getitem__` (Method will be removed in 4.0.0, use self.wv.__getitem__() instead).\n",
      "  np.mean([self.word2vec[w] for w in words if w in self.word2vec], axis=0)\n"
     ]
    },
    {
     "name": "stdout",
     "output_type": "stream",
     "text": [
      "(1812,)\n",
      "(1812, 550)\n"
     ]
    },
    {
     "name": "stderr",
     "output_type": "stream",
     "text": [
      "<ipython-input-34-72bfc365a3f2>:14: DeprecationWarning: Call to deprecated `__contains__` (Method will be removed in 4.0.0, use self.wv.__contains__() instead).\n",
      "  np.mean([self.word2vec[w] for w in words if w in self.word2vec], axis=0)\n",
      "<ipython-input-34-72bfc365a3f2>:14: DeprecationWarning: Call to deprecated `__getitem__` (Method will be removed in 4.0.0, use self.wv.__getitem__() instead).\n",
      "  np.mean([self.word2vec[w] for w in words if w in self.word2vec], axis=0)\n"
     ]
    },
    {
     "name": "stdout",
     "output_type": "stream",
     "text": [
      "(16302,)\n",
      "(16302, 550)\n"
     ]
    },
    {
     "name": "stderr",
     "output_type": "stream",
     "text": [
      "<ipython-input-34-72bfc365a3f2>:14: DeprecationWarning: Call to deprecated `__contains__` (Method will be removed in 4.0.0, use self.wv.__contains__() instead).\n",
      "  np.mean([self.word2vec[w] for w in words if w in self.word2vec], axis=0)\n",
      "<ipython-input-34-72bfc365a3f2>:14: DeprecationWarning: Call to deprecated `__getitem__` (Method will be removed in 4.0.0, use self.wv.__getitem__() instead).\n",
      "  np.mean([self.word2vec[w] for w in words if w in self.word2vec], axis=0)\n"
     ]
    },
    {
     "name": "stdout",
     "output_type": "stream",
     "text": [
      "(1811,)\n",
      "(1811, 550)\n"
     ]
    },
    {
     "name": "stderr",
     "output_type": "stream",
     "text": [
      "<ipython-input-34-72bfc365a3f2>:14: DeprecationWarning: Call to deprecated `__contains__` (Method will be removed in 4.0.0, use self.wv.__contains__() instead).\n",
      "  np.mean([self.word2vec[w] for w in words if w in self.word2vec], axis=0)\n",
      "<ipython-input-34-72bfc365a3f2>:14: DeprecationWarning: Call to deprecated `__getitem__` (Method will be removed in 4.0.0, use self.wv.__getitem__() instead).\n",
      "  np.mean([self.word2vec[w] for w in words if w in self.word2vec], axis=0)\n"
     ]
    },
    {
     "name": "stdout",
     "output_type": "stream",
     "text": [
      "(16302,)\n",
      "(16302, 550)\n"
     ]
    },
    {
     "name": "stderr",
     "output_type": "stream",
     "text": [
      "<ipython-input-34-72bfc365a3f2>:14: DeprecationWarning: Call to deprecated `__contains__` (Method will be removed in 4.0.0, use self.wv.__contains__() instead).\n",
      "  np.mean([self.word2vec[w] for w in words if w in self.word2vec], axis=0)\n",
      "<ipython-input-34-72bfc365a3f2>:14: DeprecationWarning: Call to deprecated `__getitem__` (Method will be removed in 4.0.0, use self.wv.__getitem__() instead).\n",
      "  np.mean([self.word2vec[w] for w in words if w in self.word2vec], axis=0)\n"
     ]
    },
    {
     "name": "stdout",
     "output_type": "stream",
     "text": [
      "(1811,)\n",
      "(1811, 550)\n"
     ]
    },
    {
     "name": "stderr",
     "output_type": "stream",
     "text": [
      "<ipython-input-34-72bfc365a3f2>:14: DeprecationWarning: Call to deprecated `__contains__` (Method will be removed in 4.0.0, use self.wv.__contains__() instead).\n",
      "  np.mean([self.word2vec[w] for w in words if w in self.word2vec], axis=0)\n",
      "<ipython-input-34-72bfc365a3f2>:14: DeprecationWarning: Call to deprecated `__getitem__` (Method will be removed in 4.0.0, use self.wv.__getitem__() instead).\n",
      "  np.mean([self.word2vec[w] for w in words if w in self.word2vec], axis=0)\n"
     ]
    },
    {
     "name": "stdout",
     "output_type": "stream",
     "text": [
      "(16302,)\n",
      "(16302, 550)\n"
     ]
    },
    {
     "name": "stderr",
     "output_type": "stream",
     "text": [
      "<ipython-input-34-72bfc365a3f2>:14: DeprecationWarning: Call to deprecated `__contains__` (Method will be removed in 4.0.0, use self.wv.__contains__() instead).\n",
      "  np.mean([self.word2vec[w] for w in words if w in self.word2vec], axis=0)\n",
      "<ipython-input-34-72bfc365a3f2>:14: DeprecationWarning: Call to deprecated `__getitem__` (Method will be removed in 4.0.0, use self.wv.__getitem__() instead).\n",
      "  np.mean([self.word2vec[w] for w in words if w in self.word2vec], axis=0)\n"
     ]
    },
    {
     "name": "stdout",
     "output_type": "stream",
     "text": [
      "(1811,)\n",
      "(1811, 550)\n"
     ]
    },
    {
     "name": "stderr",
     "output_type": "stream",
     "text": [
      "<ipython-input-34-72bfc365a3f2>:14: DeprecationWarning: Call to deprecated `__contains__` (Method will be removed in 4.0.0, use self.wv.__contains__() instead).\n",
      "  np.mean([self.word2vec[w] for w in words if w in self.word2vec], axis=0)\n",
      "<ipython-input-34-72bfc365a3f2>:14: DeprecationWarning: Call to deprecated `__getitem__` (Method will be removed in 4.0.0, use self.wv.__getitem__() instead).\n",
      "  np.mean([self.word2vec[w] for w in words if w in self.word2vec], axis=0)\n"
     ]
    },
    {
     "name": "stdout",
     "output_type": "stream",
     "text": [
      "(16302,)\n",
      "(16302, 550)\n"
     ]
    },
    {
     "name": "stderr",
     "output_type": "stream",
     "text": [
      "<ipython-input-34-72bfc365a3f2>:14: DeprecationWarning: Call to deprecated `__contains__` (Method will be removed in 4.0.0, use self.wv.__contains__() instead).\n",
      "  np.mean([self.word2vec[w] for w in words if w in self.word2vec], axis=0)\n",
      "<ipython-input-34-72bfc365a3f2>:14: DeprecationWarning: Call to deprecated `__getitem__` (Method will be removed in 4.0.0, use self.wv.__getitem__() instead).\n",
      "  np.mean([self.word2vec[w] for w in words if w in self.word2vec], axis=0)\n"
     ]
    },
    {
     "name": "stdout",
     "output_type": "stream",
     "text": [
      "(1811,)\n",
      "(1811, 550)\n"
     ]
    },
    {
     "name": "stderr",
     "output_type": "stream",
     "text": [
      "<ipython-input-34-72bfc365a3f2>:14: DeprecationWarning: Call to deprecated `__contains__` (Method will be removed in 4.0.0, use self.wv.__contains__() instead).\n",
      "  np.mean([self.word2vec[w] for w in words if w in self.word2vec], axis=0)\n",
      "<ipython-input-34-72bfc365a3f2>:14: DeprecationWarning: Call to deprecated `__getitem__` (Method will be removed in 4.0.0, use self.wv.__getitem__() instead).\n",
      "  np.mean([self.word2vec[w] for w in words if w in self.word2vec], axis=0)\n"
     ]
    },
    {
     "name": "stdout",
     "output_type": "stream",
     "text": [
      "(16302,)\n",
      "(16302, 550)\n"
     ]
    },
    {
     "name": "stderr",
     "output_type": "stream",
     "text": [
      "<ipython-input-34-72bfc365a3f2>:14: DeprecationWarning: Call to deprecated `__contains__` (Method will be removed in 4.0.0, use self.wv.__contains__() instead).\n",
      "  np.mean([self.word2vec[w] for w in words if w in self.word2vec], axis=0)\n",
      "<ipython-input-34-72bfc365a3f2>:14: DeprecationWarning: Call to deprecated `__getitem__` (Method will be removed in 4.0.0, use self.wv.__getitem__() instead).\n",
      "  np.mean([self.word2vec[w] for w in words if w in self.word2vec], axis=0)\n"
     ]
    },
    {
     "name": "stdout",
     "output_type": "stream",
     "text": [
      "(1811,)\n",
      "(1811, 550)\n"
     ]
    },
    {
     "name": "stderr",
     "output_type": "stream",
     "text": [
      "<ipython-input-34-72bfc365a3f2>:14: DeprecationWarning: Call to deprecated `__contains__` (Method will be removed in 4.0.0, use self.wv.__contains__() instead).\n",
      "  np.mean([self.word2vec[w] for w in words if w in self.word2vec], axis=0)\n",
      "<ipython-input-34-72bfc365a3f2>:14: DeprecationWarning: Call to deprecated `__getitem__` (Method will be removed in 4.0.0, use self.wv.__getitem__() instead).\n",
      "  np.mean([self.word2vec[w] for w in words if w in self.word2vec], axis=0)\n"
     ]
    },
    {
     "name": "stdout",
     "output_type": "stream",
     "text": [
      "(16302,)\n",
      "(16302, 550)\n"
     ]
    },
    {
     "name": "stderr",
     "output_type": "stream",
     "text": [
      "<ipython-input-34-72bfc365a3f2>:14: DeprecationWarning: Call to deprecated `__contains__` (Method will be removed in 4.0.0, use self.wv.__contains__() instead).\n",
      "  np.mean([self.word2vec[w] for w in words if w in self.word2vec], axis=0)\n",
      "<ipython-input-34-72bfc365a3f2>:14: DeprecationWarning: Call to deprecated `__getitem__` (Method will be removed in 4.0.0, use self.wv.__getitem__() instead).\n",
      "  np.mean([self.word2vec[w] for w in words if w in self.word2vec], axis=0)\n"
     ]
    },
    {
     "name": "stdout",
     "output_type": "stream",
     "text": [
      "(1811,)\n",
      "(1811, 550)\n"
     ]
    },
    {
     "name": "stderr",
     "output_type": "stream",
     "text": [
      "<ipython-input-34-72bfc365a3f2>:14: DeprecationWarning: Call to deprecated `__contains__` (Method will be removed in 4.0.0, use self.wv.__contains__() instead).\n",
      "  np.mean([self.word2vec[w] for w in words if w in self.word2vec], axis=0)\n",
      "<ipython-input-34-72bfc365a3f2>:14: DeprecationWarning: Call to deprecated `__getitem__` (Method will be removed in 4.0.0, use self.wv.__getitem__() instead).\n",
      "  np.mean([self.word2vec[w] for w in words if w in self.word2vec], axis=0)\n"
     ]
    },
    {
     "name": "stdout",
     "output_type": "stream",
     "text": [
      "(16302,)\n",
      "(16302, 550)\n"
     ]
    },
    {
     "name": "stderr",
     "output_type": "stream",
     "text": [
      "<ipython-input-34-72bfc365a3f2>:14: DeprecationWarning: Call to deprecated `__contains__` (Method will be removed in 4.0.0, use self.wv.__contains__() instead).\n",
      "  np.mean([self.word2vec[w] for w in words if w in self.word2vec], axis=0)\n",
      "<ipython-input-34-72bfc365a3f2>:14: DeprecationWarning: Call to deprecated `__getitem__` (Method will be removed in 4.0.0, use self.wv.__getitem__() instead).\n",
      "  np.mean([self.word2vec[w] for w in words if w in self.word2vec], axis=0)\n"
     ]
    },
    {
     "name": "stdout",
     "output_type": "stream",
     "text": [
      "(1811,)\n",
      "(1811, 550)\n"
     ]
    },
    {
     "name": "stderr",
     "output_type": "stream",
     "text": [
      "<ipython-input-34-72bfc365a3f2>:14: DeprecationWarning: Call to deprecated `__contains__` (Method will be removed in 4.0.0, use self.wv.__contains__() instead).\n",
      "  np.mean([self.word2vec[w] for w in words if w in self.word2vec], axis=0)\n",
      "<ipython-input-34-72bfc365a3f2>:14: DeprecationWarning: Call to deprecated `__getitem__` (Method will be removed in 4.0.0, use self.wv.__getitem__() instead).\n",
      "  np.mean([self.word2vec[w] for w in words if w in self.word2vec], axis=0)\n"
     ]
    },
    {
     "name": "stdout",
     "output_type": "stream",
     "text": [
      "(16301,)\n",
      "(16301, 550)\n"
     ]
    },
    {
     "name": "stderr",
     "output_type": "stream",
     "text": [
      "<ipython-input-34-72bfc365a3f2>:14: DeprecationWarning: Call to deprecated `__contains__` (Method will be removed in 4.0.0, use self.wv.__contains__() instead).\n",
      "  np.mean([self.word2vec[w] for w in words if w in self.word2vec], axis=0)\n",
      "<ipython-input-34-72bfc365a3f2>:14: DeprecationWarning: Call to deprecated `__getitem__` (Method will be removed in 4.0.0, use self.wv.__getitem__() instead).\n",
      "  np.mean([self.word2vec[w] for w in words if w in self.word2vec], axis=0)\n"
     ]
    },
    {
     "name": "stdout",
     "output_type": "stream",
     "text": [
      "(1812,)\n",
      "(1812, 550)\n"
     ]
    },
    {
     "name": "stderr",
     "output_type": "stream",
     "text": [
      "<ipython-input-34-72bfc365a3f2>:14: DeprecationWarning: Call to deprecated `__contains__` (Method will be removed in 4.0.0, use self.wv.__contains__() instead).\n",
      "  np.mean([self.word2vec[w] for w in words if w in self.word2vec], axis=0)\n",
      "<ipython-input-34-72bfc365a3f2>:14: DeprecationWarning: Call to deprecated `__getitem__` (Method will be removed in 4.0.0, use self.wv.__getitem__() instead).\n",
      "  np.mean([self.word2vec[w] for w in words if w in self.word2vec], axis=0)\n"
     ]
    },
    {
     "name": "stdout",
     "output_type": "stream",
     "text": [
      "(16301,)\n",
      "(16301, 550)\n"
     ]
    },
    {
     "name": "stderr",
     "output_type": "stream",
     "text": [
      "<ipython-input-34-72bfc365a3f2>:14: DeprecationWarning: Call to deprecated `__contains__` (Method will be removed in 4.0.0, use self.wv.__contains__() instead).\n",
      "  np.mean([self.word2vec[w] for w in words if w in self.word2vec], axis=0)\n",
      "<ipython-input-34-72bfc365a3f2>:14: DeprecationWarning: Call to deprecated `__getitem__` (Method will be removed in 4.0.0, use self.wv.__getitem__() instead).\n",
      "  np.mean([self.word2vec[w] for w in words if w in self.word2vec], axis=0)\n"
     ]
    },
    {
     "name": "stdout",
     "output_type": "stream",
     "text": [
      "(1812,)\n",
      "(1812, 550)\n"
     ]
    },
    {
     "name": "stderr",
     "output_type": "stream",
     "text": [
      "<ipython-input-34-72bfc365a3f2>:14: DeprecationWarning: Call to deprecated `__contains__` (Method will be removed in 4.0.0, use self.wv.__contains__() instead).\n",
      "  np.mean([self.word2vec[w] for w in words if w in self.word2vec], axis=0)\n",
      "<ipython-input-34-72bfc365a3f2>:14: DeprecationWarning: Call to deprecated `__getitem__` (Method will be removed in 4.0.0, use self.wv.__getitem__() instead).\n",
      "  np.mean([self.word2vec[w] for w in words if w in self.word2vec], axis=0)\n"
     ]
    },
    {
     "name": "stdout",
     "output_type": "stream",
     "text": [
      "(16301,)\n",
      "(16301, 550)\n"
     ]
    },
    {
     "name": "stderr",
     "output_type": "stream",
     "text": [
      "<ipython-input-34-72bfc365a3f2>:14: DeprecationWarning: Call to deprecated `__contains__` (Method will be removed in 4.0.0, use self.wv.__contains__() instead).\n",
      "  np.mean([self.word2vec[w] for w in words if w in self.word2vec], axis=0)\n",
      "<ipython-input-34-72bfc365a3f2>:14: DeprecationWarning: Call to deprecated `__getitem__` (Method will be removed in 4.0.0, use self.wv.__getitem__() instead).\n",
      "  np.mean([self.word2vec[w] for w in words if w in self.word2vec], axis=0)\n"
     ]
    },
    {
     "name": "stdout",
     "output_type": "stream",
     "text": [
      "(1812,)\n",
      "(1812, 550)\n"
     ]
    },
    {
     "name": "stderr",
     "output_type": "stream",
     "text": [
      "<ipython-input-34-72bfc365a3f2>:14: DeprecationWarning: Call to deprecated `__contains__` (Method will be removed in 4.0.0, use self.wv.__contains__() instead).\n",
      "  np.mean([self.word2vec[w] for w in words if w in self.word2vec], axis=0)\n",
      "<ipython-input-34-72bfc365a3f2>:14: DeprecationWarning: Call to deprecated `__getitem__` (Method will be removed in 4.0.0, use self.wv.__getitem__() instead).\n",
      "  np.mean([self.word2vec[w] for w in words if w in self.word2vec], axis=0)\n"
     ]
    },
    {
     "name": "stdout",
     "output_type": "stream",
     "text": [
      "(16302,)\n",
      "(16302, 550)\n"
     ]
    },
    {
     "name": "stderr",
     "output_type": "stream",
     "text": [
      "<ipython-input-34-72bfc365a3f2>:14: DeprecationWarning: Call to deprecated `__contains__` (Method will be removed in 4.0.0, use self.wv.__contains__() instead).\n",
      "  np.mean([self.word2vec[w] for w in words if w in self.word2vec], axis=0)\n",
      "<ipython-input-34-72bfc365a3f2>:14: DeprecationWarning: Call to deprecated `__getitem__` (Method will be removed in 4.0.0, use self.wv.__getitem__() instead).\n",
      "  np.mean([self.word2vec[w] for w in words if w in self.word2vec], axis=0)\n"
     ]
    },
    {
     "name": "stdout",
     "output_type": "stream",
     "text": [
      "(1811,)\n",
      "(1811, 550)\n"
     ]
    },
    {
     "name": "stderr",
     "output_type": "stream",
     "text": [
      "<ipython-input-34-72bfc365a3f2>:14: DeprecationWarning: Call to deprecated `__contains__` (Method will be removed in 4.0.0, use self.wv.__contains__() instead).\n",
      "  np.mean([self.word2vec[w] for w in words if w in self.word2vec], axis=0)\n",
      "<ipython-input-34-72bfc365a3f2>:14: DeprecationWarning: Call to deprecated `__getitem__` (Method will be removed in 4.0.0, use self.wv.__getitem__() instead).\n",
      "  np.mean([self.word2vec[w] for w in words if w in self.word2vec], axis=0)\n"
     ]
    },
    {
     "name": "stdout",
     "output_type": "stream",
     "text": [
      "(16302,)\n",
      "(16302, 550)\n"
     ]
    },
    {
     "name": "stderr",
     "output_type": "stream",
     "text": [
      "<ipython-input-34-72bfc365a3f2>:14: DeprecationWarning: Call to deprecated `__contains__` (Method will be removed in 4.0.0, use self.wv.__contains__() instead).\n",
      "  np.mean([self.word2vec[w] for w in words if w in self.word2vec], axis=0)\n",
      "<ipython-input-34-72bfc365a3f2>:14: DeprecationWarning: Call to deprecated `__getitem__` (Method will be removed in 4.0.0, use self.wv.__getitem__() instead).\n",
      "  np.mean([self.word2vec[w] for w in words if w in self.word2vec], axis=0)\n"
     ]
    },
    {
     "name": "stdout",
     "output_type": "stream",
     "text": [
      "(1811,)\n",
      "(1811, 550)\n"
     ]
    },
    {
     "name": "stderr",
     "output_type": "stream",
     "text": [
      "<ipython-input-34-72bfc365a3f2>:14: DeprecationWarning: Call to deprecated `__contains__` (Method will be removed in 4.0.0, use self.wv.__contains__() instead).\n",
      "  np.mean([self.word2vec[w] for w in words if w in self.word2vec], axis=0)\n",
      "<ipython-input-34-72bfc365a3f2>:14: DeprecationWarning: Call to deprecated `__getitem__` (Method will be removed in 4.0.0, use self.wv.__getitem__() instead).\n",
      "  np.mean([self.word2vec[w] for w in words if w in self.word2vec], axis=0)\n"
     ]
    },
    {
     "name": "stdout",
     "output_type": "stream",
     "text": [
      "(16302,)\n",
      "(16302, 550)\n"
     ]
    },
    {
     "name": "stderr",
     "output_type": "stream",
     "text": [
      "<ipython-input-34-72bfc365a3f2>:14: DeprecationWarning: Call to deprecated `__contains__` (Method will be removed in 4.0.0, use self.wv.__contains__() instead).\n",
      "  np.mean([self.word2vec[w] for w in words if w in self.word2vec], axis=0)\n",
      "<ipython-input-34-72bfc365a3f2>:14: DeprecationWarning: Call to deprecated `__getitem__` (Method will be removed in 4.0.0, use self.wv.__getitem__() instead).\n",
      "  np.mean([self.word2vec[w] for w in words if w in self.word2vec], axis=0)\n"
     ]
    },
    {
     "name": "stdout",
     "output_type": "stream",
     "text": [
      "(1811,)\n",
      "(1811, 550)\n"
     ]
    },
    {
     "name": "stderr",
     "output_type": "stream",
     "text": [
      "<ipython-input-34-72bfc365a3f2>:14: DeprecationWarning: Call to deprecated `__contains__` (Method will be removed in 4.0.0, use self.wv.__contains__() instead).\n",
      "  np.mean([self.word2vec[w] for w in words if w in self.word2vec], axis=0)\n",
      "<ipython-input-34-72bfc365a3f2>:14: DeprecationWarning: Call to deprecated `__getitem__` (Method will be removed in 4.0.0, use self.wv.__getitem__() instead).\n",
      "  np.mean([self.word2vec[w] for w in words if w in self.word2vec], axis=0)\n"
     ]
    },
    {
     "name": "stdout",
     "output_type": "stream",
     "text": [
      "(16302,)\n",
      "(16302, 550)\n"
     ]
    },
    {
     "name": "stderr",
     "output_type": "stream",
     "text": [
      "<ipython-input-34-72bfc365a3f2>:14: DeprecationWarning: Call to deprecated `__contains__` (Method will be removed in 4.0.0, use self.wv.__contains__() instead).\n",
      "  np.mean([self.word2vec[w] for w in words if w in self.word2vec], axis=0)\n",
      "<ipython-input-34-72bfc365a3f2>:14: DeprecationWarning: Call to deprecated `__getitem__` (Method will be removed in 4.0.0, use self.wv.__getitem__() instead).\n",
      "  np.mean([self.word2vec[w] for w in words if w in self.word2vec], axis=0)\n"
     ]
    },
    {
     "name": "stdout",
     "output_type": "stream",
     "text": [
      "(1811,)\n",
      "(1811, 550)\n"
     ]
    },
    {
     "name": "stderr",
     "output_type": "stream",
     "text": [
      "<ipython-input-34-72bfc365a3f2>:14: DeprecationWarning: Call to deprecated `__contains__` (Method will be removed in 4.0.0, use self.wv.__contains__() instead).\n",
      "  np.mean([self.word2vec[w] for w in words if w in self.word2vec], axis=0)\n",
      "<ipython-input-34-72bfc365a3f2>:14: DeprecationWarning: Call to deprecated `__getitem__` (Method will be removed in 4.0.0, use self.wv.__getitem__() instead).\n",
      "  np.mean([self.word2vec[w] for w in words if w in self.word2vec], axis=0)\n"
     ]
    },
    {
     "name": "stdout",
     "output_type": "stream",
     "text": [
      "(16302,)\n",
      "(16302, 550)\n"
     ]
    },
    {
     "name": "stderr",
     "output_type": "stream",
     "text": [
      "<ipython-input-34-72bfc365a3f2>:14: DeprecationWarning: Call to deprecated `__contains__` (Method will be removed in 4.0.0, use self.wv.__contains__() instead).\n",
      "  np.mean([self.word2vec[w] for w in words if w in self.word2vec], axis=0)\n",
      "<ipython-input-34-72bfc365a3f2>:14: DeprecationWarning: Call to deprecated `__getitem__` (Method will be removed in 4.0.0, use self.wv.__getitem__() instead).\n",
      "  np.mean([self.word2vec[w] for w in words if w in self.word2vec], axis=0)\n"
     ]
    },
    {
     "name": "stdout",
     "output_type": "stream",
     "text": [
      "(1811,)\n",
      "(1811, 550)\n"
     ]
    },
    {
     "name": "stderr",
     "output_type": "stream",
     "text": [
      "<ipython-input-34-72bfc365a3f2>:14: DeprecationWarning: Call to deprecated `__contains__` (Method will be removed in 4.0.0, use self.wv.__contains__() instead).\n",
      "  np.mean([self.word2vec[w] for w in words if w in self.word2vec], axis=0)\n",
      "<ipython-input-34-72bfc365a3f2>:14: DeprecationWarning: Call to deprecated `__getitem__` (Method will be removed in 4.0.0, use self.wv.__getitem__() instead).\n",
      "  np.mean([self.word2vec[w] for w in words if w in self.word2vec], axis=0)\n"
     ]
    },
    {
     "name": "stdout",
     "output_type": "stream",
     "text": [
      "(16302,)\n",
      "(16302, 550)\n"
     ]
    },
    {
     "name": "stderr",
     "output_type": "stream",
     "text": [
      "<ipython-input-34-72bfc365a3f2>:14: DeprecationWarning: Call to deprecated `__contains__` (Method will be removed in 4.0.0, use self.wv.__contains__() instead).\n",
      "  np.mean([self.word2vec[w] for w in words if w in self.word2vec], axis=0)\n",
      "<ipython-input-34-72bfc365a3f2>:14: DeprecationWarning: Call to deprecated `__getitem__` (Method will be removed in 4.0.0, use self.wv.__getitem__() instead).\n",
      "  np.mean([self.word2vec[w] for w in words if w in self.word2vec], axis=0)\n"
     ]
    },
    {
     "name": "stdout",
     "output_type": "stream",
     "text": [
      "(1811,)\n",
      "(1811, 550)\n"
     ]
    },
    {
     "name": "stderr",
     "output_type": "stream",
     "text": [
      "<ipython-input-34-72bfc365a3f2>:14: DeprecationWarning: Call to deprecated `__contains__` (Method will be removed in 4.0.0, use self.wv.__contains__() instead).\n",
      "  np.mean([self.word2vec[w] for w in words if w in self.word2vec], axis=0)\n",
      "<ipython-input-34-72bfc365a3f2>:14: DeprecationWarning: Call to deprecated `__getitem__` (Method will be removed in 4.0.0, use self.wv.__getitem__() instead).\n",
      "  np.mean([self.word2vec[w] for w in words if w in self.word2vec], axis=0)\n"
     ]
    },
    {
     "name": "stdout",
     "output_type": "stream",
     "text": [
      "(16302,)\n",
      "(16302, 550)\n"
     ]
    },
    {
     "name": "stderr",
     "output_type": "stream",
     "text": [
      "<ipython-input-34-72bfc365a3f2>:14: DeprecationWarning: Call to deprecated `__contains__` (Method will be removed in 4.0.0, use self.wv.__contains__() instead).\n",
      "  np.mean([self.word2vec[w] for w in words if w in self.word2vec], axis=0)\n",
      "<ipython-input-34-72bfc365a3f2>:14: DeprecationWarning: Call to deprecated `__getitem__` (Method will be removed in 4.0.0, use self.wv.__getitem__() instead).\n",
      "  np.mean([self.word2vec[w] for w in words if w in self.word2vec], axis=0)\n"
     ]
    },
    {
     "name": "stdout",
     "output_type": "stream",
     "text": [
      "(1811,)\n",
      "(1811, 550)\n"
     ]
    },
    {
     "name": "stderr",
     "output_type": "stream",
     "text": [
      "<ipython-input-34-72bfc365a3f2>:14: DeprecationWarning: Call to deprecated `__contains__` (Method will be removed in 4.0.0, use self.wv.__contains__() instead).\n",
      "  np.mean([self.word2vec[w] for w in words if w in self.word2vec], axis=0)\n",
      "<ipython-input-34-72bfc365a3f2>:14: DeprecationWarning: Call to deprecated `__getitem__` (Method will be removed in 4.0.0, use self.wv.__getitem__() instead).\n",
      "  np.mean([self.word2vec[w] for w in words if w in self.word2vec], axis=0)\n"
     ]
    },
    {
     "name": "stdout",
     "output_type": "stream",
     "text": [
      "(18113,)\n",
      "(18113, 550)\n"
     ]
    },
    {
     "name": "stderr",
     "output_type": "stream",
     "text": [
      "<ipython-input-34-72bfc365a3f2>:14: DeprecationWarning: Call to deprecated `__contains__` (Method will be removed in 4.0.0, use self.wv.__contains__() instead).\n",
      "  np.mean([self.word2vec[w] for w in words if w in self.word2vec], axis=0)\n",
      "<ipython-input-34-72bfc365a3f2>:14: DeprecationWarning: Call to deprecated `__getitem__` (Method will be removed in 4.0.0, use self.wv.__getitem__() instead).\n",
      "  np.mean([self.word2vec[w] for w in words if w in self.word2vec], axis=0)\n"
     ]
    },
    {
     "name": "stdout",
     "output_type": "stream",
     "text": [
      "(4529,)\n",
      "(4529, 550)\n",
      "Best params are : {'clf__C': 0.5, 'clf__penalty': 'l1', 'clf__solver': 'liblinear'}\n",
      "Best training accuracy: 0.868\n",
      "model score: 0.772\n",
      "[[ 665  366]\n",
      " [ 211 3287]]\n",
      "              precision    recall  f1-score   support\n",
      "\n",
      "           0       0.76      0.65      0.70      1031\n",
      "           1       0.90      0.94      0.92      3498\n",
      "\n",
      "    accuracy                           0.87      4529\n",
      "   macro avg       0.83      0.79      0.81      4529\n",
      "weighted avg       0.87      0.87      0.87      4529\n",
      "\n",
      "Accuracy Score: 0.8725988076838154\n",
      "F1 Score: 0.9193119843378548\n",
      "Average precision-recall score: 0.8921204216814189\n"
     ]
    },
    {
     "name": "stderr",
     "output_type": "stream",
     "text": [
      "<ipython-input-34-72bfc365a3f2>:14: DeprecationWarning: Call to deprecated `__contains__` (Method will be removed in 4.0.0, use self.wv.__contains__() instead).\n",
      "  np.mean([self.word2vec[w] for w in words if w in self.word2vec], axis=0)\n",
      "<ipython-input-34-72bfc365a3f2>:14: DeprecationWarning: Call to deprecated `__getitem__` (Method will be removed in 4.0.0, use self.wv.__getitem__() instead).\n",
      "  np.mean([self.word2vec[w] for w in words if w in self.word2vec], axis=0)\n"
     ]
    },
    {
     "name": "stdout",
     "output_type": "stream",
     "text": [
      "(4529,)\n",
      "(4529, 550)\n"
     ]
    },
    {
     "data": {
      "image/png": "[encoded data removed]",
      "text/plain": [
       "<Figure size 432x288 with 1 Axes>"
      ]
     },
     "metadata": {
      "needs_background": "light"
     },
     "output_type": "display_data"
    },
    {
     "name": "stdout",
     "output_type": "stream",
     "text": [
      "SVC()\n",
      "\n",
      "Estimator: [{'clf__kernel': ['linear', 'rbf'], 'clf__C': [9, 10]}]\n"
     ]
    },
    {
     "name": "stderr",
     "output_type": "stream",
     "text": [
      "<ipython-input-34-72bfc365a3f2>:14: DeprecationWarning: Call to deprecated `__contains__` (Method will be removed in 4.0.0, use self.wv.__contains__() instead).\n",
      "  np.mean([self.word2vec[w] for w in words if w in self.word2vec], axis=0)\n",
      "<ipython-input-34-72bfc365a3f2>:14: DeprecationWarning: Call to deprecated `__getitem__` (Method will be removed in 4.0.0, use self.wv.__getitem__() instead).\n",
      "  np.mean([self.word2vec[w] for w in words if w in self.word2vec], axis=0)\n"
     ]
    },
    {
     "name": "stdout",
     "output_type": "stream",
     "text": [
      "(16301,)\n",
      "(16301, 550)\n"
     ]
    },
    {
     "name": "stderr",
     "output_type": "stream",
     "text": [
      "<ipython-input-34-72bfc365a3f2>:14: DeprecationWarning: Call to deprecated `__contains__` (Method will be removed in 4.0.0, use self.wv.__contains__() instead).\n",
      "  np.mean([self.word2vec[w] for w in words if w in self.word2vec], axis=0)\n",
      "<ipython-input-34-72bfc365a3f2>:14: DeprecationWarning: Call to deprecated `__getitem__` (Method will be removed in 4.0.0, use self.wv.__getitem__() instead).\n",
      "  np.mean([self.word2vec[w] for w in words if w in self.word2vec], axis=0)\n"
     ]
    },
    {
     "name": "stdout",
     "output_type": "stream",
     "text": [
      "(1812,)\n",
      "(1812, 550)\n"
     ]
    },
    {
     "name": "stderr",
     "output_type": "stream",
     "text": [
      "<ipython-input-34-72bfc365a3f2>:14: DeprecationWarning: Call to deprecated `__contains__` (Method will be removed in 4.0.0, use self.wv.__contains__() instead).\n",
      "  np.mean([self.word2vec[w] for w in words if w in self.word2vec], axis=0)\n",
      "<ipython-input-34-72bfc365a3f2>:14: DeprecationWarning: Call to deprecated `__getitem__` (Method will be removed in 4.0.0, use self.wv.__getitem__() instead).\n",
      "  np.mean([self.word2vec[w] for w in words if w in self.word2vec], axis=0)\n"
     ]
    },
    {
     "name": "stdout",
     "output_type": "stream",
     "text": [
      "(16301,)\n",
      "(16301, 550)\n"
     ]
    },
    {
     "name": "stderr",
     "output_type": "stream",
     "text": [
      "<ipython-input-34-72bfc365a3f2>:14: DeprecationWarning: Call to deprecated `__contains__` (Method will be removed in 4.0.0, use self.wv.__contains__() instead).\n",
      "  np.mean([self.word2vec[w] for w in words if w in self.word2vec], axis=0)\n",
      "<ipython-input-34-72bfc365a3f2>:14: DeprecationWarning: Call to deprecated `__getitem__` (Method will be removed in 4.0.0, use self.wv.__getitem__() instead).\n",
      "  np.mean([self.word2vec[w] for w in words if w in self.word2vec], axis=0)\n"
     ]
    },
    {
     "name": "stdout",
     "output_type": "stream",
     "text": [
      "(1812,)\n",
      "(1812, 550)\n"
     ]
    },
    {
     "name": "stderr",
     "output_type": "stream",
     "text": [
      "<ipython-input-34-72bfc365a3f2>:14: DeprecationWarning: Call to deprecated `__contains__` (Method will be removed in 4.0.0, use self.wv.__contains__() instead).\n",
      "  np.mean([self.word2vec[w] for w in words if w in self.word2vec], axis=0)\n",
      "<ipython-input-34-72bfc365a3f2>:14: DeprecationWarning: Call to deprecated `__getitem__` (Method will be removed in 4.0.0, use self.wv.__getitem__() instead).\n",
      "  np.mean([self.word2vec[w] for w in words if w in self.word2vec], axis=0)\n"
     ]
    },
    {
     "name": "stdout",
     "output_type": "stream",
     "text": [
      "(16301,)\n",
      "(16301, 550)\n"
     ]
    },
    {
     "name": "stderr",
     "output_type": "stream",
     "text": [
      "<ipython-input-34-72bfc365a3f2>:14: DeprecationWarning: Call to deprecated `__contains__` (Method will be removed in 4.0.0, use self.wv.__contains__() instead).\n",
      "  np.mean([self.word2vec[w] for w in words if w in self.word2vec], axis=0)\n",
      "<ipython-input-34-72bfc365a3f2>:14: DeprecationWarning: Call to deprecated `__getitem__` (Method will be removed in 4.0.0, use self.wv.__getitem__() instead).\n",
      "  np.mean([self.word2vec[w] for w in words if w in self.word2vec], axis=0)\n"
     ]
    },
    {
     "name": "stdout",
     "output_type": "stream",
     "text": [
      "(1812,)\n",
      "(1812, 550)\n"
     ]
    },
    {
     "name": "stderr",
     "output_type": "stream",
     "text": [
      "<ipython-input-34-72bfc365a3f2>:14: DeprecationWarning: Call to deprecated `__contains__` (Method will be removed in 4.0.0, use self.wv.__contains__() instead).\n",
      "  np.mean([self.word2vec[w] for w in words if w in self.word2vec], axis=0)\n",
      "<ipython-input-34-72bfc365a3f2>:14: DeprecationWarning: Call to deprecated `__getitem__` (Method will be removed in 4.0.0, use self.wv.__getitem__() instead).\n",
      "  np.mean([self.word2vec[w] for w in words if w in self.word2vec], axis=0)\n"
     ]
    },
    {
     "name": "stdout",
     "output_type": "stream",
     "text": [
      "(16302,)\n",
      "(16302, 550)\n"
     ]
    },
    {
     "name": "stderr",
     "output_type": "stream",
     "text": [
      "<ipython-input-34-72bfc365a3f2>:14: DeprecationWarning: Call to deprecated `__contains__` (Method will be removed in 4.0.0, use self.wv.__contains__() instead).\n",
      "  np.mean([self.word2vec[w] for w in words if w in self.word2vec], axis=0)\n",
      "<ipython-input-34-72bfc365a3f2>:14: DeprecationWarning: Call to deprecated `__getitem__` (Method will be removed in 4.0.0, use self.wv.__getitem__() instead).\n",
      "  np.mean([self.word2vec[w] for w in words if w in self.word2vec], axis=0)\n"
     ]
    },
    {
     "name": "stdout",
     "output_type": "stream",
     "text": [
      "(1811,)\n",
      "(1811, 550)\n"
     ]
    },
    {
     "name": "stderr",
     "output_type": "stream",
     "text": [
      "<ipython-input-34-72bfc365a3f2>:14: DeprecationWarning: Call to deprecated `__contains__` (Method will be removed in 4.0.0, use self.wv.__contains__() instead).\n",
      "  np.mean([self.word2vec[w] for w in words if w in self.word2vec], axis=0)\n",
      "<ipython-input-34-72bfc365a3f2>:14: DeprecationWarning: Call to deprecated `__getitem__` (Method will be removed in 4.0.0, use self.wv.__getitem__() instead).\n",
      "  np.mean([self.word2vec[w] for w in words if w in self.word2vec], axis=0)\n"
     ]
    },
    {
     "name": "stdout",
     "output_type": "stream",
     "text": [
      "(16302,)\n",
      "(16302, 550)\n"
     ]
    },
    {
     "name": "stderr",
     "output_type": "stream",
     "text": [
      "<ipython-input-34-72bfc365a3f2>:14: DeprecationWarning: Call to deprecated `__contains__` (Method will be removed in 4.0.0, use self.wv.__contains__() instead).\n",
      "  np.mean([self.word2vec[w] for w in words if w in self.word2vec], axis=0)\n",
      "<ipython-input-34-72bfc365a3f2>:14: DeprecationWarning: Call to deprecated `__getitem__` (Method will be removed in 4.0.0, use self.wv.__getitem__() instead).\n",
      "  np.mean([self.word2vec[w] for w in words if w in self.word2vec], axis=0)\n"
     ]
    },
    {
     "name": "stdout",
     "output_type": "stream",
     "text": [
      "(1811,)\n",
      "(1811, 550)\n"
     ]
    },
    {
     "name": "stderr",
     "output_type": "stream",
     "text": [
      "<ipython-input-34-72bfc365a3f2>:14: DeprecationWarning: Call to deprecated `__contains__` (Method will be removed in 4.0.0, use self.wv.__contains__() instead).\n",
      "  np.mean([self.word2vec[w] for w in words if w in self.word2vec], axis=0)\n",
      "<ipython-input-34-72bfc365a3f2>:14: DeprecationWarning: Call to deprecated `__getitem__` (Method will be removed in 4.0.0, use self.wv.__getitem__() instead).\n",
      "  np.mean([self.word2vec[w] for w in words if w in self.word2vec], axis=0)\n"
     ]
    },
    {
     "name": "stdout",
     "output_type": "stream",
     "text": [
      "(16302,)\n",
      "(16302, 550)\n"
     ]
    },
    {
     "name": "stderr",
     "output_type": "stream",
     "text": [
      "<ipython-input-34-72bfc365a3f2>:14: DeprecationWarning: Call to deprecated `__contains__` (Method will be removed in 4.0.0, use self.wv.__contains__() instead).\n",
      "  np.mean([self.word2vec[w] for w in words if w in self.word2vec], axis=0)\n",
      "<ipython-input-34-72bfc365a3f2>:14: DeprecationWarning: Call to deprecated `__getitem__` (Method will be removed in 4.0.0, use self.wv.__getitem__() instead).\n",
      "  np.mean([self.word2vec[w] for w in words if w in self.word2vec], axis=0)\n"
     ]
    },
    {
     "name": "stdout",
     "output_type": "stream",
     "text": [
      "(1811,)\n",
      "(1811, 550)\n"
     ]
    },
    {
     "name": "stderr",
     "output_type": "stream",
     "text": [
      "<ipython-input-34-72bfc365a3f2>:14: DeprecationWarning: Call to deprecated `__contains__` (Method will be removed in 4.0.0, use self.wv.__contains__() instead).\n",
      "  np.mean([self.word2vec[w] for w in words if w in self.word2vec], axis=0)\n",
      "<ipython-input-34-72bfc365a3f2>:14: DeprecationWarning: Call to deprecated `__getitem__` (Method will be removed in 4.0.0, use self.wv.__getitem__() instead).\n",
      "  np.mean([self.word2vec[w] for w in words if w in self.word2vec], axis=0)\n"
     ]
    },
    {
     "name": "stdout",
     "output_type": "stream",
     "text": [
      "(16302,)\n",
      "(16302, 550)\n"
     ]
    },
    {
     "name": "stderr",
     "output_type": "stream",
     "text": [
      "<ipython-input-34-72bfc365a3f2>:14: DeprecationWarning: Call to deprecated `__contains__` (Method will be removed in 4.0.0, use self.wv.__contains__() instead).\n",
      "  np.mean([self.word2vec[w] for w in words if w in self.word2vec], axis=0)\n",
      "<ipython-input-34-72bfc365a3f2>:14: DeprecationWarning: Call to deprecated `__getitem__` (Method will be removed in 4.0.0, use self.wv.__getitem__() instead).\n",
      "  np.mean([self.word2vec[w] for w in words if w in self.word2vec], axis=0)\n"
     ]
    },
    {
     "name": "stdout",
     "output_type": "stream",
     "text": [
      "(1811,)\n",
      "(1811, 550)\n"
     ]
    },
    {
     "name": "stderr",
     "output_type": "stream",
     "text": [
      "<ipython-input-34-72bfc365a3f2>:14: DeprecationWarning: Call to deprecated `__contains__` (Method will be removed in 4.0.0, use self.wv.__contains__() instead).\n",
      "  np.mean([self.word2vec[w] for w in words if w in self.word2vec], axis=0)\n",
      "<ipython-input-34-72bfc365a3f2>:14: DeprecationWarning: Call to deprecated `__getitem__` (Method will be removed in 4.0.0, use self.wv.__getitem__() instead).\n",
      "  np.mean([self.word2vec[w] for w in words if w in self.word2vec], axis=0)\n"
     ]
    },
    {
     "name": "stdout",
     "output_type": "stream",
     "text": [
      "(16302,)\n",
      "(16302, 550)\n"
     ]
    },
    {
     "name": "stderr",
     "output_type": "stream",
     "text": [
      "<ipython-input-34-72bfc365a3f2>:14: DeprecationWarning: Call to deprecated `__contains__` (Method will be removed in 4.0.0, use self.wv.__contains__() instead).\n",
      "  np.mean([self.word2vec[w] for w in words if w in self.word2vec], axis=0)\n",
      "<ipython-input-34-72bfc365a3f2>:14: DeprecationWarning: Call to deprecated `__getitem__` (Method will be removed in 4.0.0, use self.wv.__getitem__() instead).\n",
      "  np.mean([self.word2vec[w] for w in words if w in self.word2vec], axis=0)\n"
     ]
    },
    {
     "name": "stdout",
     "output_type": "stream",
     "text": [
      "(1811,)\n",
      "(1811, 550)\n"
     ]
    },
    {
     "name": "stderr",
     "output_type": "stream",
     "text": [
      "<ipython-input-34-72bfc365a3f2>:14: DeprecationWarning: Call to deprecated `__contains__` (Method will be removed in 4.0.0, use self.wv.__contains__() instead).\n",
      "  np.mean([self.word2vec[w] for w in words if w in self.word2vec], axis=0)\n",
      "<ipython-input-34-72bfc365a3f2>:14: DeprecationWarning: Call to deprecated `__getitem__` (Method will be removed in 4.0.0, use self.wv.__getitem__() instead).\n",
      "  np.mean([self.word2vec[w] for w in words if w in self.word2vec], axis=0)\n"
     ]
    },
    {
     "name": "stdout",
     "output_type": "stream",
     "text": [
      "(16302,)\n",
      "(16302, 550)\n"
     ]
    },
    {
     "name": "stderr",
     "output_type": "stream",
     "text": [
      "<ipython-input-34-72bfc365a3f2>:14: DeprecationWarning: Call to deprecated `__contains__` (Method will be removed in 4.0.0, use self.wv.__contains__() instead).\n",
      "  np.mean([self.word2vec[w] for w in words if w in self.word2vec], axis=0)\n",
      "<ipython-input-34-72bfc365a3f2>:14: DeprecationWarning: Call to deprecated `__getitem__` (Method will be removed in 4.0.0, use self.wv.__getitem__() instead).\n",
      "  np.mean([self.word2vec[w] for w in words if w in self.word2vec], axis=0)\n"
     ]
    },
    {
     "name": "stdout",
     "output_type": "stream",
     "text": [
      "(1811,)\n",
      "(1811, 550)\n"
     ]
    },
    {
     "name": "stderr",
     "output_type": "stream",
     "text": [
      "<ipython-input-34-72bfc365a3f2>:14: DeprecationWarning: Call to deprecated `__contains__` (Method will be removed in 4.0.0, use self.wv.__contains__() instead).\n",
      "  np.mean([self.word2vec[w] for w in words if w in self.word2vec], axis=0)\n",
      "<ipython-input-34-72bfc365a3f2>:14: DeprecationWarning: Call to deprecated `__getitem__` (Method will be removed in 4.0.0, use self.wv.__getitem__() instead).\n",
      "  np.mean([self.word2vec[w] for w in words if w in self.word2vec], axis=0)\n"
     ]
    },
    {
     "name": "stdout",
     "output_type": "stream",
     "text": [
      "(16302,)\n",
      "(16302, 550)\n"
     ]
    },
    {
     "name": "stderr",
     "output_type": "stream",
     "text": [
      "<ipython-input-34-72bfc365a3f2>:14: DeprecationWarning: Call to deprecated `__contains__` (Method will be removed in 4.0.0, use self.wv.__contains__() instead).\n",
      "  np.mean([self.word2vec[w] for w in words if w in self.word2vec], axis=0)\n",
      "<ipython-input-34-72bfc365a3f2>:14: DeprecationWarning: Call to deprecated `__getitem__` (Method will be removed in 4.0.0, use self.wv.__getitem__() instead).\n",
      "  np.mean([self.word2vec[w] for w in words if w in self.word2vec], axis=0)\n"
     ]
    },
    {
     "name": "stdout",
     "output_type": "stream",
     "text": [
      "(1811,)\n",
      "(1811, 550)\n"
     ]
    },
    {
     "name": "stderr",
     "output_type": "stream",
     "text": [
      "<ipython-input-34-72bfc365a3f2>:14: DeprecationWarning: Call to deprecated `__contains__` (Method will be removed in 4.0.0, use self.wv.__contains__() instead).\n",
      "  np.mean([self.word2vec[w] for w in words if w in self.word2vec], axis=0)\n",
      "<ipython-input-34-72bfc365a3f2>:14: DeprecationWarning: Call to deprecated `__getitem__` (Method will be removed in 4.0.0, use self.wv.__getitem__() instead).\n",
      "  np.mean([self.word2vec[w] for w in words if w in self.word2vec], axis=0)\n"
     ]
    },
    {
     "name": "stdout",
     "output_type": "stream",
     "text": [
      "(16301,)\n",
      "(16301, 550)\n"
     ]
    },
    {
     "name": "stderr",
     "output_type": "stream",
     "text": [
      "<ipython-input-34-72bfc365a3f2>:14: DeprecationWarning: Call to deprecated `__contains__` (Method will be removed in 4.0.0, use self.wv.__contains__() instead).\n",
      "  np.mean([self.word2vec[w] for w in words if w in self.word2vec], axis=0)\n",
      "<ipython-input-34-72bfc365a3f2>:14: DeprecationWarning: Call to deprecated `__getitem__` (Method will be removed in 4.0.0, use self.wv.__getitem__() instead).\n",
      "  np.mean([self.word2vec[w] for w in words if w in self.word2vec], axis=0)\n"
     ]
    },
    {
     "name": "stdout",
     "output_type": "stream",
     "text": [
      "(1812,)\n",
      "(1812, 550)\n"
     ]
    },
    {
     "name": "stderr",
     "output_type": "stream",
     "text": [
      "<ipython-input-34-72bfc365a3f2>:14: DeprecationWarning: Call to deprecated `__contains__` (Method will be removed in 4.0.0, use self.wv.__contains__() instead).\n",
      "  np.mean([self.word2vec[w] for w in words if w in self.word2vec], axis=0)\n",
      "<ipython-input-34-72bfc365a3f2>:14: DeprecationWarning: Call to deprecated `__getitem__` (Method will be removed in 4.0.0, use self.wv.__getitem__() instead).\n",
      "  np.mean([self.word2vec[w] for w in words if w in self.word2vec], axis=0)\n"
     ]
    },
    {
     "name": "stdout",
     "output_type": "stream",
     "text": [
      "(16301,)\n",
      "(16301, 550)\n"
     ]
    },
    {
     "name": "stderr",
     "output_type": "stream",
     "text": [
      "<ipython-input-34-72bfc365a3f2>:14: DeprecationWarning: Call to deprecated `__contains__` (Method will be removed in 4.0.0, use self.wv.__contains__() instead).\n",
      "  np.mean([self.word2vec[w] for w in words if w in self.word2vec], axis=0)\n",
      "<ipython-input-34-72bfc365a3f2>:14: DeprecationWarning: Call to deprecated `__getitem__` (Method will be removed in 4.0.0, use self.wv.__getitem__() instead).\n",
      "  np.mean([self.word2vec[w] for w in words if w in self.word2vec], axis=0)\n"
     ]
    },
    {
     "name": "stdout",
     "output_type": "stream",
     "text": [
      "(1812,)\n",
      "(1812, 550)\n"
     ]
    },
    {
     "name": "stderr",
     "output_type": "stream",
     "text": [
      "<ipython-input-34-72bfc365a3f2>:14: DeprecationWarning: Call to deprecated `__contains__` (Method will be removed in 4.0.0, use self.wv.__contains__() instead).\n",
      "  np.mean([self.word2vec[w] for w in words if w in self.word2vec], axis=0)\n",
      "<ipython-input-34-72bfc365a3f2>:14: DeprecationWarning: Call to deprecated `__getitem__` (Method will be removed in 4.0.0, use self.wv.__getitem__() instead).\n",
      "  np.mean([self.word2vec[w] for w in words if w in self.word2vec], axis=0)\n"
     ]
    },
    {
     "name": "stdout",
     "output_type": "stream",
     "text": [
      "(16301,)\n",
      "(16301, 550)\n"
     ]
    },
    {
     "name": "stderr",
     "output_type": "stream",
     "text": [
      "<ipython-input-34-72bfc365a3f2>:14: DeprecationWarning: Call to deprecated `__contains__` (Method will be removed in 4.0.0, use self.wv.__contains__() instead).\n",
      "  np.mean([self.word2vec[w] for w in words if w in self.word2vec], axis=0)\n",
      "<ipython-input-34-72bfc365a3f2>:14: DeprecationWarning: Call to deprecated `__getitem__` (Method will be removed in 4.0.0, use self.wv.__getitem__() instead).\n",
      "  np.mean([self.word2vec[w] for w in words if w in self.word2vec], axis=0)\n"
     ]
    },
    {
     "name": "stdout",
     "output_type": "stream",
     "text": [
      "(1812,)\n",
      "(1812, 550)\n"
     ]
    },
    {
     "name": "stderr",
     "output_type": "stream",
     "text": [
      "<ipython-input-34-72bfc365a3f2>:14: DeprecationWarning: Call to deprecated `__contains__` (Method will be removed in 4.0.0, use self.wv.__contains__() instead).\n",
      "  np.mean([self.word2vec[w] for w in words if w in self.word2vec], axis=0)\n",
      "<ipython-input-34-72bfc365a3f2>:14: DeprecationWarning: Call to deprecated `__getitem__` (Method will be removed in 4.0.0, use self.wv.__getitem__() instead).\n",
      "  np.mean([self.word2vec[w] for w in words if w in self.word2vec], axis=0)\n"
     ]
    },
    {
     "name": "stdout",
     "output_type": "stream",
     "text": [
      "(16302,)\n",
      "(16302, 550)\n"
     ]
    },
    {
     "name": "stderr",
     "output_type": "stream",
     "text": [
      "<ipython-input-34-72bfc365a3f2>:14: DeprecationWarning: Call to deprecated `__contains__` (Method will be removed in 4.0.0, use self.wv.__contains__() instead).\n",
      "  np.mean([self.word2vec[w] for w in words if w in self.word2vec], axis=0)\n",
      "<ipython-input-34-72bfc365a3f2>:14: DeprecationWarning: Call to deprecated `__getitem__` (Method will be removed in 4.0.0, use self.wv.__getitem__() instead).\n",
      "  np.mean([self.word2vec[w] for w in words if w in self.word2vec], axis=0)\n"
     ]
    },
    {
     "name": "stdout",
     "output_type": "stream",
     "text": [
      "(1811,)\n",
      "(1811, 550)\n"
     ]
    },
    {
     "name": "stderr",
     "output_type": "stream",
     "text": [
      "<ipython-input-34-72bfc365a3f2>:14: DeprecationWarning: Call to deprecated `__contains__` (Method will be removed in 4.0.0, use self.wv.__contains__() instead).\n",
      "  np.mean([self.word2vec[w] for w in words if w in self.word2vec], axis=0)\n",
      "<ipython-input-34-72bfc365a3f2>:14: DeprecationWarning: Call to deprecated `__getitem__` (Method will be removed in 4.0.0, use self.wv.__getitem__() instead).\n",
      "  np.mean([self.word2vec[w] for w in words if w in self.word2vec], axis=0)\n"
     ]
    },
    {
     "name": "stdout",
     "output_type": "stream",
     "text": [
      "(16302,)\n",
      "(16302, 550)\n"
     ]
    },
    {
     "name": "stderr",
     "output_type": "stream",
     "text": [
      "<ipython-input-34-72bfc365a3f2>:14: DeprecationWarning: Call to deprecated `__contains__` (Method will be removed in 4.0.0, use self.wv.__contains__() instead).\n",
      "  np.mean([self.word2vec[w] for w in words if w in self.word2vec], axis=0)\n",
      "<ipython-input-34-72bfc365a3f2>:14: DeprecationWarning: Call to deprecated `__getitem__` (Method will be removed in 4.0.0, use self.wv.__getitem__() instead).\n",
      "  np.mean([self.word2vec[w] for w in words if w in self.word2vec], axis=0)\n"
     ]
    },
    {
     "name": "stdout",
     "output_type": "stream",
     "text": [
      "(1811,)\n",
      "(1811, 550)\n"
     ]
    },
    {
     "name": "stderr",
     "output_type": "stream",
     "text": [
      "<ipython-input-34-72bfc365a3f2>:14: DeprecationWarning: Call to deprecated `__contains__` (Method will be removed in 4.0.0, use self.wv.__contains__() instead).\n",
      "  np.mean([self.word2vec[w] for w in words if w in self.word2vec], axis=0)\n",
      "<ipython-input-34-72bfc365a3f2>:14: DeprecationWarning: Call to deprecated `__getitem__` (Method will be removed in 4.0.0, use self.wv.__getitem__() instead).\n",
      "  np.mean([self.word2vec[w] for w in words if w in self.word2vec], axis=0)\n"
     ]
    },
    {
     "name": "stdout",
     "output_type": "stream",
     "text": [
      "(16302,)\n",
      "(16302, 550)\n"
     ]
    },
    {
     "name": "stderr",
     "output_type": "stream",
     "text": [
      "<ipython-input-34-72bfc365a3f2>:14: DeprecationWarning: Call to deprecated `__contains__` (Method will be removed in 4.0.0, use self.wv.__contains__() instead).\n",
      "  np.mean([self.word2vec[w] for w in words if w in self.word2vec], axis=0)\n",
      "<ipython-input-34-72bfc365a3f2>:14: DeprecationWarning: Call to deprecated `__getitem__` (Method will be removed in 4.0.0, use self.wv.__getitem__() instead).\n",
      "  np.mean([self.word2vec[w] for w in words if w in self.word2vec], axis=0)\n"
     ]
    },
    {
     "name": "stdout",
     "output_type": "stream",
     "text": [
      "(1811,)\n",
      "(1811, 550)\n"
     ]
    },
    {
     "name": "stderr",
     "output_type": "stream",
     "text": [
      "<ipython-input-34-72bfc365a3f2>:14: DeprecationWarning: Call to deprecated `__contains__` (Method will be removed in 4.0.0, use self.wv.__contains__() instead).\n",
      "  np.mean([self.word2vec[w] for w in words if w in self.word2vec], axis=0)\n",
      "<ipython-input-34-72bfc365a3f2>:14: DeprecationWarning: Call to deprecated `__getitem__` (Method will be removed in 4.0.0, use self.wv.__getitem__() instead).\n",
      "  np.mean([self.word2vec[w] for w in words if w in self.word2vec], axis=0)\n"
     ]
    },
    {
     "name": "stdout",
     "output_type": "stream",
     "text": [
      "(16302,)\n",
      "(16302, 550)\n"
     ]
    },
    {
     "name": "stderr",
     "output_type": "stream",
     "text": [
      "<ipython-input-34-72bfc365a3f2>:14: DeprecationWarning: Call to deprecated `__contains__` (Method will be removed in 4.0.0, use self.wv.__contains__() instead).\n",
      "  np.mean([self.word2vec[w] for w in words if w in self.word2vec], axis=0)\n",
      "<ipython-input-34-72bfc365a3f2>:14: DeprecationWarning: Call to deprecated `__getitem__` (Method will be removed in 4.0.0, use self.wv.__getitem__() instead).\n",
      "  np.mean([self.word2vec[w] for w in words if w in self.word2vec], axis=0)\n"
     ]
    },
    {
     "name": "stdout",
     "output_type": "stream",
     "text": [
      "(1811,)\n",
      "(1811, 550)\n"
     ]
    },
    {
     "name": "stderr",
     "output_type": "stream",
     "text": [
      "<ipython-input-34-72bfc365a3f2>:14: DeprecationWarning: Call to deprecated `__contains__` (Method will be removed in 4.0.0, use self.wv.__contains__() instead).\n",
      "  np.mean([self.word2vec[w] for w in words if w in self.word2vec], axis=0)\n",
      "<ipython-input-34-72bfc365a3f2>:14: DeprecationWarning: Call to deprecated `__getitem__` (Method will be removed in 4.0.0, use self.wv.__getitem__() instead).\n",
      "  np.mean([self.word2vec[w] for w in words if w in self.word2vec], axis=0)\n"
     ]
    },
    {
     "name": "stdout",
     "output_type": "stream",
     "text": [
      "(16302,)\n",
      "(16302, 550)\n"
     ]
    },
    {
     "name": "stderr",
     "output_type": "stream",
     "text": [
      "<ipython-input-34-72bfc365a3f2>:14: DeprecationWarning: Call to deprecated `__contains__` (Method will be removed in 4.0.0, use self.wv.__contains__() instead).\n",
      "  np.mean([self.word2vec[w] for w in words if w in self.word2vec], axis=0)\n",
      "<ipython-input-34-72bfc365a3f2>:14: DeprecationWarning: Call to deprecated `__getitem__` (Method will be removed in 4.0.0, use self.wv.__getitem__() instead).\n",
      "  np.mean([self.word2vec[w] for w in words if w in self.word2vec], axis=0)\n"
     ]
    },
    {
     "name": "stdout",
     "output_type": "stream",
     "text": [
      "(1811,)\n",
      "(1811, 550)\n"
     ]
    },
    {
     "name": "stderr",
     "output_type": "stream",
     "text": [
      "<ipython-input-34-72bfc365a3f2>:14: DeprecationWarning: Call to deprecated `__contains__` (Method will be removed in 4.0.0, use self.wv.__contains__() instead).\n",
      "  np.mean([self.word2vec[w] for w in words if w in self.word2vec], axis=0)\n",
      "<ipython-input-34-72bfc365a3f2>:14: DeprecationWarning: Call to deprecated `__getitem__` (Method will be removed in 4.0.0, use self.wv.__getitem__() instead).\n",
      "  np.mean([self.word2vec[w] for w in words if w in self.word2vec], axis=0)\n"
     ]
    },
    {
     "name": "stdout",
     "output_type": "stream",
     "text": [
      "(16302,)\n",
      "(16302, 550)\n"
     ]
    },
    {
     "name": "stderr",
     "output_type": "stream",
     "text": [
      "<ipython-input-34-72bfc365a3f2>:14: DeprecationWarning: Call to deprecated `__contains__` (Method will be removed in 4.0.0, use self.wv.__contains__() instead).\n",
      "  np.mean([self.word2vec[w] for w in words if w in self.word2vec], axis=0)\n",
      "<ipython-input-34-72bfc365a3f2>:14: DeprecationWarning: Call to deprecated `__getitem__` (Method will be removed in 4.0.0, use self.wv.__getitem__() instead).\n",
      "  np.mean([self.word2vec[w] for w in words if w in self.word2vec], axis=0)\n"
     ]
    },
    {
     "name": "stdout",
     "output_type": "stream",
     "text": [
      "(1811,)\n",
      "(1811, 550)\n"
     ]
    },
    {
     "name": "stderr",
     "output_type": "stream",
     "text": [
      "<ipython-input-34-72bfc365a3f2>:14: DeprecationWarning: Call to deprecated `__contains__` (Method will be removed in 4.0.0, use self.wv.__contains__() instead).\n",
      "  np.mean([self.word2vec[w] for w in words if w in self.word2vec], axis=0)\n",
      "<ipython-input-34-72bfc365a3f2>:14: DeprecationWarning: Call to deprecated `__getitem__` (Method will be removed in 4.0.0, use self.wv.__getitem__() instead).\n",
      "  np.mean([self.word2vec[w] for w in words if w in self.word2vec], axis=0)\n"
     ]
    },
    {
     "name": "stdout",
     "output_type": "stream",
     "text": [
      "(16302,)\n",
      "(16302, 550)\n"
     ]
    },
    {
     "name": "stderr",
     "output_type": "stream",
     "text": [
      "<ipython-input-34-72bfc365a3f2>:14: DeprecationWarning: Call to deprecated `__contains__` (Method will be removed in 4.0.0, use self.wv.__contains__() instead).\n",
      "  np.mean([self.word2vec[w] for w in words if w in self.word2vec], axis=0)\n",
      "<ipython-input-34-72bfc365a3f2>:14: DeprecationWarning: Call to deprecated `__getitem__` (Method will be removed in 4.0.0, use self.wv.__getitem__() instead).\n",
      "  np.mean([self.word2vec[w] for w in words if w in self.word2vec], axis=0)\n"
     ]
    },
    {
     "name": "stdout",
     "output_type": "stream",
     "text": [
      "(1811,)\n",
      "(1811, 550)\n"
     ]
    },
    {
     "name": "stderr",
     "output_type": "stream",
     "text": [
      "<ipython-input-34-72bfc365a3f2>:14: DeprecationWarning: Call to deprecated `__contains__` (Method will be removed in 4.0.0, use self.wv.__contains__() instead).\n",
      "  np.mean([self.word2vec[w] for w in words if w in self.word2vec], axis=0)\n",
      "<ipython-input-34-72bfc365a3f2>:14: DeprecationWarning: Call to deprecated `__getitem__` (Method will be removed in 4.0.0, use self.wv.__getitem__() instead).\n",
      "  np.mean([self.word2vec[w] for w in words if w in self.word2vec], axis=0)\n"
     ]
    },
    {
     "name": "stdout",
     "output_type": "stream",
     "text": [
      "(16301,)\n",
      "(16301, 550)\n"
     ]
    },
    {
     "name": "stderr",
     "output_type": "stream",
     "text": [
      "<ipython-input-34-72bfc365a3f2>:14: DeprecationWarning: Call to deprecated `__contains__` (Method will be removed in 4.0.0, use self.wv.__contains__() instead).\n",
      "  np.mean([self.word2vec[w] for w in words if w in self.word2vec], axis=0)\n",
      "<ipython-input-34-72bfc365a3f2>:14: DeprecationWarning: Call to deprecated `__getitem__` (Method will be removed in 4.0.0, use self.wv.__getitem__() instead).\n",
      "  np.mean([self.word2vec[w] for w in words if w in self.word2vec], axis=0)\n"
     ]
    },
    {
     "name": "stdout",
     "output_type": "stream",
     "text": [
      "(1812,)\n",
      "(1812, 550)\n"
     ]
    },
    {
     "name": "stderr",
     "output_type": "stream",
     "text": [
      "<ipython-input-34-72bfc365a3f2>:14: DeprecationWarning: Call to deprecated `__contains__` (Method will be removed in 4.0.0, use self.wv.__contains__() instead).\n",
      "  np.mean([self.word2vec[w] for w in words if w in self.word2vec], axis=0)\n",
      "<ipython-input-34-72bfc365a3f2>:14: DeprecationWarning: Call to deprecated `__getitem__` (Method will be removed in 4.0.0, use self.wv.__getitem__() instead).\n",
      "  np.mean([self.word2vec[w] for w in words if w in self.word2vec], axis=0)\n"
     ]
    },
    {
     "name": "stdout",
     "output_type": "stream",
     "text": [
      "(16301,)\n",
      "(16301, 550)\n"
     ]
    },
    {
     "name": "stderr",
     "output_type": "stream",
     "text": [
      "<ipython-input-34-72bfc365a3f2>:14: DeprecationWarning: Call to deprecated `__contains__` (Method will be removed in 4.0.0, use self.wv.__contains__() instead).\n",
      "  np.mean([self.word2vec[w] for w in words if w in self.word2vec], axis=0)\n",
      "<ipython-input-34-72bfc365a3f2>:14: DeprecationWarning: Call to deprecated `__getitem__` (Method will be removed in 4.0.0, use self.wv.__getitem__() instead).\n",
      "  np.mean([self.word2vec[w] for w in words if w in self.word2vec], axis=0)\n"
     ]
    },
    {
     "name": "stdout",
     "output_type": "stream",
     "text": [
      "(1812,)\n",
      "(1812, 550)\n"
     ]
    },
    {
     "name": "stderr",
     "output_type": "stream",
     "text": [
      "<ipython-input-34-72bfc365a3f2>:14: DeprecationWarning: Call to deprecated `__contains__` (Method will be removed in 4.0.0, use self.wv.__contains__() instead).\n",
      "  np.mean([self.word2vec[w] for w in words if w in self.word2vec], axis=0)\n",
      "<ipython-input-34-72bfc365a3f2>:14: DeprecationWarning: Call to deprecated `__getitem__` (Method will be removed in 4.0.0, use self.wv.__getitem__() instead).\n",
      "  np.mean([self.word2vec[w] for w in words if w in self.word2vec], axis=0)\n"
     ]
    },
    {
     "name": "stdout",
     "output_type": "stream",
     "text": [
      "(16301,)\n",
      "(16301, 550)\n"
     ]
    },
    {
     "name": "stderr",
     "output_type": "stream",
     "text": [
      "<ipython-input-34-72bfc365a3f2>:14: DeprecationWarning: Call to deprecated `__contains__` (Method will be removed in 4.0.0, use self.wv.__contains__() instead).\n",
      "  np.mean([self.word2vec[w] for w in words if w in self.word2vec], axis=0)\n",
      "<ipython-input-34-72bfc365a3f2>:14: DeprecationWarning: Call to deprecated `__getitem__` (Method will be removed in 4.0.0, use self.wv.__getitem__() instead).\n",
      "  np.mean([self.word2vec[w] for w in words if w in self.word2vec], axis=0)\n"
     ]
    },
    {
     "name": "stdout",
     "output_type": "stream",
     "text": [
      "(1812,)\n",
      "(1812, 550)\n"
     ]
    },
    {
     "name": "stderr",
     "output_type": "stream",
     "text": [
      "<ipython-input-34-72bfc365a3f2>:14: DeprecationWarning: Call to deprecated `__contains__` (Method will be removed in 4.0.0, use self.wv.__contains__() instead).\n",
      "  np.mean([self.word2vec[w] for w in words if w in self.word2vec], axis=0)\n",
      "<ipython-input-34-72bfc365a3f2>:14: DeprecationWarning: Call to deprecated `__getitem__` (Method will be removed in 4.0.0, use self.wv.__getitem__() instead).\n",
      "  np.mean([self.word2vec[w] for w in words if w in self.word2vec], axis=0)\n"
     ]
    },
    {
     "name": "stdout",
     "output_type": "stream",
     "text": [
      "(16302,)\n",
      "(16302, 550)\n"
     ]
    },
    {
     "name": "stderr",
     "output_type": "stream",
     "text": [
      "<ipython-input-34-72bfc365a3f2>:14: DeprecationWarning: Call to deprecated `__contains__` (Method will be removed in 4.0.0, use self.wv.__contains__() instead).\n",
      "  np.mean([self.word2vec[w] for w in words if w in self.word2vec], axis=0)\n",
      "<ipython-input-34-72bfc365a3f2>:14: DeprecationWarning: Call to deprecated `__getitem__` (Method will be removed in 4.0.0, use self.wv.__getitem__() instead).\n",
      "  np.mean([self.word2vec[w] for w in words if w in self.word2vec], axis=0)\n"
     ]
    },
    {
     "name": "stdout",
     "output_type": "stream",
     "text": [
      "(1811,)\n",
      "(1811, 550)\n"
     ]
    },
    {
     "name": "stderr",
     "output_type": "stream",
     "text": [
      "<ipython-input-34-72bfc365a3f2>:14: DeprecationWarning: Call to deprecated `__contains__` (Method will be removed in 4.0.0, use self.wv.__contains__() instead).\n",
      "  np.mean([self.word2vec[w] for w in words if w in self.word2vec], axis=0)\n",
      "<ipython-input-34-72bfc365a3f2>:14: DeprecationWarning: Call to deprecated `__getitem__` (Method will be removed in 4.0.0, use self.wv.__getitem__() instead).\n",
      "  np.mean([self.word2vec[w] for w in words if w in self.word2vec], axis=0)\n"
     ]
    },
    {
     "name": "stdout",
     "output_type": "stream",
     "text": [
      "(16302,)\n",
      "(16302, 550)\n"
     ]
    },
    {
     "name": "stderr",
     "output_type": "stream",
     "text": [
      "<ipython-input-34-72bfc365a3f2>:14: DeprecationWarning: Call to deprecated `__contains__` (Method will be removed in 4.0.0, use self.wv.__contains__() instead).\n",
      "  np.mean([self.word2vec[w] for w in words if w in self.word2vec], axis=0)\n",
      "<ipython-input-34-72bfc365a3f2>:14: DeprecationWarning: Call to deprecated `__getitem__` (Method will be removed in 4.0.0, use self.wv.__getitem__() instead).\n",
      "  np.mean([self.word2vec[w] for w in words if w in self.word2vec], axis=0)\n"
     ]
    },
    {
     "name": "stdout",
     "output_type": "stream",
     "text": [
      "(1811,)\n",
      "(1811, 550)\n"
     ]
    },
    {
     "name": "stderr",
     "output_type": "stream",
     "text": [
      "<ipython-input-34-72bfc365a3f2>:14: DeprecationWarning: Call to deprecated `__contains__` (Method will be removed in 4.0.0, use self.wv.__contains__() instead).\n",
      "  np.mean([self.word2vec[w] for w in words if w in self.word2vec], axis=0)\n",
      "<ipython-input-34-72bfc365a3f2>:14: DeprecationWarning: Call to deprecated `__getitem__` (Method will be removed in 4.0.0, use self.wv.__getitem__() instead).\n",
      "  np.mean([self.word2vec[w] for w in words if w in self.word2vec], axis=0)\n"
     ]
    },
    {
     "name": "stdout",
     "output_type": "stream",
     "text": [
      "(16302,)\n",
      "(16302, 550)\n"
     ]
    },
    {
     "name": "stderr",
     "output_type": "stream",
     "text": [
      "<ipython-input-34-72bfc365a3f2>:14: DeprecationWarning: Call to deprecated `__contains__` (Method will be removed in 4.0.0, use self.wv.__contains__() instead).\n",
      "  np.mean([self.word2vec[w] for w in words if w in self.word2vec], axis=0)\n",
      "<ipython-input-34-72bfc365a3f2>:14: DeprecationWarning: Call to deprecated `__getitem__` (Method will be removed in 4.0.0, use self.wv.__getitem__() instead).\n",
      "  np.mean([self.word2vec[w] for w in words if w in self.word2vec], axis=0)\n"
     ]
    },
    {
     "name": "stdout",
     "output_type": "stream",
     "text": [
      "(1811,)\n",
      "(1811, 550)\n"
     ]
    },
    {
     "name": "stderr",
     "output_type": "stream",
     "text": [
      "<ipython-input-34-72bfc365a3f2>:14: DeprecationWarning: Call to deprecated `__contains__` (Method will be removed in 4.0.0, use self.wv.__contains__() instead).\n",
      "  np.mean([self.word2vec[w] for w in words if w in self.word2vec], axis=0)\n",
      "<ipython-input-34-72bfc365a3f2>:14: DeprecationWarning: Call to deprecated `__getitem__` (Method will be removed in 4.0.0, use self.wv.__getitem__() instead).\n",
      "  np.mean([self.word2vec[w] for w in words if w in self.word2vec], axis=0)\n"
     ]
    },
    {
     "name": "stdout",
     "output_type": "stream",
     "text": [
      "(16302,)\n",
      "(16302, 550)\n"
     ]
    },
    {
     "name": "stderr",
     "output_type": "stream",
     "text": [
      "<ipython-input-34-72bfc365a3f2>:14: DeprecationWarning: Call to deprecated `__contains__` (Method will be removed in 4.0.0, use self.wv.__contains__() instead).\n",
      "  np.mean([self.word2vec[w] for w in words if w in self.word2vec], axis=0)\n",
      "<ipython-input-34-72bfc365a3f2>:14: DeprecationWarning: Call to deprecated `__getitem__` (Method will be removed in 4.0.0, use self.wv.__getitem__() instead).\n",
      "  np.mean([self.word2vec[w] for w in words if w in self.word2vec], axis=0)\n"
     ]
    },
    {
     "name": "stdout",
     "output_type": "stream",
     "text": [
      "(1811,)\n",
      "(1811, 550)\n"
     ]
    },
    {
     "name": "stderr",
     "output_type": "stream",
     "text": [
      "<ipython-input-34-72bfc365a3f2>:14: DeprecationWarning: Call to deprecated `__contains__` (Method will be removed in 4.0.0, use self.wv.__contains__() instead).\n",
      "  np.mean([self.word2vec[w] for w in words if w in self.word2vec], axis=0)\n",
      "<ipython-input-34-72bfc365a3f2>:14: DeprecationWarning: Call to deprecated `__getitem__` (Method will be removed in 4.0.0, use self.wv.__getitem__() instead).\n",
      "  np.mean([self.word2vec[w] for w in words if w in self.word2vec], axis=0)\n"
     ]
    },
    {
     "name": "stdout",
     "output_type": "stream",
     "text": [
      "(16302,)\n",
      "(16302, 550)\n"
     ]
    },
    {
     "name": "stderr",
     "output_type": "stream",
     "text": [
      "<ipython-input-34-72bfc365a3f2>:14: DeprecationWarning: Call to deprecated `__contains__` (Method will be removed in 4.0.0, use self.wv.__contains__() instead).\n",
      "  np.mean([self.word2vec[w] for w in words if w in self.word2vec], axis=0)\n",
      "<ipython-input-34-72bfc365a3f2>:14: DeprecationWarning: Call to deprecated `__getitem__` (Method will be removed in 4.0.0, use self.wv.__getitem__() instead).\n",
      "  np.mean([self.word2vec[w] for w in words if w in self.word2vec], axis=0)\n"
     ]
    },
    {
     "name": "stdout",
     "output_type": "stream",
     "text": [
      "(1811,)\n",
      "(1811, 550)\n"
     ]
    },
    {
     "name": "stderr",
     "output_type": "stream",
     "text": [
      "<ipython-input-34-72bfc365a3f2>:14: DeprecationWarning: Call to deprecated `__contains__` (Method will be removed in 4.0.0, use self.wv.__contains__() instead).\n",
      "  np.mean([self.word2vec[w] for w in words if w in self.word2vec], axis=0)\n",
      "<ipython-input-34-72bfc365a3f2>:14: DeprecationWarning: Call to deprecated `__getitem__` (Method will be removed in 4.0.0, use self.wv.__getitem__() instead).\n",
      "  np.mean([self.word2vec[w] for w in words if w in self.word2vec], axis=0)\n"
     ]
    },
    {
     "name": "stdout",
     "output_type": "stream",
     "text": [
      "(16302,)\n",
      "(16302, 550)\n"
     ]
    },
    {
     "name": "stderr",
     "output_type": "stream",
     "text": [
      "<ipython-input-34-72bfc365a3f2>:14: DeprecationWarning: Call to deprecated `__contains__` (Method will be removed in 4.0.0, use self.wv.__contains__() instead).\n",
      "  np.mean([self.word2vec[w] for w in words if w in self.word2vec], axis=0)\n",
      "<ipython-input-34-72bfc365a3f2>:14: DeprecationWarning: Call to deprecated `__getitem__` (Method will be removed in 4.0.0, use self.wv.__getitem__() instead).\n",
      "  np.mean([self.word2vec[w] for w in words if w in self.word2vec], axis=0)\n"
     ]
    },
    {
     "name": "stdout",
     "output_type": "stream",
     "text": [
      "(1811,)\n",
      "(1811, 550)\n"
     ]
    },
    {
     "name": "stderr",
     "output_type": "stream",
     "text": [
      "<ipython-input-34-72bfc365a3f2>:14: DeprecationWarning: Call to deprecated `__contains__` (Method will be removed in 4.0.0, use self.wv.__contains__() instead).\n",
      "  np.mean([self.word2vec[w] for w in words if w in self.word2vec], axis=0)\n",
      "<ipython-input-34-72bfc365a3f2>:14: DeprecationWarning: Call to deprecated `__getitem__` (Method will be removed in 4.0.0, use self.wv.__getitem__() instead).\n",
      "  np.mean([self.word2vec[w] for w in words if w in self.word2vec], axis=0)\n"
     ]
    },
    {
     "name": "stdout",
     "output_type": "stream",
     "text": [
      "(16302,)\n",
      "(16302, 550)\n"
     ]
    },
    {
     "name": "stderr",
     "output_type": "stream",
     "text": [
      "<ipython-input-34-72bfc365a3f2>:14: DeprecationWarning: Call to deprecated `__contains__` (Method will be removed in 4.0.0, use self.wv.__contains__() instead).\n",
      "  np.mean([self.word2vec[w] for w in words if w in self.word2vec], axis=0)\n",
      "<ipython-input-34-72bfc365a3f2>:14: DeprecationWarning: Call to deprecated `__getitem__` (Method will be removed in 4.0.0, use self.wv.__getitem__() instead).\n",
      "  np.mean([self.word2vec[w] for w in words if w in self.word2vec], axis=0)\n"
     ]
    },
    {
     "name": "stdout",
     "output_type": "stream",
     "text": [
      "(1811,)\n",
      "(1811, 550)\n"
     ]
    },
    {
     "name": "stderr",
     "output_type": "stream",
     "text": [
      "<ipython-input-34-72bfc365a3f2>:14: DeprecationWarning: Call to deprecated `__contains__` (Method will be removed in 4.0.0, use self.wv.__contains__() instead).\n",
      "  np.mean([self.word2vec[w] for w in words if w in self.word2vec], axis=0)\n",
      "<ipython-input-34-72bfc365a3f2>:14: DeprecationWarning: Call to deprecated `__getitem__` (Method will be removed in 4.0.0, use self.wv.__getitem__() instead).\n",
      "  np.mean([self.word2vec[w] for w in words if w in self.word2vec], axis=0)\n"
     ]
    },
    {
     "name": "stdout",
     "output_type": "stream",
     "text": [
      "(16301,)\n",
      "(16301, 550)\n"
     ]
    },
    {
     "name": "stderr",
     "output_type": "stream",
     "text": [
      "<ipython-input-34-72bfc365a3f2>:14: DeprecationWarning: Call to deprecated `__contains__` (Method will be removed in 4.0.0, use self.wv.__contains__() instead).\n",
      "  np.mean([self.word2vec[w] for w in words if w in self.word2vec], axis=0)\n",
      "<ipython-input-34-72bfc365a3f2>:14: DeprecationWarning: Call to deprecated `__getitem__` (Method will be removed in 4.0.0, use self.wv.__getitem__() instead).\n",
      "  np.mean([self.word2vec[w] for w in words if w in self.word2vec], axis=0)\n"
     ]
    },
    {
     "name": "stdout",
     "output_type": "stream",
     "text": [
      "(1812,)\n",
      "(1812, 550)\n"
     ]
    },
    {
     "name": "stderr",
     "output_type": "stream",
     "text": [
      "<ipython-input-34-72bfc365a3f2>:14: DeprecationWarning: Call to deprecated `__contains__` (Method will be removed in 4.0.0, use self.wv.__contains__() instead).\n",
      "  np.mean([self.word2vec[w] for w in words if w in self.word2vec], axis=0)\n",
      "<ipython-input-34-72bfc365a3f2>:14: DeprecationWarning: Call to deprecated `__getitem__` (Method will be removed in 4.0.0, use self.wv.__getitem__() instead).\n",
      "  np.mean([self.word2vec[w] for w in words if w in self.word2vec], axis=0)\n"
     ]
    },
    {
     "name": "stdout",
     "output_type": "stream",
     "text": [
      "(16301,)\n",
      "(16301, 550)\n"
     ]
    },
    {
     "name": "stderr",
     "output_type": "stream",
     "text": [
      "<ipython-input-34-72bfc365a3f2>:14: DeprecationWarning: Call to deprecated `__contains__` (Method will be removed in 4.0.0, use self.wv.__contains__() instead).\n",
      "  np.mean([self.word2vec[w] for w in words if w in self.word2vec], axis=0)\n",
      "<ipython-input-34-72bfc365a3f2>:14: DeprecationWarning: Call to deprecated `__getitem__` (Method will be removed in 4.0.0, use self.wv.__getitem__() instead).\n",
      "  np.mean([self.word2vec[w] for w in words if w in self.word2vec], axis=0)\n"
     ]
    },
    {
     "name": "stdout",
     "output_type": "stream",
     "text": [
      "(1812,)\n",
      "(1812, 550)\n"
     ]
    },
    {
     "name": "stderr",
     "output_type": "stream",
     "text": [
      "<ipython-input-34-72bfc365a3f2>:14: DeprecationWarning: Call to deprecated `__contains__` (Method will be removed in 4.0.0, use self.wv.__contains__() instead).\n",
      "  np.mean([self.word2vec[w] for w in words if w in self.word2vec], axis=0)\n",
      "<ipython-input-34-72bfc365a3f2>:14: DeprecationWarning: Call to deprecated `__getitem__` (Method will be removed in 4.0.0, use self.wv.__getitem__() instead).\n",
      "  np.mean([self.word2vec[w] for w in words if w in self.word2vec], axis=0)\n"
     ]
    },
    {
     "name": "stdout",
     "output_type": "stream",
     "text": [
      "(16301,)\n",
      "(16301, 550)\n"
     ]
    },
    {
     "name": "stderr",
     "output_type": "stream",
     "text": [
      "<ipython-input-34-72bfc365a3f2>:14: DeprecationWarning: Call to deprecated `__contains__` (Method will be removed in 4.0.0, use self.wv.__contains__() instead).\n",
      "  np.mean([self.word2vec[w] for w in words if w in self.word2vec], axis=0)\n",
      "<ipython-input-34-72bfc365a3f2>:14: DeprecationWarning: Call to deprecated `__getitem__` (Method will be removed in 4.0.0, use self.wv.__getitem__() instead).\n",
      "  np.mean([self.word2vec[w] for w in words if w in self.word2vec], axis=0)\n"
     ]
    },
    {
     "name": "stdout",
     "output_type": "stream",
     "text": [
      "(1812,)\n",
      "(1812, 550)\n"
     ]
    },
    {
     "name": "stderr",
     "output_type": "stream",
     "text": [
      "<ipython-input-34-72bfc365a3f2>:14: DeprecationWarning: Call to deprecated `__contains__` (Method will be removed in 4.0.0, use self.wv.__contains__() instead).\n",
      "  np.mean([self.word2vec[w] for w in words if w in self.word2vec], axis=0)\n",
      "<ipython-input-34-72bfc365a3f2>:14: DeprecationWarning: Call to deprecated `__getitem__` (Method will be removed in 4.0.0, use self.wv.__getitem__() instead).\n",
      "  np.mean([self.word2vec[w] for w in words if w in self.word2vec], axis=0)\n"
     ]
    },
    {
     "name": "stdout",
     "output_type": "stream",
     "text": [
      "(16302,)\n",
      "(16302, 550)\n"
     ]
    },
    {
     "name": "stderr",
     "output_type": "stream",
     "text": [
      "<ipython-input-34-72bfc365a3f2>:14: DeprecationWarning: Call to deprecated `__contains__` (Method will be removed in 4.0.0, use self.wv.__contains__() instead).\n",
      "  np.mean([self.word2vec[w] for w in words if w in self.word2vec], axis=0)\n",
      "<ipython-input-34-72bfc365a3f2>:14: DeprecationWarning: Call to deprecated `__getitem__` (Method will be removed in 4.0.0, use self.wv.__getitem__() instead).\n",
      "  np.mean([self.word2vec[w] for w in words if w in self.word2vec], axis=0)\n"
     ]
    },
    {
     "name": "stdout",
     "output_type": "stream",
     "text": [
      "(1811,)\n",
      "(1811, 550)\n"
     ]
    },
    {
     "name": "stderr",
     "output_type": "stream",
     "text": [
      "<ipython-input-34-72bfc365a3f2>:14: DeprecationWarning: Call to deprecated `__contains__` (Method will be removed in 4.0.0, use self.wv.__contains__() instead).\n",
      "  np.mean([self.word2vec[w] for w in words if w in self.word2vec], axis=0)\n",
      "<ipython-input-34-72bfc365a3f2>:14: DeprecationWarning: Call to deprecated `__getitem__` (Method will be removed in 4.0.0, use self.wv.__getitem__() instead).\n",
      "  np.mean([self.word2vec[w] for w in words if w in self.word2vec], axis=0)\n"
     ]
    },
    {
     "name": "stdout",
     "output_type": "stream",
     "text": [
      "(16302,)\n",
      "(16302, 550)\n"
     ]
    },
    {
     "name": "stderr",
     "output_type": "stream",
     "text": [
      "<ipython-input-34-72bfc365a3f2>:14: DeprecationWarning: Call to deprecated `__contains__` (Method will be removed in 4.0.0, use self.wv.__contains__() instead).\n",
      "  np.mean([self.word2vec[w] for w in words if w in self.word2vec], axis=0)\n",
      "<ipython-input-34-72bfc365a3f2>:14: DeprecationWarning: Call to deprecated `__getitem__` (Method will be removed in 4.0.0, use self.wv.__getitem__() instead).\n",
      "  np.mean([self.word2vec[w] for w in words if w in self.word2vec], axis=0)\n"
     ]
    },
    {
     "name": "stdout",
     "output_type": "stream",
     "text": [
      "(1811,)\n",
      "(1811, 550)\n"
     ]
    },
    {
     "name": "stderr",
     "output_type": "stream",
     "text": [
      "<ipython-input-34-72bfc365a3f2>:14: DeprecationWarning: Call to deprecated `__contains__` (Method will be removed in 4.0.0, use self.wv.__contains__() instead).\n",
      "  np.mean([self.word2vec[w] for w in words if w in self.word2vec], axis=0)\n",
      "<ipython-input-34-72bfc365a3f2>:14: DeprecationWarning: Call to deprecated `__getitem__` (Method will be removed in 4.0.0, use self.wv.__getitem__() instead).\n",
      "  np.mean([self.word2vec[w] for w in words if w in self.word2vec], axis=0)\n"
     ]
    },
    {
     "name": "stdout",
     "output_type": "stream",
     "text": [
      "(16302,)\n",
      "(16302, 550)\n"
     ]
    },
    {
     "name": "stderr",
     "output_type": "stream",
     "text": [
      "<ipython-input-34-72bfc365a3f2>:14: DeprecationWarning: Call to deprecated `__contains__` (Method will be removed in 4.0.0, use self.wv.__contains__() instead).\n",
      "  np.mean([self.word2vec[w] for w in words if w in self.word2vec], axis=0)\n",
      "<ipython-input-34-72bfc365a3f2>:14: DeprecationWarning: Call to deprecated `__getitem__` (Method will be removed in 4.0.0, use self.wv.__getitem__() instead).\n",
      "  np.mean([self.word2vec[w] for w in words if w in self.word2vec], axis=0)\n"
     ]
    },
    {
     "name": "stdout",
     "output_type": "stream",
     "text": [
      "(1811,)\n",
      "(1811, 550)\n"
     ]
    },
    {
     "name": "stderr",
     "output_type": "stream",
     "text": [
      "<ipython-input-34-72bfc365a3f2>:14: DeprecationWarning: Call to deprecated `__contains__` (Method will be removed in 4.0.0, use self.wv.__contains__() instead).\n",
      "  np.mean([self.word2vec[w] for w in words if w in self.word2vec], axis=0)\n",
      "<ipython-input-34-72bfc365a3f2>:14: DeprecationWarning: Call to deprecated `__getitem__` (Method will be removed in 4.0.0, use self.wv.__getitem__() instead).\n",
      "  np.mean([self.word2vec[w] for w in words if w in self.word2vec], axis=0)\n"
     ]
    },
    {
     "name": "stdout",
     "output_type": "stream",
     "text": [
      "(16302,)\n",
      "(16302, 550)\n"
     ]
    },
    {
     "name": "stderr",
     "output_type": "stream",
     "text": [
      "<ipython-input-34-72bfc365a3f2>:14: DeprecationWarning: Call to deprecated `__contains__` (Method will be removed in 4.0.0, use self.wv.__contains__() instead).\n",
      "  np.mean([self.word2vec[w] for w in words if w in self.word2vec], axis=0)\n",
      "<ipython-input-34-72bfc365a3f2>:14: DeprecationWarning: Call to deprecated `__getitem__` (Method will be removed in 4.0.0, use self.wv.__getitem__() instead).\n",
      "  np.mean([self.word2vec[w] for w in words if w in self.word2vec], axis=0)\n"
     ]
    },
    {
     "name": "stdout",
     "output_type": "stream",
     "text": [
      "(1811,)\n",
      "(1811, 550)\n"
     ]
    },
    {
     "name": "stderr",
     "output_type": "stream",
     "text": [
      "<ipython-input-34-72bfc365a3f2>:14: DeprecationWarning: Call to deprecated `__contains__` (Method will be removed in 4.0.0, use self.wv.__contains__() instead).\n",
      "  np.mean([self.word2vec[w] for w in words if w in self.word2vec], axis=0)\n",
      "<ipython-input-34-72bfc365a3f2>:14: DeprecationWarning: Call to deprecated `__getitem__` (Method will be removed in 4.0.0, use self.wv.__getitem__() instead).\n",
      "  np.mean([self.word2vec[w] for w in words if w in self.word2vec], axis=0)\n"
     ]
    },
    {
     "name": "stdout",
     "output_type": "stream",
     "text": [
      "(16302,)\n",
      "(16302, 550)\n"
     ]
    },
    {
     "name": "stderr",
     "output_type": "stream",
     "text": [
      "<ipython-input-34-72bfc365a3f2>:14: DeprecationWarning: Call to deprecated `__contains__` (Method will be removed in 4.0.0, use self.wv.__contains__() instead).\n",
      "  np.mean([self.word2vec[w] for w in words if w in self.word2vec], axis=0)\n",
      "<ipython-input-34-72bfc365a3f2>:14: DeprecationWarning: Call to deprecated `__getitem__` (Method will be removed in 4.0.0, use self.wv.__getitem__() instead).\n",
      "  np.mean([self.word2vec[w] for w in words if w in self.word2vec], axis=0)\n"
     ]
    },
    {
     "name": "stdout",
     "output_type": "stream",
     "text": [
      "(1811,)\n",
      "(1811, 550)\n"
     ]
    },
    {
     "name": "stderr",
     "output_type": "stream",
     "text": [
      "<ipython-input-34-72bfc365a3f2>:14: DeprecationWarning: Call to deprecated `__contains__` (Method will be removed in 4.0.0, use self.wv.__contains__() instead).\n",
      "  np.mean([self.word2vec[w] for w in words if w in self.word2vec], axis=0)\n",
      "<ipython-input-34-72bfc365a3f2>:14: DeprecationWarning: Call to deprecated `__getitem__` (Method will be removed in 4.0.0, use self.wv.__getitem__() instead).\n",
      "  np.mean([self.word2vec[w] for w in words if w in self.word2vec], axis=0)\n"
     ]
    },
    {
     "name": "stdout",
     "output_type": "stream",
     "text": [
      "(16302,)\n",
      "(16302, 550)\n"
     ]
    },
    {
     "name": "stderr",
     "output_type": "stream",
     "text": [
      "<ipython-input-34-72bfc365a3f2>:14: DeprecationWarning: Call to deprecated `__contains__` (Method will be removed in 4.0.0, use self.wv.__contains__() instead).\n",
      "  np.mean([self.word2vec[w] for w in words if w in self.word2vec], axis=0)\n",
      "<ipython-input-34-72bfc365a3f2>:14: DeprecationWarning: Call to deprecated `__getitem__` (Method will be removed in 4.0.0, use self.wv.__getitem__() instead).\n",
      "  np.mean([self.word2vec[w] for w in words if w in self.word2vec], axis=0)\n"
     ]
    },
    {
     "name": "stdout",
     "output_type": "stream",
     "text": [
      "(1811,)\n",
      "(1811, 550)\n"
     ]
    },
    {
     "name": "stderr",
     "output_type": "stream",
     "text": [
      "<ipython-input-34-72bfc365a3f2>:14: DeprecationWarning: Call to deprecated `__contains__` (Method will be removed in 4.0.0, use self.wv.__contains__() instead).\n",
      "  np.mean([self.word2vec[w] for w in words if w in self.word2vec], axis=0)\n",
      "<ipython-input-34-72bfc365a3f2>:14: DeprecationWarning: Call to deprecated `__getitem__` (Method will be removed in 4.0.0, use self.wv.__getitem__() instead).\n",
      "  np.mean([self.word2vec[w] for w in words if w in self.word2vec], axis=0)\n"
     ]
    },
    {
     "name": "stdout",
     "output_type": "stream",
     "text": [
      "(16302,)\n",
      "(16302, 550)\n"
     ]
    },
    {
     "name": "stderr",
     "output_type": "stream",
     "text": [
      "<ipython-input-34-72bfc365a3f2>:14: DeprecationWarning: Call to deprecated `__contains__` (Method will be removed in 4.0.0, use self.wv.__contains__() instead).\n",
      "  np.mean([self.word2vec[w] for w in words if w in self.word2vec], axis=0)\n",
      "<ipython-input-34-72bfc365a3f2>:14: DeprecationWarning: Call to deprecated `__getitem__` (Method will be removed in 4.0.0, use self.wv.__getitem__() instead).\n",
      "  np.mean([self.word2vec[w] for w in words if w in self.word2vec], axis=0)\n"
     ]
    },
    {
     "name": "stdout",
     "output_type": "stream",
     "text": [
      "(1811,)\n",
      "(1811, 550)\n"
     ]
    },
    {
     "name": "stderr",
     "output_type": "stream",
     "text": [
      "<ipython-input-34-72bfc365a3f2>:14: DeprecationWarning: Call to deprecated `__contains__` (Method will be removed in 4.0.0, use self.wv.__contains__() instead).\n",
      "  np.mean([self.word2vec[w] for w in words if w in self.word2vec], axis=0)\n",
      "<ipython-input-34-72bfc365a3f2>:14: DeprecationWarning: Call to deprecated `__getitem__` (Method will be removed in 4.0.0, use self.wv.__getitem__() instead).\n",
      "  np.mean([self.word2vec[w] for w in words if w in self.word2vec], axis=0)\n"
     ]
    },
    {
     "name": "stdout",
     "output_type": "stream",
     "text": [
      "(18113,)\n",
      "(18113, 550)\n"
     ]
    },
    {
     "name": "stderr",
     "output_type": "stream",
     "text": [
      "<ipython-input-34-72bfc365a3f2>:14: DeprecationWarning: Call to deprecated `__contains__` (Method will be removed in 4.0.0, use self.wv.__contains__() instead).\n",
      "  np.mean([self.word2vec[w] for w in words if w in self.word2vec], axis=0)\n",
      "<ipython-input-34-72bfc365a3f2>:14: DeprecationWarning: Call to deprecated `__getitem__` (Method will be removed in 4.0.0, use self.wv.__getitem__() instead).\n",
      "  np.mean([self.word2vec[w] for w in words if w in self.word2vec], axis=0)\n"
     ]
    },
    {
     "name": "stdout",
     "output_type": "stream",
     "text": [
      "(4529,)\n",
      "(4529, 550)\n",
      "Best params are : {'clf__C': 9, 'clf__kernel': 'linear'}\n",
      "Best training accuracy: 0.868\n",
      "model score: 0.772\n",
      "[[ 687  344]\n",
      " [ 237 3261]]\n",
      "              precision    recall  f1-score   support\n",
      "\n",
      "           0       0.74      0.67      0.70      1031\n",
      "           1       0.90      0.93      0.92      3498\n",
      "\n",
      "    accuracy                           0.87      4529\n",
      "   macro avg       0.82      0.80      0.81      4529\n",
      "weighted avg       0.87      0.87      0.87      4529\n",
      "\n",
      "Accuracy Score: 0.8717156105100463\n",
      "F1 Score: 0.9182035759538224\n",
      "Average precision-recall score: 0.8956186035323673\n"
     ]
    },
    {
     "name": "stderr",
     "output_type": "stream",
     "text": [
      "<ipython-input-34-72bfc365a3f2>:14: DeprecationWarning: Call to deprecated `__contains__` (Method will be removed in 4.0.0, use self.wv.__contains__() instead).\n",
      "  np.mean([self.word2vec[w] for w in words if w in self.word2vec], axis=0)\n",
      "<ipython-input-34-72bfc365a3f2>:14: DeprecationWarning: Call to deprecated `__getitem__` (Method will be removed in 4.0.0, use self.wv.__getitem__() instead).\n",
      "  np.mean([self.word2vec[w] for w in words if w in self.word2vec], axis=0)\n"
     ]
    },
    {
     "name": "stdout",
     "output_type": "stream",
     "text": [
      "(4529,)\n",
      "(4529, 550)\n"
     ]
    },
    {
     "data": {
      "image/png": "[encoded data removed]",
      "text/plain": [
       "<Figure size 432x288 with 1 Axes>"
      ]
     },
     "metadata": {
      "needs_background": "light"
     },
     "output_type": "display_data"
    },
    {
     "name": "stdout",
     "output_type": "stream",
     "text": [
      "RandomForestClassifier()\n",
      "\n",
      "Estimator: [{'clf__criterion': ['gini', 'entropy'], 'clf__max_depth': [9, 10], 'clf__min_samples_split': [10]}]\n"
     ]
    },
    {
     "name": "stderr",
     "output_type": "stream",
     "text": [
      "<ipython-input-34-72bfc365a3f2>:14: DeprecationWarning: Call to deprecated `__contains__` (Method will be removed in 4.0.0, use self.wv.__contains__() instead).\n",
      "  np.mean([self.word2vec[w] for w in words if w in self.word2vec], axis=0)\n",
      "<ipython-input-34-72bfc365a3f2>:14: DeprecationWarning: Call to deprecated `__getitem__` (Method will be removed in 4.0.0, use self.wv.__getitem__() instead).\n",
      "  np.mean([self.word2vec[w] for w in words if w in self.word2vec], axis=0)\n"
     ]
    },
    {
     "name": "stdout",
     "output_type": "stream",
     "text": [
      "(16301,)\n",
      "(16301, 550)\n"
     ]
    },
    {
     "name": "stderr",
     "output_type": "stream",
     "text": [
      "<ipython-input-34-72bfc365a3f2>:14: DeprecationWarning: Call to deprecated `__contains__` (Method will be removed in 4.0.0, use self.wv.__contains__() instead).\n",
      "  np.mean([self.word2vec[w] for w in words if w in self.word2vec], axis=0)\n",
      "<ipython-input-34-72bfc365a3f2>:14: DeprecationWarning: Call to deprecated `__getitem__` (Method will be removed in 4.0.0, use self.wv.__getitem__() instead).\n",
      "  np.mean([self.word2vec[w] for w in words if w in self.word2vec], axis=0)\n"
     ]
    },
    {
     "name": "stdout",
     "output_type": "stream",
     "text": [
      "(1812,)\n",
      "(1812, 550)\n"
     ]
    },
    {
     "name": "stderr",
     "output_type": "stream",
     "text": [
      "<ipython-input-34-72bfc365a3f2>:14: DeprecationWarning: Call to deprecated `__contains__` (Method will be removed in 4.0.0, use self.wv.__contains__() instead).\n",
      "  np.mean([self.word2vec[w] for w in words if w in self.word2vec], axis=0)\n",
      "<ipython-input-34-72bfc365a3f2>:14: DeprecationWarning: Call to deprecated `__getitem__` (Method will be removed in 4.0.0, use self.wv.__getitem__() instead).\n",
      "  np.mean([self.word2vec[w] for w in words if w in self.word2vec], axis=0)\n"
     ]
    },
    {
     "name": "stdout",
     "output_type": "stream",
     "text": [
      "(16301,)\n",
      "(16301, 550)\n"
     ]
    },
    {
     "name": "stderr",
     "output_type": "stream",
     "text": [
      "<ipython-input-34-72bfc365a3f2>:14: DeprecationWarning: Call to deprecated `__contains__` (Method will be removed in 4.0.0, use self.wv.__contains__() instead).\n",
      "  np.mean([self.word2vec[w] for w in words if w in self.word2vec], axis=0)\n",
      "<ipython-input-34-72bfc365a3f2>:14: DeprecationWarning: Call to deprecated `__getitem__` (Method will be removed in 4.0.0, use self.wv.__getitem__() instead).\n",
      "  np.mean([self.word2vec[w] for w in words if w in self.word2vec], axis=0)\n"
     ]
    },
    {
     "name": "stdout",
     "output_type": "stream",
     "text": [
      "(1812,)\n",
      "(1812, 550)\n"
     ]
    },
    {
     "name": "stderr",
     "output_type": "stream",
     "text": [
      "<ipython-input-34-72bfc365a3f2>:14: DeprecationWarning: Call to deprecated `__contains__` (Method will be removed in 4.0.0, use self.wv.__contains__() instead).\n",
      "  np.mean([self.word2vec[w] for w in words if w in self.word2vec], axis=0)\n",
      "<ipython-input-34-72bfc365a3f2>:14: DeprecationWarning: Call to deprecated `__getitem__` (Method will be removed in 4.0.0, use self.wv.__getitem__() instead).\n",
      "  np.mean([self.word2vec[w] for w in words if w in self.word2vec], axis=0)\n"
     ]
    },
    {
     "name": "stdout",
     "output_type": "stream",
     "text": [
      "(16301,)\n",
      "(16301, 550)\n"
     ]
    },
    {
     "name": "stderr",
     "output_type": "stream",
     "text": [
      "<ipython-input-34-72bfc365a3f2>:14: DeprecationWarning: Call to deprecated `__contains__` (Method will be removed in 4.0.0, use self.wv.__contains__() instead).\n",
      "  np.mean([self.word2vec[w] for w in words if w in self.word2vec], axis=0)\n",
      "<ipython-input-34-72bfc365a3f2>:14: DeprecationWarning: Call to deprecated `__getitem__` (Method will be removed in 4.0.0, use self.wv.__getitem__() instead).\n",
      "  np.mean([self.word2vec[w] for w in words if w in self.word2vec], axis=0)\n"
     ]
    },
    {
     "name": "stdout",
     "output_type": "stream",
     "text": [
      "(1812,)\n",
      "(1812, 550)\n"
     ]
    },
    {
     "name": "stderr",
     "output_type": "stream",
     "text": [
      "<ipython-input-34-72bfc365a3f2>:14: DeprecationWarning: Call to deprecated `__contains__` (Method will be removed in 4.0.0, use self.wv.__contains__() instead).\n",
      "  np.mean([self.word2vec[w] for w in words if w in self.word2vec], axis=0)\n",
      "<ipython-input-34-72bfc365a3f2>:14: DeprecationWarning: Call to deprecated `__getitem__` (Method will be removed in 4.0.0, use self.wv.__getitem__() instead).\n",
      "  np.mean([self.word2vec[w] for w in words if w in self.word2vec], axis=0)\n"
     ]
    },
    {
     "name": "stdout",
     "output_type": "stream",
     "text": [
      "(16302,)\n",
      "(16302, 550)\n"
     ]
    },
    {
     "name": "stderr",
     "output_type": "stream",
     "text": [
      "<ipython-input-34-72bfc365a3f2>:14: DeprecationWarning: Call to deprecated `__contains__` (Method will be removed in 4.0.0, use self.wv.__contains__() instead).\n",
      "  np.mean([self.word2vec[w] for w in words if w in self.word2vec], axis=0)\n",
      "<ipython-input-34-72bfc365a3f2>:14: DeprecationWarning: Call to deprecated `__getitem__` (Method will be removed in 4.0.0, use self.wv.__getitem__() instead).\n",
      "  np.mean([self.word2vec[w] for w in words if w in self.word2vec], axis=0)\n"
     ]
    },
    {
     "name": "stdout",
     "output_type": "stream",
     "text": [
      "(1811,)\n",
      "(1811, 550)\n"
     ]
    },
    {
     "name": "stderr",
     "output_type": "stream",
     "text": [
      "<ipython-input-34-72bfc365a3f2>:14: DeprecationWarning: Call to deprecated `__contains__` (Method will be removed in 4.0.0, use self.wv.__contains__() instead).\n",
      "  np.mean([self.word2vec[w] for w in words if w in self.word2vec], axis=0)\n",
      "<ipython-input-34-72bfc365a3f2>:14: DeprecationWarning: Call to deprecated `__getitem__` (Method will be removed in 4.0.0, use self.wv.__getitem__() instead).\n",
      "  np.mean([self.word2vec[w] for w in words if w in self.word2vec], axis=0)\n"
     ]
    },
    {
     "name": "stdout",
     "output_type": "stream",
     "text": [
      "(16302,)\n",
      "(16302, 550)\n"
     ]
    },
    {
     "name": "stderr",
     "output_type": "stream",
     "text": [
      "<ipython-input-34-72bfc365a3f2>:14: DeprecationWarning: Call to deprecated `__contains__` (Method will be removed in 4.0.0, use self.wv.__contains__() instead).\n",
      "  np.mean([self.word2vec[w] for w in words if w in self.word2vec], axis=0)\n",
      "<ipython-input-34-72bfc365a3f2>:14: DeprecationWarning: Call to deprecated `__getitem__` (Method will be removed in 4.0.0, use self.wv.__getitem__() instead).\n",
      "  np.mean([self.word2vec[w] for w in words if w in self.word2vec], axis=0)\n"
     ]
    },
    {
     "name": "stdout",
     "output_type": "stream",
     "text": [
      "(1811,)\n",
      "(1811, 550)\n"
     ]
    },
    {
     "name": "stderr",
     "output_type": "stream",
     "text": [
      "<ipython-input-34-72bfc365a3f2>:14: DeprecationWarning: Call to deprecated `__contains__` (Method will be removed in 4.0.0, use self.wv.__contains__() instead).\n",
      "  np.mean([self.word2vec[w] for w in words if w in self.word2vec], axis=0)\n",
      "<ipython-input-34-72bfc365a3f2>:14: DeprecationWarning: Call to deprecated `__getitem__` (Method will be removed in 4.0.0, use self.wv.__getitem__() instead).\n",
      "  np.mean([self.word2vec[w] for w in words if w in self.word2vec], axis=0)\n"
     ]
    },
    {
     "name": "stdout",
     "output_type": "stream",
     "text": [
      "(16302,)\n",
      "(16302, 550)\n"
     ]
    },
    {
     "name": "stderr",
     "output_type": "stream",
     "text": [
      "<ipython-input-34-72bfc365a3f2>:14: DeprecationWarning: Call to deprecated `__contains__` (Method will be removed in 4.0.0, use self.wv.__contains__() instead).\n",
      "  np.mean([self.word2vec[w] for w in words if w in self.word2vec], axis=0)\n",
      "<ipython-input-34-72bfc365a3f2>:14: DeprecationWarning: Call to deprecated `__getitem__` (Method will be removed in 4.0.0, use self.wv.__getitem__() instead).\n",
      "  np.mean([self.word2vec[w] for w in words if w in self.word2vec], axis=0)\n"
     ]
    },
    {
     "name": "stdout",
     "output_type": "stream",
     "text": [
      "(1811,)\n",
      "(1811, 550)\n"
     ]
    },
    {
     "name": "stderr",
     "output_type": "stream",
     "text": [
      "<ipython-input-34-72bfc365a3f2>:14: DeprecationWarning: Call to deprecated `__contains__` (Method will be removed in 4.0.0, use self.wv.__contains__() instead).\n",
      "  np.mean([self.word2vec[w] for w in words if w in self.word2vec], axis=0)\n",
      "<ipython-input-34-72bfc365a3f2>:14: DeprecationWarning: Call to deprecated `__getitem__` (Method will be removed in 4.0.0, use self.wv.__getitem__() instead).\n",
      "  np.mean([self.word2vec[w] for w in words if w in self.word2vec], axis=0)\n"
     ]
    },
    {
     "name": "stdout",
     "output_type": "stream",
     "text": [
      "(16302,)\n",
      "(16302, 550)\n"
     ]
    },
    {
     "name": "stderr",
     "output_type": "stream",
     "text": [
      "<ipython-input-34-72bfc365a3f2>:14: DeprecationWarning: Call to deprecated `__contains__` (Method will be removed in 4.0.0, use self.wv.__contains__() instead).\n",
      "  np.mean([self.word2vec[w] for w in words if w in self.word2vec], axis=0)\n",
      "<ipython-input-34-72bfc365a3f2>:14: DeprecationWarning: Call to deprecated `__getitem__` (Method will be removed in 4.0.0, use self.wv.__getitem__() instead).\n",
      "  np.mean([self.word2vec[w] for w in words if w in self.word2vec], axis=0)\n"
     ]
    },
    {
     "name": "stdout",
     "output_type": "stream",
     "text": [
      "(1811,)\n",
      "(1811, 550)\n"
     ]
    },
    {
     "name": "stderr",
     "output_type": "stream",
     "text": [
      "<ipython-input-34-72bfc365a3f2>:14: DeprecationWarning: Call to deprecated `__contains__` (Method will be removed in 4.0.0, use self.wv.__contains__() instead).\n",
      "  np.mean([self.word2vec[w] for w in words if w in self.word2vec], axis=0)\n",
      "<ipython-input-34-72bfc365a3f2>:14: DeprecationWarning: Call to deprecated `__getitem__` (Method will be removed in 4.0.0, use self.wv.__getitem__() instead).\n",
      "  np.mean([self.word2vec[w] for w in words if w in self.word2vec], axis=0)\n"
     ]
    },
    {
     "name": "stdout",
     "output_type": "stream",
     "text": [
      "(16302,)\n",
      "(16302, 550)\n"
     ]
    },
    {
     "name": "stderr",
     "output_type": "stream",
     "text": [
      "<ipython-input-34-72bfc365a3f2>:14: DeprecationWarning: Call to deprecated `__contains__` (Method will be removed in 4.0.0, use self.wv.__contains__() instead).\n",
      "  np.mean([self.word2vec[w] for w in words if w in self.word2vec], axis=0)\n",
      "<ipython-input-34-72bfc365a3f2>:14: DeprecationWarning: Call to deprecated `__getitem__` (Method will be removed in 4.0.0, use self.wv.__getitem__() instead).\n",
      "  np.mean([self.word2vec[w] for w in words if w in self.word2vec], axis=0)\n"
     ]
    },
    {
     "name": "stdout",
     "output_type": "stream",
     "text": [
      "(1811,)\n",
      "(1811, 550)\n"
     ]
    },
    {
     "name": "stderr",
     "output_type": "stream",
     "text": [
      "<ipython-input-34-72bfc365a3f2>:14: DeprecationWarning: Call to deprecated `__contains__` (Method will be removed in 4.0.0, use self.wv.__contains__() instead).\n",
      "  np.mean([self.word2vec[w] for w in words if w in self.word2vec], axis=0)\n",
      "<ipython-input-34-72bfc365a3f2>:14: DeprecationWarning: Call to deprecated `__getitem__` (Method will be removed in 4.0.0, use self.wv.__getitem__() instead).\n",
      "  np.mean([self.word2vec[w] for w in words if w in self.word2vec], axis=0)\n"
     ]
    },
    {
     "name": "stdout",
     "output_type": "stream",
     "text": [
      "(16302,)\n",
      "(16302, 550)\n"
     ]
    },
    {
     "name": "stderr",
     "output_type": "stream",
     "text": [
      "<ipython-input-34-72bfc365a3f2>:14: DeprecationWarning: Call to deprecated `__contains__` (Method will be removed in 4.0.0, use self.wv.__contains__() instead).\n",
      "  np.mean([self.word2vec[w] for w in words if w in self.word2vec], axis=0)\n",
      "<ipython-input-34-72bfc365a3f2>:14: DeprecationWarning: Call to deprecated `__getitem__` (Method will be removed in 4.0.0, use self.wv.__getitem__() instead).\n",
      "  np.mean([self.word2vec[w] for w in words if w in self.word2vec], axis=0)\n"
     ]
    },
    {
     "name": "stdout",
     "output_type": "stream",
     "text": [
      "(1811,)\n",
      "(1811, 550)\n"
     ]
    },
    {
     "name": "stderr",
     "output_type": "stream",
     "text": [
      "<ipython-input-34-72bfc365a3f2>:14: DeprecationWarning: Call to deprecated `__contains__` (Method will be removed in 4.0.0, use self.wv.__contains__() instead).\n",
      "  np.mean([self.word2vec[w] for w in words if w in self.word2vec], axis=0)\n",
      "<ipython-input-34-72bfc365a3f2>:14: DeprecationWarning: Call to deprecated `__getitem__` (Method will be removed in 4.0.0, use self.wv.__getitem__() instead).\n",
      "  np.mean([self.word2vec[w] for w in words if w in self.word2vec], axis=0)\n"
     ]
    },
    {
     "name": "stdout",
     "output_type": "stream",
     "text": [
      "(16302,)\n",
      "(16302, 550)\n"
     ]
    },
    {
     "name": "stderr",
     "output_type": "stream",
     "text": [
      "<ipython-input-34-72bfc365a3f2>:14: DeprecationWarning: Call to deprecated `__contains__` (Method will be removed in 4.0.0, use self.wv.__contains__() instead).\n",
      "  np.mean([self.word2vec[w] for w in words if w in self.word2vec], axis=0)\n",
      "<ipython-input-34-72bfc365a3f2>:14: DeprecationWarning: Call to deprecated `__getitem__` (Method will be removed in 4.0.0, use self.wv.__getitem__() instead).\n",
      "  np.mean([self.word2vec[w] for w in words if w in self.word2vec], axis=0)\n"
     ]
    },
    {
     "name": "stdout",
     "output_type": "stream",
     "text": [
      "(1811,)\n",
      "(1811, 550)\n"
     ]
    },
    {
     "name": "stderr",
     "output_type": "stream",
     "text": [
      "<ipython-input-34-72bfc365a3f2>:14: DeprecationWarning: Call to deprecated `__contains__` (Method will be removed in 4.0.0, use self.wv.__contains__() instead).\n",
      "  np.mean([self.word2vec[w] for w in words if w in self.word2vec], axis=0)\n",
      "<ipython-input-34-72bfc365a3f2>:14: DeprecationWarning: Call to deprecated `__getitem__` (Method will be removed in 4.0.0, use self.wv.__getitem__() instead).\n",
      "  np.mean([self.word2vec[w] for w in words if w in self.word2vec], axis=0)\n"
     ]
    },
    {
     "name": "stdout",
     "output_type": "stream",
     "text": [
      "(16301,)\n",
      "(16301, 550)\n"
     ]
    },
    {
     "name": "stderr",
     "output_type": "stream",
     "text": [
      "<ipython-input-34-72bfc365a3f2>:14: DeprecationWarning: Call to deprecated `__contains__` (Method will be removed in 4.0.0, use self.wv.__contains__() instead).\n",
      "  np.mean([self.word2vec[w] for w in words if w in self.word2vec], axis=0)\n",
      "<ipython-input-34-72bfc365a3f2>:14: DeprecationWarning: Call to deprecated `__getitem__` (Method will be removed in 4.0.0, use self.wv.__getitem__() instead).\n",
      "  np.mean([self.word2vec[w] for w in words if w in self.word2vec], axis=0)\n"
     ]
    },
    {
     "name": "stdout",
     "output_type": "stream",
     "text": [
      "(1812,)\n",
      "(1812, 550)\n"
     ]
    },
    {
     "name": "stderr",
     "output_type": "stream",
     "text": [
      "<ipython-input-34-72bfc365a3f2>:14: DeprecationWarning: Call to deprecated `__contains__` (Method will be removed in 4.0.0, use self.wv.__contains__() instead).\n",
      "  np.mean([self.word2vec[w] for w in words if w in self.word2vec], axis=0)\n",
      "<ipython-input-34-72bfc365a3f2>:14: DeprecationWarning: Call to deprecated `__getitem__` (Method will be removed in 4.0.0, use self.wv.__getitem__() instead).\n",
      "  np.mean([self.word2vec[w] for w in words if w in self.word2vec], axis=0)\n"
     ]
    },
    {
     "name": "stdout",
     "output_type": "stream",
     "text": [
      "(16301,)\n",
      "(16301, 550)\n"
     ]
    },
    {
     "name": "stderr",
     "output_type": "stream",
     "text": [
      "<ipython-input-34-72bfc365a3f2>:14: DeprecationWarning: Call to deprecated `__contains__` (Method will be removed in 4.0.0, use self.wv.__contains__() instead).\n",
      "  np.mean([self.word2vec[w] for w in words if w in self.word2vec], axis=0)\n",
      "<ipython-input-34-72bfc365a3f2>:14: DeprecationWarning: Call to deprecated `__getitem__` (Method will be removed in 4.0.0, use self.wv.__getitem__() instead).\n",
      "  np.mean([self.word2vec[w] for w in words if w in self.word2vec], axis=0)\n"
     ]
    },
    {
     "name": "stdout",
     "output_type": "stream",
     "text": [
      "(1812,)\n",
      "(1812, 550)\n"
     ]
    },
    {
     "name": "stderr",
     "output_type": "stream",
     "text": [
      "<ipython-input-34-72bfc365a3f2>:14: DeprecationWarning: Call to deprecated `__contains__` (Method will be removed in 4.0.0, use self.wv.__contains__() instead).\n",
      "  np.mean([self.word2vec[w] for w in words if w in self.word2vec], axis=0)\n",
      "<ipython-input-34-72bfc365a3f2>:14: DeprecationWarning: Call to deprecated `__getitem__` (Method will be removed in 4.0.0, use self.wv.__getitem__() instead).\n",
      "  np.mean([self.word2vec[w] for w in words if w in self.word2vec], axis=0)\n"
     ]
    },
    {
     "name": "stdout",
     "output_type": "stream",
     "text": [
      "(16301,)\n",
      "(16301, 550)\n"
     ]
    },
    {
     "name": "stderr",
     "output_type": "stream",
     "text": [
      "<ipython-input-34-72bfc365a3f2>:14: DeprecationWarning: Call to deprecated `__contains__` (Method will be removed in 4.0.0, use self.wv.__contains__() instead).\n",
      "  np.mean([self.word2vec[w] for w in words if w in self.word2vec], axis=0)\n",
      "<ipython-input-34-72bfc365a3f2>:14: DeprecationWarning: Call to deprecated `__getitem__` (Method will be removed in 4.0.0, use self.wv.__getitem__() instead).\n",
      "  np.mean([self.word2vec[w] for w in words if w in self.word2vec], axis=0)\n"
     ]
    },
    {
     "name": "stdout",
     "output_type": "stream",
     "text": [
      "(1812,)\n",
      "(1812, 550)\n"
     ]
    },
    {
     "name": "stderr",
     "output_type": "stream",
     "text": [
      "<ipython-input-34-72bfc365a3f2>:14: DeprecationWarning: Call to deprecated `__contains__` (Method will be removed in 4.0.0, use self.wv.__contains__() instead).\n",
      "  np.mean([self.word2vec[w] for w in words if w in self.word2vec], axis=0)\n",
      "<ipython-input-34-72bfc365a3f2>:14: DeprecationWarning: Call to deprecated `__getitem__` (Method will be removed in 4.0.0, use self.wv.__getitem__() instead).\n",
      "  np.mean([self.word2vec[w] for w in words if w in self.word2vec], axis=0)\n"
     ]
    },
    {
     "name": "stdout",
     "output_type": "stream",
     "text": [
      "(16302,)\n",
      "(16302, 550)\n"
     ]
    },
    {
     "name": "stderr",
     "output_type": "stream",
     "text": [
      "<ipython-input-34-72bfc365a3f2>:14: DeprecationWarning: Call to deprecated `__contains__` (Method will be removed in 4.0.0, use self.wv.__contains__() instead).\n",
      "  np.mean([self.word2vec[w] for w in words if w in self.word2vec], axis=0)\n",
      "<ipython-input-34-72bfc365a3f2>:14: DeprecationWarning: Call to deprecated `__getitem__` (Method will be removed in 4.0.0, use self.wv.__getitem__() instead).\n",
      "  np.mean([self.word2vec[w] for w in words if w in self.word2vec], axis=0)\n"
     ]
    },
    {
     "name": "stdout",
     "output_type": "stream",
     "text": [
      "(1811,)\n",
      "(1811, 550)\n"
     ]
    },
    {
     "name": "stderr",
     "output_type": "stream",
     "text": [
      "<ipython-input-34-72bfc365a3f2>:14: DeprecationWarning: Call to deprecated `__contains__` (Method will be removed in 4.0.0, use self.wv.__contains__() instead).\n",
      "  np.mean([self.word2vec[w] for w in words if w in self.word2vec], axis=0)\n",
      "<ipython-input-34-72bfc365a3f2>:14: DeprecationWarning: Call to deprecated `__getitem__` (Method will be removed in 4.0.0, use self.wv.__getitem__() instead).\n",
      "  np.mean([self.word2vec[w] for w in words if w in self.word2vec], axis=0)\n"
     ]
    },
    {
     "name": "stdout",
     "output_type": "stream",
     "text": [
      "(16302,)\n",
      "(16302, 550)\n"
     ]
    },
    {
     "name": "stderr",
     "output_type": "stream",
     "text": [
      "<ipython-input-34-72bfc365a3f2>:14: DeprecationWarning: Call to deprecated `__contains__` (Method will be removed in 4.0.0, use self.wv.__contains__() instead).\n",
      "  np.mean([self.word2vec[w] for w in words if w in self.word2vec], axis=0)\n",
      "<ipython-input-34-72bfc365a3f2>:14: DeprecationWarning: Call to deprecated `__getitem__` (Method will be removed in 4.0.0, use self.wv.__getitem__() instead).\n",
      "  np.mean([self.word2vec[w] for w in words if w in self.word2vec], axis=0)\n"
     ]
    },
    {
     "name": "stdout",
     "output_type": "stream",
     "text": [
      "(1811,)\n",
      "(1811, 550)\n"
     ]
    },
    {
     "name": "stderr",
     "output_type": "stream",
     "text": [
      "<ipython-input-34-72bfc365a3f2>:14: DeprecationWarning: Call to deprecated `__contains__` (Method will be removed in 4.0.0, use self.wv.__contains__() instead).\n",
      "  np.mean([self.word2vec[w] for w in words if w in self.word2vec], axis=0)\n",
      "<ipython-input-34-72bfc365a3f2>:14: DeprecationWarning: Call to deprecated `__getitem__` (Method will be removed in 4.0.0, use self.wv.__getitem__() instead).\n",
      "  np.mean([self.word2vec[w] for w in words if w in self.word2vec], axis=0)\n"
     ]
    },
    {
     "name": "stdout",
     "output_type": "stream",
     "text": [
      "(16302,)\n",
      "(16302, 550)\n"
     ]
    },
    {
     "name": "stderr",
     "output_type": "stream",
     "text": [
      "<ipython-input-34-72bfc365a3f2>:14: DeprecationWarning: Call to deprecated `__contains__` (Method will be removed in 4.0.0, use self.wv.__contains__() instead).\n",
      "  np.mean([self.word2vec[w] for w in words if w in self.word2vec], axis=0)\n",
      "<ipython-input-34-72bfc365a3f2>:14: DeprecationWarning: Call to deprecated `__getitem__` (Method will be removed in 4.0.0, use self.wv.__getitem__() instead).\n",
      "  np.mean([self.word2vec[w] for w in words if w in self.word2vec], axis=0)\n"
     ]
    },
    {
     "name": "stdout",
     "output_type": "stream",
     "text": [
      "(1811,)\n",
      "(1811, 550)\n"
     ]
    },
    {
     "name": "stderr",
     "output_type": "stream",
     "text": [
      "<ipython-input-34-72bfc365a3f2>:14: DeprecationWarning: Call to deprecated `__contains__` (Method will be removed in 4.0.0, use self.wv.__contains__() instead).\n",
      "  np.mean([self.word2vec[w] for w in words if w in self.word2vec], axis=0)\n",
      "<ipython-input-34-72bfc365a3f2>:14: DeprecationWarning: Call to deprecated `__getitem__` (Method will be removed in 4.0.0, use self.wv.__getitem__() instead).\n",
      "  np.mean([self.word2vec[w] for w in words if w in self.word2vec], axis=0)\n"
     ]
    },
    {
     "name": "stdout",
     "output_type": "stream",
     "text": [
      "(16302,)\n",
      "(16302, 550)\n"
     ]
    },
    {
     "name": "stderr",
     "output_type": "stream",
     "text": [
      "<ipython-input-34-72bfc365a3f2>:14: DeprecationWarning: Call to deprecated `__contains__` (Method will be removed in 4.0.0, use self.wv.__contains__() instead).\n",
      "  np.mean([self.word2vec[w] for w in words if w in self.word2vec], axis=0)\n",
      "<ipython-input-34-72bfc365a3f2>:14: DeprecationWarning: Call to deprecated `__getitem__` (Method will be removed in 4.0.0, use self.wv.__getitem__() instead).\n",
      "  np.mean([self.word2vec[w] for w in words if w in self.word2vec], axis=0)\n"
     ]
    },
    {
     "name": "stdout",
     "output_type": "stream",
     "text": [
      "(1811,)\n",
      "(1811, 550)\n"
     ]
    },
    {
     "name": "stderr",
     "output_type": "stream",
     "text": [
      "<ipython-input-34-72bfc365a3f2>:14: DeprecationWarning: Call to deprecated `__contains__` (Method will be removed in 4.0.0, use self.wv.__contains__() instead).\n",
      "  np.mean([self.word2vec[w] for w in words if w in self.word2vec], axis=0)\n",
      "<ipython-input-34-72bfc365a3f2>:14: DeprecationWarning: Call to deprecated `__getitem__` (Method will be removed in 4.0.0, use self.wv.__getitem__() instead).\n",
      "  np.mean([self.word2vec[w] for w in words if w in self.word2vec], axis=0)\n"
     ]
    },
    {
     "name": "stdout",
     "output_type": "stream",
     "text": [
      "(16302,)\n",
      "(16302, 550)\n"
     ]
    },
    {
     "name": "stderr",
     "output_type": "stream",
     "text": [
      "<ipython-input-34-72bfc365a3f2>:14: DeprecationWarning: Call to deprecated `__contains__` (Method will be removed in 4.0.0, use self.wv.__contains__() instead).\n",
      "  np.mean([self.word2vec[w] for w in words if w in self.word2vec], axis=0)\n",
      "<ipython-input-34-72bfc365a3f2>:14: DeprecationWarning: Call to deprecated `__getitem__` (Method will be removed in 4.0.0, use self.wv.__getitem__() instead).\n",
      "  np.mean([self.word2vec[w] for w in words if w in self.word2vec], axis=0)\n"
     ]
    },
    {
     "name": "stdout",
     "output_type": "stream",
     "text": [
      "(1811,)\n",
      "(1811, 550)\n"
     ]
    },
    {
     "name": "stderr",
     "output_type": "stream",
     "text": [
      "<ipython-input-34-72bfc365a3f2>:14: DeprecationWarning: Call to deprecated `__contains__` (Method will be removed in 4.0.0, use self.wv.__contains__() instead).\n",
      "  np.mean([self.word2vec[w] for w in words if w in self.word2vec], axis=0)\n",
      "<ipython-input-34-72bfc365a3f2>:14: DeprecationWarning: Call to deprecated `__getitem__` (Method will be removed in 4.0.0, use self.wv.__getitem__() instead).\n",
      "  np.mean([self.word2vec[w] for w in words if w in self.word2vec], axis=0)\n"
     ]
    },
    {
     "name": "stdout",
     "output_type": "stream",
     "text": [
      "(16302,)\n",
      "(16302, 550)\n"
     ]
    },
    {
     "name": "stderr",
     "output_type": "stream",
     "text": [
      "<ipython-input-34-72bfc365a3f2>:14: DeprecationWarning: Call to deprecated `__contains__` (Method will be removed in 4.0.0, use self.wv.__contains__() instead).\n",
      "  np.mean([self.word2vec[w] for w in words if w in self.word2vec], axis=0)\n",
      "<ipython-input-34-72bfc365a3f2>:14: DeprecationWarning: Call to deprecated `__getitem__` (Method will be removed in 4.0.0, use self.wv.__getitem__() instead).\n",
      "  np.mean([self.word2vec[w] for w in words if w in self.word2vec], axis=0)\n"
     ]
    },
    {
     "name": "stdout",
     "output_type": "stream",
     "text": [
      "(1811,)\n",
      "(1811, 550)\n"
     ]
    },
    {
     "name": "stderr",
     "output_type": "stream",
     "text": [
      "<ipython-input-34-72bfc365a3f2>:14: DeprecationWarning: Call to deprecated `__contains__` (Method will be removed in 4.0.0, use self.wv.__contains__() instead).\n",
      "  np.mean([self.word2vec[w] for w in words if w in self.word2vec], axis=0)\n",
      "<ipython-input-34-72bfc365a3f2>:14: DeprecationWarning: Call to deprecated `__getitem__` (Method will be removed in 4.0.0, use self.wv.__getitem__() instead).\n",
      "  np.mean([self.word2vec[w] for w in words if w in self.word2vec], axis=0)\n"
     ]
    },
    {
     "name": "stdout",
     "output_type": "stream",
     "text": [
      "(16302,)\n",
      "(16302, 550)\n"
     ]
    },
    {
     "name": "stderr",
     "output_type": "stream",
     "text": [
      "<ipython-input-34-72bfc365a3f2>:14: DeprecationWarning: Call to deprecated `__contains__` (Method will be removed in 4.0.0, use self.wv.__contains__() instead).\n",
      "  np.mean([self.word2vec[w] for w in words if w in self.word2vec], axis=0)\n",
      "<ipython-input-34-72bfc365a3f2>:14: DeprecationWarning: Call to deprecated `__getitem__` (Method will be removed in 4.0.0, use self.wv.__getitem__() instead).\n",
      "  np.mean([self.word2vec[w] for w in words if w in self.word2vec], axis=0)\n"
     ]
    },
    {
     "name": "stdout",
     "output_type": "stream",
     "text": [
      "(1811,)\n",
      "(1811, 550)\n"
     ]
    },
    {
     "name": "stderr",
     "output_type": "stream",
     "text": [
      "<ipython-input-34-72bfc365a3f2>:14: DeprecationWarning: Call to deprecated `__contains__` (Method will be removed in 4.0.0, use self.wv.__contains__() instead).\n",
      "  np.mean([self.word2vec[w] for w in words if w in self.word2vec], axis=0)\n",
      "<ipython-input-34-72bfc365a3f2>:14: DeprecationWarning: Call to deprecated `__getitem__` (Method will be removed in 4.0.0, use self.wv.__getitem__() instead).\n",
      "  np.mean([self.word2vec[w] for w in words if w in self.word2vec], axis=0)\n"
     ]
    },
    {
     "name": "stdout",
     "output_type": "stream",
     "text": [
      "(16301,)\n",
      "(16301, 550)\n"
     ]
    },
    {
     "name": "stderr",
     "output_type": "stream",
     "text": [
      "<ipython-input-34-72bfc365a3f2>:14: DeprecationWarning: Call to deprecated `__contains__` (Method will be removed in 4.0.0, use self.wv.__contains__() instead).\n",
      "  np.mean([self.word2vec[w] for w in words if w in self.word2vec], axis=0)\n",
      "<ipython-input-34-72bfc365a3f2>:14: DeprecationWarning: Call to deprecated `__getitem__` (Method will be removed in 4.0.0, use self.wv.__getitem__() instead).\n",
      "  np.mean([self.word2vec[w] for w in words if w in self.word2vec], axis=0)\n"
     ]
    },
    {
     "name": "stdout",
     "output_type": "stream",
     "text": [
      "(1812,)\n",
      "(1812, 550)\n"
     ]
    },
    {
     "name": "stderr",
     "output_type": "stream",
     "text": [
      "<ipython-input-34-72bfc365a3f2>:14: DeprecationWarning: Call to deprecated `__contains__` (Method will be removed in 4.0.0, use self.wv.__contains__() instead).\n",
      "  np.mean([self.word2vec[w] for w in words if w in self.word2vec], axis=0)\n",
      "<ipython-input-34-72bfc365a3f2>:14: DeprecationWarning: Call to deprecated `__getitem__` (Method will be removed in 4.0.0, use self.wv.__getitem__() instead).\n",
      "  np.mean([self.word2vec[w] for w in words if w in self.word2vec], axis=0)\n"
     ]
    },
    {
     "name": "stdout",
     "output_type": "stream",
     "text": [
      "(16301,)\n",
      "(16301, 550)\n"
     ]
    },
    {
     "name": "stderr",
     "output_type": "stream",
     "text": [
      "<ipython-input-34-72bfc365a3f2>:14: DeprecationWarning: Call to deprecated `__contains__` (Method will be removed in 4.0.0, use self.wv.__contains__() instead).\n",
      "  np.mean([self.word2vec[w] for w in words if w in self.word2vec], axis=0)\n",
      "<ipython-input-34-72bfc365a3f2>:14: DeprecationWarning: Call to deprecated `__getitem__` (Method will be removed in 4.0.0, use self.wv.__getitem__() instead).\n",
      "  np.mean([self.word2vec[w] for w in words if w in self.word2vec], axis=0)\n"
     ]
    },
    {
     "name": "stdout",
     "output_type": "stream",
     "text": [
      "(1812,)\n",
      "(1812, 550)\n"
     ]
    },
    {
     "name": "stderr",
     "output_type": "stream",
     "text": [
      "<ipython-input-34-72bfc365a3f2>:14: DeprecationWarning: Call to deprecated `__contains__` (Method will be removed in 4.0.0, use self.wv.__contains__() instead).\n",
      "  np.mean([self.word2vec[w] for w in words if w in self.word2vec], axis=0)\n",
      "<ipython-input-34-72bfc365a3f2>:14: DeprecationWarning: Call to deprecated `__getitem__` (Method will be removed in 4.0.0, use self.wv.__getitem__() instead).\n",
      "  np.mean([self.word2vec[w] for w in words if w in self.word2vec], axis=0)\n"
     ]
    },
    {
     "name": "stdout",
     "output_type": "stream",
     "text": [
      "(16301,)\n",
      "(16301, 550)\n"
     ]
    },
    {
     "name": "stderr",
     "output_type": "stream",
     "text": [
      "<ipython-input-34-72bfc365a3f2>:14: DeprecationWarning: Call to deprecated `__contains__` (Method will be removed in 4.0.0, use self.wv.__contains__() instead).\n",
      "  np.mean([self.word2vec[w] for w in words if w in self.word2vec], axis=0)\n",
      "<ipython-input-34-72bfc365a3f2>:14: DeprecationWarning: Call to deprecated `__getitem__` (Method will be removed in 4.0.0, use self.wv.__getitem__() instead).\n",
      "  np.mean([self.word2vec[w] for w in words if w in self.word2vec], axis=0)\n"
     ]
    },
    {
     "name": "stdout",
     "output_type": "stream",
     "text": [
      "(1812,)\n",
      "(1812, 550)\n"
     ]
    },
    {
     "name": "stderr",
     "output_type": "stream",
     "text": [
      "<ipython-input-34-72bfc365a3f2>:14: DeprecationWarning: Call to deprecated `__contains__` (Method will be removed in 4.0.0, use self.wv.__contains__() instead).\n",
      "  np.mean([self.word2vec[w] for w in words if w in self.word2vec], axis=0)\n",
      "<ipython-input-34-72bfc365a3f2>:14: DeprecationWarning: Call to deprecated `__getitem__` (Method will be removed in 4.0.0, use self.wv.__getitem__() instead).\n",
      "  np.mean([self.word2vec[w] for w in words if w in self.word2vec], axis=0)\n"
     ]
    },
    {
     "name": "stdout",
     "output_type": "stream",
     "text": [
      "(16302,)\n",
      "(16302, 550)\n"
     ]
    },
    {
     "name": "stderr",
     "output_type": "stream",
     "text": [
      "<ipython-input-34-72bfc365a3f2>:14: DeprecationWarning: Call to deprecated `__contains__` (Method will be removed in 4.0.0, use self.wv.__contains__() instead).\n",
      "  np.mean([self.word2vec[w] for w in words if w in self.word2vec], axis=0)\n",
      "<ipython-input-34-72bfc365a3f2>:14: DeprecationWarning: Call to deprecated `__getitem__` (Method will be removed in 4.0.0, use self.wv.__getitem__() instead).\n",
      "  np.mean([self.word2vec[w] for w in words if w in self.word2vec], axis=0)\n"
     ]
    },
    {
     "name": "stdout",
     "output_type": "stream",
     "text": [
      "(1811,)\n",
      "(1811, 550)\n"
     ]
    },
    {
     "name": "stderr",
     "output_type": "stream",
     "text": [
      "<ipython-input-34-72bfc365a3f2>:14: DeprecationWarning: Call to deprecated `__contains__` (Method will be removed in 4.0.0, use self.wv.__contains__() instead).\n",
      "  np.mean([self.word2vec[w] for w in words if w in self.word2vec], axis=0)\n",
      "<ipython-input-34-72bfc365a3f2>:14: DeprecationWarning: Call to deprecated `__getitem__` (Method will be removed in 4.0.0, use self.wv.__getitem__() instead).\n",
      "  np.mean([self.word2vec[w] for w in words if w in self.word2vec], axis=0)\n"
     ]
    },
    {
     "name": "stdout",
     "output_type": "stream",
     "text": [
      "(16302,)\n",
      "(16302, 550)\n"
     ]
    },
    {
     "name": "stderr",
     "output_type": "stream",
     "text": [
      "<ipython-input-34-72bfc365a3f2>:14: DeprecationWarning: Call to deprecated `__contains__` (Method will be removed in 4.0.0, use self.wv.__contains__() instead).\n",
      "  np.mean([self.word2vec[w] for w in words if w in self.word2vec], axis=0)\n",
      "<ipython-input-34-72bfc365a3f2>:14: DeprecationWarning: Call to deprecated `__getitem__` (Method will be removed in 4.0.0, use self.wv.__getitem__() instead).\n",
      "  np.mean([self.word2vec[w] for w in words if w in self.word2vec], axis=0)\n"
     ]
    },
    {
     "name": "stdout",
     "output_type": "stream",
     "text": [
      "(1811,)\n",
      "(1811, 550)\n"
     ]
    },
    {
     "name": "stderr",
     "output_type": "stream",
     "text": [
      "<ipython-input-34-72bfc365a3f2>:14: DeprecationWarning: Call to deprecated `__contains__` (Method will be removed in 4.0.0, use self.wv.__contains__() instead).\n",
      "  np.mean([self.word2vec[w] for w in words if w in self.word2vec], axis=0)\n",
      "<ipython-input-34-72bfc365a3f2>:14: DeprecationWarning: Call to deprecated `__getitem__` (Method will be removed in 4.0.0, use self.wv.__getitem__() instead).\n",
      "  np.mean([self.word2vec[w] for w in words if w in self.word2vec], axis=0)\n"
     ]
    },
    {
     "name": "stdout",
     "output_type": "stream",
     "text": [
      "(16302,)\n",
      "(16302, 550)\n"
     ]
    },
    {
     "name": "stderr",
     "output_type": "stream",
     "text": [
      "<ipython-input-34-72bfc365a3f2>:14: DeprecationWarning: Call to deprecated `__contains__` (Method will be removed in 4.0.0, use self.wv.__contains__() instead).\n",
      "  np.mean([self.word2vec[w] for w in words if w in self.word2vec], axis=0)\n",
      "<ipython-input-34-72bfc365a3f2>:14: DeprecationWarning: Call to deprecated `__getitem__` (Method will be removed in 4.0.0, use self.wv.__getitem__() instead).\n",
      "  np.mean([self.word2vec[w] for w in words if w in self.word2vec], axis=0)\n"
     ]
    },
    {
     "name": "stdout",
     "output_type": "stream",
     "text": [
      "(1811,)\n",
      "(1811, 550)\n"
     ]
    },
    {
     "name": "stderr",
     "output_type": "stream",
     "text": [
      "<ipython-input-34-72bfc365a3f2>:14: DeprecationWarning: Call to deprecated `__contains__` (Method will be removed in 4.0.0, use self.wv.__contains__() instead).\n",
      "  np.mean([self.word2vec[w] for w in words if w in self.word2vec], axis=0)\n",
      "<ipython-input-34-72bfc365a3f2>:14: DeprecationWarning: Call to deprecated `__getitem__` (Method will be removed in 4.0.0, use self.wv.__getitem__() instead).\n",
      "  np.mean([self.word2vec[w] for w in words if w in self.word2vec], axis=0)\n"
     ]
    },
    {
     "name": "stdout",
     "output_type": "stream",
     "text": [
      "(16302,)\n",
      "(16302, 550)\n"
     ]
    },
    {
     "name": "stderr",
     "output_type": "stream",
     "text": [
      "<ipython-input-34-72bfc365a3f2>:14: DeprecationWarning: Call to deprecated `__contains__` (Method will be removed in 4.0.0, use self.wv.__contains__() instead).\n",
      "  np.mean([self.word2vec[w] for w in words if w in self.word2vec], axis=0)\n",
      "<ipython-input-34-72bfc365a3f2>:14: DeprecationWarning: Call to deprecated `__getitem__` (Method will be removed in 4.0.0, use self.wv.__getitem__() instead).\n",
      "  np.mean([self.word2vec[w] for w in words if w in self.word2vec], axis=0)\n"
     ]
    },
    {
     "name": "stdout",
     "output_type": "stream",
     "text": [
      "(1811,)\n",
      "(1811, 550)\n"
     ]
    },
    {
     "name": "stderr",
     "output_type": "stream",
     "text": [
      "<ipython-input-34-72bfc365a3f2>:14: DeprecationWarning: Call to deprecated `__contains__` (Method will be removed in 4.0.0, use self.wv.__contains__() instead).\n",
      "  np.mean([self.word2vec[w] for w in words if w in self.word2vec], axis=0)\n",
      "<ipython-input-34-72bfc365a3f2>:14: DeprecationWarning: Call to deprecated `__getitem__` (Method will be removed in 4.0.0, use self.wv.__getitem__() instead).\n",
      "  np.mean([self.word2vec[w] for w in words if w in self.word2vec], axis=0)\n"
     ]
    },
    {
     "name": "stdout",
     "output_type": "stream",
     "text": [
      "(16302,)\n",
      "(16302, 550)\n"
     ]
    },
    {
     "name": "stderr",
     "output_type": "stream",
     "text": [
      "<ipython-input-34-72bfc365a3f2>:14: DeprecationWarning: Call to deprecated `__contains__` (Method will be removed in 4.0.0, use self.wv.__contains__() instead).\n",
      "  np.mean([self.word2vec[w] for w in words if w in self.word2vec], axis=0)\n",
      "<ipython-input-34-72bfc365a3f2>:14: DeprecationWarning: Call to deprecated `__getitem__` (Method will be removed in 4.0.0, use self.wv.__getitem__() instead).\n",
      "  np.mean([self.word2vec[w] for w in words if w in self.word2vec], axis=0)\n"
     ]
    },
    {
     "name": "stdout",
     "output_type": "stream",
     "text": [
      "(1811,)\n",
      "(1811, 550)\n"
     ]
    },
    {
     "name": "stderr",
     "output_type": "stream",
     "text": [
      "<ipython-input-34-72bfc365a3f2>:14: DeprecationWarning: Call to deprecated `__contains__` (Method will be removed in 4.0.0, use self.wv.__contains__() instead).\n",
      "  np.mean([self.word2vec[w] for w in words if w in self.word2vec], axis=0)\n",
      "<ipython-input-34-72bfc365a3f2>:14: DeprecationWarning: Call to deprecated `__getitem__` (Method will be removed in 4.0.0, use self.wv.__getitem__() instead).\n",
      "  np.mean([self.word2vec[w] for w in words if w in self.word2vec], axis=0)\n"
     ]
    },
    {
     "name": "stdout",
     "output_type": "stream",
     "text": [
      "(16302,)\n",
      "(16302, 550)\n"
     ]
    },
    {
     "name": "stderr",
     "output_type": "stream",
     "text": [
      "<ipython-input-34-72bfc365a3f2>:14: DeprecationWarning: Call to deprecated `__contains__` (Method will be removed in 4.0.0, use self.wv.__contains__() instead).\n",
      "  np.mean([self.word2vec[w] for w in words if w in self.word2vec], axis=0)\n",
      "<ipython-input-34-72bfc365a3f2>:14: DeprecationWarning: Call to deprecated `__getitem__` (Method will be removed in 4.0.0, use self.wv.__getitem__() instead).\n",
      "  np.mean([self.word2vec[w] for w in words if w in self.word2vec], axis=0)\n"
     ]
    },
    {
     "name": "stdout",
     "output_type": "stream",
     "text": [
      "(1811,)\n",
      "(1811, 550)\n"
     ]
    },
    {
     "name": "stderr",
     "output_type": "stream",
     "text": [
      "<ipython-input-34-72bfc365a3f2>:14: DeprecationWarning: Call to deprecated `__contains__` (Method will be removed in 4.0.0, use self.wv.__contains__() instead).\n",
      "  np.mean([self.word2vec[w] for w in words if w in self.word2vec], axis=0)\n",
      "<ipython-input-34-72bfc365a3f2>:14: DeprecationWarning: Call to deprecated `__getitem__` (Method will be removed in 4.0.0, use self.wv.__getitem__() instead).\n",
      "  np.mean([self.word2vec[w] for w in words if w in self.word2vec], axis=0)\n"
     ]
    },
    {
     "name": "stdout",
     "output_type": "stream",
     "text": [
      "(16302,)\n",
      "(16302, 550)\n"
     ]
    },
    {
     "name": "stderr",
     "output_type": "stream",
     "text": [
      "<ipython-input-34-72bfc365a3f2>:14: DeprecationWarning: Call to deprecated `__contains__` (Method will be removed in 4.0.0, use self.wv.__contains__() instead).\n",
      "  np.mean([self.word2vec[w] for w in words if w in self.word2vec], axis=0)\n",
      "<ipython-input-34-72bfc365a3f2>:14: DeprecationWarning: Call to deprecated `__getitem__` (Method will be removed in 4.0.0, use self.wv.__getitem__() instead).\n",
      "  np.mean([self.word2vec[w] for w in words if w in self.word2vec], axis=0)\n"
     ]
    },
    {
     "name": "stdout",
     "output_type": "stream",
     "text": [
      "(1811,)\n",
      "(1811, 550)\n"
     ]
    },
    {
     "name": "stderr",
     "output_type": "stream",
     "text": [
      "<ipython-input-34-72bfc365a3f2>:14: DeprecationWarning: Call to deprecated `__contains__` (Method will be removed in 4.0.0, use self.wv.__contains__() instead).\n",
      "  np.mean([self.word2vec[w] for w in words if w in self.word2vec], axis=0)\n",
      "<ipython-input-34-72bfc365a3f2>:14: DeprecationWarning: Call to deprecated `__getitem__` (Method will be removed in 4.0.0, use self.wv.__getitem__() instead).\n",
      "  np.mean([self.word2vec[w] for w in words if w in self.word2vec], axis=0)\n"
     ]
    },
    {
     "name": "stdout",
     "output_type": "stream",
     "text": [
      "(16301,)\n",
      "(16301, 550)\n"
     ]
    },
    {
     "name": "stderr",
     "output_type": "stream",
     "text": [
      "<ipython-input-34-72bfc365a3f2>:14: DeprecationWarning: Call to deprecated `__contains__` (Method will be removed in 4.0.0, use self.wv.__contains__() instead).\n",
      "  np.mean([self.word2vec[w] for w in words if w in self.word2vec], axis=0)\n",
      "<ipython-input-34-72bfc365a3f2>:14: DeprecationWarning: Call to deprecated `__getitem__` (Method will be removed in 4.0.0, use self.wv.__getitem__() instead).\n",
      "  np.mean([self.word2vec[w] for w in words if w in self.word2vec], axis=0)\n"
     ]
    },
    {
     "name": "stdout",
     "output_type": "stream",
     "text": [
      "(1812,)\n",
      "(1812, 550)\n"
     ]
    },
    {
     "name": "stderr",
     "output_type": "stream",
     "text": [
      "<ipython-input-34-72bfc365a3f2>:14: DeprecationWarning: Call to deprecated `__contains__` (Method will be removed in 4.0.0, use self.wv.__contains__() instead).\n",
      "  np.mean([self.word2vec[w] for w in words if w in self.word2vec], axis=0)\n",
      "<ipython-input-34-72bfc365a3f2>:14: DeprecationWarning: Call to deprecated `__getitem__` (Method will be removed in 4.0.0, use self.wv.__getitem__() instead).\n",
      "  np.mean([self.word2vec[w] for w in words if w in self.word2vec], axis=0)\n"
     ]
    },
    {
     "name": "stdout",
     "output_type": "stream",
     "text": [
      "(16301,)\n",
      "(16301, 550)\n"
     ]
    },
    {
     "name": "stderr",
     "output_type": "stream",
     "text": [
      "<ipython-input-34-72bfc365a3f2>:14: DeprecationWarning: Call to deprecated `__contains__` (Method will be removed in 4.0.0, use self.wv.__contains__() instead).\n",
      "  np.mean([self.word2vec[w] for w in words if w in self.word2vec], axis=0)\n",
      "<ipython-input-34-72bfc365a3f2>:14: DeprecationWarning: Call to deprecated `__getitem__` (Method will be removed in 4.0.0, use self.wv.__getitem__() instead).\n",
      "  np.mean([self.word2vec[w] for w in words if w in self.word2vec], axis=0)\n"
     ]
    },
    {
     "name": "stdout",
     "output_type": "stream",
     "text": [
      "(1812,)\n",
      "(1812, 550)\n"
     ]
    },
    {
     "name": "stderr",
     "output_type": "stream",
     "text": [
      "<ipython-input-34-72bfc365a3f2>:14: DeprecationWarning: Call to deprecated `__contains__` (Method will be removed in 4.0.0, use self.wv.__contains__() instead).\n",
      "  np.mean([self.word2vec[w] for w in words if w in self.word2vec], axis=0)\n",
      "<ipython-input-34-72bfc365a3f2>:14: DeprecationWarning: Call to deprecated `__getitem__` (Method will be removed in 4.0.0, use self.wv.__getitem__() instead).\n",
      "  np.mean([self.word2vec[w] for w in words if w in self.word2vec], axis=0)\n"
     ]
    },
    {
     "name": "stdout",
     "output_type": "stream",
     "text": [
      "(16301,)\n",
      "(16301, 550)\n"
     ]
    },
    {
     "name": "stderr",
     "output_type": "stream",
     "text": [
      "<ipython-input-34-72bfc365a3f2>:14: DeprecationWarning: Call to deprecated `__contains__` (Method will be removed in 4.0.0, use self.wv.__contains__() instead).\n",
      "  np.mean([self.word2vec[w] for w in words if w in self.word2vec], axis=0)\n",
      "<ipython-input-34-72bfc365a3f2>:14: DeprecationWarning: Call to deprecated `__getitem__` (Method will be removed in 4.0.0, use self.wv.__getitem__() instead).\n",
      "  np.mean([self.word2vec[w] for w in words if w in self.word2vec], axis=0)\n"
     ]
    },
    {
     "name": "stdout",
     "output_type": "stream",
     "text": [
      "(1812,)\n",
      "(1812, 550)\n"
     ]
    },
    {
     "name": "stderr",
     "output_type": "stream",
     "text": [
      "<ipython-input-34-72bfc365a3f2>:14: DeprecationWarning: Call to deprecated `__contains__` (Method will be removed in 4.0.0, use self.wv.__contains__() instead).\n",
      "  np.mean([self.word2vec[w] for w in words if w in self.word2vec], axis=0)\n",
      "<ipython-input-34-72bfc365a3f2>:14: DeprecationWarning: Call to deprecated `__getitem__` (Method will be removed in 4.0.0, use self.wv.__getitem__() instead).\n",
      "  np.mean([self.word2vec[w] for w in words if w in self.word2vec], axis=0)\n"
     ]
    },
    {
     "name": "stdout",
     "output_type": "stream",
     "text": [
      "(16302,)\n",
      "(16302, 550)\n"
     ]
    },
    {
     "name": "stderr",
     "output_type": "stream",
     "text": [
      "<ipython-input-34-72bfc365a3f2>:14: DeprecationWarning: Call to deprecated `__contains__` (Method will be removed in 4.0.0, use self.wv.__contains__() instead).\n",
      "  np.mean([self.word2vec[w] for w in words if w in self.word2vec], axis=0)\n",
      "<ipython-input-34-72bfc365a3f2>:14: DeprecationWarning: Call to deprecated `__getitem__` (Method will be removed in 4.0.0, use self.wv.__getitem__() instead).\n",
      "  np.mean([self.word2vec[w] for w in words if w in self.word2vec], axis=0)\n"
     ]
    },
    {
     "name": "stdout",
     "output_type": "stream",
     "text": [
      "(1811,)\n",
      "(1811, 550)\n"
     ]
    },
    {
     "name": "stderr",
     "output_type": "stream",
     "text": [
      "<ipython-input-34-72bfc365a3f2>:14: DeprecationWarning: Call to deprecated `__contains__` (Method will be removed in 4.0.0, use self.wv.__contains__() instead).\n",
      "  np.mean([self.word2vec[w] for w in words if w in self.word2vec], axis=0)\n",
      "<ipython-input-34-72bfc365a3f2>:14: DeprecationWarning: Call to deprecated `__getitem__` (Method will be removed in 4.0.0, use self.wv.__getitem__() instead).\n",
      "  np.mean([self.word2vec[w] for w in words if w in self.word2vec], axis=0)\n"
     ]
    },
    {
     "name": "stdout",
     "output_type": "stream",
     "text": [
      "(16302,)\n",
      "(16302, 550)\n"
     ]
    },
    {
     "name": "stderr",
     "output_type": "stream",
     "text": [
      "<ipython-input-34-72bfc365a3f2>:14: DeprecationWarning: Call to deprecated `__contains__` (Method will be removed in 4.0.0, use self.wv.__contains__() instead).\n",
      "  np.mean([self.word2vec[w] for w in words if w in self.word2vec], axis=0)\n",
      "<ipython-input-34-72bfc365a3f2>:14: DeprecationWarning: Call to deprecated `__getitem__` (Method will be removed in 4.0.0, use self.wv.__getitem__() instead).\n",
      "  np.mean([self.word2vec[w] for w in words if w in self.word2vec], axis=0)\n"
     ]
    },
    {
     "name": "stdout",
     "output_type": "stream",
     "text": [
      "(1811,)\n",
      "(1811, 550)\n"
     ]
    },
    {
     "name": "stderr",
     "output_type": "stream",
     "text": [
      "<ipython-input-34-72bfc365a3f2>:14: DeprecationWarning: Call to deprecated `__contains__` (Method will be removed in 4.0.0, use self.wv.__contains__() instead).\n",
      "  np.mean([self.word2vec[w] for w in words if w in self.word2vec], axis=0)\n",
      "<ipython-input-34-72bfc365a3f2>:14: DeprecationWarning: Call to deprecated `__getitem__` (Method will be removed in 4.0.0, use self.wv.__getitem__() instead).\n",
      "  np.mean([self.word2vec[w] for w in words if w in self.word2vec], axis=0)\n"
     ]
    },
    {
     "name": "stdout",
     "output_type": "stream",
     "text": [
      "(16302,)\n",
      "(16302, 550)\n"
     ]
    },
    {
     "name": "stderr",
     "output_type": "stream",
     "text": [
      "<ipython-input-34-72bfc365a3f2>:14: DeprecationWarning: Call to deprecated `__contains__` (Method will be removed in 4.0.0, use self.wv.__contains__() instead).\n",
      "  np.mean([self.word2vec[w] for w in words if w in self.word2vec], axis=0)\n",
      "<ipython-input-34-72bfc365a3f2>:14: DeprecationWarning: Call to deprecated `__getitem__` (Method will be removed in 4.0.0, use self.wv.__getitem__() instead).\n",
      "  np.mean([self.word2vec[w] for w in words if w in self.word2vec], axis=0)\n"
     ]
    },
    {
     "name": "stdout",
     "output_type": "stream",
     "text": [
      "(1811,)\n",
      "(1811, 550)\n"
     ]
    },
    {
     "name": "stderr",
     "output_type": "stream",
     "text": [
      "<ipython-input-34-72bfc365a3f2>:14: DeprecationWarning: Call to deprecated `__contains__` (Method will be removed in 4.0.0, use self.wv.__contains__() instead).\n",
      "  np.mean([self.word2vec[w] for w in words if w in self.word2vec], axis=0)\n",
      "<ipython-input-34-72bfc365a3f2>:14: DeprecationWarning: Call to deprecated `__getitem__` (Method will be removed in 4.0.0, use self.wv.__getitem__() instead).\n",
      "  np.mean([self.word2vec[w] for w in words if w in self.word2vec], axis=0)\n"
     ]
    },
    {
     "name": "stdout",
     "output_type": "stream",
     "text": [
      "(16302,)\n",
      "(16302, 550)\n"
     ]
    },
    {
     "name": "stderr",
     "output_type": "stream",
     "text": [
      "<ipython-input-34-72bfc365a3f2>:14: DeprecationWarning: Call to deprecated `__contains__` (Method will be removed in 4.0.0, use self.wv.__contains__() instead).\n",
      "  np.mean([self.word2vec[w] for w in words if w in self.word2vec], axis=0)\n",
      "<ipython-input-34-72bfc365a3f2>:14: DeprecationWarning: Call to deprecated `__getitem__` (Method will be removed in 4.0.0, use self.wv.__getitem__() instead).\n",
      "  np.mean([self.word2vec[w] for w in words if w in self.word2vec], axis=0)\n"
     ]
    },
    {
     "name": "stdout",
     "output_type": "stream",
     "text": [
      "(1811,)\n",
      "(1811, 550)\n"
     ]
    },
    {
     "name": "stderr",
     "output_type": "stream",
     "text": [
      "<ipython-input-34-72bfc365a3f2>:14: DeprecationWarning: Call to deprecated `__contains__` (Method will be removed in 4.0.0, use self.wv.__contains__() instead).\n",
      "  np.mean([self.word2vec[w] for w in words if w in self.word2vec], axis=0)\n",
      "<ipython-input-34-72bfc365a3f2>:14: DeprecationWarning: Call to deprecated `__getitem__` (Method will be removed in 4.0.0, use self.wv.__getitem__() instead).\n",
      "  np.mean([self.word2vec[w] for w in words if w in self.word2vec], axis=0)\n"
     ]
    },
    {
     "name": "stdout",
     "output_type": "stream",
     "text": [
      "(16302,)\n",
      "(16302, 550)\n"
     ]
    },
    {
     "name": "stderr",
     "output_type": "stream",
     "text": [
      "<ipython-input-34-72bfc365a3f2>:14: DeprecationWarning: Call to deprecated `__contains__` (Method will be removed in 4.0.0, use self.wv.__contains__() instead).\n",
      "  np.mean([self.word2vec[w] for w in words if w in self.word2vec], axis=0)\n",
      "<ipython-input-34-72bfc365a3f2>:14: DeprecationWarning: Call to deprecated `__getitem__` (Method will be removed in 4.0.0, use self.wv.__getitem__() instead).\n",
      "  np.mean([self.word2vec[w] for w in words if w in self.word2vec], axis=0)\n"
     ]
    },
    {
     "name": "stdout",
     "output_type": "stream",
     "text": [
      "(1811,)\n",
      "(1811, 550)\n"
     ]
    },
    {
     "name": "stderr",
     "output_type": "stream",
     "text": [
      "<ipython-input-34-72bfc365a3f2>:14: DeprecationWarning: Call to deprecated `__contains__` (Method will be removed in 4.0.0, use self.wv.__contains__() instead).\n",
      "  np.mean([self.word2vec[w] for w in words if w in self.word2vec], axis=0)\n",
      "<ipython-input-34-72bfc365a3f2>:14: DeprecationWarning: Call to deprecated `__getitem__` (Method will be removed in 4.0.0, use self.wv.__getitem__() instead).\n",
      "  np.mean([self.word2vec[w] for w in words if w in self.word2vec], axis=0)\n"
     ]
    },
    {
     "name": "stdout",
     "output_type": "stream",
     "text": [
      "(16302,)\n",
      "(16302, 550)\n"
     ]
    },
    {
     "name": "stderr",
     "output_type": "stream",
     "text": [
      "<ipython-input-34-72bfc365a3f2>:14: DeprecationWarning: Call to deprecated `__contains__` (Method will be removed in 4.0.0, use self.wv.__contains__() instead).\n",
      "  np.mean([self.word2vec[w] for w in words if w in self.word2vec], axis=0)\n",
      "<ipython-input-34-72bfc365a3f2>:14: DeprecationWarning: Call to deprecated `__getitem__` (Method will be removed in 4.0.0, use self.wv.__getitem__() instead).\n",
      "  np.mean([self.word2vec[w] for w in words if w in self.word2vec], axis=0)\n"
     ]
    },
    {
     "name": "stdout",
     "output_type": "stream",
     "text": [
      "(1811,)\n",
      "(1811, 550)\n"
     ]
    },
    {
     "name": "stderr",
     "output_type": "stream",
     "text": [
      "<ipython-input-34-72bfc365a3f2>:14: DeprecationWarning: Call to deprecated `__contains__` (Method will be removed in 4.0.0, use self.wv.__contains__() instead).\n",
      "  np.mean([self.word2vec[w] for w in words if w in self.word2vec], axis=0)\n",
      "<ipython-input-34-72bfc365a3f2>:14: DeprecationWarning: Call to deprecated `__getitem__` (Method will be removed in 4.0.0, use self.wv.__getitem__() instead).\n",
      "  np.mean([self.word2vec[w] for w in words if w in self.word2vec], axis=0)\n"
     ]
    },
    {
     "name": "stdout",
     "output_type": "stream",
     "text": [
      "(16302,)\n",
      "(16302, 550)\n"
     ]
    },
    {
     "name": "stderr",
     "output_type": "stream",
     "text": [
      "<ipython-input-34-72bfc365a3f2>:14: DeprecationWarning: Call to deprecated `__contains__` (Method will be removed in 4.0.0, use self.wv.__contains__() instead).\n",
      "  np.mean([self.word2vec[w] for w in words if w in self.word2vec], axis=0)\n",
      "<ipython-input-34-72bfc365a3f2>:14: DeprecationWarning: Call to deprecated `__getitem__` (Method will be removed in 4.0.0, use self.wv.__getitem__() instead).\n",
      "  np.mean([self.word2vec[w] for w in words if w in self.word2vec], axis=0)\n"
     ]
    },
    {
     "name": "stdout",
     "output_type": "stream",
     "text": [
      "(1811,)\n",
      "(1811, 550)\n"
     ]
    },
    {
     "name": "stderr",
     "output_type": "stream",
     "text": [
      "<ipython-input-34-72bfc365a3f2>:14: DeprecationWarning: Call to deprecated `__contains__` (Method will be removed in 4.0.0, use self.wv.__contains__() instead).\n",
      "  np.mean([self.word2vec[w] for w in words if w in self.word2vec], axis=0)\n",
      "<ipython-input-34-72bfc365a3f2>:14: DeprecationWarning: Call to deprecated `__getitem__` (Method will be removed in 4.0.0, use self.wv.__getitem__() instead).\n",
      "  np.mean([self.word2vec[w] for w in words if w in self.word2vec], axis=0)\n"
     ]
    },
    {
     "name": "stdout",
     "output_type": "stream",
     "text": [
      "(18113,)\n",
      "(18113, 550)\n"
     ]
    },
    {
     "name": "stderr",
     "output_type": "stream",
     "text": [
      "<ipython-input-34-72bfc365a3f2>:14: DeprecationWarning: Call to deprecated `__contains__` (Method will be removed in 4.0.0, use self.wv.__contains__() instead).\n",
      "  np.mean([self.word2vec[w] for w in words if w in self.word2vec], axis=0)\n",
      "<ipython-input-34-72bfc365a3f2>:14: DeprecationWarning: Call to deprecated `__getitem__` (Method will be removed in 4.0.0, use self.wv.__getitem__() instead).\n",
      "  np.mean([self.word2vec[w] for w in words if w in self.word2vec], axis=0)\n"
     ]
    },
    {
     "name": "stdout",
     "output_type": "stream",
     "text": [
      "(4529,)\n",
      "(4529, 550)\n",
      "Best params are : {'clf__criterion': 'entropy', 'clf__max_depth': 10, 'clf__min_samples_split': 10}\n",
      "Best training accuracy: 0.823\n",
      "model score: 0.772\n",
      "[[ 275  756]\n",
      " [  52 3446]]\n",
      "              precision    recall  f1-score   support\n",
      "\n",
      "           0       0.84      0.27      0.41      1031\n",
      "           1       0.82      0.99      0.90      3498\n",
      "\n",
      "    accuracy                           0.82      4529\n",
      "   macro avg       0.83      0.63      0.65      4529\n",
      "weighted avg       0.82      0.82      0.78      4529\n",
      "\n",
      "Accuracy Score: 0.8215941708986532\n",
      "F1 Score: 0.8950649350649351\n",
      "Average precision-recall score: 0.8193761404009233\n"
     ]
    },
    {
     "name": "stderr",
     "output_type": "stream",
     "text": [
      "<ipython-input-34-72bfc365a3f2>:14: DeprecationWarning: Call to deprecated `__contains__` (Method will be removed in 4.0.0, use self.wv.__contains__() instead).\n",
      "  np.mean([self.word2vec[w] for w in words if w in self.word2vec], axis=0)\n",
      "<ipython-input-34-72bfc365a3f2>:14: DeprecationWarning: Call to deprecated `__getitem__` (Method will be removed in 4.0.0, use self.wv.__getitem__() instead).\n",
      "  np.mean([self.word2vec[w] for w in words if w in self.word2vec], axis=0)\n"
     ]
    },
    {
     "name": "stdout",
     "output_type": "stream",
     "text": [
      "(4529,)\n",
      "(4529, 550)\n"
     ]
    },
    {
     "data": {
      "image/png": "[encoded data removed]",
      "text/plain": [
       "<Figure size 432x288 with 1 Axes>"
      ]
     },
     "metadata": {
      "needs_background": "light"
     },
     "output_type": "display_data"
    },
    {
     "name": "stdout",
     "output_type": "stream",
     "text": [
      "\n",
      "Classifier with best test set accuracy: Support Vector Machine\n"
     ]
    }
   ],
   "source": [
    "classifiers = [\n",
    "    LogisticRegression(),\n",
    "    svm.SVC(),\n",
    "    RandomForestClassifier()\n",
    "    ]\n",
    "\n",
    "for idx, classifier in enumerate(classifiers): \n",
    "    \n",
    "    pipe1 = Pipeline(steps=[('preprocessor', MeanEmbeddingVectorizer(model)),\n",
    "                          ('clf', classifier)])\n",
    "\n",
    "    out1 = GridSearchCV(estimator=pipe1,\n",
    "                param_grid=params_dict[idx],\n",
    "                scoring='accuracy',\n",
    "                cv=10) \n",
    "    \n",
    "    print(classifier)\n",
    "    print('\\nEstimator: %s' % params_dict[idx])\n",
    "    \n",
    "    out1.fit(w2vX_train, w2vy_train)\n",
    "    \n",
    "    w2vy_pred = out1.predict(w2vX_test)\n",
    "    print('Best params are : %s' % out1.best_params_)\n",
    "    print('Best training accuracy: %.3f' % out1.best_score_)\n",
    "    \n",
    "    evaluation(w2vy_test, w2vy_pred, w2vX_test, out1)\n",
    "    \n",
    "    if accuracy_score(w2vy_test, w2vy_pred) > best_acc:\n",
    "        best_acc = accuracy_score(w2vy_test, w2vy_pred)\n",
    "        best_gs = classifier\n",
    "        best_clf = idx\n",
    "\n",
    "print('\\nClassifier with best test set accuracy: %s' % grid_dict[best_clf])      "
   ]
  },
  {
   "cell_type": "code",
   "execution_count": 37,
   "metadata": {},
   "outputs": [
    {
     "name": "stdout",
     "output_type": "stream",
     "text": [
      "\n",
      "Saved Support Vector Machine grid search pipeline to file: best_grid_search_pipeline_word2vec.pkl\n"
     ]
    }
   ],
   "source": [
    "# Save best grid search pipeline to file\n",
    "dump_file = 'best_grid_search_pipeline_word2vec.pkl'\n",
    "joblib.dump(best_gs, dump_file, compress=1)\n",
    "print('\\nSaved %s grid search pipeline to file: %s' % (grid_dict[best_clf], dump_file))"
   ]
  },
  {
   "cell_type": "code",
   "execution_count": null,
   "metadata": {},
   "outputs": [],
   "source": []
  },
  {
   "cell_type": "code",
   "execution_count": null,
   "metadata": {},
   "outputs": [],
   "source": []
  },
  {
   "cell_type": "code",
   "execution_count": 142,
   "metadata": {},
   "outputs": [
    {
     "data": {
      "image/png": "[encoded data removed]",
      "text/plain": [
       "<Figure size 1656x720 with 1 Axes>"
      ]
     },
     "metadata": {
      "needs_background": "light"
     },
     "output_type": "display_data"
    }
   ],
   "source": [
    "# set width of bar \n",
    "barWidth = 0.25\n",
    "fig = plt.subplots(figsize =(23, 10)) \n",
    "   \n",
    "# set height of bar \n",
    "y1 = [0.9236133812792852,\n",
    " 0.8835381825508765,\n",
    " 0.9282894736842104,\n",
    " 0.8639175257731958,\n",
    " 0.9057872072261317,\n",
    " 0.8996677740863789,\n",
    " 0.9058898847631243,\n",
    " 0.9183222958057395]\n",
    "y2 = [0.9185558354324098,\n",
    " 0.8123577235772357,\n",
    " 0.9237630662020906,\n",
    " 0.8455565142364107,\n",
    " 0.9035723878592533,\n",
    " 0.9038461538461539,\n",
    " 0.9080856945404284,\n",
    " 0.9123732814886821]\n",
    "y3 = [0.9031693989071039,\n",
    "0.686041637557636,\n",
    "0.9044859411890963,\n",
    "0.8124423963133641,\n",
    "0.8831301853938339,\n",
    "0.8808459609724191,\n",
    "0.8906779661016949,\n",
    "0.8929656969170647\n",
    "        ] \n",
    "   \n",
    "# create data \n",
    "x = np.arange(8) \n",
    "width = 0.2\n",
    "  \n",
    "# plot data in grouped manner of bar type \n",
    "plt.bar(x-0.2, y1, width, color='royalblue') \n",
    "plt.bar(x, y2, width, color='red') \n",
    "plt.bar(x+0.2, y3, width, color='green') \n",
    "\n",
    "plt.xticks(x, ['LogisticRegression',\n",
    "    'MultinomialNB',\n",
    "    'SVM',\n",
    "    'DecisionTree',\n",
    "    'RandomForest',\n",
    "    'AdaBoost',\n",
    "    'GradientBoosting',\n",
    "    'XGBClassifier'], fontsize=12, fontweight ='bold') \n",
    "plt.xlabel(\"Classifiers\", fontsize=18, fontweight ='bold') \n",
    "plt.ylabel(\"F1-Score\", fontsize=18, fontweight ='bold') \n",
    "plt.legend([\"TFIDF\", \"Word2Vec\", \"Glove\"], fontsize=18) \n",
    "plt.show() "
   ]
  },
  {
   "cell_type": "code",
   "execution_count": null,
   "metadata": {},
   "outputs": [],
   "source": []
  },
  {
   "cell_type": "markdown",
   "metadata": {},
   "source": [
    "# Glove "
   ]
  },
  {
   "cell_type": "code",
   "execution_count": 38,
   "metadata": {},
   "outputs": [],
   "source": [
    "X2, y2 = df['Review Text no Stopwords'], df['Label']\n",
    "gX_train, gX_test, gy_train, gy_test = train_test_split(X2, y2, random_state=42)"
   ]
  },
  {
   "cell_type": "code",
   "execution_count": 39,
   "metadata": {},
   "outputs": [
    {
     "name": "stdout",
     "output_type": "stream",
     "text": [
      "Wall time: 1min 23s\n"
     ]
    }
   ],
   "source": [
    "%%time\n",
    "glove_vectors = dict()\n",
    "file = open('C:/Users/anagha.bhople/Desktop/Sentiment Analysis/GloVe Word Embedding/glove/glove.6B.300d.txt', encoding='utf-8')\n",
    "\n",
    "for line in file:\n",
    "    values = line.split()\n",
    "    \n",
    "    word  = values[0]\n",
    "    vectors = np.asarray(values[1:])\n",
    "    glove_vectors[word] = vectors\n",
    "    \n",
    "file.close()"
   ]
  },
  {
   "cell_type": "code",
   "execution_count": 43,
   "metadata": {},
   "outputs": [],
   "source": [
    "class glove(object):\n",
    "    def __init__(self, word2vec):\n",
    "        self.word2vec = word2vec\n",
    "        global arr \n",
    "        arr= np.zeros(300)\n",
    "\n",
    "    def fit(self, X2, y2):\n",
    "        return self\n",
    "    \n",
    "    def get_vec(self, X2):\n",
    "        arr = np.zeros(300)\n",
    "        text = str(X2).split()\n",
    "\n",
    "        for t in text:\n",
    "            #print(t)\n",
    "            try:\n",
    "                vec = self.word2vec.get(t).astype(float)\n",
    "                arr = arr + vec\n",
    "            except:\n",
    "                pass\n",
    "        arr = arr.reshape(1, -1)[0]\n",
    "        #print(arr.shape)\n",
    "        return arr/len(text)\n",
    "\n",
    "\n",
    "    def transform(self, X2):\n",
    "        lis=np.array(X2.apply(lambda x: self.get_vec(x)))\n",
    "        #print(lis.shape)\n",
    "        lis = lis.reshape(1, -1)[0]\n",
    "        lis = np.concatenate(lis, axis = 0).reshape(-1, 300)\n",
    "        #print(lis.shape)\n",
    "        return lis\n",
    "       "
   ]
  },
  {
   "cell_type": "code",
   "execution_count": 59,
   "metadata": {},
   "outputs": [
    {
     "name": "stdout",
     "output_type": "stream",
     "text": [
      "LogisticRegression()\n"
     ]
    },
    {
     "name": "stderr",
     "output_type": "stream",
     "text": [
      "C:\\ProgramData\\Anaconda3\\lib\\site-packages\\sklearn\\linear_model\\_logistic.py:762: ConvergenceWarning: lbfgs failed to converge (status=1):\n",
      "STOP: TOTAL NO. of ITERATIONS REACHED LIMIT.\n",
      "\n",
      "Increase the number of iterations (max_iter) or scale the data as shown in:\n",
      "    https://scikit-learn.org/stable/modules/preprocessing.html\n",
      "Please also refer to the documentation for alternative solver options:\n",
      "    https://scikit-learn.org/stable/modules/linear_model.html#logistic-regression\n",
      "  n_iter_i = _check_optimize_result(\n"
     ]
    },
    {
     "name": "stdout",
     "output_type": "stream",
     "text": [
      "model score: 0.869\n",
      "[[ 643  628]\n",
      " [ 258 4132]]\n",
      "              precision    recall  f1-score   support\n",
      "\n",
      "           0       0.71      0.51      0.59      1271\n",
      "           1       0.87      0.94      0.90      4390\n",
      "\n",
      "    accuracy                           0.84      5661\n",
      "   macro avg       0.79      0.72      0.75      5661\n",
      "weighted avg       0.83      0.84      0.83      5661\n",
      "\n",
      "Accuracy Score: 0.8434905493729024\n",
      "F1 Score: 0.9031693989071039\n",
      "Average precision-recall score: 0.8626259620390667\n"
     ]
    },
    {
     "data": {
      "image/png": "[encoded data removed]",
      "text/plain": [
       "<Figure size 432x288 with 1 Axes>"
      ]
     },
     "metadata": {
      "needs_background": "light"
     },
     "output_type": "display_data"
    },
    {
     "name": "stdout",
     "output_type": "stream",
     "text": [
      "GaussianNB()\n",
      "model score: 0.869\n",
      "[[ 959  312]\n",
      " [1935 2455]]\n",
      "              precision    recall  f1-score   support\n",
      "\n",
      "           0       0.33      0.75      0.46      1271\n",
      "           1       0.89      0.56      0.69      4390\n",
      "\n",
      "    accuracy                           0.60      5661\n",
      "   macro avg       0.61      0.66      0.57      5661\n",
      "weighted avg       0.76      0.60      0.64      5661\n",
      "\n",
      "Accuracy Score: 0.6030736618971914\n",
      "F1 Score: 0.686041637557636\n",
      "Average precision-recall score: 0.8379810429407379\n"
     ]
    },
    {
     "data": {
      "image/png": "[encoded data removed]",
      "text/plain": [
       "<Figure size 432x288 with 1 Axes>"
      ]
     },
     "metadata": {
      "needs_background": "light"
     },
     "output_type": "display_data"
    },
    {
     "name": "stdout",
     "output_type": "stream",
     "text": [
      "SVC()\n",
      "model score: 0.869\n",
      "[[ 557  714]\n",
      " [ 176 4214]]\n",
      "              precision    recall  f1-score   support\n",
      "\n",
      "           0       0.76      0.44      0.56      1271\n",
      "           1       0.86      0.96      0.90      4390\n",
      "\n",
      "    accuracy                           0.84      5661\n",
      "   macro avg       0.81      0.70      0.73      5661\n",
      "weighted avg       0.83      0.84      0.83      5661\n",
      "\n",
      "Accuracy Score: 0.8427839604310192\n",
      "F1 Score: 0.9044859411890963\n",
      "Average precision-recall score: 0.8519210896698166\n"
     ]
    },
    {
     "data": {
      "image/png": "[encoded data removed]",
      "text/plain": [
       "<Figure size 432x288 with 1 Axes>"
      ]
     },
     "metadata": {
      "needs_background": "light"
     },
     "output_type": "display_data"
    },
    {
     "name": "stdout",
     "output_type": "stream",
     "text": [
      "DecisionTreeClassifier()\n",
      "model score: 0.869\n",
      "[[ 507  764]\n",
      " [ 864 3526]]\n",
      "              precision    recall  f1-score   support\n",
      "\n",
      "           0       0.37      0.40      0.38      1271\n",
      "           1       0.82      0.80      0.81      4390\n",
      "\n",
      "    accuracy                           0.71      5661\n",
      "   macro avg       0.60      0.60      0.60      5661\n",
      "weighted avg       0.72      0.71      0.72      5661\n",
      "\n",
      "Accuracy Score: 0.7124183006535948\n",
      "F1 Score: 0.8124423963133641\n",
      "Average precision-recall score: 0.8127734787951859\n"
     ]
    },
    {
     "data": {
      "image/png": "[encoded data removed]",
      "text/plain": [
       "<Figure size 432x288 with 1 Axes>"
      ]
     },
     "metadata": {
      "needs_background": "light"
     },
     "output_type": "display_data"
    },
    {
     "name": "stdout",
     "output_type": "stream",
     "text": [
      "RandomForestClassifier()\n",
      "model score: 0.869\n",
      "[[ 209 1062]\n",
      " [  79 4311]]\n",
      "              precision    recall  f1-score   support\n",
      "\n",
      "           0       0.73      0.16      0.27      1271\n",
      "           1       0.80      0.98      0.88      4390\n",
      "\n",
      "    accuracy                           0.80      5661\n",
      "   macro avg       0.76      0.57      0.58      5661\n",
      "weighted avg       0.79      0.80      0.75      5661\n",
      "\n",
      "Accuracy Score: 0.7984455043278572\n",
      "F1 Score: 0.8831301853938339\n",
      "Average precision-recall score: 0.801861634503943\n"
     ]
    },
    {
     "data": {
      "image/png": "[encoded data removed]",
      "text/plain": [
       "<Figure size 432x288 with 1 Axes>"
      ]
     },
     "metadata": {
      "needs_background": "light"
     },
     "output_type": "display_data"
    },
    {
     "name": "stdout",
     "output_type": "stream",
     "text": [
      "AdaBoostClassifier()\n",
      "model score: 0.869\n",
      "[[ 528  743]\n",
      " [ 350 4040]]\n",
      "              precision    recall  f1-score   support\n",
      "\n",
      "           0       0.60      0.42      0.49      1271\n",
      "           1       0.84      0.92      0.88      4390\n",
      "\n",
      "    accuracy                           0.81      5661\n",
      "   macro avg       0.72      0.67      0.69      5661\n",
      "weighted avg       0.79      0.81      0.79      5661\n",
      "\n",
      "Accuracy Score: 0.806924571630454\n",
      "F1 Score: 0.8808459609724191\n",
      "Average precision-recall score: 0.8391429296588035\n"
     ]
    },
    {
     "data": {
      "image/png": "[encoded data removed]",
      "text/plain": [
       "<Figure size 432x288 with 1 Axes>"
      ]
     },
     "metadata": {
      "needs_background": "light"
     },
     "output_type": "display_data"
    },
    {
     "name": "stdout",
     "output_type": "stream",
     "text": [
      "GradientBoostingClassifier()\n",
      "model score: 0.869\n",
      "[[ 425  846]\n",
      " [ 186 4204]]\n",
      "              precision    recall  f1-score   support\n",
      "\n",
      "           0       0.70      0.33      0.45      1271\n",
      "           1       0.83      0.96      0.89      4390\n",
      "\n",
      "    accuracy                           0.82      5661\n",
      "   macro avg       0.76      0.65      0.67      5661\n",
      "weighted avg       0.80      0.82      0.79      5661\n",
      "\n",
      "Accuracy Score: 0.8177000529941706\n",
      "F1 Score: 0.8906779661016949\n",
      "Average precision-recall score: 0.8300604724932478\n"
     ]
    },
    {
     "data": {
      "image/png": "[encoded data removed]",
      "text/plain": [
       "<Figure size 432x288 with 1 Axes>"
      ]
     },
     "metadata": {
      "needs_background": "light"
     },
     "output_type": "display_data"
    },
    {
     "name": "stdout",
     "output_type": "stream",
     "text": [
      "XGBClassifier(base_score=None, booster=None, colsample_bylevel=None,\n",
      "              colsample_bynode=None, colsample_bytree=None, gamma=None,\n",
      "              gpu_id=None, importance_type='gain', interaction_constraints=None,\n",
      "              learning_rate=None, max_delta_step=None, max_depth=None,\n",
      "              min_child_weight=None, missing=nan, monotone_constraints=None,\n",
      "              n_estimators=100, n_jobs=None, num_parallel_tree=None,\n",
      "              random_state=None, reg_alpha=None, reg_lambda=None,\n",
      "              scale_pos_weight=None, subsample=None, tree_method=None,\n",
      "              validate_parameters=None, verbosity=None)\n"
     ]
    },
    {
     "name": "stderr",
     "output_type": "stream",
     "text": [
      "C:\\Users\\anagha.bhople\\AppData\\Roaming\\Python\\Python38\\site-packages\\xgboost\\sklearn.py:888: UserWarning: The use of label encoder in XGBClassifier is deprecated and will be removed in a future release. To remove this warning, do the following: 1) Pass option use_label_encoder=False when constructing XGBClassifier object; and 2) Encode your labels (y) as integers starting with 0, i.e. 0, 1, 2, ..., [num_class - 1].\n",
      "  warnings.warn(label_encoder_deprecation_msg, UserWarning)\n"
     ]
    },
    {
     "name": "stdout",
     "output_type": "stream",
     "text": [
      "[15:23:58] WARNING: C:/Users/Administrator/workspace/xgboost-win64_release_1.3.0/src/learner.cc:1061: Starting in XGBoost 1.3.0, the default evaluation metric used with the objective 'binary:logistic' was changed from 'error' to 'logloss'. Explicitly set eval_metric if you'd like to restore the old behavior.\n",
      "model score: 0.869\n",
      "[[ 562  709]\n",
      " [ 277 4113]]\n",
      "              precision    recall  f1-score   support\n",
      "\n",
      "           0       0.67      0.44      0.53      1271\n",
      "           1       0.85      0.94      0.89      4390\n",
      "\n",
      "    accuracy                           0.83      5661\n",
      "   macro avg       0.76      0.69      0.71      5661\n",
      "weighted avg       0.81      0.83      0.81      5661\n",
      "\n",
      "Accuracy Score: 0.8258258258258259\n",
      "F1 Score: 0.8929656969170647\n",
      "Average precision-recall score: 0.8480764796045912\n"
     ]
    },
    {
     "data": {
      "image/png": "[encoded data removed]",
      "text/plain": [
       "<Figure size 432x288 with 1 Axes>"
      ]
     },
     "metadata": {
      "needs_background": "light"
     },
     "output_type": "display_data"
    }
   ],
   "source": [
    "classifiers = [\n",
    "    LogisticRegression(),\n",
    "    GaussianNB(),\n",
    "    svm.SVC(),\n",
    "    DecisionTreeClassifier(),\n",
    "    RandomForestClassifier(),\n",
    "    AdaBoostClassifier(),\n",
    "    GradientBoostingClassifier(),\n",
    "    XGBClassifier()\n",
    "    ]\n",
    "\n",
    "for classifier in classifiers:\n",
    "    print(classifier)\n",
    "    \n",
    "    glove_pipe = Pipeline([\n",
    "    (\"glove vectorizer\", glove(glove_vectors)),\n",
    "    ('classifier', classifier)])\n",
    "    \n",
    "    glove_pipe.fit(gX_train, gy_train)   \n",
    "    \n",
    "    gy_pred = glove_pipe.predict(gX_test)\n",
    "    evaluation(gy_test, gy_pred, gX_test, glove_pipe)"
   ]
  },
  {
   "cell_type": "markdown",
   "metadata": {},
   "source": [
    "# Hyperparameter Tuning"
   ]
  },
  {
   "cell_type": "code",
   "execution_count": 45,
   "metadata": {},
   "outputs": [],
   "source": [
    "param_range = [9, 10]\n",
    "param_range_fl = [1.0, 0.5]\n",
    "\n",
    "Log = [{'clf__penalty': ['l1', 'l2'],\n",
    "        'clf__C': param_range_fl,\n",
    "        'clf__solver': ['liblinear']}] \n",
    "\n",
    "SVC = [{'clf__kernel': ['linear', 'rbf'], \n",
    "        'clf__C': param_range}]\n",
    "\n",
    "RF = [{'clf__criterion': ['gini', 'entropy'],\n",
    "        'clf__max_depth': param_range,\n",
    "        'clf__min_samples_split': param_range[1:]}]\n",
    "\n",
    "params_dict = {0: Log, 1: SVC, 2: RF}\n",
    "\n",
    "grid_dict = {0: 'Logistic Regression', \n",
    "             1: 'Support Vector Machine',\n",
    "             2: 'Random Forest Classifier'}\n",
    "\n",
    "best_acc = 0.0\n",
    "best_clf = 0\n",
    "best_gs = ''"
   ]
  },
  {
   "cell_type": "code",
   "execution_count": 46,
   "metadata": {},
   "outputs": [
    {
     "name": "stdout",
     "output_type": "stream",
     "text": [
      "LogisticRegression()\n",
      "\n",
      "Estimator: [{'clf__penalty': ['l1', 'l2'], 'clf__C': [1.0, 0.5], 'clf__solver': ['liblinear']}]\n",
      "Best params are : {'clf__C': 1.0, 'clf__penalty': 'l1', 'clf__solver': 'liblinear'}\n",
      "Best training accuracy: 0.839\n",
      "model score: 0.844\n",
      "[[ 670  601]\n",
      " [ 270 4120]]\n",
      "              precision    recall  f1-score   support\n",
      "\n",
      "           0       0.71      0.53      0.61      1271\n",
      "           1       0.87      0.94      0.90      4390\n",
      "\n",
      "    accuracy                           0.85      5661\n",
      "   macro avg       0.79      0.73      0.76      5661\n",
      "weighted avg       0.84      0.85      0.84      5661\n",
      "\n",
      "Accuracy Score: 0.8461402579049638\n",
      "F1 Score: 0.9044012731862584\n",
      "Average precision-recall score: 0.8667174018616337\n"
     ]
    },
    {
     "data": {
      "image/png": "[encoded data removed]",
      "text/plain": [
       "<Figure size 432x288 with 1 Axes>"
      ]
     },
     "metadata": {
      "needs_background": "light"
     },
     "output_type": "display_data"
    },
    {
     "name": "stdout",
     "output_type": "stream",
     "text": [
      "SVC()\n",
      "\n",
      "Estimator: [{'clf__kernel': ['linear', 'rbf'], 'clf__C': [9, 10]}]\n",
      "Best params are : {'clf__C': 10, 'clf__kernel': 'rbf'}\n",
      "Best training accuracy: 0.847\n",
      "model score: 0.844\n",
      "[[ 710  561]\n",
      " [ 260 4130]]\n",
      "              precision    recall  f1-score   support\n",
      "\n",
      "           0       0.73      0.56      0.63      1271\n",
      "           1       0.88      0.94      0.91      4390\n",
      "\n",
      "    accuracy                           0.85      5661\n",
      "   macro avg       0.81      0.75      0.77      5661\n",
      "weighted avg       0.85      0.85      0.85      5661\n",
      "\n",
      "Accuracy Score: 0.854972619678502\n",
      "F1 Score: 0.9095914546856074\n",
      "Average precision-recall score: 0.8741948839206303\n"
     ]
    },
    {
     "data": {
      "image/png": "[encoded data removed]",
      "text/plain": [
       "<Figure size 432x288 with 1 Axes>"
      ]
     },
     "metadata": {
      "needs_background": "light"
     },
     "output_type": "display_data"
    },
    {
     "name": "stdout",
     "output_type": "stream",
     "text": [
      "RandomForestClassifier()\n",
      "\n",
      "Estimator: [{'clf__criterion': ['gini', 'entropy'], 'clf__max_depth': [9, 10], 'clf__min_samples_split': [10]}]\n",
      "Best params are : {'clf__criterion': 'gini', 'clf__max_depth': 10, 'clf__min_samples_split': 10}\n",
      "Best training accuracy: 0.787\n",
      "model score: 0.844\n",
      "[[ 121 1150]\n",
      " [  31 4359]]\n",
      "              precision    recall  f1-score   support\n",
      "\n",
      "           0       0.80      0.10      0.17      1271\n",
      "           1       0.79      0.99      0.88      4390\n",
      "\n",
      "    accuracy                           0.79      5661\n",
      "   macro avg       0.79      0.54      0.53      5661\n",
      "weighted avg       0.79      0.79      0.72      5661\n",
      "\n",
      "Accuracy Score: 0.7913796149090266\n",
      "F1 Score: 0.8806950196989595\n",
      "Average precision-recall score: 0.7911393256185123\n"
     ]
    },
    {
     "data": {
      "image/png": "[encoded data removed]",
      "text/plain": [
       "<Figure size 432x288 with 1 Axes>"
      ]
     },
     "metadata": {
      "needs_background": "light"
     },
     "output_type": "display_data"
    },
    {
     "name": "stdout",
     "output_type": "stream",
     "text": [
      "\n",
      "Classifier with best test set accuracy: Support Vector Machine\n"
     ]
    }
   ],
   "source": [
    "classifiers = [\n",
    "    LogisticRegression(),\n",
    "    svm.SVC(),\n",
    "    RandomForestClassifier()\n",
    "    ]\n",
    "\n",
    "for idx, classifier in enumerate(classifiers): \n",
    "    \n",
    "    pipe2 = Pipeline(steps=[(\"glove vectorizer\", glove(glove_vectors)),\n",
    "                          ('clf', classifier)])\n",
    "\n",
    "    out2 = GridSearchCV(estimator=pipe2,\n",
    "                param_grid=params_dict[idx],\n",
    "                scoring='accuracy',\n",
    "                cv=10) \n",
    "    \n",
    "    print(classifier)\n",
    "    print('\\nEstimator: %s' % params_dict[idx])\n",
    "    \n",
    "    out2.fit(gX_train, gy_train)\n",
    "    \n",
    "    gy_pred = out2.predict(gX_test)\n",
    "    print('Best params are : %s' % out2.best_params_)\n",
    "    print('Best training accuracy: %.3f' % out2.best_score_)\n",
    "    \n",
    "    evaluation(gy_test, gy_pred, gX_test, out2)\n",
    "    \n",
    "    if accuracy_score(gy_test, gy_pred) > best_acc:\n",
    "        best_acc = accuracy_score(gy_test, gy_pred)\n",
    "        best_gs = classifier\n",
    "        best_clf = idx\n",
    "\n",
    "print('\\nClassifier with best test set accuracy: %s' % grid_dict[best_clf])      "
   ]
  },
  {
   "cell_type": "code",
   "execution_count": 47,
   "metadata": {},
   "outputs": [
    {
     "name": "stdout",
     "output_type": "stream",
     "text": [
      "\n",
      "Saved Support Vector Machine grid search pipeline to file: best_grid_search_pipeline_glove.pkl\n"
     ]
    }
   ],
   "source": [
    "# Save best grid search pipeline to file\n",
    "dump_file = 'best_grid_search_pipeline_glove.pkl'\n",
    "joblib.dump(best_gs, dump_file, compress=1)\n",
    "print('\\nSaved %s grid search pipeline to file: %s' % (grid_dict[best_clf], dump_file))"
   ]
  },
  {
   "cell_type": "markdown",
   "metadata": {},
   "source": [
    "# FastText"
   ]
  },
  {
   "cell_type": "code",
   "execution_count": 64,
   "metadata": {},
   "outputs": [],
   "source": [
    "df['Review Text fast']=df['Review Text no Stopwords'].apply(lambda x: tokenize(x))"
   ]
  },
  {
   "cell_type": "code",
   "execution_count": 65,
   "metadata": {},
   "outputs": [],
   "source": [
    "X3=df['Review Text fast']\n",
    "y3=df['Label']"
   ]
  },
  {
   "cell_type": "code",
   "execution_count": 66,
   "metadata": {},
   "outputs": [],
   "source": [
    "f_Y=y3\n",
    "f_X=X3\n",
    "fX_train, fX_test, fy_train, fy_test = train_test_split(f_X,f_Y, test_size=.20, random_state=101)"
   ]
  },
  {
   "cell_type": "code",
   "execution_count": 70,
   "metadata": {},
   "outputs": [],
   "source": [
    "class FastTextVectorizer(object):\n",
    "    def __init__(self, word2vec):\n",
    "        self.word2vec = word2vec\n",
    "       \n",
    "    def fit(self, X3, y3):\n",
    "        return self\n",
    "\n",
    "    def transform(self, X3):\n",
    "        mean_vec= np.array([\n",
    "            np.mean([self.word2vec[w] for w in words if w in self.word2vec], axis=0)\n",
    "            for words in X3\n",
    "        ])\n",
    "        \n",
    "        #print(X1.shape)\n",
    "        #print(mean_vec)\n",
    "        return mean_vec"
   ]
  },
  {
   "cell_type": "code",
   "execution_count": 71,
   "metadata": {},
   "outputs": [],
   "source": [
    "# Set values for various parameters\n",
    "feature_size = 100    # Word vector dimensionality  \n",
    "window_context = 50          # Context window size                                                                                    \n",
    "min_word_count = 5   # Minimum word count                        \n",
    "sample = 1e-3   # Downsample setting for frequent words\n",
    "\n",
    "# sg decides whether to use the skip-gram model (1) or CBOW (0)\n",
    "ft_model = FastText(df['Review Text fast'], size=feature_size, window=window_context, \n",
    "                    min_count=min_word_count,sample=sample, sg=1, iter=50)"
   ]
  },
  {
   "cell_type": "code",
   "execution_count": 73,
   "metadata": {},
   "outputs": [
    {
     "name": "stdout",
     "output_type": "stream",
     "text": [
      "LogisticRegression()\n"
     ]
    },
    {
     "name": "stderr",
     "output_type": "stream",
     "text": [
      "<ipython-input-70-874e11944aae>:10: DeprecationWarning: Call to deprecated `__contains__` (Method will be removed in 4.0.0, use self.wv.__contains__() instead).\n",
      "  np.mean([self.word2vec[w] for w in words if w in self.word2vec], axis=0)\n",
      "<ipython-input-70-874e11944aae>:10: DeprecationWarning: Call to deprecated `__getitem__` (Method will be removed in 4.0.0, use self.wv.__getitem__() instead).\n",
      "  np.mean([self.word2vec[w] for w in words if w in self.word2vec], axis=0)\n",
      "<ipython-input-70-874e11944aae>:10: DeprecationWarning: Call to deprecated `__contains__` (Method will be removed in 4.0.0, use self.wv.__contains__() instead).\n",
      "  np.mean([self.word2vec[w] for w in words if w in self.word2vec], axis=0)\n",
      "<ipython-input-70-874e11944aae>:10: DeprecationWarning: Call to deprecated `__getitem__` (Method will be removed in 4.0.0, use self.wv.__getitem__() instead).\n",
      "  np.mean([self.word2vec[w] for w in words if w in self.word2vec], axis=0)\n"
     ]
    },
    {
     "name": "stdout",
     "output_type": "stream",
     "text": [
      "model score: 0.772\n",
      "[[ 620  411]\n",
      " [ 193 3305]]\n",
      "              precision    recall  f1-score   support\n",
      "\n",
      "           0       0.76      0.60      0.67      1031\n",
      "           1       0.89      0.94      0.92      3498\n",
      "\n",
      "    accuracy                           0.87      4529\n",
      "   macro avg       0.83      0.77      0.79      4529\n",
      "weighted avg       0.86      0.87      0.86      4529\n",
      "\n",
      "Accuracy Score: 0.8666372267608744\n",
      "F1 Score: 0.9162739118380926\n",
      "Average precision-recall score: 0.8829395210011679\n"
     ]
    },
    {
     "name": "stderr",
     "output_type": "stream",
     "text": [
      "<ipython-input-70-874e11944aae>:10: DeprecationWarning: Call to deprecated `__contains__` (Method will be removed in 4.0.0, use self.wv.__contains__() instead).\n",
      "  np.mean([self.word2vec[w] for w in words if w in self.word2vec], axis=0)\n",
      "<ipython-input-70-874e11944aae>:10: DeprecationWarning: Call to deprecated `__getitem__` (Method will be removed in 4.0.0, use self.wv.__getitem__() instead).\n",
      "  np.mean([self.word2vec[w] for w in words if w in self.word2vec], axis=0)\n"
     ]
    },
    {
     "data": {
      "image/png": "[encoded data removed]",
      "text/plain": [
       "<Figure size 432x288 with 1 Axes>"
      ]
     },
     "metadata": {
      "needs_background": "light"
     },
     "output_type": "display_data"
    },
    {
     "name": "stdout",
     "output_type": "stream",
     "text": [
      "GaussianNB()\n"
     ]
    },
    {
     "name": "stderr",
     "output_type": "stream",
     "text": [
      "<ipython-input-70-874e11944aae>:10: DeprecationWarning: Call to deprecated `__contains__` (Method will be removed in 4.0.0, use self.wv.__contains__() instead).\n",
      "  np.mean([self.word2vec[w] for w in words if w in self.word2vec], axis=0)\n",
      "<ipython-input-70-874e11944aae>:10: DeprecationWarning: Call to deprecated `__getitem__` (Method will be removed in 4.0.0, use self.wv.__getitem__() instead).\n",
      "  np.mean([self.word2vec[w] for w in words if w in self.word2vec], axis=0)\n",
      "<ipython-input-70-874e11944aae>:10: DeprecationWarning: Call to deprecated `__contains__` (Method will be removed in 4.0.0, use self.wv.__contains__() instead).\n",
      "  np.mean([self.word2vec[w] for w in words if w in self.word2vec], axis=0)\n",
      "<ipython-input-70-874e11944aae>:10: DeprecationWarning: Call to deprecated `__getitem__` (Method will be removed in 4.0.0, use self.wv.__getitem__() instead).\n",
      "  np.mean([self.word2vec[w] for w in words if w in self.word2vec], axis=0)\n"
     ]
    },
    {
     "name": "stdout",
     "output_type": "stream",
     "text": [
      "model score: 0.772\n",
      "[[ 822  209]\n",
      " [ 616 2882]]\n",
      "              precision    recall  f1-score   support\n",
      "\n",
      "           0       0.57      0.80      0.67      1031\n",
      "           1       0.93      0.82      0.87      3498\n",
      "\n",
      "    accuracy                           0.82      4529\n",
      "   macro avg       0.75      0.81      0.77      4529\n",
      "weighted avg       0.85      0.82      0.83      4529\n",
      "\n",
      "Accuracy Score: 0.8178405829101347\n",
      "F1 Score: 0.8747913188647747\n",
      "Average precision-recall score: 0.9042032374299196\n"
     ]
    },
    {
     "name": "stderr",
     "output_type": "stream",
     "text": [
      "<ipython-input-70-874e11944aae>:10: DeprecationWarning: Call to deprecated `__contains__` (Method will be removed in 4.0.0, use self.wv.__contains__() instead).\n",
      "  np.mean([self.word2vec[w] for w in words if w in self.word2vec], axis=0)\n",
      "<ipython-input-70-874e11944aae>:10: DeprecationWarning: Call to deprecated `__getitem__` (Method will be removed in 4.0.0, use self.wv.__getitem__() instead).\n",
      "  np.mean([self.word2vec[w] for w in words if w in self.word2vec], axis=0)\n"
     ]
    },
    {
     "data": {
      "image/png": "[encoded data removed]",
      "text/plain": [
       "<Figure size 432x288 with 1 Axes>"
      ]
     },
     "metadata": {
      "needs_background": "light"
     },
     "output_type": "display_data"
    },
    {
     "name": "stdout",
     "output_type": "stream",
     "text": [
      "SVC()\n"
     ]
    },
    {
     "name": "stderr",
     "output_type": "stream",
     "text": [
      "<ipython-input-70-874e11944aae>:10: DeprecationWarning: Call to deprecated `__contains__` (Method will be removed in 4.0.0, use self.wv.__contains__() instead).\n",
      "  np.mean([self.word2vec[w] for w in words if w in self.word2vec], axis=0)\n",
      "<ipython-input-70-874e11944aae>:10: DeprecationWarning: Call to deprecated `__getitem__` (Method will be removed in 4.0.0, use self.wv.__getitem__() instead).\n",
      "  np.mean([self.word2vec[w] for w in words if w in self.word2vec], axis=0)\n",
      "<ipython-input-70-874e11944aae>:10: DeprecationWarning: Call to deprecated `__contains__` (Method will be removed in 4.0.0, use self.wv.__contains__() instead).\n",
      "  np.mean([self.word2vec[w] for w in words if w in self.word2vec], axis=0)\n",
      "<ipython-input-70-874e11944aae>:10: DeprecationWarning: Call to deprecated `__getitem__` (Method will be removed in 4.0.0, use self.wv.__getitem__() instead).\n",
      "  np.mean([self.word2vec[w] for w in words if w in self.word2vec], axis=0)\n"
     ]
    },
    {
     "name": "stdout",
     "output_type": "stream",
     "text": [
      "model score: 0.772\n",
      "[[ 659  372]\n",
      " [ 209 3289]]\n",
      "              precision    recall  f1-score   support\n",
      "\n",
      "           0       0.76      0.64      0.69      1031\n",
      "           1       0.90      0.94      0.92      3498\n",
      "\n",
      "    accuracy                           0.87      4529\n",
      "   macro avg       0.83      0.79      0.81      4529\n",
      "weighted avg       0.87      0.87      0.87      4529\n",
      "\n",
      "Accuracy Score: 0.8717156105100463\n",
      "F1 Score: 0.9188434138846208\n",
      "Average precision-recall score: 0.8908581753514614\n"
     ]
    },
    {
     "name": "stderr",
     "output_type": "stream",
     "text": [
      "<ipython-input-70-874e11944aae>:10: DeprecationWarning: Call to deprecated `__contains__` (Method will be removed in 4.0.0, use self.wv.__contains__() instead).\n",
      "  np.mean([self.word2vec[w] for w in words if w in self.word2vec], axis=0)\n",
      "<ipython-input-70-874e11944aae>:10: DeprecationWarning: Call to deprecated `__getitem__` (Method will be removed in 4.0.0, use self.wv.__getitem__() instead).\n",
      "  np.mean([self.word2vec[w] for w in words if w in self.word2vec], axis=0)\n"
     ]
    },
    {
     "data": {
      "image/png": "[encoded data removed]",
      "text/plain": [
       "<Figure size 432x288 with 1 Axes>"
      ]
     },
     "metadata": {
      "needs_background": "light"
     },
     "output_type": "display_data"
    },
    {
     "name": "stdout",
     "output_type": "stream",
     "text": [
      "DecisionTreeClassifier()\n"
     ]
    },
    {
     "name": "stderr",
     "output_type": "stream",
     "text": [
      "<ipython-input-70-874e11944aae>:10: DeprecationWarning: Call to deprecated `__contains__` (Method will be removed in 4.0.0, use self.wv.__contains__() instead).\n",
      "  np.mean([self.word2vec[w] for w in words if w in self.word2vec], axis=0)\n",
      "<ipython-input-70-874e11944aae>:10: DeprecationWarning: Call to deprecated `__getitem__` (Method will be removed in 4.0.0, use self.wv.__getitem__() instead).\n",
      "  np.mean([self.word2vec[w] for w in words if w in self.word2vec], axis=0)\n",
      "<ipython-input-70-874e11944aae>:10: DeprecationWarning: Call to deprecated `__contains__` (Method will be removed in 4.0.0, use self.wv.__contains__() instead).\n",
      "  np.mean([self.word2vec[w] for w in words if w in self.word2vec], axis=0)\n",
      "<ipython-input-70-874e11944aae>:10: DeprecationWarning: Call to deprecated `__getitem__` (Method will be removed in 4.0.0, use self.wv.__getitem__() instead).\n",
      "  np.mean([self.word2vec[w] for w in words if w in self.word2vec], axis=0)\n"
     ]
    },
    {
     "name": "stdout",
     "output_type": "stream",
     "text": [
      "model score: 0.772\n",
      "[[ 536  495]\n",
      " [ 559 2939]]\n",
      "              precision    recall  f1-score   support\n",
      "\n",
      "           0       0.49      0.52      0.50      1031\n",
      "           1       0.86      0.84      0.85      3498\n",
      "\n",
      "    accuracy                           0.77      4529\n",
      "   macro avg       0.67      0.68      0.68      4529\n",
      "weighted avg       0.77      0.77      0.77      4529\n",
      "\n",
      "Accuracy Score: 0.7672775447118569\n",
      "F1 Score: 0.8479515291402193\n",
      "Average precision-recall score: 0.8425098953632346\n"
     ]
    },
    {
     "name": "stderr",
     "output_type": "stream",
     "text": [
      "<ipython-input-70-874e11944aae>:10: DeprecationWarning: Call to deprecated `__contains__` (Method will be removed in 4.0.0, use self.wv.__contains__() instead).\n",
      "  np.mean([self.word2vec[w] for w in words if w in self.word2vec], axis=0)\n",
      "<ipython-input-70-874e11944aae>:10: DeprecationWarning: Call to deprecated `__getitem__` (Method will be removed in 4.0.0, use self.wv.__getitem__() instead).\n",
      "  np.mean([self.word2vec[w] for w in words if w in self.word2vec], axis=0)\n"
     ]
    },
    {
     "data": {
      "image/png": "[encoded data removed]",
      "text/plain": [
       "<Figure size 432x288 with 1 Axes>"
      ]
     },
     "metadata": {
      "needs_background": "light"
     },
     "output_type": "display_data"
    },
    {
     "name": "stdout",
     "output_type": "stream",
     "text": [
      "RandomForestClassifier()\n"
     ]
    },
    {
     "name": "stderr",
     "output_type": "stream",
     "text": [
      "<ipython-input-70-874e11944aae>:10: DeprecationWarning: Call to deprecated `__contains__` (Method will be removed in 4.0.0, use self.wv.__contains__() instead).\n",
      "  np.mean([self.word2vec[w] for w in words if w in self.word2vec], axis=0)\n",
      "<ipython-input-70-874e11944aae>:10: DeprecationWarning: Call to deprecated `__getitem__` (Method will be removed in 4.0.0, use self.wv.__getitem__() instead).\n",
      "  np.mean([self.word2vec[w] for w in words if w in self.word2vec], axis=0)\n",
      "<ipython-input-70-874e11944aae>:10: DeprecationWarning: Call to deprecated `__contains__` (Method will be removed in 4.0.0, use self.wv.__contains__() instead).\n",
      "  np.mean([self.word2vec[w] for w in words if w in self.word2vec], axis=0)\n",
      "<ipython-input-70-874e11944aae>:10: DeprecationWarning: Call to deprecated `__getitem__` (Method will be removed in 4.0.0, use self.wv.__getitem__() instead).\n",
      "  np.mean([self.word2vec[w] for w in words if w in self.word2vec], axis=0)\n"
     ]
    },
    {
     "name": "stdout",
     "output_type": "stream",
     "text": [
      "model score: 0.772\n",
      "[[ 503  528]\n",
      " [ 155 3343]]\n",
      "              precision    recall  f1-score   support\n",
      "\n",
      "           0       0.76      0.49      0.60      1031\n",
      "           1       0.86      0.96      0.91      3498\n",
      "\n",
      "    accuracy                           0.85      4529\n",
      "   macro avg       0.81      0.72      0.75      4529\n",
      "weighted avg       0.84      0.85      0.84      4529\n",
      "\n",
      "Accuracy Score: 0.8491940825789357\n",
      "F1 Score: 0.9073144252951554\n",
      "Average precision-recall score: 0.8595579670544484\n"
     ]
    },
    {
     "name": "stderr",
     "output_type": "stream",
     "text": [
      "<ipython-input-70-874e11944aae>:10: DeprecationWarning: Call to deprecated `__contains__` (Method will be removed in 4.0.0, use self.wv.__contains__() instead).\n",
      "  np.mean([self.word2vec[w] for w in words if w in self.word2vec], axis=0)\n",
      "<ipython-input-70-874e11944aae>:10: DeprecationWarning: Call to deprecated `__getitem__` (Method will be removed in 4.0.0, use self.wv.__getitem__() instead).\n",
      "  np.mean([self.word2vec[w] for w in words if w in self.word2vec], axis=0)\n"
     ]
    },
    {
     "data": {
      "image/png": "[encoded data removed]",
      "text/plain": [
       "<Figure size 432x288 with 1 Axes>"
      ]
     },
     "metadata": {
      "needs_background": "light"
     },
     "output_type": "display_data"
    },
    {
     "name": "stdout",
     "output_type": "stream",
     "text": [
      "AdaBoostClassifier()\n"
     ]
    },
    {
     "name": "stderr",
     "output_type": "stream",
     "text": [
      "<ipython-input-70-874e11944aae>:10: DeprecationWarning: Call to deprecated `__contains__` (Method will be removed in 4.0.0, use self.wv.__contains__() instead).\n",
      "  np.mean([self.word2vec[w] for w in words if w in self.word2vec], axis=0)\n",
      "<ipython-input-70-874e11944aae>:10: DeprecationWarning: Call to deprecated `__getitem__` (Method will be removed in 4.0.0, use self.wv.__getitem__() instead).\n",
      "  np.mean([self.word2vec[w] for w in words if w in self.word2vec], axis=0)\n",
      "<ipython-input-70-874e11944aae>:10: DeprecationWarning: Call to deprecated `__contains__` (Method will be removed in 4.0.0, use self.wv.__contains__() instead).\n",
      "  np.mean([self.word2vec[w] for w in words if w in self.word2vec], axis=0)\n",
      "<ipython-input-70-874e11944aae>:10: DeprecationWarning: Call to deprecated `__getitem__` (Method will be removed in 4.0.0, use self.wv.__getitem__() instead).\n",
      "  np.mean([self.word2vec[w] for w in words if w in self.word2vec], axis=0)\n"
     ]
    },
    {
     "name": "stdout",
     "output_type": "stream",
     "text": [
      "model score: 0.772\n",
      "[[ 613  418]\n",
      " [ 276 3222]]\n",
      "              precision    recall  f1-score   support\n",
      "\n",
      "           0       0.69      0.59      0.64      1031\n",
      "           1       0.89      0.92      0.90      3498\n",
      "\n",
      "    accuracy                           0.85      4529\n",
      "   macro avg       0.79      0.76      0.77      4529\n",
      "weighted avg       0.84      0.85      0.84      4529\n",
      "\n",
      "Accuracy Score: 0.8467652903510708\n",
      "F1 Score: 0.902773886242645\n",
      "Average precision-recall score: 0.8762639608794576\n"
     ]
    },
    {
     "name": "stderr",
     "output_type": "stream",
     "text": [
      "<ipython-input-70-874e11944aae>:10: DeprecationWarning: Call to deprecated `__contains__` (Method will be removed in 4.0.0, use self.wv.__contains__() instead).\n",
      "  np.mean([self.word2vec[w] for w in words if w in self.word2vec], axis=0)\n",
      "<ipython-input-70-874e11944aae>:10: DeprecationWarning: Call to deprecated `__getitem__` (Method will be removed in 4.0.0, use self.wv.__getitem__() instead).\n",
      "  np.mean([self.word2vec[w] for w in words if w in self.word2vec], axis=0)\n"
     ]
    },
    {
     "data": {
      "image/png": "[encoded data removed]",
      "text/plain": [
       "<Figure size 432x288 with 1 Axes>"
      ]
     },
     "metadata": {
      "needs_background": "light"
     },
     "output_type": "display_data"
    },
    {
     "name": "stdout",
     "output_type": "stream",
     "text": [
      "GradientBoostingClassifier()\n"
     ]
    },
    {
     "name": "stderr",
     "output_type": "stream",
     "text": [
      "<ipython-input-70-874e11944aae>:10: DeprecationWarning: Call to deprecated `__contains__` (Method will be removed in 4.0.0, use self.wv.__contains__() instead).\n",
      "  np.mean([self.word2vec[w] for w in words if w in self.word2vec], axis=0)\n",
      "<ipython-input-70-874e11944aae>:10: DeprecationWarning: Call to deprecated `__getitem__` (Method will be removed in 4.0.0, use self.wv.__getitem__() instead).\n",
      "  np.mean([self.word2vec[w] for w in words if w in self.word2vec], axis=0)\n",
      "<ipython-input-70-874e11944aae>:10: DeprecationWarning: Call to deprecated `__contains__` (Method will be removed in 4.0.0, use self.wv.__contains__() instead).\n",
      "  np.mean([self.word2vec[w] for w in words if w in self.word2vec], axis=0)\n",
      "<ipython-input-70-874e11944aae>:10: DeprecationWarning: Call to deprecated `__getitem__` (Method will be removed in 4.0.0, use self.wv.__getitem__() instead).\n",
      "  np.mean([self.word2vec[w] for w in words if w in self.word2vec], axis=0)\n"
     ]
    },
    {
     "name": "stdout",
     "output_type": "stream",
     "text": [
      "model score: 0.772\n",
      "[[ 593  438]\n",
      " [ 220 3278]]\n",
      "              precision    recall  f1-score   support\n",
      "\n",
      "           0       0.73      0.58      0.64      1031\n",
      "           1       0.88      0.94      0.91      3498\n",
      "\n",
      "    accuracy                           0.85      4529\n",
      "   macro avg       0.81      0.76      0.78      4529\n",
      "weighted avg       0.85      0.85      0.85      4529\n",
      "\n",
      "Accuracy Score: 0.8547140649149922\n",
      "F1 Score: 0.908788466869975\n",
      "Average precision-recall score: 0.8752272110770556\n"
     ]
    },
    {
     "name": "stderr",
     "output_type": "stream",
     "text": [
      "<ipython-input-70-874e11944aae>:10: DeprecationWarning: Call to deprecated `__contains__` (Method will be removed in 4.0.0, use self.wv.__contains__() instead).\n",
      "  np.mean([self.word2vec[w] for w in words if w in self.word2vec], axis=0)\n",
      "<ipython-input-70-874e11944aae>:10: DeprecationWarning: Call to deprecated `__getitem__` (Method will be removed in 4.0.0, use self.wv.__getitem__() instead).\n",
      "  np.mean([self.word2vec[w] for w in words if w in self.word2vec], axis=0)\n"
     ]
    },
    {
     "data": {
      "image/png": "[encoded data removed]",
      "text/plain": [
       "<Figure size 432x288 with 1 Axes>"
      ]
     },
     "metadata": {
      "needs_background": "light"
     },
     "output_type": "display_data"
    },
    {
     "name": "stdout",
     "output_type": "stream",
     "text": [
      "XGBClassifier(base_score=None, booster=None, colsample_bylevel=None,\n",
      "              colsample_bynode=None, colsample_bytree=None, gamma=None,\n",
      "              gpu_id=None, importance_type='gain', interaction_constraints=None,\n",
      "              learning_rate=None, max_delta_step=None, max_depth=None,\n",
      "              min_child_weight=None, missing=nan, monotone_constraints=None,\n",
      "              n_estimators=100, n_jobs=None, num_parallel_tree=None,\n",
      "              random_state=None, reg_alpha=None, reg_lambda=None,\n",
      "              scale_pos_weight=None, subsample=None, tree_method=None,\n",
      "              validate_parameters=None, verbosity=None)\n"
     ]
    },
    {
     "name": "stderr",
     "output_type": "stream",
     "text": [
      "<ipython-input-70-874e11944aae>:10: DeprecationWarning: Call to deprecated `__contains__` (Method will be removed in 4.0.0, use self.wv.__contains__() instead).\n",
      "  np.mean([self.word2vec[w] for w in words if w in self.word2vec], axis=0)\n",
      "<ipython-input-70-874e11944aae>:10: DeprecationWarning: Call to deprecated `__getitem__` (Method will be removed in 4.0.0, use self.wv.__getitem__() instead).\n",
      "  np.mean([self.word2vec[w] for w in words if w in self.word2vec], axis=0)\n",
      "C:\\Users\\anagha.bhople\\AppData\\Roaming\\Python\\Python38\\site-packages\\xgboost\\sklearn.py:888: UserWarning: The use of label encoder in XGBClassifier is deprecated and will be removed in a future release. To remove this warning, do the following: 1) Pass option use_label_encoder=False when constructing XGBClassifier object; and 2) Encode your labels (y) as integers starting with 0, i.e. 0, 1, 2, ..., [num_class - 1].\n",
      "  warnings.warn(label_encoder_deprecation_msg, UserWarning)\n"
     ]
    },
    {
     "name": "stdout",
     "output_type": "stream",
     "text": [
      "[16:36:26] WARNING: C:/Users/Administrator/workspace/xgboost-win64_release_1.3.0/src/learner.cc:1061: Starting in XGBoost 1.3.0, the default evaluation metric used with the objective 'binary:logistic' was changed from 'error' to 'logloss'. Explicitly set eval_metric if you'd like to restore the old behavior.\n",
      "model score: 0.772\n",
      "[[ 636  395]\n",
      " [ 231 3267]]\n",
      "              precision    recall  f1-score   support\n",
      "\n",
      "           0       0.73      0.62      0.67      1031\n",
      "           1       0.89      0.93      0.91      3498\n",
      "\n",
      "    accuracy                           0.86      4529\n",
      "   macro avg       0.81      0.78      0.79      4529\n",
      "weighted avg       0.86      0.86      0.86      4529\n",
      "\n",
      "Accuracy Score: 0.8617796423051446\n",
      "F1 Score: 0.9125698324022347\n",
      "Average precision-recall score: 0.8842254770312388\n"
     ]
    },
    {
     "data": {
      "image/png": "[encoded data removed]",
      "text/plain": [
       "<Figure size 432x288 with 1 Axes>"
      ]
     },
     "metadata": {
      "needs_background": "light"
     },
     "output_type": "display_data"
    }
   ],
   "source": [
    "classifiers = [\n",
    "    LogisticRegression(),\n",
    "    GaussianNB(),\n",
    "    svm.SVC(),\n",
    "    DecisionTreeClassifier(),\n",
    "    RandomForestClassifier(),\n",
    "    AdaBoostClassifier(),\n",
    "    GradientBoostingClassifier(),\n",
    "    XGBClassifier()\n",
    "    ]\n",
    "\n",
    "for classifier in classifiers:\n",
    "    print(classifier)\n",
    "    \n",
    "    fast_pipe = Pipeline(steps=[(\"word2vec vectorizer\", FastTextVectorizer(ft_model)),\n",
    "                      ('classifier', classifier)])\n",
    "    \n",
    "    fast_pipe.fit(fX_train, fy_train)  \n",
    "    \n",
    "    fy_pred = fast_pipe.predict(fX_test)\n",
    "    evaluation(fy_test, fy_pred, fX_test, fast_pipe)"
   ]
  },
  {
   "cell_type": "code",
   "execution_count": null,
   "metadata": {},
   "outputs": [],
   "source": [
    "classifiers = [\n",
    "    LogisticRegression(),\n",
    "    svm.SVC(),\n",
    "    RandomForestClassifier()\n",
    "    ]\n",
    "\n",
    "for idx, classifier in enumerate(classifiers): \n",
    "    \n",
    "    pipe3 = Pipeline(steps=[('preprocessor', FastTextVectorizer(ft_model)),\n",
    "                          ('clf', classifier)])\n",
    "\n",
    "    out3 = GridSearchCV(estimator=pipe3,\n",
    "                param_grid=params_dict[idx],\n",
    "                scoring='accuracy',\n",
    "                cv=10) \n",
    "    \n",
    "    print(classifier)\n",
    "    print('\\nEstimator: %s' % params_dict[idx])\n",
    "    \n",
    "    out3.fit(fX_train, fy_train)\n",
    "    \n",
    "    w2vy_pred = out3.predict(fX_test)\n",
    "    print('Best params are : %s' % out3.best_params_)\n",
    "    print('Best training accuracy: %.3f' % out3.best_score_)\n",
    "    \n",
    "    evaluation(fy_test, fy_pred, fX_test, out3)\n",
    "    \n",
    "    if accuracy_score(fy_test, fy_pred) > best_acc:\n",
    "        best_acc = accuracy_score(fy_test, fy_pred)\n",
    "        best_gs = classifier\n",
    "        best_clf = idx\n",
    "\n",
    "print('\\nClassifier with best test set accuracy: %s' % grid_dict[best_clf])      "
   ]
  },
  {
   "cell_type": "code",
   "execution_count": null,
   "metadata": {},
   "outputs": [],
   "source": [
    "# Save best grid search pipeline to file\n",
    "dump_file = 'best_grid_search_pipeline_fasttext.pkl'\n",
    "joblib.dump(best_gs, dump_file, compress=1)\n",
    "print('\\nSaved %s grid search pipeline to file: %s' % (grid_dict[best_clf], dump_file))"
   ]
  },
  {
   "cell_type": "code",
   "execution_count": null,
   "metadata": {},
   "outputs": [],
   "source": []
  }
 ],
 "metadata": {
  "kernelspec": {
   "display_name": "Python 3",
   "language": "python",
   "name": "python3"
  },
  "language_info": {
   "codemirror_mode": {
    "name": "ipython",
    "version": 3
   },
   "file_extension": ".py",
   "mimetype": "text/x-python",
   "name": "python",
   "nbconvert_exporter": "python",
   "pygments_lexer": "ipython3",
   "version": "3.8.5"
  }
 },
 "nbformat": 4,
 "nbformat_minor": 4
}
