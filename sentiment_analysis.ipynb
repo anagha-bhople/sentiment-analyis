{
 "cells": [
  {
   "cell_type": "code",
   "execution_count": 1,
   "metadata": {},
   "outputs": [],
   "source": [
    "import re\n",
    "import pandas as pd\n",
    "import seaborn as sns\n",
    "import numpy as np\n",
    "import spacy\n",
    "import unicodedata\n",
    "import en_core_web_sm\n",
    "from sklearn.preprocessing import label_binarize\n",
    "from sklearn.multiclass import OneVsRestClassifier\n",
    "from sklearn.model_selection import train_test_split\n",
    "from sklearn.ensemble import RandomForestClassifier\n",
    "from sklearn.svm import SVC\n",
    "from sklearn.metrics import accuracy_score, classification_report, confusion_matrix\n",
    "from sklearn.pipeline import Pipeline\n",
    "from sklearn.feature_extraction.text import TfidfVectorizer\n",
    "from sklearn.linear_model import LogisticRegression\n",
    "import matplotlib.pyplot as plt  \n",
    "from sklearn.metrics import confusion_matrix\n",
    "from sklearn.metrics import roc_curve\n",
    "from sklearn.metrics import roc_auc_score\n",
    "from sklearn.metrics import precision_recall_curve\n",
    "from sklearn.metrics import f1_score\n",
    "from sklearn.metrics import auc\n",
    "from sklearn.linear_model import LogisticRegression\n",
    "from sklearn.metrics import average_precision_score, auc, roc_curve, precision_recall_curve\n",
    "from textblob import TextBlob\n",
    "import random"
   ]
  },
  {
   "cell_type": "code",
   "execution_count": 2,
   "metadata": {},
   "outputs": [
    {
     "ename": "FileNotFoundError",
     "evalue": "[Errno 2] No such file or directory: '/Users/anagha/Desktop/Sentiment Analysis/Womens Clothing E-Commerce Reviews.csv'",
     "output_type": "error",
     "traceback": [
      "\u001b[1;31m---------------------------------------------------------------------------\u001b[0m",
      "\u001b[1;31mFileNotFoundError\u001b[0m                         Traceback (most recent call last)",
      "\u001b[1;32m<ipython-input-2-aa28d6986149>\u001b[0m in \u001b[0;36m<module>\u001b[1;34m\u001b[0m\n\u001b[1;32m----> 1\u001b[1;33m \u001b[0mdf\u001b[0m\u001b[1;33m=\u001b[0m\u001b[0mpd\u001b[0m\u001b[1;33m.\u001b[0m\u001b[0mread_csv\u001b[0m\u001b[1;33m(\u001b[0m\u001b[1;34m'/Users/anagha/Desktop/Sentiment Analysis/Womens Clothing E-Commerce Reviews.csv'\u001b[0m\u001b[1;33m)\u001b[0m\u001b[1;33m\u001b[0m\u001b[1;33m\u001b[0m\u001b[0m\n\u001b[0m",
      "\u001b[1;32mC:\\ProgramData\\Anaconda3\\lib\\site-packages\\pandas\\io\\parsers.py\u001b[0m in \u001b[0;36mread_csv\u001b[1;34m(filepath_or_buffer, sep, delimiter, header, names, index_col, usecols, squeeze, prefix, mangle_dupe_cols, dtype, engine, converters, true_values, false_values, skipinitialspace, skiprows, skipfooter, nrows, na_values, keep_default_na, na_filter, verbose, skip_blank_lines, parse_dates, infer_datetime_format, keep_date_col, date_parser, dayfirst, cache_dates, iterator, chunksize, compression, thousands, decimal, lineterminator, quotechar, quoting, doublequote, escapechar, comment, encoding, dialect, error_bad_lines, warn_bad_lines, delim_whitespace, low_memory, memory_map, float_precision)\u001b[0m\n\u001b[0;32m    684\u001b[0m     )\n\u001b[0;32m    685\u001b[0m \u001b[1;33m\u001b[0m\u001b[0m\n\u001b[1;32m--> 686\u001b[1;33m     \u001b[1;32mreturn\u001b[0m \u001b[0m_read\u001b[0m\u001b[1;33m(\u001b[0m\u001b[0mfilepath_or_buffer\u001b[0m\u001b[1;33m,\u001b[0m \u001b[0mkwds\u001b[0m\u001b[1;33m)\u001b[0m\u001b[1;33m\u001b[0m\u001b[1;33m\u001b[0m\u001b[0m\n\u001b[0m\u001b[0;32m    687\u001b[0m \u001b[1;33m\u001b[0m\u001b[0m\n\u001b[0;32m    688\u001b[0m \u001b[1;33m\u001b[0m\u001b[0m\n",
      "\u001b[1;32mC:\\ProgramData\\Anaconda3\\lib\\site-packages\\pandas\\io\\parsers.py\u001b[0m in \u001b[0;36m_read\u001b[1;34m(filepath_or_buffer, kwds)\u001b[0m\n\u001b[0;32m    450\u001b[0m \u001b[1;33m\u001b[0m\u001b[0m\n\u001b[0;32m    451\u001b[0m     \u001b[1;31m# Create the parser.\u001b[0m\u001b[1;33m\u001b[0m\u001b[1;33m\u001b[0m\u001b[1;33m\u001b[0m\u001b[0m\n\u001b[1;32m--> 452\u001b[1;33m     \u001b[0mparser\u001b[0m \u001b[1;33m=\u001b[0m \u001b[0mTextFileReader\u001b[0m\u001b[1;33m(\u001b[0m\u001b[0mfp_or_buf\u001b[0m\u001b[1;33m,\u001b[0m \u001b[1;33m**\u001b[0m\u001b[0mkwds\u001b[0m\u001b[1;33m)\u001b[0m\u001b[1;33m\u001b[0m\u001b[1;33m\u001b[0m\u001b[0m\n\u001b[0m\u001b[0;32m    453\u001b[0m \u001b[1;33m\u001b[0m\u001b[0m\n\u001b[0;32m    454\u001b[0m     \u001b[1;32mif\u001b[0m \u001b[0mchunksize\u001b[0m \u001b[1;32mor\u001b[0m \u001b[0miterator\u001b[0m\u001b[1;33m:\u001b[0m\u001b[1;33m\u001b[0m\u001b[1;33m\u001b[0m\u001b[0m\n",
      "\u001b[1;32mC:\\ProgramData\\Anaconda3\\lib\\site-packages\\pandas\\io\\parsers.py\u001b[0m in \u001b[0;36m__init__\u001b[1;34m(self, f, engine, **kwds)\u001b[0m\n\u001b[0;32m    944\u001b[0m             \u001b[0mself\u001b[0m\u001b[1;33m.\u001b[0m\u001b[0moptions\u001b[0m\u001b[1;33m[\u001b[0m\u001b[1;34m\"has_index_names\"\u001b[0m\u001b[1;33m]\u001b[0m \u001b[1;33m=\u001b[0m \u001b[0mkwds\u001b[0m\u001b[1;33m[\u001b[0m\u001b[1;34m\"has_index_names\"\u001b[0m\u001b[1;33m]\u001b[0m\u001b[1;33m\u001b[0m\u001b[1;33m\u001b[0m\u001b[0m\n\u001b[0;32m    945\u001b[0m \u001b[1;33m\u001b[0m\u001b[0m\n\u001b[1;32m--> 946\u001b[1;33m         \u001b[0mself\u001b[0m\u001b[1;33m.\u001b[0m\u001b[0m_make_engine\u001b[0m\u001b[1;33m(\u001b[0m\u001b[0mself\u001b[0m\u001b[1;33m.\u001b[0m\u001b[0mengine\u001b[0m\u001b[1;33m)\u001b[0m\u001b[1;33m\u001b[0m\u001b[1;33m\u001b[0m\u001b[0m\n\u001b[0m\u001b[0;32m    947\u001b[0m \u001b[1;33m\u001b[0m\u001b[0m\n\u001b[0;32m    948\u001b[0m     \u001b[1;32mdef\u001b[0m \u001b[0mclose\u001b[0m\u001b[1;33m(\u001b[0m\u001b[0mself\u001b[0m\u001b[1;33m)\u001b[0m\u001b[1;33m:\u001b[0m\u001b[1;33m\u001b[0m\u001b[1;33m\u001b[0m\u001b[0m\n",
      "\u001b[1;32mC:\\ProgramData\\Anaconda3\\lib\\site-packages\\pandas\\io\\parsers.py\u001b[0m in \u001b[0;36m_make_engine\u001b[1;34m(self, engine)\u001b[0m\n\u001b[0;32m   1176\u001b[0m     \u001b[1;32mdef\u001b[0m \u001b[0m_make_engine\u001b[0m\u001b[1;33m(\u001b[0m\u001b[0mself\u001b[0m\u001b[1;33m,\u001b[0m \u001b[0mengine\u001b[0m\u001b[1;33m=\u001b[0m\u001b[1;34m\"c\"\u001b[0m\u001b[1;33m)\u001b[0m\u001b[1;33m:\u001b[0m\u001b[1;33m\u001b[0m\u001b[1;33m\u001b[0m\u001b[0m\n\u001b[0;32m   1177\u001b[0m         \u001b[1;32mif\u001b[0m \u001b[0mengine\u001b[0m \u001b[1;33m==\u001b[0m \u001b[1;34m\"c\"\u001b[0m\u001b[1;33m:\u001b[0m\u001b[1;33m\u001b[0m\u001b[1;33m\u001b[0m\u001b[0m\n\u001b[1;32m-> 1178\u001b[1;33m             \u001b[0mself\u001b[0m\u001b[1;33m.\u001b[0m\u001b[0m_engine\u001b[0m \u001b[1;33m=\u001b[0m \u001b[0mCParserWrapper\u001b[0m\u001b[1;33m(\u001b[0m\u001b[0mself\u001b[0m\u001b[1;33m.\u001b[0m\u001b[0mf\u001b[0m\u001b[1;33m,\u001b[0m \u001b[1;33m**\u001b[0m\u001b[0mself\u001b[0m\u001b[1;33m.\u001b[0m\u001b[0moptions\u001b[0m\u001b[1;33m)\u001b[0m\u001b[1;33m\u001b[0m\u001b[1;33m\u001b[0m\u001b[0m\n\u001b[0m\u001b[0;32m   1179\u001b[0m         \u001b[1;32melse\u001b[0m\u001b[1;33m:\u001b[0m\u001b[1;33m\u001b[0m\u001b[1;33m\u001b[0m\u001b[0m\n\u001b[0;32m   1180\u001b[0m             \u001b[1;32mif\u001b[0m \u001b[0mengine\u001b[0m \u001b[1;33m==\u001b[0m \u001b[1;34m\"python\"\u001b[0m\u001b[1;33m:\u001b[0m\u001b[1;33m\u001b[0m\u001b[1;33m\u001b[0m\u001b[0m\n",
      "\u001b[1;32mC:\\ProgramData\\Anaconda3\\lib\\site-packages\\pandas\\io\\parsers.py\u001b[0m in \u001b[0;36m__init__\u001b[1;34m(self, src, **kwds)\u001b[0m\n\u001b[0;32m   2006\u001b[0m         \u001b[0mkwds\u001b[0m\u001b[1;33m[\u001b[0m\u001b[1;34m\"usecols\"\u001b[0m\u001b[1;33m]\u001b[0m \u001b[1;33m=\u001b[0m \u001b[0mself\u001b[0m\u001b[1;33m.\u001b[0m\u001b[0musecols\u001b[0m\u001b[1;33m\u001b[0m\u001b[1;33m\u001b[0m\u001b[0m\n\u001b[0;32m   2007\u001b[0m \u001b[1;33m\u001b[0m\u001b[0m\n\u001b[1;32m-> 2008\u001b[1;33m         \u001b[0mself\u001b[0m\u001b[1;33m.\u001b[0m\u001b[0m_reader\u001b[0m \u001b[1;33m=\u001b[0m \u001b[0mparsers\u001b[0m\u001b[1;33m.\u001b[0m\u001b[0mTextReader\u001b[0m\u001b[1;33m(\u001b[0m\u001b[0msrc\u001b[0m\u001b[1;33m,\u001b[0m \u001b[1;33m**\u001b[0m\u001b[0mkwds\u001b[0m\u001b[1;33m)\u001b[0m\u001b[1;33m\u001b[0m\u001b[1;33m\u001b[0m\u001b[0m\n\u001b[0m\u001b[0;32m   2009\u001b[0m         \u001b[0mself\u001b[0m\u001b[1;33m.\u001b[0m\u001b[0munnamed_cols\u001b[0m \u001b[1;33m=\u001b[0m \u001b[0mself\u001b[0m\u001b[1;33m.\u001b[0m\u001b[0m_reader\u001b[0m\u001b[1;33m.\u001b[0m\u001b[0munnamed_cols\u001b[0m\u001b[1;33m\u001b[0m\u001b[1;33m\u001b[0m\u001b[0m\n\u001b[0;32m   2010\u001b[0m \u001b[1;33m\u001b[0m\u001b[0m\n",
      "\u001b[1;32mpandas\\_libs\\parsers.pyx\u001b[0m in \u001b[0;36mpandas._libs.parsers.TextReader.__cinit__\u001b[1;34m()\u001b[0m\n",
      "\u001b[1;32mpandas\\_libs\\parsers.pyx\u001b[0m in \u001b[0;36mpandas._libs.parsers.TextReader._setup_parser_source\u001b[1;34m()\u001b[0m\n",
      "\u001b[1;31mFileNotFoundError\u001b[0m: [Errno 2] No such file or directory: '/Users/anagha/Desktop/Sentiment Analysis/Womens Clothing E-Commerce Reviews.csv'"
     ]
    }
   ],
   "source": [
    "df=pd.read_csv('/Users/anagha/Desktop/Sentiment Analysis/Womens Clothing E-Commerce Reviews.csv')"
   ]
  },
  {
   "cell_type": "markdown",
   "metadata": {},
   "source": [
    "# Data Cleaning"
   ]
  },
  {
   "cell_type": "code",
   "execution_count": 1,
   "metadata": {},
   "outputs": [
    {
     "ename": "NameError",
     "evalue": "name 'df' is not defined",
     "output_type": "error",
     "traceback": [
      "\u001b[0;31m---------------------------------------------------------------------------\u001b[0m",
      "\u001b[0;31mNameError\u001b[0m                                 Traceback (most recent call last)",
      "\u001b[0;32m<ipython-input-1-f970708a3735>\u001b[0m in \u001b[0;36m<module>\u001b[0;34m\u001b[0m\n\u001b[0;32m----> 1\u001b[0;31m \u001b[0mdf\u001b[0m\u001b[0;34m.\u001b[0m\u001b[0mdrop\u001b[0m\u001b[0;34m(\u001b[0m\u001b[0;34m[\u001b[0m\u001b[0;34m'Age'\u001b[0m\u001b[0;34m,\u001b[0m\u001b[0;34m'Clothing ID'\u001b[0m\u001b[0;34m,\u001b[0m \u001b[0;34m'Division Name'\u001b[0m\u001b[0;34m,\u001b[0m \u001b[0;34m'Department Name'\u001b[0m\u001b[0;34m,\u001b[0m \u001b[0;34m'Class Name'\u001b[0m\u001b[0;34m,\u001b[0m \u001b[0;34m'Unnamed: 0'\u001b[0m\u001b[0;34m]\u001b[0m\u001b[0;34m,\u001b[0m \u001b[0maxis\u001b[0m \u001b[0;34m=\u001b[0m \u001b[0;36m1\u001b[0m\u001b[0;34m,\u001b[0m \u001b[0minplace\u001b[0m\u001b[0;34m=\u001b[0m\u001b[0;32mTrue\u001b[0m\u001b[0;34m)\u001b[0m\u001b[0;34m\u001b[0m\u001b[0;34m\u001b[0m\u001b[0m\n\u001b[0m\u001b[1;32m      2\u001b[0m \u001b[0mdf\u001b[0m\u001b[0;34m.\u001b[0m\u001b[0mreset_index\u001b[0m\u001b[0;34m(\u001b[0m\u001b[0minplace\u001b[0m\u001b[0;34m=\u001b[0m\u001b[0;32mTrue\u001b[0m\u001b[0;34m)\u001b[0m\u001b[0;34m\u001b[0m\u001b[0;34m\u001b[0m\u001b[0m\n\u001b[1;32m      3\u001b[0m \u001b[0mindex_names\u001b[0m \u001b[0;34m=\u001b[0m \u001b[0mdf\u001b[0m\u001b[0;34m[\u001b[0m\u001b[0mdf\u001b[0m\u001b[0;34m[\u001b[0m\u001b[0;34m'Review Text'\u001b[0m\u001b[0;34m]\u001b[0m\u001b[0;34m.\u001b[0m\u001b[0misnull\u001b[0m\u001b[0;34m(\u001b[0m\u001b[0;34m)\u001b[0m \u001b[0;34m&\u001b[0m \u001b[0mdf\u001b[0m\u001b[0;34m[\u001b[0m\u001b[0;34m'Title'\u001b[0m\u001b[0;34m]\u001b[0m\u001b[0;34m.\u001b[0m\u001b[0misnull\u001b[0m\u001b[0;34m(\u001b[0m\u001b[0;34m)\u001b[0m\u001b[0;34m]\u001b[0m\u001b[0;34m.\u001b[0m\u001b[0mindex\u001b[0m\u001b[0;34m\u001b[0m\u001b[0;34m\u001b[0m\u001b[0m\n\u001b[1;32m      4\u001b[0m \u001b[0mdf\u001b[0m\u001b[0;34m.\u001b[0m\u001b[0mdrop\u001b[0m\u001b[0;34m(\u001b[0m\u001b[0mindex_names\u001b[0m\u001b[0;34m,\u001b[0m \u001b[0minplace\u001b[0m \u001b[0;34m=\u001b[0m \u001b[0;32mTrue\u001b[0m\u001b[0;34m)\u001b[0m\u001b[0;34m\u001b[0m\u001b[0;34m\u001b[0m\u001b[0m\n\u001b[1;32m      5\u001b[0m \u001b[0midx\u001b[0m\u001b[0;34m=\u001b[0m\u001b[0mdf\u001b[0m\u001b[0;34m[\u001b[0m\u001b[0mdf\u001b[0m\u001b[0;34m[\u001b[0m\u001b[0;34m'Review Text'\u001b[0m\u001b[0;34m]\u001b[0m\u001b[0;34m.\u001b[0m\u001b[0misnull\u001b[0m\u001b[0;34m(\u001b[0m\u001b[0;34m)\u001b[0m\u001b[0;34m]\u001b[0m\u001b[0;34m.\u001b[0m\u001b[0mindex\u001b[0m\u001b[0;34m\u001b[0m\u001b[0;34m\u001b[0m\u001b[0m\n",
      "\u001b[0;31mNameError\u001b[0m: name 'df' is not defined"
     ]
    }
   ],
   "source": [
    "df.drop(['Age','Clothing ID', 'Division Name', 'Department Name', 'Class Name', 'Unnamed: 0'], axis = 1, inplace=True)\n",
    "df.reset_index(inplace=True)\n",
    "index_names = df[df['Review Text'].isnull() & df['Title'].isnull()].index \n",
    "df.drop(index_names, inplace = True) \n",
    "idx=df[df['Review Text'].isnull()].index\n",
    "df['Review Text'][idx]=df['Title'][idx]\n",
    "df.drop(['Title'],axis = 1, inplace=True)"
   ]
  },
  {
   "cell_type": "markdown",
   "metadata": {},
   "source": [
    "# Text Preprocessing"
   ]
  },
  {
   "cell_type": "code",
   "execution_count": 5,
   "metadata": {},
   "outputs": [],
   "source": [
    "# Converting into unicode format\n",
    "def strip_accents(text):\n",
    "\n",
    "    try:\n",
    "        text = unicode(text, 'utf-8')\n",
    "    except NameError: # unicode is a default on python 3 \n",
    "        pass\n",
    "\n",
    "    text = unicodedata.normalize('NFD', text)\\\n",
    "           .encode('ascii', 'ignore')\\\n",
    "           .decode(\"utf-8\")\n",
    "    return str(text)\n",
    "\n",
    "df['Review Text Precrocessed']=df['Review Text'].apply(lambda x: strip_accents(x))\n",
    "\n",
    "\n",
    "# Correcting the spelling using textblob\n",
    "def spell_check(x):\n",
    "    x=TextBlob(str(x)).correct()\n",
    "    return ''.join(x)\n",
    "\n",
    "df['Review Text Precrocessed']=df['Review Text Precrocessed'].apply(lambda x: spell_check(x))\n",
    "\n",
    "\n",
    "# Removing all the spaces\n",
    "def remove_sapce(x):\n",
    "    x=' '.join(x.split())\n",
    "    return x\n",
    "df['Review Text Precrocessed']=df['Review Text Precrocessed'].apply(lambda x: remove_sapce(x))\n",
    "\n",
    "\n",
    "# Converting in lower cases\n",
    "df['Review Text Precrocessed']=df['Review Text Precrocessed'].str.lower()\n",
    "\n",
    "# Expanding the contracted words \n",
    "contractions = { \n",
    "\"ain't\": \"am not / are not / is not / has not / have not\",\n",
    "\"aren't\": \"are not / am not\",\n",
    "\"can't\": \"cannot\",\n",
    "\"can't've\": \"cannot have\",\n",
    "\"'cause\": \"because\",\n",
    "\"could've\": \"could have\",\n",
    "\"couldn't\": \"could not\",\n",
    "\"couldn't've\": \"could not have\",\n",
    "\"didn't\": \"did not\",\n",
    "\"doesn't\": \"does not\",\n",
    "\"don't\": \"do not\",\n",
    "\"hadn't\": \"had not\",\n",
    "\"hadn't've\": \"had not have\",\n",
    "\"hasn't\": \"has not\",\n",
    "\"haven't\": \"have not\",\n",
    "\"he'd\": \"he had / he would\",\n",
    "\"he'd've\": \"he would have\",\n",
    "\"he'll\": \"he shall / he will\",\n",
    "\"he'll've\": \"he shall have / he will have\",\n",
    "\"he's\": \"he has / he is\",\n",
    "\"how'd\": \"how did\",\n",
    "\"how'd'y\": \"how do you\",\n",
    "\"how'll\": \"how will\",\n",
    "\"how's\": \"how has / how is / how does\",\n",
    "\"I'd\": \"I had / I would\",\n",
    "\"I'd've\": \"I would have\",\n",
    "\"I'll\": \"I shall / I will\",\n",
    "\"I'll've\": \"I shall have / I will have\",\n",
    "\"I'm\": \"I am\",\n",
    "\"i'm\": \"i am\",\n",
    "\"I've\": \"I have\",\n",
    "\"isn't\": \"is not\",\n",
    "\"it'd\": \"it had / it would\",\n",
    "\"it'd've\": \"it would have\",\n",
    "\"it'll\": \"it shall / it will\",\n",
    "\"it'll've\": \"it shall have / it will have\",\n",
    "\"it's\": \"it is\",\n",
    "\"let's\": \"let us\",\n",
    "\"ma'am\": \"madam\",\n",
    "\"mayn't\": \"may not\",\n",
    "\"might've\": \"might have\",\n",
    "\"mightn't\": \"might not\",\n",
    "\"mightn't've\": \"might not have\",\n",
    "\"must've\": \"must have\",\n",
    "\"mustn't\": \"must not\",\n",
    "\"mustn't've\": \"must not have\",\n",
    "\"needn't\": \"need not\",\n",
    "\"needn't've\": \"need not have\",\n",
    "\"o'clock\": \"of the clock\",\n",
    "\"oughtn't\": \"ought not\",\n",
    "\"oughtn't've\": \"ought not have\",\n",
    "\"shan't\": \"shall not\",\n",
    "\"sha'n't\": \"shall not\",\n",
    "\"shan't've\": \"shall not have\",\n",
    "\"she'd\": \"she had / she would\",\n",
    "\"she'd've\": \"she would have\",\n",
    "\"she'll\": \"she shall / she will\",\n",
    "\"she'll've\": \"she shall have / she will have\",\n",
    "\"she's\": \"she has / she is\",\n",
    "\"should've\": \"should have\",\n",
    "\"shouldn't\": \"should not\",\n",
    "\"shouldn't've\": \"should not have\",\n",
    "\"so've\": \"so have\",\n",
    "\"so's\": \"so as / so is\",\n",
    "\"that'd\": \"that would / that had\",\n",
    "\"that'd've\": \"that would have\",\n",
    "\"that's\": \"that has / that is\",\n",
    "\"there'd\": \"there had / there would\",\n",
    "\"there'd've\": \"there would have\",\n",
    "\"there's\": \"there has / there is\",\n",
    "\"they'd\": \"they had / they would\",\n",
    "\"they'd've\": \"they would have\",\n",
    "\"they'll\": \"they shall / they will\",\n",
    "\"they'll've\": \"they shall have / they will have\",\n",
    "\"they're\": \"they are\",\n",
    "\"they've\": \"they have\",\n",
    "\"to've\": \"to have\",\n",
    "\"wasn't\": \"was not\",\n",
    "\"we'd\": \"we had / we would\",\n",
    "\"we'd've\": \"we would have\",\n",
    "\"we'll\": \"we will\",\n",
    "\"we'll've\": \"we will have\",\n",
    "\"we're\": \"we are\",\n",
    "\"we've\": \"we have\",\n",
    "\"weren't\": \"were not\",\n",
    "\"what'll\": \"what shall / what will\",\n",
    "\"what'll've\": \"what shall have / what will have\",\n",
    "\"what're\": \"what are\",\n",
    "\"what's\": \"what has / what is\",\n",
    "\"what've\": \"what have\",\n",
    "\"when's\": \"when has / when is\",\n",
    "\"when've\": \"when have\",\n",
    "\"where'd\": \"where did\",\n",
    "\"where's\": \"where has / where is\",\n",
    "\"where've\": \"where have\",\n",
    "\"who'll\": \"who shall / who will\",\n",
    "\"who'll've\": \"who shall have / who will have\",\n",
    "\"who's\": \"who has / who is\",\n",
    "\"who've\": \"who have\",\n",
    "\"why's\": \"why has / why is\",\n",
    "\"why've\": \"why have\",\n",
    "\"will've\": \"will have\",\n",
    "\"won't\": \"will not\",\n",
    "\"won't've\": \"will not have\",\n",
    "\"would've\": \"would have\",\n",
    "\"wouldn't\": \"would not\",\n",
    "\"wouldn't've\": \"would not have\",\n",
    "\"y'all\": \"you all\",\n",
    "\"y'all'd\": \"you all would\",\n",
    "\"y'all'd've\": \"you all would have\",\n",
    "\"y'all're\": \"you all are\",\n",
    "\"y'all've\": \"you all have\",\n",
    "\"you'd\": \"you had / you would\",\n",
    "\"you'd've\": \"you would have\",\n",
    "\"you'll\": \"you shall / you will\",\n",
    "\"you'll've\": \"you shall have / you will have\",\n",
    "\"you're\": \"you are\",\n",
    "\"you've\": \"you have\"\n",
    "}\n",
    "\n",
    "for key, value in contractions.items():\n",
    "  key= key.lower()\n",
    "  value=value.lower()\n",
    "  \n",
    "def cont_to_exp(x):\n",
    "    if type(x) is str:\n",
    "        for key in contractions:\n",
    "            value=contractions[key]\n",
    "            x=x.replace(key,value)\n",
    "        return x\n",
    "    return x\n",
    "df['Review Text Precrocessed']=df['Review Text Precrocessed'].apply(lambda x: cont_to_exp(x))\n",
    "\n",
    "\n",
    "# Removing Puntuation \n",
    "def puntuation_removal(x):\n",
    "    x=re.sub(r'[^\\w]+', \" \", x)\n",
    "    return x\n",
    "\n",
    "df['Review Text Precrocessed']=df['Review Text Precrocessed'].apply(lambda x: puntuation_removal(str(x)))"
   ]
  },
  {
   "cell_type": "code",
   "execution_count": 6,
   "metadata": {},
   "outputs": [
    {
     "data": {
      "text/html": [
       "<div>\n",
       "<style scoped>\n",
       "    .dataframe tbody tr th:only-of-type {\n",
       "        vertical-align: middle;\n",
       "    }\n",
       "\n",
       "    .dataframe tbody tr th {\n",
       "        vertical-align: top;\n",
       "    }\n",
       "\n",
       "    .dataframe thead th {\n",
       "        text-align: right;\n",
       "    }\n",
       "</style>\n",
       "<table border=\"1\" class=\"dataframe\">\n",
       "  <thead>\n",
       "    <tr style=\"text-align: right;\">\n",
       "      <th></th>\n",
       "      <th>index</th>\n",
       "      <th>Review Text</th>\n",
       "      <th>Rating</th>\n",
       "      <th>Recommended IND</th>\n",
       "      <th>Positive Feedback Count</th>\n",
       "      <th>Review Text Precrocessed</th>\n",
       "    </tr>\n",
       "  </thead>\n",
       "  <tbody>\n",
       "    <tr>\n",
       "      <th>0</th>\n",
       "      <td>0</td>\n",
       "      <td>Absolutely wonderful - silky and sexy and comf...</td>\n",
       "      <td>4</td>\n",
       "      <td>1</td>\n",
       "      <td>0</td>\n",
       "      <td>absolutely wonderful silky and sexy and comfor...</td>\n",
       "    </tr>\n",
       "    <tr>\n",
       "      <th>1</th>\n",
       "      <td>1</td>\n",
       "      <td>Love this dress!  it's sooo pretty.  i happene...</td>\n",
       "      <td>5</td>\n",
       "      <td>1</td>\n",
       "      <td>4</td>\n",
       "      <td>love this dress it is sooo pretty i happened t...</td>\n",
       "    </tr>\n",
       "    <tr>\n",
       "      <th>2</th>\n",
       "      <td>2</td>\n",
       "      <td>I had such high hopes for this dress and reall...</td>\n",
       "      <td>3</td>\n",
       "      <td>0</td>\n",
       "      <td>0</td>\n",
       "      <td>i had such high hopes for this dress and reall...</td>\n",
       "    </tr>\n",
       "    <tr>\n",
       "      <th>3</th>\n",
       "      <td>3</td>\n",
       "      <td>I love, love, love this jumpsuit. it's fun, fl...</td>\n",
       "      <td>5</td>\n",
       "      <td>1</td>\n",
       "      <td>0</td>\n",
       "      <td>i love love love this jumpsuit it is fun flirt...</td>\n",
       "    </tr>\n",
       "    <tr>\n",
       "      <th>4</th>\n",
       "      <td>4</td>\n",
       "      <td>This shirt is very flattering to all due to th...</td>\n",
       "      <td>5</td>\n",
       "      <td>1</td>\n",
       "      <td>6</td>\n",
       "      <td>this shirt is very flattering to all due to th...</td>\n",
       "    </tr>\n",
       "    <tr>\n",
       "      <th>5</th>\n",
       "      <td>5</td>\n",
       "      <td>I love tracy reese dresses, but this one is no...</td>\n",
       "      <td>2</td>\n",
       "      <td>0</td>\n",
       "      <td>4</td>\n",
       "      <td>i love tracy reese dresses but this one is not...</td>\n",
       "    </tr>\n",
       "    <tr>\n",
       "      <th>6</th>\n",
       "      <td>6</td>\n",
       "      <td>I aded this in my basket at hte last mintue to...</td>\n",
       "      <td>5</td>\n",
       "      <td>1</td>\n",
       "      <td>1</td>\n",
       "      <td>i aded this in my basket at hte last mintue to...</td>\n",
       "    </tr>\n",
       "    <tr>\n",
       "      <th>7</th>\n",
       "      <td>7</td>\n",
       "      <td>I ordered this in carbon for store pick up, an...</td>\n",
       "      <td>4</td>\n",
       "      <td>1</td>\n",
       "      <td>4</td>\n",
       "      <td>i ordered this in carbon for store pick up and...</td>\n",
       "    </tr>\n",
       "    <tr>\n",
       "      <th>8</th>\n",
       "      <td>8</td>\n",
       "      <td>I love this dress. i usually get an xs but it ...</td>\n",
       "      <td>5</td>\n",
       "      <td>1</td>\n",
       "      <td>0</td>\n",
       "      <td>i love this dress i usually get an xs but it r...</td>\n",
       "    </tr>\n",
       "    <tr>\n",
       "      <th>9</th>\n",
       "      <td>9</td>\n",
       "      <td>I'm 5\"5' and 125 lbs. i ordered the s petite t...</td>\n",
       "      <td>5</td>\n",
       "      <td>1</td>\n",
       "      <td>0</td>\n",
       "      <td>i am 5 5 and 125 lbs i ordered the s petite to...</td>\n",
       "    </tr>\n",
       "  </tbody>\n",
       "</table>\n",
       "</div>"
      ],
      "text/plain": [
       "   index                                        Review Text  Rating  \\\n",
       "0      0  Absolutely wonderful - silky and sexy and comf...       4   \n",
       "1      1  Love this dress!  it's sooo pretty.  i happene...       5   \n",
       "2      2  I had such high hopes for this dress and reall...       3   \n",
       "3      3  I love, love, love this jumpsuit. it's fun, fl...       5   \n",
       "4      4  This shirt is very flattering to all due to th...       5   \n",
       "5      5  I love tracy reese dresses, but this one is no...       2   \n",
       "6      6  I aded this in my basket at hte last mintue to...       5   \n",
       "7      7  I ordered this in carbon for store pick up, an...       4   \n",
       "8      8  I love this dress. i usually get an xs but it ...       5   \n",
       "9      9  I'm 5\"5' and 125 lbs. i ordered the s petite t...       5   \n",
       "\n",
       "   Recommended IND  Positive Feedback Count  \\\n",
       "0                1                        0   \n",
       "1                1                        4   \n",
       "2                0                        0   \n",
       "3                1                        0   \n",
       "4                1                        6   \n",
       "5                0                        4   \n",
       "6                1                        1   \n",
       "7                1                        4   \n",
       "8                1                        0   \n",
       "9                1                        0   \n",
       "\n",
       "                            Review Text Precrocessed  \n",
       "0  absolutely wonderful silky and sexy and comfor...  \n",
       "1  love this dress it is sooo pretty i happened t...  \n",
       "2  i had such high hopes for this dress and reall...  \n",
       "3  i love love love this jumpsuit it is fun flirt...  \n",
       "4  this shirt is very flattering to all due to th...  \n",
       "5  i love tracy reese dresses but this one is not...  \n",
       "6  i aded this in my basket at hte last mintue to...  \n",
       "7  i ordered this in carbon for store pick up and...  \n",
       "8  i love this dress i usually get an xs but it r...  \n",
       "9  i am 5 5 and 125 lbs i ordered the s petite to...  "
      ]
     },
     "execution_count": 6,
     "metadata": {},
     "output_type": "execute_result"
    }
   ],
   "source": [
    "df.head(10)"
   ]
  },
  {
   "cell_type": "code",
   "execution_count": 7,
   "metadata": {},
   "outputs": [
    {
     "data": {
      "text/plain": [
       "0        absolutely wonderful silky and sexy and comfor...\n",
       "1        love this dress it is sooo pretty i happened t...\n",
       "2        i had such high hopes for this dress and reall...\n",
       "3        i love love love this jumpsuit it is fun flirt...\n",
       "4        this shirt is very flattering to all due to th...\n",
       "5        i love tracy reese dresses but this one is not...\n",
       "6        i aded this in my basket at hte last mintue to...\n",
       "7        i ordered this in carbon for store pick up and...\n",
       "8        i love this dress i usually get an xs but it r...\n",
       "9        i am 5 5 and 125 lbs i ordered the s petite to...\n",
       "10       dress runs small esp where the zipper area run...\n",
       "11       this dress is perfection so pretty and flatter...\n",
       "12       more and more i find myself reliant on the rev...\n",
       "13       bought the black xs to go under the larkspur m...\n",
       "14       this is a nice choice for holiday gatherings i...\n",
       "15       i took these out of the package and wanted the...\n",
       "16       material and color is nice the leg opening is ...\n",
       "17       took a chance on this blouse and so glad i did...\n",
       "18       a flattering super cozy coat will work well fo...\n",
       "19       i love the look and feel of this tulle dress i...\n",
       "20       if this product was in petite i would get the ...\n",
       "21       i am upset because for the price of the dress ...\n",
       "22       first of all this is not pullover styling ther...\n",
       "23       cute little dress fits tts it is a little high...\n",
       "24       i love this shirt because when i first saw it ...\n",
       "25       loved the material but i didnt really look at ...\n",
       "26       i have been waiting for this sweater coat to s...\n",
       "27       the colors were not what i expected either the...\n",
       "28       i have several of goodhyouman shirts and i get...\n",
       "29       this sweater is so comfy and classic it balanc...\n",
       "                               ...                        \n",
       "23454    the fabric is very thick and textured almost l...\n",
       "23455    this is a very cute dress that i did not keep ...\n",
       "23456    i have been on a search for a dress with sleev...\n",
       "23457    these pants are soft fun print and comfy they ...\n",
       "23458    this is my new favorite sweater it is lightwei...\n",
       "23459    this is my new favorite dress my only complain...\n",
       "23460    i purchased this for a very good price and i t...\n",
       "23461    i tried these on at the store and the fit was ...\n",
       "23462    the pattern of this skirt is adorable and look...\n",
       "23463    these pants overall are very comfortable but h...\n",
       "23464    i wore this dress to work the other day and go...\n",
       "23465    i bought this dress for work and post work hap...\n",
       "23466    this dress has a great design and fits very we...\n",
       "23467    i worry when i have an elastic waist or someth...\n",
       "23468    i love this little chemise the adjustable stra...\n",
       "23469    my size was not available so based on reviews ...\n",
       "23471    love the way these pants look in the pictures ...\n",
       "23472    i saw the shirt on the retailer website and ne...\n",
       "23473    great quality and extremely flattering bonus t...\n",
       "23474    yes this is a great dress i was not sure about...\n",
       "23475    cute dress but not for me the waist is too hig...\n",
       "23476    these bottoms are very cute but defiantly chee...\n",
       "23477    i am so impressed with the beautiful color com...\n",
       "23478    i was surprised at the positive reviews for th...\n",
       "23479    so i was not sure about ordering this skirt be...\n",
       "23481    i was very happy to snag this dress at such a ...\n",
       "23482    it reminds me of maternity clothes soft stretc...\n",
       "23483    this fit well but the top was very see through...\n",
       "23484    i bought this dress for a wedding i have this ...\n",
       "23485    this dress in a lovely platinum is feminine an...\n",
       "Name: Review Text Precrocessed, Length: 22642, dtype: object"
      ]
     },
     "execution_count": 7,
     "metadata": {},
     "output_type": "execute_result"
    }
   ],
   "source": [
    "df['Review Text Precrocessed']"
   ]
  },
  {
   "cell_type": "markdown",
   "metadata": {},
   "source": [
    "# Tokennization"
   ]
  },
  {
   "cell_type": "code",
   "execution_count": 8,
   "metadata": {},
   "outputs": [],
   "source": [
    "def tokenize(x):\n",
    "    x= TextBlob(str(x)).words\n",
    "    return x"
   ]
  },
  {
   "cell_type": "markdown",
   "metadata": {},
   "source": [
    "# Lemmatization"
   ]
  },
  {
   "cell_type": "code",
   "execution_count": 9,
   "metadata": {},
   "outputs": [],
   "source": [
    "nlp = spacy.load('en_core_web_sm')\n",
    "def make_to_base(x):\n",
    "    x_list=[]\n",
    "    doc=nlp(x)\n",
    "    for token in doc:\n",
    "        lemma=token.lemma_\n",
    "        \n",
    "        if lemma=='_PRON_' or lemma == 'be' or lemma == 'is': \n",
    "            lemma=token.text\n",
    "            \n",
    "        x_list.append(lemma)\n",
    "    return ' '.join(x_list)\n",
    "\n",
    "df['Review Text Precrocessed']=df['Review Text Precrocessed'].apply(lambda x: make_to_base(x.decode(\"utf-8\")))"
   ]
  },
  {
   "cell_type": "code",
   "execution_count": 10,
   "metadata": {},
   "outputs": [
    {
     "data": {
      "text/html": [
       "<div>\n",
       "<style scoped>\n",
       "    .dataframe tbody tr th:only-of-type {\n",
       "        vertical-align: middle;\n",
       "    }\n",
       "\n",
       "    .dataframe tbody tr th {\n",
       "        vertical-align: top;\n",
       "    }\n",
       "\n",
       "    .dataframe thead th {\n",
       "        text-align: right;\n",
       "    }\n",
       "</style>\n",
       "<table border=\"1\" class=\"dataframe\">\n",
       "  <thead>\n",
       "    <tr style=\"text-align: right;\">\n",
       "      <th></th>\n",
       "      <th>index</th>\n",
       "      <th>Review Text</th>\n",
       "      <th>Rating</th>\n",
       "      <th>Recommended IND</th>\n",
       "      <th>Positive Feedback Count</th>\n",
       "      <th>Review Text Precrocessed</th>\n",
       "    </tr>\n",
       "  </thead>\n",
       "  <tbody>\n",
       "    <tr>\n",
       "      <th>0</th>\n",
       "      <td>0</td>\n",
       "      <td>Absolutely wonderful - silky and sexy and comf...</td>\n",
       "      <td>4</td>\n",
       "      <td>1</td>\n",
       "      <td>0</td>\n",
       "      <td>absolutely wonderful silky and sexy and comfor...</td>\n",
       "    </tr>\n",
       "    <tr>\n",
       "      <th>1</th>\n",
       "      <td>1</td>\n",
       "      <td>Love this dress!  it's sooo pretty.  i happene...</td>\n",
       "      <td>5</td>\n",
       "      <td>1</td>\n",
       "      <td>4</td>\n",
       "      <td>love this dress -PRON- is sooo pretty i happen...</td>\n",
       "    </tr>\n",
       "    <tr>\n",
       "      <th>2</th>\n",
       "      <td>2</td>\n",
       "      <td>I had such high hopes for this dress and reall...</td>\n",
       "      <td>3</td>\n",
       "      <td>0</td>\n",
       "      <td>0</td>\n",
       "      <td>i have such high hope for this dress and reall...</td>\n",
       "    </tr>\n",
       "    <tr>\n",
       "      <th>3</th>\n",
       "      <td>3</td>\n",
       "      <td>I love, love, love this jumpsuit. it's fun, fl...</td>\n",
       "      <td>5</td>\n",
       "      <td>1</td>\n",
       "      <td>0</td>\n",
       "      <td>i love love love this jumpsuit -PRON- is fun f...</td>\n",
       "    </tr>\n",
       "    <tr>\n",
       "      <th>4</th>\n",
       "      <td>4</td>\n",
       "      <td>This shirt is very flattering to all due to th...</td>\n",
       "      <td>5</td>\n",
       "      <td>1</td>\n",
       "      <td>6</td>\n",
       "      <td>this shirt is very flattering to all due to th...</td>\n",
       "    </tr>\n",
       "    <tr>\n",
       "      <th>5</th>\n",
       "      <td>5</td>\n",
       "      <td>I love tracy reese dresses, but this one is no...</td>\n",
       "      <td>2</td>\n",
       "      <td>0</td>\n",
       "      <td>4</td>\n",
       "      <td>i love tracy reese dress but this one is not f...</td>\n",
       "    </tr>\n",
       "    <tr>\n",
       "      <th>6</th>\n",
       "      <td>6</td>\n",
       "      <td>I aded this in my basket at hte last mintue to...</td>\n",
       "      <td>5</td>\n",
       "      <td>1</td>\n",
       "      <td>1</td>\n",
       "      <td>i ad this in -PRON- basket at hte last mintue ...</td>\n",
       "    </tr>\n",
       "    <tr>\n",
       "      <th>7</th>\n",
       "      <td>7</td>\n",
       "      <td>I ordered this in carbon for store pick up, an...</td>\n",
       "      <td>4</td>\n",
       "      <td>1</td>\n",
       "      <td>4</td>\n",
       "      <td>i order this in carbon for store pick up and h...</td>\n",
       "    </tr>\n",
       "    <tr>\n",
       "      <th>8</th>\n",
       "      <td>8</td>\n",
       "      <td>I love this dress. i usually get an xs but it ...</td>\n",
       "      <td>5</td>\n",
       "      <td>1</td>\n",
       "      <td>0</td>\n",
       "      <td>i love this dress i usually get an xs but -PRO...</td>\n",
       "    </tr>\n",
       "    <tr>\n",
       "      <th>9</th>\n",
       "      <td>9</td>\n",
       "      <td>I'm 5\"5' and 125 lbs. i ordered the s petite t...</td>\n",
       "      <td>5</td>\n",
       "      <td>1</td>\n",
       "      <td>0</td>\n",
       "      <td>i am 5 5 and 125 lb i order the s petite to ma...</td>\n",
       "    </tr>\n",
       "  </tbody>\n",
       "</table>\n",
       "</div>"
      ],
      "text/plain": [
       "   index                                        Review Text  Rating  \\\n",
       "0      0  Absolutely wonderful - silky and sexy and comf...       4   \n",
       "1      1  Love this dress!  it's sooo pretty.  i happene...       5   \n",
       "2      2  I had such high hopes for this dress and reall...       3   \n",
       "3      3  I love, love, love this jumpsuit. it's fun, fl...       5   \n",
       "4      4  This shirt is very flattering to all due to th...       5   \n",
       "5      5  I love tracy reese dresses, but this one is no...       2   \n",
       "6      6  I aded this in my basket at hte last mintue to...       5   \n",
       "7      7  I ordered this in carbon for store pick up, an...       4   \n",
       "8      8  I love this dress. i usually get an xs but it ...       5   \n",
       "9      9  I'm 5\"5' and 125 lbs. i ordered the s petite t...       5   \n",
       "\n",
       "   Recommended IND  Positive Feedback Count  \\\n",
       "0                1                        0   \n",
       "1                1                        4   \n",
       "2                0                        0   \n",
       "3                1                        0   \n",
       "4                1                        6   \n",
       "5                0                        4   \n",
       "6                1                        1   \n",
       "7                1                        4   \n",
       "8                1                        0   \n",
       "9                1                        0   \n",
       "\n",
       "                            Review Text Precrocessed  \n",
       "0  absolutely wonderful silky and sexy and comfor...  \n",
       "1  love this dress -PRON- is sooo pretty i happen...  \n",
       "2  i have such high hope for this dress and reall...  \n",
       "3  i love love love this jumpsuit -PRON- is fun f...  \n",
       "4  this shirt is very flattering to all due to th...  \n",
       "5  i love tracy reese dress but this one is not f...  \n",
       "6  i ad this in -PRON- basket at hte last mintue ...  \n",
       "7  i order this in carbon for store pick up and h...  \n",
       "8  i love this dress i usually get an xs but -PRO...  \n",
       "9  i am 5 5 and 125 lb i order the s petite to ma...  "
      ]
     },
     "execution_count": 10,
     "metadata": {},
     "output_type": "execute_result"
    }
   ],
   "source": [
    "df.head(10)"
   ]
  },
  {
   "cell_type": "markdown",
   "metadata": {},
   "source": [
    "# Label Generation"
   ]
  },
  {
   "cell_type": "code",
   "execution_count": 11,
   "metadata": {},
   "outputs": [],
   "source": [
    "def la(x):\n",
    "    if(x>3):\n",
    "        return 1\n",
    "    else:\n",
    "        return 0\n",
    "    \n",
    "df['Label']=df['Rating'].apply(lambda x:la(x))\n",
    "Positive_review_1=[]\n",
    "Negative_review_1=[]\n",
    "Positive_review_1=df[df['Label']==1]\n",
    "Negative_review_1=df[df['Label']==0]\n"
   ]
  },
  {
   "cell_type": "code",
   "execution_count": 12,
   "metadata": {},
   "outputs": [],
   "source": [
    "def label(x):\n",
    "    if(x>3):\n",
    "        return 1\n",
    "    elif(x==3):\n",
    "        return 2\n",
    "    else:\n",
    "        return 0\n",
    "\n",
    "df['Label_3C']=df['Rating'].apply(lambda x:label(x))\n",
    "Positive_review=[]\n",
    "Negative_review=[]\n",
    "Neutral_review=[]\n",
    "Positive_review=df[df['Label_3C']==1]\n",
    "Negative_review=df[df['Label_3C']==0]\n",
    "Neutral_review=df[df['Label_3C']==2]\n"
   ]
  },
  {
   "cell_type": "markdown",
   "metadata": {},
   "source": [
    "# TFIDF Vector Generation"
   ]
  },
  {
   "cell_type": "code",
   "execution_count": 13,
   "metadata": {},
   "outputs": [
    {
     "data": {
      "text/plain": [
       "(22642, 49458)"
      ]
     },
     "execution_count": 13,
     "metadata": {},
     "output_type": "execute_result"
    }
   ],
   "source": [
    "stopwords = ['a', 'about', 'an', 'and', 'are', 'as', 'at', 'be', 'been', 'but', 'by', 'can', \\\n",
    "             'even', 'ever', 'for', 'from', 'get', 'had', 'has', 'have', 'he', 'her', 'hers', 'his', \\\n",
    "             'how', 'i', 'if', 'in', 'into', 'is', 'it', 'its', 'just', 'me', 'my', 'of', 'on', 'or', \\\n",
    "             'see', 'seen', 'she', 'so', 'than', 'that', 'the', 'their', 'there', 'they', 'this', \\\n",
    "             'to', 'was', 'we', 'were', 'what', 'when', 'which', 'who', 'will', 'with', 'you','-PRON-','pron']\n",
    "\n",
    "\n",
    "from sklearn.feature_extraction.text import TfidfVectorizer\n",
    "tfidf=TfidfVectorizer(stop_words=stopwords, tokenizer= tokenize, ngram_range=(1, 2), max_df=0.9, min_df=3, sublinear_tf=True)\n",
    "X=tfidf.fit_transform(df['Review Text Precrocessed'])\n",
    "X.shape"
   ]
  },
  {
   "cell_type": "code",
   "execution_count": 14,
   "metadata": {},
   "outputs": [
    {
     "data": {
      "text/html": [
       "<div>\n",
       "<style scoped>\n",
       "    .dataframe tbody tr th:only-of-type {\n",
       "        vertical-align: middle;\n",
       "    }\n",
       "\n",
       "    .dataframe tbody tr th {\n",
       "        vertical-align: top;\n",
       "    }\n",
       "\n",
       "    .dataframe thead th {\n",
       "        text-align: right;\n",
       "    }\n",
       "</style>\n",
       "<table border=\"1\" class=\"dataframe\">\n",
       "  <thead>\n",
       "    <tr style=\"text-align: right;\">\n",
       "      <th></th>\n",
       "      <th>0</th>\n",
       "      <th>0 00</th>\n",
       "      <th>0 109lbs</th>\n",
       "      <th>0 110</th>\n",
       "      <th>0 120</th>\n",
       "      <th>0 125</th>\n",
       "      <th>0 2</th>\n",
       "      <th>0 5</th>\n",
       "      <th>0 am</th>\n",
       "      <th>0 because</th>\n",
       "      <th>...</th>\n",
       "      <th>zipper stick</th>\n",
       "      <th>zipper style</th>\n",
       "      <th>zipper up</th>\n",
       "      <th>zipper very</th>\n",
       "      <th>zipper well</th>\n",
       "      <th>zipper work</th>\n",
       "      <th>zipper would</th>\n",
       "      <th>zipper zip</th>\n",
       "      <th>zone</th>\n",
       "      <th>zoom</th>\n",
       "    </tr>\n",
       "  </thead>\n",
       "  <tbody>\n",
       "    <tr>\n",
       "      <th>0</th>\n",
       "      <td>0.0</td>\n",
       "      <td>0.0</td>\n",
       "      <td>0.0</td>\n",
       "      <td>0.0</td>\n",
       "      <td>0.0</td>\n",
       "      <td>0.0</td>\n",
       "      <td>0.0</td>\n",
       "      <td>0.0</td>\n",
       "      <td>0.0</td>\n",
       "      <td>0.0</td>\n",
       "      <td>...</td>\n",
       "      <td>0.0</td>\n",
       "      <td>0.0</td>\n",
       "      <td>0.0</td>\n",
       "      <td>0.0</td>\n",
       "      <td>0.0</td>\n",
       "      <td>0.0</td>\n",
       "      <td>0.0</td>\n",
       "      <td>0.0</td>\n",
       "      <td>0.0</td>\n",
       "      <td>0.0</td>\n",
       "    </tr>\n",
       "    <tr>\n",
       "      <th>1</th>\n",
       "      <td>0.0</td>\n",
       "      <td>0.0</td>\n",
       "      <td>0.0</td>\n",
       "      <td>0.0</td>\n",
       "      <td>0.0</td>\n",
       "      <td>0.0</td>\n",
       "      <td>0.0</td>\n",
       "      <td>0.0</td>\n",
       "      <td>0.0</td>\n",
       "      <td>0.0</td>\n",
       "      <td>...</td>\n",
       "      <td>0.0</td>\n",
       "      <td>0.0</td>\n",
       "      <td>0.0</td>\n",
       "      <td>0.0</td>\n",
       "      <td>0.0</td>\n",
       "      <td>0.0</td>\n",
       "      <td>0.0</td>\n",
       "      <td>0.0</td>\n",
       "      <td>0.0</td>\n",
       "      <td>0.0</td>\n",
       "    </tr>\n",
       "    <tr>\n",
       "      <th>2</th>\n",
       "      <td>0.0</td>\n",
       "      <td>0.0</td>\n",
       "      <td>0.0</td>\n",
       "      <td>0.0</td>\n",
       "      <td>0.0</td>\n",
       "      <td>0.0</td>\n",
       "      <td>0.0</td>\n",
       "      <td>0.0</td>\n",
       "      <td>0.0</td>\n",
       "      <td>0.0</td>\n",
       "      <td>...</td>\n",
       "      <td>0.0</td>\n",
       "      <td>0.0</td>\n",
       "      <td>0.0</td>\n",
       "      <td>0.0</td>\n",
       "      <td>0.0</td>\n",
       "      <td>0.0</td>\n",
       "      <td>0.0</td>\n",
       "      <td>0.0</td>\n",
       "      <td>0.0</td>\n",
       "      <td>0.0</td>\n",
       "    </tr>\n",
       "    <tr>\n",
       "      <th>3</th>\n",
       "      <td>0.0</td>\n",
       "      <td>0.0</td>\n",
       "      <td>0.0</td>\n",
       "      <td>0.0</td>\n",
       "      <td>0.0</td>\n",
       "      <td>0.0</td>\n",
       "      <td>0.0</td>\n",
       "      <td>0.0</td>\n",
       "      <td>0.0</td>\n",
       "      <td>0.0</td>\n",
       "      <td>...</td>\n",
       "      <td>0.0</td>\n",
       "      <td>0.0</td>\n",
       "      <td>0.0</td>\n",
       "      <td>0.0</td>\n",
       "      <td>0.0</td>\n",
       "      <td>0.0</td>\n",
       "      <td>0.0</td>\n",
       "      <td>0.0</td>\n",
       "      <td>0.0</td>\n",
       "      <td>0.0</td>\n",
       "    </tr>\n",
       "    <tr>\n",
       "      <th>4</th>\n",
       "      <td>0.0</td>\n",
       "      <td>0.0</td>\n",
       "      <td>0.0</td>\n",
       "      <td>0.0</td>\n",
       "      <td>0.0</td>\n",
       "      <td>0.0</td>\n",
       "      <td>0.0</td>\n",
       "      <td>0.0</td>\n",
       "      <td>0.0</td>\n",
       "      <td>0.0</td>\n",
       "      <td>...</td>\n",
       "      <td>0.0</td>\n",
       "      <td>0.0</td>\n",
       "      <td>0.0</td>\n",
       "      <td>0.0</td>\n",
       "      <td>0.0</td>\n",
       "      <td>0.0</td>\n",
       "      <td>0.0</td>\n",
       "      <td>0.0</td>\n",
       "      <td>0.0</td>\n",
       "      <td>0.0</td>\n",
       "    </tr>\n",
       "  </tbody>\n",
       "</table>\n",
       "<p>5 rows × 49458 columns</p>\n",
       "</div>"
      ],
      "text/plain": [
       "     0  0 00  0 109lbs  0 110  0 120  0 125  0 2  0 5  0 am  0 because  ...  \\\n",
       "0  0.0   0.0       0.0    0.0    0.0    0.0  0.0  0.0   0.0        0.0  ...   \n",
       "1  0.0   0.0       0.0    0.0    0.0    0.0  0.0  0.0   0.0        0.0  ...   \n",
       "2  0.0   0.0       0.0    0.0    0.0    0.0  0.0  0.0   0.0        0.0  ...   \n",
       "3  0.0   0.0       0.0    0.0    0.0    0.0  0.0  0.0   0.0        0.0  ...   \n",
       "4  0.0   0.0       0.0    0.0    0.0    0.0  0.0  0.0   0.0        0.0  ...   \n",
       "\n",
       "   zipper stick  zipper style  zipper up  zipper very  zipper well  \\\n",
       "0           0.0           0.0        0.0          0.0          0.0   \n",
       "1           0.0           0.0        0.0          0.0          0.0   \n",
       "2           0.0           0.0        0.0          0.0          0.0   \n",
       "3           0.0           0.0        0.0          0.0          0.0   \n",
       "4           0.0           0.0        0.0          0.0          0.0   \n",
       "\n",
       "   zipper work  zipper would  zipper zip  zone  zoom  \n",
       "0          0.0           0.0         0.0   0.0   0.0  \n",
       "1          0.0           0.0         0.0   0.0   0.0  \n",
       "2          0.0           0.0         0.0   0.0   0.0  \n",
       "3          0.0           0.0         0.0   0.0   0.0  \n",
       "4          0.0           0.0         0.0   0.0   0.0  \n",
       "\n",
       "[5 rows x 49458 columns]"
      ]
     },
     "execution_count": 14,
     "metadata": {},
     "output_type": "execute_result"
    }
   ],
   "source": [
    "yes=pd.DataFrame(X.toarray(), columns=tfidf.get_feature_names())\n",
    "yes.head(5)"
   ]
  },
  {
   "cell_type": "markdown",
   "metadata": {},
   "source": [
    "# Splitting Data"
   ]
  },
  {
   "cell_type": "code",
   "execution_count": 15,
   "metadata": {},
   "outputs": [],
   "source": [
    "y=df['Label']\n",
    "X=X\n",
    "X_train, X_test, y_train, y_test=train_test_split(X,y,test_size=.20,random_state=0)"
   ]
  },
  {
   "cell_type": "markdown",
   "metadata": {},
   "source": [
    "# ROC and Confusion Matrix"
   ]
  },
  {
   "cell_type": "code",
   "execution_count": 16,
   "metadata": {},
   "outputs": [],
   "source": [
    "def get_ROC(y_test, y_pred):\n",
    "    \n",
    "    # Compute ROC and plot curve\n",
    "    \n",
    "    fpr_rf, tpr_rf, _ = roc_curve(y_test, y_pred)\n",
    "    roc_auc_rf = auc(fpr_rf, tpr_rf)\n",
    "    plt.ylim([0.0, 1.05])\n",
    "    plt.xlim([0.0, 1.0])\n",
    "    plt.plot(fpr_rf, tpr_rf, lw=1, label='{} curve (AUC = {:0.2f})'.format('RF',roc_auc_rf))\n",
    "    plt.xlabel('False Positive Rate', fontsize=16)\n",
    "    plt.ylabel('True Positive Rate', fontsize=16)\n",
    "    plt.title('ROC curve', fontsize=16)\n",
    "    plt.legend(loc='lower right', fontsize=13)\n",
    "    plt.plot([0, 1], [0, 1], color='navy', lw=1, linestyle='--')\n",
    "    plt.axes().set_aspect('equal')\n",
    "    plt.show()\n",
    "    \n",
    "def get_ROC_multiclass(y_test, y_pred):\n",
    "    \n",
    "    #Compute ROC and plot curve for three classes\n",
    "    \n",
    "    n_classes=3\n",
    "    # roc curve\n",
    "    fpr = dict()\n",
    "    tpr = dict()\n",
    "    aucroc=dict()\n",
    "\n",
    "    for i in range(n_classes):\n",
    "        fpr[i], tpr[i], _ = roc_curve(y_test[:, i],\n",
    "                                  y_pred[:, i])\n",
    "        aucroc[i] = auc(fpr[i], tpr[i])\n",
    "        plt.plot(fpr[i], tpr[i], lw=2, label='class {} (AUC = {:0.2f})'.format(i, aucroc[i] ))\n",
    "\n",
    "    plt.xlabel(\"false positive rate\")\n",
    "    plt.ylabel(\"true positive rate\")\n",
    "    plt.legend(loc=\"best\")\n",
    "    plt.title(\"ROC curve\")\n",
    "    plt.show()\n",
    "\n",
    "\n",
    "def get_Confusion_Matrix(y_test, y_pred):\n",
    "    \n",
    "    # Compute and plot Confusion Matrix \n",
    "    \n",
    "    mat = confusion_matrix(y_test, y_pred)\n",
    "    sns.heatmap(mat.T, square=True, annot=True, fmt='d', cbar=False,\n",
    "        xticklabels='auto', yticklabels='auto')\n",
    "    plt.xlabel('true label')\n",
    "    plt.ylabel('predicted label');\n",
    "    plt.show()\n",
    "    "
   ]
  },
  {
   "cell_type": "markdown",
   "metadata": {},
   "source": [
    "# Random Forest"
   ]
  },
  {
   "cell_type": "markdown",
   "metadata": {},
   "source": [
    "## Binary Classification"
   ]
  },
  {
   "cell_type": "code",
   "execution_count": 32,
   "metadata": {},
   "outputs": [
    {
     "name": "stdout",
     "output_type": "stream",
     "text": [
      "[[ 435  626]\n",
      " [ 146 3322]]\n",
      "             precision    recall  f1-score   support\n",
      "\n",
      "          0       0.75      0.41      0.53      1061\n",
      "          1       0.84      0.96      0.90      3468\n",
      "\n",
      "avg / total       0.82      0.83      0.81      4529\n",
      "\n",
      "Accuracy Score: 0.829542945463\n",
      "F1 Score: 0.895900755124\n"
     ]
    },
    {
     "data": {
      "image/png": "[encoded data removed]",
      "text/plain": [
       "<Figure size 432x288 with 1 Axes>"
      ]
     },
     "metadata": {
      "needs_background": "light"
     },
     "output_type": "display_data"
    },
    {
     "name": "stderr",
     "output_type": "stream",
     "text": [
      "/anaconda2/lib/python2.7/site-packages/matplotlib/cbook/deprecation.py:107: MatplotlibDeprecationWarning: Adding an axes using the same arguments as a previous axes currently reuses the earlier instance.  In a future version, a new instance will always be created and returned.  Meanwhile, this warning can be suppressed, and the future behavior ensured, by passing a unique label to each axes instance.\n",
      "  warnings.warn(message, mplDeprecation, stacklevel=1)\n"
     ]
    },
    {
     "data": {
      "image/png": "[encoded data removed]",
      "text/plain": [
       "<Figure size 432x288 with 1 Axes>"
      ]
     },
     "metadata": {
      "needs_background": "light"
     },
     "output_type": "display_data"
    }
   ],
   "source": [
    "def RandomForestBinaryClassifier(X_train, y_train, X_test, y_test):\n",
    "    rfc = RandomForestClassifier()\n",
    "    \n",
    "    # Training model\n",
    "    rfc.fit(X_train, y_train)\n",
    "    \n",
    "    # Prediction using model\n",
    "    y_pred = rfc.predict(X_test)\n",
    "    \n",
    "    # Validating the data\n",
    "    Confusion_matrix = confusion_matrix(y_test, y_pred)\n",
    "    Classification_report = classification_report(y_test, y_pred)\n",
    "    print(confusion_matrix(y_test, y_pred))\n",
    "    print(classification_report(y_test, y_pred))\n",
    "    Accuracy_score = accuracy_score(y_test, y_pred)\n",
    "    print('Accuracy Score: {}'.format(Accuracy_score))\n",
    "    F1_score = f1_score(y_test, y_pred)\n",
    "    print('F1 Score: {}'.format(F1_score))\n",
    "    Average_precision = average_precision_score(y_test, y_pred)\n",
    "    \n",
    "    get_Confusion_Matrix(y_test, y_pred)\n",
    "    \n",
    "    get_ROC(y_test, y_pred)\n",
    "    \n",
    "\n",
    "RandomForestBinaryClassifier(X_train, y_train, X_test, y_test)"
   ]
  },
  {
   "cell_type": "markdown",
   "metadata": {},
   "source": [
    "# Binary Classification with Hyperparameter Tuning"
   ]
  },
  {
   "cell_type": "code",
   "execution_count": 44,
   "metadata": {},
   "outputs": [
    {
     "name": "stdout",
     "output_type": "stream",
     "text": [
      "[[ 540  521]\n",
      " [ 195 3273]]\n",
      "             precision    recall  f1-score   support\n",
      "\n",
      "          0       0.73      0.51      0.60      1061\n",
      "          1       0.86      0.94      0.90      3468\n",
      "\n",
      "avg / total       0.83      0.84      0.83      4529\n",
      "\n",
      "Accuracy Score: 0.841907705895\n",
      "F1 Score: 0.901404571743\n"
     ]
    },
    {
     "data": {
      "image/png": "[encoded data removed]",
      "text/plain": [
       "<Figure size 432x288 with 1 Axes>"
      ]
     },
     "metadata": {
      "needs_background": "light"
     },
     "output_type": "display_data"
    },
    {
     "name": "stderr",
     "output_type": "stream",
     "text": [
      "/anaconda2/lib/python2.7/site-packages/matplotlib/cbook/deprecation.py:107: MatplotlibDeprecationWarning: Adding an axes using the same arguments as a previous axes currently reuses the earlier instance.  In a future version, a new instance will always be created and returned.  Meanwhile, this warning can be suppressed, and the future behavior ensured, by passing a unique label to each axes instance.\n",
      "  warnings.warn(message, mplDeprecation, stacklevel=1)\n"
     ]
    },
    {
     "data": {
      "image/png": "[encoded data removed]",
      "text/plain": [
       "<Figure size 432x288 with 1 Axes>"
      ]
     },
     "metadata": {
      "needs_background": "light"
     },
     "output_type": "display_data"
    }
   ],
   "source": [
    "# class sklearn.ensemble.RandomForestClassifier(n_estimators=100, *, criterion='gini', max_depth=None, min_samples_split=2,\n",
    "#                                               min_samples_leaf=1, max_features='auto')\n",
    "                  \n",
    "rfc_tuned = RandomForestClassifier(min_samples_leaf = 1, n_estimators =25, min_samples_split =8, criterion= 'gini', max_features=25000, max_depth= 40)\n",
    "def RandomForestBinaryClassifierTuned(X_train, y_train, X_test, y_test):\n",
    "   \n",
    "    # Training model\n",
    "    rfc_tuned.fit(X_train, y_train)\n",
    "    \n",
    "    # Prediction using model\n",
    "    y_pred = rfc_tuned.predict(X_test)\n",
    "    \n",
    "    # Validating the data\n",
    "    \n",
    "    Confusion_matrix = confusion_matrix(y_test, y_pred)\n",
    "    Classification_report = classification_report(y_test, y_pred)\n",
    "    print(confusion_matrix(y_test, y_pred))\n",
    "    print(classification_report(y_test, y_pred))\n",
    "    Accuracy_score = accuracy_score(y_test, y_pred)\n",
    "    print('Accuracy Score: {}'.format(Accuracy_score))\n",
    "    F1_score = f1_score(y_test, y_pred)\n",
    "    print('F1 Score: {}'.format(F1_score))\n",
    "    Average_precision = average_precision_score(y_test, y_pred)\n",
    "    \n",
    "    get_Confusion_Matrix(y_test, y_pred)\n",
    "    get_ROC(y_test, y_pred)\n",
    "    \n",
    "    \n",
    "    \n",
    "RandomForestBinaryClassifierTuned(X_train, y_train, X_test, y_test)"
   ]
  },
  {
   "cell_type": "markdown",
   "metadata": {},
   "source": [
    "# Data Split for Three Classes"
   ]
  },
  {
   "cell_type": "code",
   "execution_count": 19,
   "metadata": {},
   "outputs": [
    {
     "name": "stdout",
     "output_type": "stream",
     "text": [
      "1    17449\n",
      "2     2823\n",
      "0     2370\n",
      "Name: Label_3C, dtype: int64\n"
     ]
    }
   ],
   "source": [
    "y_3c=df['Label_3C']\n",
    "X_3c=X\n",
    "\n",
    "X_train_3c, X_test_3c, y_train_3c, y_test_3c = train_test_split(X_3c ,y_3c ,test_size=.20, random_state=0)\n",
    "print(df['Label_3C'].value_counts())"
   ]
  },
  {
   "cell_type": "code",
   "execution_count": 20,
   "metadata": {},
   "outputs": [],
   "source": [
    "y_dummy=label_binarize(y_3c, classes=[0,1,2])\n",
    "X_3c=X\n",
    "\n",
    "X_train_dummy, X_test_dummy, y_train_dummy, y_test_dummy = train_test_split(X_3c, y_dummy ,test_size=.20, random_state=0)"
   ]
  },
  {
   "cell_type": "markdown",
   "metadata": {},
   "source": [
    "## Random Forest for Three Classes"
   ]
  },
  {
   "cell_type": "code",
   "execution_count": 65,
   "metadata": {},
   "outputs": [
    {
     "name": "stdout",
     "output_type": "stream",
     "text": [
      "Build random Forest Classifier \n",
      "[[  76  387   32]\n",
      " [  13 3441   14]\n",
      " [  34  514   18]]\n",
      "             precision    recall  f1-score   support\n",
      "\n",
      "          0       0.62      0.15      0.25       495\n",
      "          1       0.79      0.99      0.88      3468\n",
      "          2       0.28      0.03      0.06       566\n",
      "\n",
      "avg / total       0.71      0.78      0.71      4529\n",
      "\n",
      "Accuracy Score: 0.780525502318\n",
      "F1 Score: 0.708769188348\n"
     ]
    },
    {
     "data": {
      "image/png": "[encoded data removed]",
      "text/plain": [
       "<Figure size 432x288 with 1 Axes>"
      ]
     },
     "metadata": {
      "needs_background": "light"
     },
     "output_type": "display_data"
    },
    {
     "name": "stdout",
     "output_type": "stream",
     "text": [
      "(18113, 49458)\n",
      "(18113, 3)\n"
     ]
    },
    {
     "data": {
      "image/png": "[encoded data removed]",
      "text/plain": [
       "<Figure size 432x288 with 1 Axes>"
      ]
     },
     "metadata": {
      "needs_background": "light"
     },
     "output_type": "display_data"
    }
   ],
   "source": [
    "print(\"Build random Forest Classifier \")\n",
    "\n",
    "def RandomForest_ThreeClass(X_train_3c, X_test_3c, y_train_3c, y_test_3c):  \n",
    "    rfc_3c = RandomForestClassifier()\n",
    "    # Training model\n",
    "    \n",
    "    rfc_3c.fit(X_train_3c, y_train_3c)\n",
    "    \n",
    "    # Prediction using model\n",
    "    \n",
    "    y_pred_3c = rfc_3c.predict(X_test_3c)\n",
    "    \n",
    "    # Validating the data\n",
    "    \n",
    "    Confusion_matrix = confusion_matrix(y_test_3c, y_pred_3c)\n",
    "    Classification_report = classification_report(y_test_3c, y_pred_3c)\n",
    "    print(confusion_matrix(y_test_3c, y_pred_3c))\n",
    "    print(classification_report(y_test_3c, y_pred_3c))\n",
    "    Accuracy_score = accuracy_score(y_test_3c, y_pred_3c)\n",
    "    print('Accuracy Score: {}'.format(Accuracy_score))\n",
    "    F1_score = f1_score(y_test_3c, y_pred_3c, average='weighted')\n",
    "    print('F1 Score: {}'.format(F1_score))\n",
    "    get_Confusion_Matrix(y_test_3c, y_pred_3c)\n",
    "    \n",
    "def RandomForest_ThreeClass_plots(X_train_dummy, X_test_dummy, y_train_dummy, y_test_dummy):\n",
    "    print(X_train_dummy.shape)\n",
    "    print(y_train_dummy.shape)\n",
    "    rfc_3c.fit(X_train_dummy, y_train_dummy)\n",
    "    y_pred_dummy = rfc_3c.predict(X_test_dummy)\n",
    "    \n",
    "    get_ROC_multiclass(y_test_dummy, y_pred_dummy)\n",
    "\n",
    "    \n",
    "RandomForest_ThreeClass(X_train_3c, X_test_3c, y_train_3c, y_test_3c)  \n",
    "RandomForest_ThreeClass_plots(X_train_dummy, X_test_dummy, y_train_dummy, y_test_dummy)"
   ]
  },
  {
   "cell_type": "markdown",
   "metadata": {},
   "source": [
    "## Random Forest for Three Classes with Hyperparameter Tuning"
   ]
  },
  {
   "cell_type": "code",
   "execution_count": 66,
   "metadata": {},
   "outputs": [
    {
     "name": "stdout",
     "output_type": "stream",
     "text": [
      "Build random Forest Classifier \n",
      "[[ 133  289   73]\n",
      " [  58 3331   79]\n",
      " [  81  382  103]]\n",
      "             precision    recall  f1-score   support\n",
      "\n",
      "          0       0.49      0.27      0.35       495\n",
      "          1       0.83      0.96      0.89      3468\n",
      "          2       0.40      0.18      0.25       566\n",
      "\n",
      "avg / total       0.74      0.79      0.75      4529\n",
      "\n",
      "Accuracy Score: 0.787591079709\n",
      "F1 Score: 0.75216741296\n"
     ]
    },
    {
     "data": {
      "image/png": "[encoded data removed]",
      "text/plain": [
       "<Figure size 432x288 with 1 Axes>"
      ]
     },
     "metadata": {
      "needs_background": "light"
     },
     "output_type": "display_data"
    },
    {
     "data": {
      "image/png": "[encoded data removed]",
      "text/plain": [
       "<Figure size 432x288 with 1 Axes>"
      ]
     },
     "metadata": {
      "needs_background": "light"
     },
     "output_type": "display_data"
    }
   ],
   "source": [
    "print(\"Build random Forest Classifier \")\n",
    "rfc_3c_tuned = RandomForestClassifier(min_samples_leaf = 2, n_estimators =15, min_samples_split =8, criterion= 'gini', max_features=25000, max_depth= 39)\n",
    "# class sklearn.ensemble.RandomForestClassifier(n_estimators=100, *, criterion='gini', max_depth=None, min_samples_split=2,\n",
    "#                                               min_samples_leaf=1, max_features='auto')\n",
    "\n",
    "def RandomForest_ThreeClass_Tuned(X_train_3c, X_test_3c, y_train_3c, y_test_3c): \n",
    "    \n",
    "    # Training model\n",
    "    \n",
    "    rfc_3c_tuned.fit(X_train_3c, y_train_3c)\n",
    "    \n",
    "    # Prediction using model\n",
    "    \n",
    "    y_pred_3c = rfc_3c_tuned.predict(X_test_3c)\n",
    "    \n",
    "    # Validating the data\n",
    "    \n",
    "    Confusion_matrix = confusion_matrix(y_test_3c, y_pred_3c)\n",
    "    Classification_report = classification_report(y_test_3c, y_pred_3c)\n",
    "    print(confusion_matrix(y_test_3c, y_pred_3c))\n",
    "    print(classification_report(y_test_3c, y_pred_3c))\n",
    "    Accuracy_score = accuracy_score(y_test_3c, y_pred_3c)\n",
    "    print('Accuracy Score: {}'.format(Accuracy_score))\n",
    "    F1_score = f1_score(y_test_3c, y_pred_3c, average='weighted')\n",
    "    print('F1 Score: {}'.format(F1_score))\n",
    "    get_Confusion_Matrix(y_test_3c, y_pred_3c)\n",
    "    \n",
    "\n",
    "def RandomForest_ThreeClass_Tuned_plots(X_train_dummy, X_test_dummy, y_train_dummy, y_test_dummy):\n",
    "    rfc_3_tuned = RandomForestClassifier(min_samples_leaf = 2, n_estimators =15, min_samples_split =8, criterion= 'gini', max_features=25000, max_depth= 39)\n",
    "    rfc_3_tuned.fit(X_train_dummy, y_train_dummy)\n",
    "    y_pred_dummy = rfc_3_tuned.predict(X_test_dummy)\n",
    "    get_ROC_multiclass(y_test_dummy, y_pred_dummy)\n",
    "\n",
    "    \n",
    "RandomForest_ThreeClass_Tuned(X_train_3c, X_test_3c, y_train_3c, y_test_3c)  \n",
    "RandomForest_ThreeClass_Tuned_plots(X_train_dummy, X_test_dummy, y_train_dummy, y_test_dummy)"
   ]
  },
  {
   "cell_type": "markdown",
   "metadata": {},
   "source": [
    "# Testing"
   ]
  },
  {
   "cell_type": "code",
   "execution_count": 37,
   "metadata": {},
   "outputs": [],
   "source": [
    "#negative sentiment indices\n",
    "Negatives=df[df['Label']==0].index.tolist()\n",
    "\n",
    "#positive sentiment indices\n",
    "Positives=df[df['Label']==1].index.tolist()\n",
    "\n",
    "#neutral sentiment indices\n",
    "Neutral=df[df['Label_3C']==2].index.tolist()"
   ]
  },
  {
   "cell_type": "code",
   "execution_count": null,
   "metadata": {},
   "outputs": [],
   "source": [
    "## Positive Review Testing"
   ]
  },
  {
   "cell_type": "code",
   "execution_count": 49,
   "metadata": {},
   "outputs": [],
   "source": [
    "val=random.choice(Positives)\n",
    "Test_sentence = df.loc[ (df['Label'] == 1) & (df['index'] == val) , 'Review Text']"
   ]
  },
  {
   "cell_type": "code",
   "execution_count": null,
   "metadata": {},
   "outputs": [],
   "source": [
    "## Negative Review Testing"
   ]
  },
  {
   "cell_type": "code",
   "execution_count": null,
   "metadata": {},
   "outputs": [],
   "source": [
    "val=random.choice(Negatives)\n",
    "Test_sentence = df.loc[ (df['Label'] == 0) & (df['index'] == val) , 'Review Text']"
   ]
  },
  {
   "cell_type": "code",
   "execution_count": null,
   "metadata": {},
   "outputs": [],
   "source": [
    "## Neutral Review testing"
   ]
  },
  {
   "cell_type": "code",
   "execution_count": 61,
   "metadata": {},
   "outputs": [],
   "source": [
    "val=random.choice(Negatives)\n",
    "Test_sentence = df.loc[ (df['Label_3C'] == 2) & (df['index'] == val) , 'Review Text']"
   ]
  },
  {
   "cell_type": "code",
   "execution_count": null,
   "metadata": {},
   "outputs": [],
   "source": [
    "## Test Your Own Sentence"
   ]
  },
  {
   "cell_type": "code",
   "execution_count": null,
   "metadata": {},
   "outputs": [],
   "source": [
    "Test_sentence =[\"This dress is very good but color is bad\"]"
   ]
  },
  {
   "cell_type": "code",
   "execution_count": null,
   "metadata": {},
   "outputs": [],
   "source": [
    "## Test According to Customer ID"
   ]
  },
  {
   "cell_type": "code",
   "execution_count": null,
   "metadata": {},
   "outputs": [],
   "source": [
    "Test_sentence = df.loc[df['index'] == 10 , 'Review Text']"
   ]
  },
  {
   "cell_type": "code",
   "execution_count": 62,
   "metadata": {},
   "outputs": [
    {
     "data": {
      "text/plain": [
       "19398    Cute sweater, i really like the grey color. unfortunately, it was boxy and a little short on me. almost worth keeping, but even with a t-shirt underneath, i wanted to scratch my skin off. it's very itchy. mine is going back.\n",
       "Name: Review Text, dtype: object"
      ]
     },
     "execution_count": 62,
     "metadata": {},
     "output_type": "execute_result"
    }
   ],
   "source": [
    "Test_sentence"
   ]
  },
  {
   "cell_type": "code",
   "execution_count": 63,
   "metadata": {},
   "outputs": [
    {
     "name": "stdout",
     "output_type": "stream",
     "text": [
      "Original Review\n",
      "19398    Cute sweater, i really like the grey color. unfortunately, it was boxy and a little short on me. almost worth keeping, but even with a t-shirt underneath, i wanted to scratch my skin off. it's very itchy. mine is going back.\n",
      "Name: Review Text, dtype: object\n",
      "\n",
      "\n",
      "Actual Label\n",
      "19398    0\n",
      "Name: Label, dtype: int64\n",
      "\n",
      "\n"
     ]
    },
    {
     "data": {
      "text/plain": [
       "'Negative'"
      ]
     },
     "execution_count": 63,
     "metadata": {},
     "output_type": "execute_result"
    }
   ],
   "source": [
    "pd.set_option('display.max_colwidth', 1000)\n",
    "print(\"Original Review\")\n",
    "print(Test_sentence)\n",
    "print(\"\\n\")\n",
    "\n",
    "\n",
    "print(\"Actual Label\")\n",
    "Actual_label= df.loc[df['index'] == val , 'Label']\n",
    "print(Actual_label)\n",
    "print(\"\\n\")\n",
    "\n",
    "def prediction(x):\n",
    "    x=df.loc[df['index'] == val , 'Review Text Precrocessed']\n",
    "    X=tfidf.transform(x)\n",
    "    pred=rfc_tuned.predict(X)\n",
    "    if pred==0:\n",
    "      return 'Negative'\n",
    "    else:\n",
    "      return 'Positive'\n",
    "\n",
    "prediction(Test_sentence)"
   ]
  },
  {
   "cell_type": "code",
   "execution_count": 64,
   "metadata": {},
   "outputs": [
    {
     "data": {
      "text/plain": [
       "'Neutral'"
      ]
     },
     "execution_count": 64,
     "metadata": {},
     "output_type": "execute_result"
    }
   ],
   "source": [
    "def prediction_3_class(x):\n",
    "    x=df.loc[df['index'] == val , 'Review Text Precrocessed']\n",
    "    X=tfidf.transform(x)\n",
    "    pred=rfc_3c_tuned.predict(X)\n",
    "    if pred==0:\n",
    "      return 'Negative'\n",
    "    elif pred==2:\n",
    "        return 'Neutral'\n",
    "    else:\n",
    "      return 'Positive'\n",
    "prediction_3_class(Test_sentence)"
   ]
  },
  {
   "cell_type": "code",
   "execution_count": null,
   "metadata": {},
   "outputs": [],
   "source": []
  },
  {
   "cell_type": "code",
   "execution_count": null,
   "metadata": {},
   "outputs": [],
   "source": []
  },
  {
   "cell_type": "code",
   "execution_count": null,
   "metadata": {},
   "outputs": [],
   "source": []
  },
  {
   "cell_type": "code",
   "execution_count": null,
   "metadata": {},
   "outputs": [],
   "source": []
  },
  {
   "cell_type": "code",
   "execution_count": null,
   "metadata": {},
   "outputs": [],
   "source": []
  },
  {
   "cell_type": "code",
   "execution_count": null,
   "metadata": {},
   "outputs": [],
   "source": []
  },
  {
   "cell_type": "code",
   "execution_count": null,
   "metadata": {},
   "outputs": [],
   "source": []
  },
  {
   "cell_type": "code",
   "execution_count": null,
   "metadata": {},
   "outputs": [],
   "source": []
  },
  {
   "cell_type": "code",
   "execution_count": null,
   "metadata": {},
   "outputs": [],
   "source": []
  },
  {
   "cell_type": "code",
   "execution_count": null,
   "metadata": {},
   "outputs": [],
   "source": []
  },
  {
   "cell_type": "code",
   "execution_count": null,
   "metadata": {},
   "outputs": [],
   "source": []
  }
 ],
 "metadata": {
  "kernelspec": {
   "display_name": "Python 3",
   "language": "python",
   "name": "python3"
  },
  "language_info": {
   "codemirror_mode": {
    "name": "ipython",
    "version": 3
   },
   "file_extension": ".py",
   "mimetype": "text/x-python",
   "name": "python",
   "nbconvert_exporter": "python",
   "pygments_lexer": "ipython3",
   "version": "3.7.6rc1"
  }
 },
 "nbformat": 4,
 "nbformat_minor": 2
}
