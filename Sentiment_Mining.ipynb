{
 "cells": [
  {
   "cell_type": "code",
   "execution_count": 1,
   "metadata": {},
   "outputs": [],
   "source": [
    "import re\n",
    "import pandas as pd\n",
    "import seaborn as sns\n",
    "import numpy as np\n",
    "import spacy\n",
    "import unicodedata\n",
    "import en_core_web_sm\n",
    "import seaborn as sns\n",
    "from sklearn.preprocessing import label_binarize\n",
    "from sklearn.multiclass import OneVsRestClassifier\n",
    "from sklearn.model_selection import train_test_split\n",
    "from sklearn.ensemble import RandomForestClassifier\n",
    "from sklearn.svm import SVC\n",
    "from sklearn.metrics import accuracy_score, classification_report, confusion_matrix\n",
    "from sklearn.pipeline import Pipeline\n",
    "from sklearn.feature_extraction.text import TfidfVectorizer\n",
    "from sklearn.linear_model import LogisticRegression\n",
    "import matplotlib.pyplot as plt  \n",
    "from sklearn.metrics import confusion_matrix\n",
    "from sklearn.metrics import roc_curve\n",
    "from sklearn.metrics import roc_auc_score\n",
    "from sklearn.metrics import precision_recall_curve\n",
    "from sklearn.metrics import f1_score\n",
    "from sklearn.metrics import auc\n",
    "from sklearn.linear_model import LogisticRegression\n",
    "from sklearn.metrics import average_precision_score, auc, roc_curve, precision_recall_curve\n",
    "from textblob import TextBlob\n",
    "import random\n",
    "#from pandas_profiling import ProfileReport   \n",
    "#pip install https://github.com/pandas-profiling/pandas-profiling/archive/master.zip"
   ]
  },
  {
   "cell_type": "code",
   "execution_count": 2,
   "metadata": {},
   "outputs": [],
   "source": [
    "df=pd.read_csv('C:/Users/anagha.bhople/Desktop/Sentiment Analysis/Womens Clothing E-Commerce Reviews.csv')"
   ]
  },
  {
   "cell_type": "markdown",
   "metadata": {},
   "source": [
    "# Data Cleaning"
   ]
  },
  {
   "cell_type": "code",
   "execution_count": 3,
   "metadata": {},
   "outputs": [
    {
     "name": "stderr",
     "output_type": "stream",
     "text": [
      "<ipython-input-3-f02947f230e3>:13: SettingWithCopyWarning: \n",
      "A value is trying to be set on a copy of a slice from a DataFrame\n",
      "\n",
      "See the caveats in the documentation: https://pandas.pydata.org/pandas-docs/stable/user_guide/indexing.html#returning-a-view-versus-a-copy\n",
      "  df['Review Text'][idx]=df['Title'][idx]\n",
      "C:\\ProgramData\\Anaconda3\\lib\\site-packages\\pandas\\core\\indexing.py:670: SettingWithCopyWarning: \n",
      "A value is trying to be set on a copy of a slice from a DataFrame\n",
      "\n",
      "See the caveats in the documentation: https://pandas.pydata.org/pandas-docs/stable/user_guide/indexing.html#returning-a-view-versus-a-copy\n",
      "  iloc._setitem_with_indexer(indexer, value)\n"
     ]
    }
   ],
   "source": [
    "df.drop(['Age','Clothing ID', 'Division Name', 'Department Name', 'Class Name'], axis = 1, inplace=True)\n",
    "df.reset_index(inplace=True)\n",
    "df.drop(['Unnamed: 0'],axis = 1, inplace=True)\n",
    "df.set_index('index')\n",
    "index_names = df[df['Review Text'].isnull() & df['Title'].isnull()].index \n",
    "df.drop(index_names, inplace = True) \n",
    "df[df['Review Text'].isnull() & df['Title'].isnull()].sum(axis=0)\n",
    "df['Review Text'].isnull().sum(axis = 0)\n",
    "idx=df[df['Review Text'].isnull()].index\n",
    "df['Title'].isnull().sum(axis = 0)\n",
    "df['Review Text'][idx]\n",
    "df['Title'][idx]\n",
    "df['Review Text'][idx]=df['Title'][idx]\n",
    "df['Review Text'][idx]\n",
    "df.drop(['Title'],axis = 1, inplace=True)"
   ]
  },
  {
   "cell_type": "markdown",
   "metadata": {},
   "source": [
    "# Text Preprocessing"
   ]
  },
  {
   "cell_type": "code",
   "execution_count": 4,
   "metadata": {},
   "outputs": [],
   "source": [
    "def strip_accents(text):\n",
    "\n",
    "    try:\n",
    "        text = unicode(text, 'utf-8')\n",
    "    except NameError: # unicode is a default on python 3 \n",
    "        pass\n",
    "\n",
    "    text = unicodedata.normalize('NFD', text)\\\n",
    "           .encode('ascii', 'ignore')\\\n",
    "           .decode(\"utf-8\")\n",
    "    \n",
    "\n",
    "    return str(text)\n",
    "\n",
    "df['Review Text Precrocessed']=df['Review Text'].apply(lambda x: strip_accents(x))\n",
    "\n",
    "# def spell_check(x):\n",
    "#     x=TextBlob(str(x)).correct()\n",
    "#     return ''.join(x)\n",
    "\n",
    "# df['Review Text Precrocessed']=df['Review Text Precrocessed'].apply(lambda x: spell_check(x))\n",
    "\n",
    "\n",
    "def char_count(x):\n",
    "    s=x.split()\n",
    "    s=str(s)\n",
    "    x=' '.join(s)\n",
    "    return len(x)\n",
    "\n",
    "df['Char_Count']=df['Review Text Precrocessed'].apply(lambda x: char_count(x.encode('utf-8')))\n",
    "\n",
    "\n",
    "def word_count(x):\n",
    "    return len(str(x).split())\n",
    "\n",
    "df['Word_Count']=df['Review Text Precrocessed'].apply(lambda x: word_count(x.encode('utf-8')))\n",
    "\n",
    "def remove_sapce(x):\n",
    "    x=' '.join(x.split())\n",
    "    return x\n",
    "df['Review Text Precrocessed']=df['Review Text Precrocessed'].apply(lambda x: remove_sapce(x))\n",
    "\n",
    "df['Review Text Precrocessed']=df['Review Text Precrocessed'].str.lower()\n",
    "\n",
    "contractions = { \n",
    "\"ain't\": \"am not / are not / is not / has not / have not\",\n",
    "\"aren't\": \"are not / am not\",\n",
    "\"can't\": \"cannot\",\n",
    "\"can't've\": \"cannot have\",\n",
    "\"'cause\": \"because\",\n",
    "\"could've\": \"could have\",\n",
    "\"couldn't\": \"could not\",\n",
    "\"couldn't've\": \"could not have\",\n",
    "\"didn't\": \"did not\",\n",
    "\"doesn't\": \"does not\",\n",
    "\"don't\": \"do not\",\n",
    "\"hadn't\": \"had not\",\n",
    "\"hadn't've\": \"had not have\",\n",
    "\"hasn't\": \"has not\",\n",
    "\"haven't\": \"have not\",\n",
    "\"he'd\": \"he had / he would\",\n",
    "\"he'd've\": \"he would have\",\n",
    "\"he'll\": \"he shall / he will\",\n",
    "\"he'll've\": \"he shall have / he will have\",\n",
    "\"he's\": \"he has / he is\",\n",
    "\"how'd\": \"how did\",\n",
    "\"how'd'y\": \"how do you\",\n",
    "\"how'll\": \"how will\",\n",
    "\"how's\": \"how has / how is / how does\",\n",
    "\"I'd\": \"I had / I would\",\n",
    "\"I'd've\": \"I would have\",\n",
    "\"I'll\": \"I shall / I will\",\n",
    "\"I'll've\": \"I shall have / I will have\",\n",
    "\"I'm\": \"I am\",\n",
    "\"i'm\": \"i am\",\n",
    "\"I've\": \"I have\",\n",
    "\"isn't\": \"is not\",\n",
    "\"it'd\": \"it had / it would\",\n",
    "\"it'd've\": \"it would have\",\n",
    "\"it'll\": \"it shall / it will\",\n",
    "\"it'll've\": \"it shall have / it will have\",\n",
    "\"it's\": \"it is\",\n",
    "\"let's\": \"let us\",\n",
    "\"ma'am\": \"madam\",\n",
    "\"mayn't\": \"may not\",\n",
    "\"might've\": \"might have\",\n",
    "\"mightn't\": \"might not\",\n",
    "\"mightn't've\": \"might not have\",\n",
    "\"must've\": \"must have\",\n",
    "\"mustn't\": \"must not\",\n",
    "\"mustn't've\": \"must not have\",\n",
    "\"needn't\": \"need not\",\n",
    "\"needn't've\": \"need not have\",\n",
    "\"o'clock\": \"of the clock\",\n",
    "\"oughtn't\": \"ought not\",\n",
    "\"oughtn't've\": \"ought not have\",\n",
    "\"shan't\": \"shall not\",\n",
    "\"sha'n't\": \"shall not\",\n",
    "\"shan't've\": \"shall not have\",\n",
    "\"she'd\": \"she had / she would\",\n",
    "\"she'd've\": \"she would have\",\n",
    "\"she'll\": \"she shall / she will\",\n",
    "\"she'll've\": \"she shall have / she will have\",\n",
    "\"she's\": \"she has / she is\",\n",
    "\"should've\": \"should have\",\n",
    "\"shouldn't\": \"should not\",\n",
    "\"shouldn't've\": \"should not have\",\n",
    "\"so've\": \"so have\",\n",
    "\"so's\": \"so as / so is\",\n",
    "\"that'd\": \"that would / that had\",\n",
    "\"that'd've\": \"that would have\",\n",
    "\"that's\": \"that has / that is\",\n",
    "\"there'd\": \"there had / there would\",\n",
    "\"there'd've\": \"there would have\",\n",
    "\"there's\": \"there has / there is\",\n",
    "\"they'd\": \"they had / they would\",\n",
    "\"they'd've\": \"they would have\",\n",
    "\"they'll\": \"they shall / they will\",\n",
    "\"they'll've\": \"they shall have / they will have\",\n",
    "\"they're\": \"they are\",\n",
    "\"they've\": \"they have\",\n",
    "\"to've\": \"to have\",\n",
    "\"wasn't\": \"was not\",\n",
    "\"we'd\": \"we had / we would\",\n",
    "\"we'd've\": \"we would have\",\n",
    "\"we'll\": \"we will\",\n",
    "\"we'll've\": \"we will have\",\n",
    "\"we're\": \"we are\",\n",
    "\"we've\": \"we have\",\n",
    "\"weren't\": \"were not\",\n",
    "\"what'll\": \"what shall / what will\",\n",
    "\"what'll've\": \"what shall have / what will have\",\n",
    "\"what're\": \"what are\",\n",
    "\"what's\": \"what has / what is\",\n",
    "\"what've\": \"what have\",\n",
    "\"when's\": \"when has / when is\",\n",
    "\"when've\": \"when have\",\n",
    "\"where'd\": \"where did\",\n",
    "\"where's\": \"where has / where is\",\n",
    "\"where've\": \"where have\",\n",
    "\"who'll\": \"who shall / who will\",\n",
    "\"who'll've\": \"who shall have / who will have\",\n",
    "\"who's\": \"who has / who is\",\n",
    "\"who've\": \"who have\",\n",
    "\"why's\": \"why has / why is\",\n",
    "\"why've\": \"why have\",\n",
    "\"will've\": \"will have\",\n",
    "\"won't\": \"will not\",\n",
    "\"won't've\": \"will not have\",\n",
    "\"would've\": \"would have\",\n",
    "\"wouldn't\": \"would not\",\n",
    "\"wouldn't've\": \"would not have\",\n",
    "\"y'all\": \"you all\",\n",
    "\"y'all'd\": \"you all would\",\n",
    "\"y'all'd've\": \"you all would have\",\n",
    "\"y'all're\": \"you all are\",\n",
    "\"y'all've\": \"you all have\",\n",
    "\"you'd\": \"you had / you would\",\n",
    "\"you'd've\": \"you would have\",\n",
    "\"you'll\": \"you shall / you will\",\n",
    "\"you'll've\": \"you shall have / you will have\",\n",
    "\"you're\": \"you are\",\n",
    "\"you've\": \"you have\"\n",
    "}\n",
    "\n",
    "for key, value in contractions.items():\n",
    "  key= key.lower()\n",
    "  value=value.lower()\n",
    "  \n",
    "def cont_to_exp(x):\n",
    "    if type(x) is str:\n",
    "        for key in contractions:\n",
    "            value=contractions[key]\n",
    "            x=x.replace(key,value)\n",
    "        return x\n",
    "    return x\n",
    "df['Review Text Precrocessed']=df['Review Text Precrocessed'].apply(lambda x: cont_to_exp(x))\n",
    "\n",
    "\n",
    "def puntuation_removal(x):\n",
    "    x=re.sub(r'[^\\w]+', \" \", x)\n",
    "    return x\n",
    "\n",
    "df['Review Text Precrocessed']=df['Review Text Precrocessed'].apply(lambda x: puntuation_removal(str(x)))"
   ]
  },
  {
   "cell_type": "code",
   "execution_count": 5,
   "metadata": {},
   "outputs": [
    {
     "data": {
      "text/html": [
       "<div>\n",
       "<style scoped>\n",
       "    .dataframe tbody tr th:only-of-type {\n",
       "        vertical-align: middle;\n",
       "    }\n",
       "\n",
       "    .dataframe tbody tr th {\n",
       "        vertical-align: top;\n",
       "    }\n",
       "\n",
       "    .dataframe thead th {\n",
       "        text-align: right;\n",
       "    }\n",
       "</style>\n",
       "<table border=\"1\" class=\"dataframe\">\n",
       "  <thead>\n",
       "    <tr style=\"text-align: right;\">\n",
       "      <th></th>\n",
       "      <th>index</th>\n",
       "      <th>Review Text</th>\n",
       "      <th>Rating</th>\n",
       "      <th>Recommended IND</th>\n",
       "      <th>Positive Feedback Count</th>\n",
       "      <th>Review Text Precrocessed</th>\n",
       "      <th>Char_Count</th>\n",
       "      <th>Word_Count</th>\n",
       "    </tr>\n",
       "  </thead>\n",
       "  <tbody>\n",
       "    <tr>\n",
       "      <th>0</th>\n",
       "      <td>0</td>\n",
       "      <td>Absolutely wonderful - silky and sexy and comf...</td>\n",
       "      <td>4</td>\n",
       "      <td>1</td>\n",
       "      <td>0</td>\n",
       "      <td>absolutely wonderful silky and sexy and comfor...</td>\n",
       "      <td>171</td>\n",
       "      <td>8</td>\n",
       "    </tr>\n",
       "    <tr>\n",
       "      <th>1</th>\n",
       "      <td>1</td>\n",
       "      <td>Love this dress!  it's sooo pretty.  i happene...</td>\n",
       "      <td>5</td>\n",
       "      <td>1</td>\n",
       "      <td>4</td>\n",
       "      <td>love this dress it is sooo pretty i happened t...</td>\n",
       "      <td>1095</td>\n",
       "      <td>62</td>\n",
       "    </tr>\n",
       "    <tr>\n",
       "      <th>2</th>\n",
       "      <td>2</td>\n",
       "      <td>I had such high hopes for this dress and reall...</td>\n",
       "      <td>3</td>\n",
       "      <td>0</td>\n",
       "      <td>0</td>\n",
       "      <td>i had such high hopes for this dress and reall...</td>\n",
       "      <td>1785</td>\n",
       "      <td>98</td>\n",
       "    </tr>\n",
       "    <tr>\n",
       "      <th>3</th>\n",
       "      <td>3</td>\n",
       "      <td>I love, love, love this jumpsuit. it's fun, fl...</td>\n",
       "      <td>5</td>\n",
       "      <td>1</td>\n",
       "      <td>0</td>\n",
       "      <td>i love love love this jumpsuit it is fun flirt...</td>\n",
       "      <td>425</td>\n",
       "      <td>22</td>\n",
       "    </tr>\n",
       "    <tr>\n",
       "      <th>4</th>\n",
       "      <td>4</td>\n",
       "      <td>This shirt is very flattering to all due to th...</td>\n",
       "      <td>5</td>\n",
       "      <td>1</td>\n",
       "      <td>6</td>\n",
       "      <td>this shirt is very flattering to all due to th...</td>\n",
       "      <td>673</td>\n",
       "      <td>36</td>\n",
       "    </tr>\n",
       "    <tr>\n",
       "      <th>5</th>\n",
       "      <td>5</td>\n",
       "      <td>I love tracy reese dresses, but this one is no...</td>\n",
       "      <td>2</td>\n",
       "      <td>0</td>\n",
       "      <td>4</td>\n",
       "      <td>i love tracy reese dresses but this one is not...</td>\n",
       "      <td>1761</td>\n",
       "      <td>98</td>\n",
       "    </tr>\n",
       "    <tr>\n",
       "      <th>6</th>\n",
       "      <td>6</td>\n",
       "      <td>I aded this in my basket at hte last mintue to...</td>\n",
       "      <td>5</td>\n",
       "      <td>1</td>\n",
       "      <td>1</td>\n",
       "      <td>i aded this in my basket at hte last mintue to...</td>\n",
       "      <td>1801</td>\n",
       "      <td>101</td>\n",
       "    </tr>\n",
       "    <tr>\n",
       "      <th>7</th>\n",
       "      <td>7</td>\n",
       "      <td>I ordered this in carbon for store pick up, an...</td>\n",
       "      <td>4</td>\n",
       "      <td>1</td>\n",
       "      <td>4</td>\n",
       "      <td>i ordered this in carbon for store pick up and...</td>\n",
       "      <td>1741</td>\n",
       "      <td>97</td>\n",
       "    </tr>\n",
       "    <tr>\n",
       "      <th>8</th>\n",
       "      <td>8</td>\n",
       "      <td>I love this dress. i usually get an xs but it ...</td>\n",
       "      <td>5</td>\n",
       "      <td>1</td>\n",
       "      <td>0</td>\n",
       "      <td>i love this dress i usually get an xs but it r...</td>\n",
       "      <td>605</td>\n",
       "      <td>34</td>\n",
       "    </tr>\n",
       "    <tr>\n",
       "      <th>9</th>\n",
       "      <td>9</td>\n",
       "      <td>I'm 5\"5' and 125 lbs. i ordered the s petite t...</td>\n",
       "      <td>5</td>\n",
       "      <td>1</td>\n",
       "      <td>0</td>\n",
       "      <td>i am 5 5 and 125 lbs i ordered the s petite to...</td>\n",
       "      <td>1299</td>\n",
       "      <td>72</td>\n",
       "    </tr>\n",
       "  </tbody>\n",
       "</table>\n",
       "</div>"
      ],
      "text/plain": [
       "   index                                        Review Text  Rating  \\\n",
       "0      0  Absolutely wonderful - silky and sexy and comf...       4   \n",
       "1      1  Love this dress!  it's sooo pretty.  i happene...       5   \n",
       "2      2  I had such high hopes for this dress and reall...       3   \n",
       "3      3  I love, love, love this jumpsuit. it's fun, fl...       5   \n",
       "4      4  This shirt is very flattering to all due to th...       5   \n",
       "5      5  I love tracy reese dresses, but this one is no...       2   \n",
       "6      6  I aded this in my basket at hte last mintue to...       5   \n",
       "7      7  I ordered this in carbon for store pick up, an...       4   \n",
       "8      8  I love this dress. i usually get an xs but it ...       5   \n",
       "9      9  I'm 5\"5' and 125 lbs. i ordered the s petite t...       5   \n",
       "\n",
       "   Recommended IND  Positive Feedback Count  \\\n",
       "0                1                        0   \n",
       "1                1                        4   \n",
       "2                0                        0   \n",
       "3                1                        0   \n",
       "4                1                        6   \n",
       "5                0                        4   \n",
       "6                1                        1   \n",
       "7                1                        4   \n",
       "8                1                        0   \n",
       "9                1                        0   \n",
       "\n",
       "                            Review Text Precrocessed  Char_Count  Word_Count  \n",
       "0  absolutely wonderful silky and sexy and comfor...         171           8  \n",
       "1  love this dress it is sooo pretty i happened t...        1095          62  \n",
       "2  i had such high hopes for this dress and reall...        1785          98  \n",
       "3  i love love love this jumpsuit it is fun flirt...         425          22  \n",
       "4  this shirt is very flattering to all due to th...         673          36  \n",
       "5  i love tracy reese dresses but this one is not...        1761          98  \n",
       "6  i aded this in my basket at hte last mintue to...        1801         101  \n",
       "7  i ordered this in carbon for store pick up and...        1741          97  \n",
       "8  i love this dress i usually get an xs but it r...         605          34  \n",
       "9  i am 5 5 and 125 lbs i ordered the s petite to...        1299          72  "
      ]
     },
     "execution_count": 5,
     "metadata": {},
     "output_type": "execute_result"
    }
   ],
   "source": [
    "df.head(10)"
   ]
  },
  {
   "cell_type": "code",
   "execution_count": null,
   "metadata": {},
   "outputs": [],
   "source": [
    "df['Review Text Precrocessed']"
   ]
  },
  {
   "cell_type": "markdown",
   "metadata": {},
   "source": [
    "# Tokennization"
   ]
  },
  {
   "cell_type": "code",
   "execution_count": 6,
   "metadata": {},
   "outputs": [],
   "source": [
    "def tokenize(x):\n",
    "    x= TextBlob(str(x)).words\n",
    "    return x\n",
    "# df['Review Text Precrocessed']=df['Review Text Precrocessed'].apply(lambda x: tokenize(x))"
   ]
  },
  {
   "cell_type": "markdown",
   "metadata": {},
   "source": [
    "# Lemmatization"
   ]
  },
  {
   "cell_type": "code",
   "execution_count": 7,
   "metadata": {},
   "outputs": [],
   "source": [
    "nlp = spacy.load('en_core_web_sm')\n",
    "def make_to_base(x):\n",
    "    x_list=[]\n",
    "    doc=nlp(x)\n",
    "    for token in doc:\n",
    "        lemma=token.lemma_\n",
    "        \n",
    "        if lemma=='_PRON_' or lemma == 'be' or lemma == 'is': \n",
    "            lemma=token.text\n",
    "            \n",
    "        \n",
    "        x_list.append(lemma)\n",
    "    return ' '.join(x_list)\n",
    "\n",
    "df['Review Text Precrocessed']=df['Review Text Precrocessed'].apply(lambda x: make_to_base(x))"
   ]
  },
  {
   "cell_type": "code",
   "execution_count": null,
   "metadata": {},
   "outputs": [],
   "source": [
    "df.head(10)"
   ]
  },
  {
   "cell_type": "markdown",
   "metadata": {},
   "source": [
    "# Label Generation"
   ]
  },
  {
   "cell_type": "code",
   "execution_count": 7,
   "metadata": {},
   "outputs": [],
   "source": [
    "def la(x):\n",
    "    if(x>3):\n",
    "        return 1\n",
    "    else:\n",
    "        return 0\n",
    "    \n",
    "df['Label']=df['Rating'].apply(lambda x:la(x))\n",
    "Positive_review_1=[]\n",
    "Negative_review_1=[]\n",
    "Positive_review_1=df[df['Label']==1]\n",
    "Negative_review_1=df[df['Label']==0]\n"
   ]
  },
  {
   "cell_type": "code",
   "execution_count": 8,
   "metadata": {},
   "outputs": [],
   "source": [
    "def label(x):\n",
    "    if(x>3):\n",
    "        return 1\n",
    "    elif(x==3):\n",
    "        return 2\n",
    "    else:\n",
    "        return 0\n",
    "\n",
    "df['Label_3C']=df['Rating'].apply(lambda x:label(x))\n",
    "Positive_review=[]\n",
    "Negative_review=[]\n",
    "Neutral_review=[]\n",
    "Positive_review=df[df['Label_3C']==1]\n",
    "Negative_review=df[df['Label_3C']==0]\n",
    "Neutral_review=df[df['Label_3C']==2]\n"
   ]
  },
  {
   "cell_type": "markdown",
   "metadata": {},
   "source": [
    "# TFIDF Vector Generation"
   ]
  },
  {
   "cell_type": "code",
   "execution_count": 9,
   "metadata": {},
   "outputs": [
    {
     "name": "stderr",
     "output_type": "stream",
     "text": [
      "C:\\ProgramData\\Anaconda3\\lib\\site-packages\\sklearn\\feature_extraction\\text.py:383: UserWarning: Your stop_words may be inconsistent with your preprocessing. Tokenizing the stop words generated tokens ['pron'] not in stop_words.\n",
      "  warnings.warn('Your stop_words may be inconsistent with '\n"
     ]
    },
    {
     "data": {
      "text/plain": [
       "(22642, 51918)"
      ]
     },
     "execution_count": 9,
     "metadata": {},
     "output_type": "execute_result"
    }
   ],
   "source": [
    "stopwords = ['a', 'about', 'an', 'and', 'are', 'as', 'at', 'be', 'been', 'but', 'by', 'can', \\\n",
    "             'even', 'ever', 'for', 'from', 'get', 'had', 'has', 'have', 'he', 'her', 'hers', 'his', \\\n",
    "             'how', 'i', 'if', 'in', 'into', 'is', 'it', 'its', 'just', 'me', 'my', 'of', 'on', 'or', \\\n",
    "             'see', 'seen', 'she', 'so', 'than', 'that', 'the', 'their', 'there', 'they', 'this', \\\n",
    "             'to', 'was', 'we', 'were', 'what', 'when', 'which', 'who', 'will', 'with', 'you','-PRON-']\n",
    "\n",
    "\n",
    "from sklearn.feature_extraction.text import TfidfVectorizer\n",
    "tfidf=TfidfVectorizer(stop_words=stopwords, tokenizer= tokenize, ngram_range=(1, 2), max_df=0.9, min_df=3, sublinear_tf=True)\n",
    "\n",
    "X=tfidf.fit_transform(df['Review Text Precrocessed'])\n",
    "X.shape"
   ]
  },
  {
   "cell_type": "code",
   "execution_count": null,
   "metadata": {},
   "outputs": [],
   "source": [
    "import sys\n",
    "!{sys.executable} -m textblob.download_corpora --user"
   ]
  },
  {
   "cell_type": "code",
   "execution_count": 11,
   "metadata": {},
   "outputs": [
    {
     "data": {
      "text/plain": [
       "(22642, 51918)"
      ]
     },
     "execution_count": 11,
     "metadata": {},
     "output_type": "execute_result"
    }
   ],
   "source": [
    "yes=pd.DataFrame(X.toarray(), columns=tfidf.get_feature_names())\n",
    "yes.shape"
   ]
  },
  {
   "cell_type": "markdown",
   "metadata": {},
   "source": [
    "# Splitting Data"
   ]
  },
  {
   "cell_type": "code",
   "execution_count": 33,
   "metadata": {},
   "outputs": [],
   "source": [
    "y=df['Label']\n",
    "X=X\n",
    "X_train, X_test, y_train, y_test=train_test_split(X,y,test_size=.20,random_state=0)"
   ]
  },
  {
   "cell_type": "code",
   "execution_count": null,
   "metadata": {},
   "outputs": [],
   "source": [
    "#y_test"
   ]
  },
  {
   "cell_type": "markdown",
   "metadata": {},
   "source": [
    "# ROC and Confusion Matrix"
   ]
  },
  {
   "cell_type": "code",
   "execution_count": 10,
   "metadata": {},
   "outputs": [],
   "source": [
    "def get_ROC(y_test, y_pred):\n",
    "    \n",
    "    # Compute ROC and plot curve\n",
    "    \n",
    "    fpr_rf, tpr_rf, _ = roc_curve(y_test, y_pred)\n",
    "    roc_auc_rf = auc(fpr_rf, tpr_rf)\n",
    "    #plt.figure(figsize=(8,8))\n",
    "    plt.ylim([0.0, 1.05])\n",
    "    plt.xlim([0.0, 1.0])\n",
    "    plt.plot(fpr_rf, tpr_rf, lw=1, label='{} curve (AUC = {:0.2f})'.format('RF',roc_auc_rf))\n",
    "    plt.xlabel('False Positive Rate', fontsize=16)\n",
    "    plt.ylabel('True Positive Rate', fontsize=16)\n",
    "    plt.title('ROC curve', fontsize=16)\n",
    "    plt.legend(loc='lower right', fontsize=13)\n",
    "    plt.plot([0, 1], [0, 1], color='navy', lw=1, linestyle='--')\n",
    "    plt.axes().set_aspect('equal')\n",
    "    plt.show()\n",
    "    \n",
    "def get_ROC_multiclass(y_test, y_pred):\n",
    "    \n",
    "    #Compute ROC and plot curve for three classes\n",
    "    \n",
    "    n_classes=3\n",
    "    # roc curve\n",
    "    fpr = dict()\n",
    "    tpr = dict()\n",
    "    aucroc=dict()\n",
    "\n",
    "    for i in range(n_classes):\n",
    "        fpr[i], tpr[i], _ = roc_curve(y_test[:, i],\n",
    "                                  y_pred[:, i])\n",
    "        aucroc[i] = auc(fpr[i], tpr[i])\n",
    "        plt.plot(fpr[i], tpr[i], lw=2, label='class {} (AUC = {:0.2f})'.format(i, aucroc[i] ))\n",
    "\n",
    "    plt.xlabel(\"false positive rate\")\n",
    "    plt.ylabel(\"true positive rate\")\n",
    "    plt.legend(loc=\"best\")\n",
    "    plt.title(\"ROC curve\")\n",
    "    plt.show()\n",
    "\n",
    "\n",
    "def get_Precision_Recall(y_test, y_pred):\n",
    "    \n",
    "    # Compute Precision-Recall and plot curve\n",
    "    \n",
    "    precision, recall, thresholds = precision_recall_curve(y_test, y_pred)\n",
    "    area = auc(recall, precision)\n",
    "    print(\"Area Under Curve: %0.2f\" % area)\n",
    "    plt.clf()\n",
    "    plt.plot(recall, precision, label='Precision-Recall curve')\n",
    "    plt.xlabel('Recall')\n",
    "    plt.ylabel('Precision')\n",
    "    plt.ylim([0.0, 1.05])\n",
    "    plt.xlim([0.0, 1.0])\n",
    "    plt.title('Precision-Recall example: AUC=%0.2f' % area)\n",
    "    plt.legend(loc=\"lower left\")\n",
    "    plt.plot([0, 1], [0, 1], color='navy', lw=1, linestyle='--')\n",
    "    plt.axes().set_aspect('equal')\n",
    "    plt.show()\n",
    "    \n",
    "    \n",
    "def get_Precision_Recall_multiclass(y_test, y_pred):\n",
    "    \n",
    "    precision = dict()\n",
    "    recall = dict()\n",
    "    area=dict()\n",
    "    n_classes=3\n",
    "    for i in range(n_classes):\n",
    "        precision[i], recall[i], _ = precision_recall_curve(y_test[:, i],\n",
    "                                                        y_pred[:, i])\n",
    "        area[i] = auc(precision[i], recall[i])\n",
    "        plt.plot(recall[i], precision[i], lw=2, label='class {} (AUC = {:0.2f})'.format(i, area[i]))\n",
    "        \n",
    "\n",
    "    plt.xlabel(\"recall\")\n",
    "    plt.ylabel(\"precision\")\n",
    "    plt.legend(loc=\"best\")\n",
    "    plt.title(\"precision vs. recall curve\")\n",
    "    plt.show()\n",
    "        \n",
    "    \n",
    "def get_Confusion_Matrix(y_test, y_pred):\n",
    "    \n",
    "    # Compute and plot Confusion Matrix \n",
    "    \n",
    "    mat = confusion_matrix(y_test, y_pred)\n",
    "    sns.heatmap(mat.T, square=True, annot=True, fmt='d', cbar=False,\n",
    "        xticklabels='auto', yticklabels='auto')\n",
    "    plt.xlabel('true label')\n",
    "    plt.ylabel('predicted label');\n",
    "    plt.show()\n",
    "    "
   ]
  },
  {
   "cell_type": "markdown",
   "metadata": {},
   "source": [
    "# Random Forest"
   ]
  },
  {
   "cell_type": "markdown",
   "metadata": {},
   "source": [
    "## Binary Classification"
   ]
  },
  {
   "cell_type": "code",
   "execution_count": 12,
   "metadata": {},
   "outputs": [],
   "source": [
    "def RandomForestBinaryClassifier(X_train, y_train, X_test, y_test):\n",
    "    \n",
    "    clf = RandomForestClassifier()\n",
    "    clf.fit(X_train, y_train)\n",
    "    y_pred = clf.predict(X_test)\n",
    "    Confusion_matrix = confusion_matrix(y_test, y_pred)\n",
    "    Classification_report = classification_report(y_test, y_pred)\n",
    "    print(confusion_matrix(y_test, y_pred))\n",
    "    print(classification_report(y_test, y_pred))\n",
    "    Accuracy_score = accuracy_score(y_test, y_pred)\n",
    "    print('Accuracy Score: {}'.format(Accuracy_score))\n",
    "    F1_score = f1_score(y_test, y_pred)\n",
    "    print('F1 Score: {}'.format(F1_score))\n",
    "    Average_precision = average_precision_score(y_test, y_pred)\n",
    "    print('Average precision-recall score: {}'.format(Average_precision))\n",
    "    get_Confusion_Matrix(y_test, y_pred)\n",
    "    get_Precision_Recall(y_test, y_pred)\n",
    "    get_ROC(y_test, y_pred)\n",
    "    return Confusion_matrix, Classification_report\n",
    "\n",
    "#RandomForestBinaryClassifier(X_train, y_train, X_test, y_test)"
   ]
  },
  {
   "cell_type": "markdown",
   "metadata": {},
   "source": [
    "# Binary Classification with Hyperparameter Tuning"
   ]
  },
  {
   "cell_type": "code",
   "execution_count": null,
   "metadata": {},
   "outputs": [],
   "source": [
    "def RandomForestBinaryClassifierTuned(X_train, y_train, X_test, y_test, max_features):\n",
    "    clf = RandomForestClassifier(min_samples_leaf = 1, n_estimators =25, min_samples_split =8, criterion= 'gini', max_features=max_features, max_depth= 40)\n",
    "    clf.fit(X_train, y_train)\n",
    "    y_pred = clf.predict(X_test)\n",
    "    Confusion_matrix = confusion_matrix(y_test, y_pred)\n",
    "    Classification_report = classification_report(y_test, y_pred)\n",
    "    print(confusion_matrix(y_test, y_pred))\n",
    "    print(classification_report(y_test, y_pred))\n",
    "    Accuracy_score = accuracy_score(y_test, y_pred)\n",
    "    print('Accuracy Score: {}'.format(Accuracy_score))\n",
    "    F1_score = f1_score(y_test, y_pred)\n",
    "    print('F1 Score: {}'.format(F1_score))\n",
    "    Average_precision = average_precision_score(y_test, y_pred)\n",
    "    print('Average precision-recall score: {}'.format(Average_precision))\n",
    "    get_Confusion_Matrix(y_test, y_pred)\n",
    "    get_Precision_Recall(y_test, y_pred)\n",
    "    get_ROC(y_test, y_pred)\n",
    "    return Confusion_matrix, Classification_report\n",
    "    \n",
    "RandomForestBinaryClassifierTuned(X_train, y_train, X_test, y_test, 25000)"
   ]
  },
  {
   "cell_type": "markdown",
   "metadata": {},
   "source": [
    "# SVM"
   ]
  },
  {
   "cell_type": "markdown",
   "metadata": {},
   "source": [
    "## SVM for Binary Classification "
   ]
  },
  {
   "cell_type": "code",
   "execution_count": null,
   "metadata": {},
   "outputs": [],
   "source": [
    "def svm_binary_classification(X_train, y_train, X_test, y_test):\n",
    "    clf_svm=SVC()\n",
    "    clf_svm.fit(X_train, y_train)\n",
    "    pre=clf_svm.predict(X_test)\n",
    "    Confusion_matrix = confusion_matrix(y_test, pre)\n",
    "    Classification_report = classification_report(y_test, pre)\n",
    "    print(confusion_matrix(y_test,pre))\n",
    "    print(classification_report(y_test, pre))\n",
    "    Accuracy_score = accuracy_score(y_test, pre)\n",
    "    print('Accuracy Score: {}'.format(Accuracy_score))\n",
    "    F1_score = f1_score(y_test, pre)\n",
    "    print('F1 Score: {}'.format(F1_score))\n",
    "    Average_precision = average_precision_score(y_test, pre)\n",
    "    print('Average precision-recall score: {}'.format(Average_precision))\n",
    "    get_Confusion_Matrix(y_test, pre)\n",
    "    get_Precision_Recall(y_test, pre)\n",
    "    get_ROC(y_test, pre)\n",
    "    return Confusion_matrix, Classification_report\n",
    "\n",
    "svm_binary_classification(X_train, y_train, X_test, y_test)"
   ]
  },
  {
   "cell_type": "markdown",
   "metadata": {},
   "source": [
    "## SVM for Binary Classification with Hyperparameter Tuning"
   ]
  },
  {
   "cell_type": "code",
   "execution_count": null,
   "metadata": {},
   "outputs": [],
   "source": [
    "def svm_binary_classification_tuned(X_train, y_train, X_test, y_test):\n",
    "    clf_svm=SVC(C=1.5, gamma=1, kernel='rbf')\n",
    "    clf_svm.fit(X_train, y_train)\n",
    "    pre=clf_svm.predict(X_test)\n",
    "    Confusion_matrix = confusion_matrix(y_test, pre)\n",
    "    Classification_report = classification_report(y_test, pre)\n",
    "    print(confusion_matrix(y_test,pre))\n",
    "    print(classification_report(y_test, pre))\n",
    "    Accuracy_score = accuracy_score(y_test, pre)\n",
    "    print('Accuracy Score: {}'.format(Accuracy_score))\n",
    "    F1_score = f1_score(y_test, pre)\n",
    "    print('F1 Score: {}'.format(F1_score))\n",
    "    Average_precision = average_precision_score(y_test, pre)\n",
    "    print('Average precision-recall score: {}'.format(Average_precision))\n",
    "    get_Confusion_Matrix(y_test, pre)\n",
    "    get_Precision_Recall(y_test, pre)\n",
    "    get_ROC(y_test, pre)\n",
    "    return Confusion_matrix, Classification_report\n",
    "\n",
    "svm_binary_classification_tuned(X_train, y_train, X_test, y_test)"
   ]
  },
  {
   "cell_type": "markdown",
   "metadata": {},
   "source": [
    "# Logistic Regression"
   ]
  },
  {
   "cell_type": "markdown",
   "metadata": {},
   "source": [
    "## Logistic Regression for Binary Classification"
   ]
  },
  {
   "cell_type": "code",
   "execution_count": 13,
   "metadata": {},
   "outputs": [],
   "source": [
    "def LogisticRegression_binary_classification(X_train, y_train, X_test, y_test):\n",
    "    logisticRegr = LogisticRegression()\n",
    "    logisticRegr.fit(X_train, y_train)\n",
    "    predictions = logisticRegr.predict(X_test)\n",
    "    Confusion_matrix = confusion_matrix(y_test, predictions)\n",
    "    Classification_report = classification_report(y_test, predictions)\n",
    "    print(confusion_matrix(y_test,predictions))\n",
    "    print(classification_report(y_test, predictions))\n",
    "    Accuracy_score = accuracy_score(y_test, predictions)\n",
    "    print('Accuracy Score: {}'.format(Accuracy_score))\n",
    "    F1_score = f1_score(y_test, predictions)\n",
    "    print('F1 Score: {}'.format(F1_score))\n",
    "    Average_precision = average_precision_score(y_test, predictions)\n",
    "    print('Average precision-recall score: {}'.format(Average_precision))\n",
    "    get_Confusion_Matrix(y_test, predictions)\n",
    "    get_Precision_Recall(y_test, predictions)\n",
    "    get_ROC(y_test, predictions)\n",
    "    return Confusion_matrix, Classification_report\n",
    "\n",
    "#LogisticRegression_binary_classification(X_train, y_train, X_test, y_test)"
   ]
  },
  {
   "cell_type": "markdown",
   "metadata": {},
   "source": [
    "## Logistic Regression for Binary Classification with Hyperparameter Tuning"
   ]
  },
  {
   "cell_type": "code",
   "execution_count": null,
   "metadata": {},
   "outputs": [],
   "source": [
    "def LogisticRegression_binary_classification_Tuned(X_train, y_train, X_test, y_test):\n",
    "    logisticRegr = LogisticRegression()\n",
    "    logisticRegr.fit(X_train, y_train)\n",
    "    predictions = logisticRegr.predict(X_test)\n",
    "    Confusion_matrix = confusion_matrix(y_test, predictions)\n",
    "    Classification_report = classification_report(y_test, predictions)\n",
    "    print(confusion_matrix(y_test,predictions))\n",
    "    print(classification_report(y_test, predictions))\n",
    "    Accuracy_score = accuracy_score(y_test, predictions)\n",
    "    print('Accuracy Score: {}'.format(Accuracy_score))\n",
    "    F1_score = f1_score(y_test, predictions)\n",
    "    print('F1 Score: {}'.format(F1_score))\n",
    "    Average_precision = average_precision_score(y_test, predictions)\n",
    "    print('Average precision-recall score: {}'.format(Average_precision))\n",
    "    get_Confusion_Matrix(y_test, predictions)\n",
    "    get_Precision_Recall(y_test, predictions)\n",
    "    get_ROC(y_test, predictions)\n",
    "    return Confusion_matrix, Classification_report\n",
    "\n",
    "LogisticRegression_binary_classification_Tuned(X_train, y_train, X_test, y_test)"
   ]
  },
  {
   "cell_type": "markdown",
   "metadata": {},
   "source": [
    "# Naive Bayes"
   ]
  },
  {
   "cell_type": "markdown",
   "metadata": {},
   "source": [
    "## Naive Bayes for Binary Classification"
   ]
  },
  {
   "cell_type": "code",
   "execution_count": null,
   "metadata": {},
   "outputs": [],
   "source": [
    "from sklearn.naive_bayes import MultinomialNB\n",
    "from sklearn.naive_bayes import GaussianNB  \n",
    "\n",
    "def NaiveBayes_binary_classification_Tuned(X_train, y_train, X_test, y_test):\n",
    "    model = MultinomialNB()  \n",
    "    nv = model.fit(X_train.toarray(), y_train)\n",
    "    predictions=nv.predict(X_test.toarray())\n",
    "    Confusion_matrix = confusion_matrix(y_test, predictions)\n",
    "    Classification_report = classification_report(y_test, predictions)\n",
    "    print(confusion_matrix(y_test,predictions))\n",
    "    print(classification_report(y_test, predictions))\n",
    "    Accuracy_score = accuracy_score(y_test, predictions)\n",
    "    print('Accuracy Score: {}'.format(Accuracy_score))\n",
    "    F1_score = f1_score(y_test, predictions)\n",
    "    print('F1 Score: {}'.format(F1_score))\n",
    "    Average_precision = average_precision_score(y_test, predictions)\n",
    "    print('Average precision-recall score: {}'.format(Average_precision))\n",
    "    get_Confusion_Matrix(y_test, predictions)\n",
    "    get_Precision_Recall(y_test, predictions)\n",
    "    get_ROC(y_test, predictions)\n",
    "    return Confusion_matrix, Classification_report\n",
    "\n",
    "NaiveBayes_binary_classification_Tuned(X_train, y_train, X_test, y_test)"
   ]
  },
  {
   "cell_type": "markdown",
   "metadata": {},
   "source": [
    "## Naive Bayes for Binary Classification with Hyperparameter Tuning"
   ]
  },
  {
   "cell_type": "code",
   "execution_count": null,
   "metadata": {},
   "outputs": [],
   "source": []
  },
  {
   "cell_type": "markdown",
   "metadata": {},
   "source": [
    "# Decision Tree"
   ]
  },
  {
   "cell_type": "markdown",
   "metadata": {},
   "source": [
    "## Decision Tree for Binary Classification"
   ]
  },
  {
   "cell_type": "code",
   "execution_count": null,
   "metadata": {},
   "outputs": [],
   "source": [
    "from sklearn.tree import DecisionTreeClassifier\n",
    "def Decision_Tree_binary_classification_Tuned(X_train, y_train, X_test, y_test):\n",
    "    dtc = DecisionTreeClassifier(random_state=0)\n",
    "    dtc.fit(X_train, y_train)\n",
    "    predictions = dtc.predict(X_test)\n",
    "    Confusion_matrix = confusion_matrix(y_test, predictions)\n",
    "    Classification_report = classification_report(y_test, predictions)\n",
    "    print(confusion_matrix(y_test,predictions))\n",
    "    print(classification_report(y_test, predictions))\n",
    "    Accuracy_score = accuracy_score(y_test, predictions)\n",
    "    print('Accuracy Score: {}'.format(Accuracy_score))\n",
    "    F1_score = f1_score(y_test, predictions)\n",
    "    print('F1 Score: {}'.format(F1_score))\n",
    "    Average_precision = average_precision_score(y_test, predictions)\n",
    "    print('Average precision-recall score: {}'.format(Average_precision))\n",
    "    get_Confusion_Matrix(y_test, predictions)\n",
    "    get_Precision_Recall(y_test, predictions)\n",
    "    get_ROC(y_test, predictions)\n",
    "    return Confusion_matrix, Classification_report\n",
    "\n",
    "Decision_Tree_binary_classification_Tuned(X_train, y_train, X_test, y_test)"
   ]
  },
  {
   "cell_type": "markdown",
   "metadata": {},
   "source": [
    "## Decision Tree for Binary Classification with Hyperparameter Tuning"
   ]
  },
  {
   "cell_type": "markdown",
   "metadata": {},
   "source": [
    "## XGBoost"
   ]
  },
  {
   "cell_type": "markdown",
   "metadata": {},
   "source": [
    "## XGBoost for Binary Classification"
   ]
  },
  {
   "cell_type": "code",
   "execution_count": null,
   "metadata": {},
   "outputs": [],
   "source": [
    "from xgboost import XGBClassifier\n",
    "def XgBoost_binary_classification_Tuned(X_train, y_train, X_test, y_test):\n",
    "    xgb = XGBClassifier()\n",
    "    xgb.fit(X_train, y_train)\n",
    "    predictions = xgb.predict(X_test)\n",
    "    Confusion_matrix = confusion_matrix(y_test, predictions)\n",
    "    Classification_report = classification_report(y_test, predictions)\n",
    "    print(confusion_matrix(y_test,predictions))\n",
    "    \n",
    "    print(classification_report(y_test, predictions))\n",
    "    Accuracy_score = accuracy_score(y_test, predictions)\n",
    "    print('Accuracy Score: {}'.format(Accuracy_score))\n",
    "    F1_score = f1_score(y_test, predictions)\n",
    "    print('F1 Score: {}'.format(F1_score))\n",
    "    Average_precision = average_precision_score(y_test, predictions)\n",
    "    print('Average precision-recall score: {}'.format(Average_precision))\n",
    "    get_Confusion_Matrix(y_test, predictions)\n",
    "    get_Precision_Recall(y_test, predictions)\n",
    "    get_ROC(y_test, predictions)\n",
    "    return Confusion_matrix, Classification_report\n",
    "\n",
    "XgBoost_binary_classification_Tuned(X_train, y_train, X_test, y_test)"
   ]
  },
  {
   "cell_type": "code",
   "execution_count": null,
   "metadata": {},
   "outputs": [],
   "source": []
  },
  {
   "cell_type": "code",
   "execution_count": null,
   "metadata": {},
   "outputs": [],
   "source": []
  },
  {
   "cell_type": "markdown",
   "metadata": {},
   "source": [
    "# Word2Vec"
   ]
  },
  {
   "cell_type": "markdown",
   "metadata": {},
   "source": [
    "## Using Spacy"
   ]
  },
  {
   "cell_type": "code",
   "execution_count": null,
   "metadata": {},
   "outputs": [],
   "source": [
    "import sys\n",
    "!{sys.executable} -m spacy download en_core_web_lg"
   ]
  },
  {
   "cell_type": "code",
   "execution_count": 25,
   "metadata": {},
   "outputs": [],
   "source": [
    "import en_core_web_lg\n",
    "nlp1 = en_core_web_lg.load()"
   ]
  },
  {
   "cell_type": "code",
   "execution_count": 26,
   "metadata": {},
   "outputs": [],
   "source": [
    "def get_vec(x):\n",
    "    doc=nlp1(x)\n",
    "    vec=doc.vector\n",
    "    return vec"
   ]
  },
  {
   "cell_type": "code",
   "execution_count": 27,
   "metadata": {},
   "outputs": [],
   "source": [
    "df['Review Vector']=df['Review Text Precrocessed'].apply(lambda x: get_vec(x))"
   ]
  },
  {
   "cell_type": "code",
   "execution_count": 28,
   "metadata": {},
   "outputs": [
    {
     "data": {
      "text/html": [
       "<div>\n",
       "<style scoped>\n",
       "    .dataframe tbody tr th:only-of-type {\n",
       "        vertical-align: middle;\n",
       "    }\n",
       "\n",
       "    .dataframe tbody tr th {\n",
       "        vertical-align: top;\n",
       "    }\n",
       "\n",
       "    .dataframe thead th {\n",
       "        text-align: right;\n",
       "    }\n",
       "</style>\n",
       "<table border=\"1\" class=\"dataframe\">\n",
       "  <thead>\n",
       "    <tr style=\"text-align: right;\">\n",
       "      <th></th>\n",
       "      <th>index</th>\n",
       "      <th>Review Text</th>\n",
       "      <th>Rating</th>\n",
       "      <th>Recommended IND</th>\n",
       "      <th>Positive Feedback Count</th>\n",
       "      <th>Review Text Precrocessed</th>\n",
       "      <th>Char_Count</th>\n",
       "      <th>Word_Count</th>\n",
       "      <th>Label</th>\n",
       "      <th>Label_3C</th>\n",
       "      <th>Review Text w2v</th>\n",
       "      <th>doc_vector</th>\n",
       "      <th>Review Vector</th>\n",
       "    </tr>\n",
       "  </thead>\n",
       "  <tbody>\n",
       "    <tr>\n",
       "      <th>0</th>\n",
       "      <td>0</td>\n",
       "      <td>Absolutely wonderful - silky and sexy and comf...</td>\n",
       "      <td>4</td>\n",
       "      <td>1</td>\n",
       "      <td>0</td>\n",
       "      <td>absolutely wonderful silky and sexy and comfor...</td>\n",
       "      <td>171</td>\n",
       "      <td>8</td>\n",
       "      <td>1</td>\n",
       "      <td>1</td>\n",
       "      <td>[absolutely, wonderful, silky, and, sexy, and,...</td>\n",
       "      <td>[0.6038291, 0.19605957, 0.7809154, 0.8917468, ...</td>\n",
       "      <td>[0.05038286, 0.040566426, -0.26723757, 0.09293...</td>\n",
       "    </tr>\n",
       "    <tr>\n",
       "      <th>1</th>\n",
       "      <td>1</td>\n",
       "      <td>Love this dress!  it's sooo pretty.  i happene...</td>\n",
       "      <td>5</td>\n",
       "      <td>1</td>\n",
       "      <td>4</td>\n",
       "      <td>love this dress -PRON- is sooo pretty i happen...</td>\n",
       "      <td>1095</td>\n",
       "      <td>62</td>\n",
       "      <td>1</td>\n",
       "      <td>1</td>\n",
       "      <td>[love, this, dress, PRON, is, sooo, pretty, i,...</td>\n",
       "      <td>[0.18071634, -0.33589283, -0.1262703, -0.39025...</td>\n",
       "      <td>[-0.055735458, 0.24579218, -0.25002825, -0.012...</td>\n",
       "    </tr>\n",
       "    <tr>\n",
       "      <th>2</th>\n",
       "      <td>2</td>\n",
       "      <td>I had such high hopes for this dress and reall...</td>\n",
       "      <td>3</td>\n",
       "      <td>0</td>\n",
       "      <td>0</td>\n",
       "      <td>i have such high hope for this dress and reall...</td>\n",
       "      <td>1785</td>\n",
       "      <td>98</td>\n",
       "      <td>0</td>\n",
       "      <td>2</td>\n",
       "      <td>[i, have, such, high, hope, for, this, dress, ...</td>\n",
       "      <td>[0.109867126, -0.016870249, -0.7181431, -0.323...</td>\n",
       "      <td>[-0.025143184, 0.120843865, -0.17390709, 0.033...</td>\n",
       "    </tr>\n",
       "    <tr>\n",
       "      <th>3</th>\n",
       "      <td>3</td>\n",
       "      <td>I love, love, love this jumpsuit. it's fun, fl...</td>\n",
       "      <td>5</td>\n",
       "      <td>1</td>\n",
       "      <td>0</td>\n",
       "      <td>i love love love this jumpsuit -PRON- is fun f...</td>\n",
       "      <td>425</td>\n",
       "      <td>22</td>\n",
       "      <td>1</td>\n",
       "      <td>1</td>\n",
       "      <td>[i, love, love, love, this, jumpsuit, PRON, is...</td>\n",
       "      <td>[-0.026588626, 0.17082708, 0.08065285, -0.2498...</td>\n",
       "      <td>[0.027886605, 0.20771609, -0.1784711, -0.13507...</td>\n",
       "    </tr>\n",
       "    <tr>\n",
       "      <th>4</th>\n",
       "      <td>4</td>\n",
       "      <td>This shirt is very flattering to all due to th...</td>\n",
       "      <td>5</td>\n",
       "      <td>1</td>\n",
       "      <td>6</td>\n",
       "      <td>this shirt is very flattering to all due to th...</td>\n",
       "      <td>673</td>\n",
       "      <td>36</td>\n",
       "      <td>1</td>\n",
       "      <td>1</td>\n",
       "      <td>[this, shirt, is, very, flattering, to, all, d...</td>\n",
       "      <td>[-0.13901894, -0.36747223, 0.68351287, 0.12014...</td>\n",
       "      <td>[0.059171822, 0.113866895, -0.1971494, 0.08237...</td>\n",
       "    </tr>\n",
       "  </tbody>\n",
       "</table>\n",
       "</div>"
      ],
      "text/plain": [
       "   index                                        Review Text  Rating  \\\n",
       "0      0  Absolutely wonderful - silky and sexy and comf...       4   \n",
       "1      1  Love this dress!  it's sooo pretty.  i happene...       5   \n",
       "2      2  I had such high hopes for this dress and reall...       3   \n",
       "3      3  I love, love, love this jumpsuit. it's fun, fl...       5   \n",
       "4      4  This shirt is very flattering to all due to th...       5   \n",
       "\n",
       "   Recommended IND  Positive Feedback Count  \\\n",
       "0                1                        0   \n",
       "1                1                        4   \n",
       "2                0                        0   \n",
       "3                1                        0   \n",
       "4                1                        6   \n",
       "\n",
       "                            Review Text Precrocessed  Char_Count  Word_Count  \\\n",
       "0  absolutely wonderful silky and sexy and comfor...         171           8   \n",
       "1  love this dress -PRON- is sooo pretty i happen...        1095          62   \n",
       "2  i have such high hope for this dress and reall...        1785          98   \n",
       "3  i love love love this jumpsuit -PRON- is fun f...         425          22   \n",
       "4  this shirt is very flattering to all due to th...         673          36   \n",
       "\n",
       "   Label  Label_3C                                    Review Text w2v  \\\n",
       "0      1         1  [absolutely, wonderful, silky, and, sexy, and,...   \n",
       "1      1         1  [love, this, dress, PRON, is, sooo, pretty, i,...   \n",
       "2      0         2  [i, have, such, high, hope, for, this, dress, ...   \n",
       "3      1         1  [i, love, love, love, this, jumpsuit, PRON, is...   \n",
       "4      1         1  [this, shirt, is, very, flattering, to, all, d...   \n",
       "\n",
       "                                          doc_vector  \\\n",
       "0  [0.6038291, 0.19605957, 0.7809154, 0.8917468, ...   \n",
       "1  [0.18071634, -0.33589283, -0.1262703, -0.39025...   \n",
       "2  [0.109867126, -0.016870249, -0.7181431, -0.323...   \n",
       "3  [-0.026588626, 0.17082708, 0.08065285, -0.2498...   \n",
       "4  [-0.13901894, -0.36747223, 0.68351287, 0.12014...   \n",
       "\n",
       "                                       Review Vector  \n",
       "0  [0.05038286, 0.040566426, -0.26723757, 0.09293...  \n",
       "1  [-0.055735458, 0.24579218, -0.25002825, -0.012...  \n",
       "2  [-0.025143184, 0.120843865, -0.17390709, 0.033...  \n",
       "3  [0.027886605, 0.20771609, -0.1784711, -0.13507...  \n",
       "4  [0.059171822, 0.113866895, -0.1971494, 0.08237...  "
      ]
     },
     "execution_count": 28,
     "metadata": {},
     "output_type": "execute_result"
    }
   ],
   "source": [
    "df.head()"
   ]
  },
  {
   "cell_type": "code",
   "execution_count": 29,
   "metadata": {},
   "outputs": [
    {
     "data": {
      "text/plain": [
       "(22642,)"
      ]
     },
     "execution_count": 29,
     "metadata": {},
     "output_type": "execute_result"
    }
   ],
   "source": [
    "df['Review Vector'].shape"
   ]
  },
  {
   "cell_type": "code",
   "execution_count": 30,
   "metadata": {},
   "outputs": [],
   "source": [
    "word2vec = np.array(df['Review Vector'])"
   ]
  },
  {
   "cell_type": "code",
   "execution_count": 31,
   "metadata": {},
   "outputs": [
    {
     "data": {
      "text/plain": [
       "(22642,)"
      ]
     },
     "execution_count": 31,
     "metadata": {},
     "output_type": "execute_result"
    }
   ],
   "source": [
    "word2vec.shape"
   ]
  },
  {
   "cell_type": "code",
   "execution_count": 32,
   "metadata": {},
   "outputs": [],
   "source": [
    "word2vec = word2vec.reshape(-1,1)"
   ]
  },
  {
   "cell_type": "code",
   "execution_count": 33,
   "metadata": {},
   "outputs": [
    {
     "data": {
      "text/plain": [
       "(22642, 1)"
      ]
     },
     "execution_count": 33,
     "metadata": {},
     "output_type": "execute_result"
    }
   ],
   "source": [
    "word2vec.shape"
   ]
  },
  {
   "cell_type": "code",
   "execution_count": 34,
   "metadata": {},
   "outputs": [
    {
     "data": {
      "text/plain": [
       "(22642, 300)"
      ]
     },
     "execution_count": 34,
     "metadata": {},
     "output_type": "execute_result"
    }
   ],
   "source": [
    "word2vec = np.concatenate(np.concatenate(word2vec, axis = 0), axis = 0).reshape(-1, 300)\n",
    "word2vec.shape"
   ]
  },
  {
   "cell_type": "code",
   "execution_count": 35,
   "metadata": {},
   "outputs": [],
   "source": [
    "w2v_Y=df['Label']\n",
    "w2v_X=word2vec\n",
    "w2vX_train, w2vX_test, w2vy_train, w2vy_test = train_test_split(w2v_X,w2v_Y, test_size=.20, random_state=101)"
   ]
  },
  {
   "cell_type": "code",
   "execution_count": 36,
   "metadata": {},
   "outputs": [
    {
     "name": "stdout",
     "output_type": "stream",
     "text": [
      "[[ 263  768]\n",
      " [  79 3419]]\n",
      "              precision    recall  f1-score   support\n",
      "\n",
      "           0       0.77      0.26      0.38      1031\n",
      "           1       0.82      0.98      0.89      3498\n",
      "\n",
      "    accuracy                           0.81      4529\n",
      "   macro avg       0.79      0.62      0.64      4529\n",
      "weighted avg       0.81      0.81      0.77      4529\n",
      "\n",
      "Accuracy Score: 0.8129829984544049\n",
      "F1 Score: 0.8897852960312297\n",
      "Average precision-recall score: 0.8155764526076615\n"
     ]
    },
    {
     "data": {
      "image/png": "[encoded data removed]",
      "text/plain": [
       "<Figure size 432x288 with 1 Axes>"
      ]
     },
     "metadata": {
      "needs_background": "light"
     },
     "output_type": "display_data"
    },
    {
     "name": "stdout",
     "output_type": "stream",
     "text": [
      "Area Under Curve: 0.91\n"
     ]
    },
    {
     "name": "stderr",
     "output_type": "stream",
     "text": [
      "<ipython-input-10-d3da9126ecf1>:58: MatplotlibDeprecationWarning: Adding an axes using the same arguments as a previous axes currently reuses the earlier instance.  In a future version, a new instance will always be created and returned.  Meanwhile, this warning can be suppressed, and the future behavior ensured, by passing a unique label to each axes instance.\n",
      "  plt.axes().set_aspect('equal')\n"
     ]
    },
    {
     "data": {
      "image/png": "[encoded data removed]",
      "text/plain": [
       "<Figure size 432x288 with 1 Axes>"
      ]
     },
     "metadata": {
      "needs_background": "light"
     },
     "output_type": "display_data"
    },
    {
     "name": "stderr",
     "output_type": "stream",
     "text": [
      "<ipython-input-10-d3da9126ecf1>:16: MatplotlibDeprecationWarning: Adding an axes using the same arguments as a previous axes currently reuses the earlier instance.  In a future version, a new instance will always be created and returned.  Meanwhile, this warning can be suppressed, and the future behavior ensured, by passing a unique label to each axes instance.\n",
      "  plt.axes().set_aspect('equal')\n"
     ]
    },
    {
     "data": {
      "image/png": "[encoded data removed]",
      "text/plain": [
       "<Figure size 432x288 with 1 Axes>"
      ]
     },
     "metadata": {
      "needs_background": "light"
     },
     "output_type": "display_data"
    },
    {
     "data": {
      "text/plain": [
       "(array([[ 263,  768],\n",
       "        [  79, 3419]], dtype=int64),\n",
       " '              precision    recall  f1-score   support\\n\\n           0       0.77      0.26      0.38      1031\\n           1       0.82      0.98      0.89      3498\\n\\n    accuracy                           0.81      4529\\n   macro avg       0.79      0.62      0.64      4529\\nweighted avg       0.81      0.81      0.77      4529\\n')"
      ]
     },
     "execution_count": 36,
     "metadata": {},
     "output_type": "execute_result"
    }
   ],
   "source": [
    "RandomForestBinaryClassifier(w2vX_train, w2vy_train, w2vX_test, w2vy_test)"
   ]
  },
  {
   "cell_type": "code",
   "execution_count": null,
   "metadata": {},
   "outputs": [],
   "source": [
    "RandomForestBinaryClassifierTuned(w2vX_train, w2vy_train, w2vX_test, w2vy_test, 300)"
   ]
  },
  {
   "cell_type": "code",
   "execution_count": 37,
   "metadata": {},
   "outputs": [
    {
     "ename": "NameError",
     "evalue": "name 'svm_binary_classification' is not defined",
     "output_type": "error",
     "traceback": [
      "\u001b[1;31m---------------------------------------------------------------------------\u001b[0m",
      "\u001b[1;31mNameError\u001b[0m                                 Traceback (most recent call last)",
      "\u001b[1;32m<ipython-input-37-3c0fbc45359d>\u001b[0m in \u001b[0;36m<module>\u001b[1;34m\u001b[0m\n\u001b[1;32m----> 1\u001b[1;33m \u001b[0msvm_binary_classification\u001b[0m\u001b[1;33m(\u001b[0m\u001b[0mw2vX_train\u001b[0m\u001b[1;33m,\u001b[0m \u001b[0mw2vy_train\u001b[0m\u001b[1;33m,\u001b[0m \u001b[0mw2vX_test\u001b[0m\u001b[1;33m,\u001b[0m \u001b[0mw2vy_test\u001b[0m\u001b[1;33m)\u001b[0m\u001b[1;33m\u001b[0m\u001b[1;33m\u001b[0m\u001b[0m\n\u001b[0m",
      "\u001b[1;31mNameError\u001b[0m: name 'svm_binary_classification' is not defined"
     ]
    }
   ],
   "source": [
    "svm_binary_classification(w2vX_train, w2vy_train, w2vX_test, w2vy_test)"
   ]
  },
  {
   "cell_type": "code",
   "execution_count": null,
   "metadata": {},
   "outputs": [],
   "source": [
    "svm_binary_classification_tuned(w2vX_train, w2vy_train, w2vX_test, w2vy_test)"
   ]
  },
  {
   "cell_type": "code",
   "execution_count": 38,
   "metadata": {},
   "outputs": [
    {
     "name": "stderr",
     "output_type": "stream",
     "text": [
      "C:\\ProgramData\\Anaconda3\\lib\\site-packages\\sklearn\\linear_model\\_logistic.py:762: ConvergenceWarning: lbfgs failed to converge (status=1):\n",
      "STOP: TOTAL NO. of ITERATIONS REACHED LIMIT.\n",
      "\n",
      "Increase the number of iterations (max_iter) or scale the data as shown in:\n",
      "    https://scikit-learn.org/stable/modules/preprocessing.html\n",
      "Please also refer to the documentation for alternative solver options:\n",
      "    https://scikit-learn.org/stable/modules/linear_model.html#logistic-regression\n",
      "  n_iter_i = _check_optimize_result(\n"
     ]
    },
    {
     "name": "stdout",
     "output_type": "stream",
     "text": [
      "[[ 565  466]\n",
      " [ 169 3329]]\n",
      "              precision    recall  f1-score   support\n",
      "\n",
      "           0       0.77      0.55      0.64      1031\n",
      "           1       0.88      0.95      0.91      3498\n",
      "\n",
      "    accuracy                           0.86      4529\n",
      "   macro avg       0.82      0.75      0.78      4529\n",
      "weighted avg       0.85      0.86      0.85      4529\n",
      "\n",
      "Accuracy Score: 0.8597924486641643\n",
      "F1 Score: 0.9129302070478541\n",
      "Average precision-recall score: 0.8721411547421507\n"
     ]
    },
    {
     "data": {
      "image/png": "[encoded data removed]",
      "text/plain": [
       "<Figure size 432x288 with 1 Axes>"
      ]
     },
     "metadata": {
      "needs_background": "light"
     },
     "output_type": "display_data"
    },
    {
     "name": "stdout",
     "output_type": "stream",
     "text": [
      "Area Under Curve: 0.93\n"
     ]
    },
    {
     "name": "stderr",
     "output_type": "stream",
     "text": [
      "<ipython-input-10-d3da9126ecf1>:58: MatplotlibDeprecationWarning: Adding an axes using the same arguments as a previous axes currently reuses the earlier instance.  In a future version, a new instance will always be created and returned.  Meanwhile, this warning can be suppressed, and the future behavior ensured, by passing a unique label to each axes instance.\n",
      "  plt.axes().set_aspect('equal')\n"
     ]
    },
    {
     "data": {
      "image/png": "[encoded data removed]",
      "text/plain": [
       "<Figure size 432x288 with 1 Axes>"
      ]
     },
     "metadata": {
      "needs_background": "light"
     },
     "output_type": "display_data"
    },
    {
     "name": "stderr",
     "output_type": "stream",
     "text": [
      "<ipython-input-10-d3da9126ecf1>:16: MatplotlibDeprecationWarning: Adding an axes using the same arguments as a previous axes currently reuses the earlier instance.  In a future version, a new instance will always be created and returned.  Meanwhile, this warning can be suppressed, and the future behavior ensured, by passing a unique label to each axes instance.\n",
      "  plt.axes().set_aspect('equal')\n"
     ]
    },
    {
     "data": {
      "image/png": "[encoded data removed]",
      "text/plain": [
       "<Figure size 432x288 with 1 Axes>"
      ]
     },
     "metadata": {
      "needs_background": "light"
     },
     "output_type": "display_data"
    },
    {
     "data": {
      "text/plain": [
       "(array([[ 565,  466],\n",
       "        [ 169, 3329]], dtype=int64),\n",
       " '              precision    recall  f1-score   support\\n\\n           0       0.77      0.55      0.64      1031\\n           1       0.88      0.95      0.91      3498\\n\\n    accuracy                           0.86      4529\\n   macro avg       0.82      0.75      0.78      4529\\nweighted avg       0.85      0.86      0.85      4529\\n')"
      ]
     },
     "execution_count": 38,
     "metadata": {},
     "output_type": "execute_result"
    }
   ],
   "source": [
    "LogisticRegression_binary_classification(w2vX_train, w2vy_train, w2vX_test, w2vy_test)"
   ]
  },
  {
   "cell_type": "code",
   "execution_count": null,
   "metadata": {},
   "outputs": [],
   "source": [
    "LogisticRegression_binary_classification_Tuned(w2vX_train, w2vy_train, w2vX_test, w2vy_test)"
   ]
  },
  {
   "cell_type": "code",
   "execution_count": 1,
   "metadata": {},
   "outputs": [
    {
     "ename": "NameError",
     "evalue": "name 'NaiveBayes_binary_classification_Tuned' is not defined",
     "output_type": "error",
     "traceback": [
      "\u001b[1;31m---------------------------------------------------------------------------\u001b[0m",
      "\u001b[1;31mNameError\u001b[0m                                 Traceback (most recent call last)",
      "\u001b[1;32m<ipython-input-1-e6df7339b38f>\u001b[0m in \u001b[0;36m<module>\u001b[1;34m\u001b[0m\n\u001b[1;32m----> 1\u001b[1;33m \u001b[0mNaiveBayes_binary_classification_Tuned\u001b[0m\u001b[1;33m(\u001b[0m\u001b[0mw2vX_train\u001b[0m\u001b[1;33m,\u001b[0m \u001b[0mw2vy_train\u001b[0m\u001b[1;33m,\u001b[0m \u001b[0mw2vX_test\u001b[0m\u001b[1;33m,\u001b[0m \u001b[0mw2vy_test\u001b[0m\u001b[1;33m)\u001b[0m\u001b[1;33m\u001b[0m\u001b[1;33m\u001b[0m\u001b[0m\n\u001b[0m",
      "\u001b[1;31mNameError\u001b[0m: name 'NaiveBayes_binary_classification_Tuned' is not defined"
     ]
    }
   ],
   "source": [
    "NaiveBayes_binary_classification_Tuned(w2vX_train, w2vy_train, w2vX_test, w2vy_test)"
   ]
  },
  {
   "cell_type": "code",
   "execution_count": null,
   "metadata": {},
   "outputs": [],
   "source": [
    "Decision_Tree_binary_classification_Tuned(w2vX_train, w2vy_train, w2vX_test, w2vy_test)"
   ]
  },
  {
   "cell_type": "code",
   "execution_count": null,
   "metadata": {},
   "outputs": [],
   "source": [
    "XgBoost_binary_classification_Tuned(w2vX_train, w2vy_train, w2vX_test, w2vy_test)"
   ]
  },
  {
   "cell_type": "markdown",
   "metadata": {},
   "source": [
    "## Using Gensim"
   ]
  },
  {
   "cell_type": "code",
   "execution_count": null,
   "metadata": {},
   "outputs": [],
   "source": [
    "## https://www.guru99.com/word-embedding-word2vec.html\n",
    "## https://medium.com/swlh/sentiment-classification-using-word-embeddings-word2vec-aedf28fbb8ca\n",
    "## https://www.geeksforgeeks.org/python-word-embedding-using-word2vec/\n",
    "## https://www.kaggle.com/sahib12/document-embedding-techniques"
   ]
  },
  {
   "cell_type": "code",
   "execution_count": 12,
   "metadata": {},
   "outputs": [],
   "source": [
    "import gensim\n",
    "from gensim.models import Word2Vec"
   ]
  },
  {
   "cell_type": "code",
   "execution_count": 13,
   "metadata": {},
   "outputs": [],
   "source": [
    "def tokenize(x):\n",
    "    x= TextBlob(str(x)).words\n",
    "    return x\n",
    "df['Review Text w2v']=df['Review Text Precrocessed'].apply(lambda x: tokenize(x))"
   ]
  },
  {
   "cell_type": "code",
   "execution_count": 14,
   "metadata": {},
   "outputs": [
    {
     "data": {
      "text/plain": [
       "WordList(['absolutely', 'wonderful', 'silky', 'and', 'sexy', 'and', 'comfortable'])"
      ]
     },
     "execution_count": 14,
     "metadata": {},
     "output_type": "execute_result"
    }
   ],
   "source": [
    "df['Review Text w2v'].iloc[0]"
   ]
  },
  {
   "cell_type": "code",
   "execution_count": 15,
   "metadata": {},
   "outputs": [],
   "source": [
    "#pip install gensim --user"
   ]
  },
  {
   "cell_type": "code",
   "execution_count": 17,
   "metadata": {},
   "outputs": [],
   "source": [
    "model = Word2Vec(df['Review Text w2v'], size=10, window=50, min_count=30, workers=10, sg=0, iter=200)"
   ]
  },
  {
   "cell_type": "code",
   "execution_count": 1,
   "metadata": {},
   "outputs": [
    {
     "ename": "NameError",
     "evalue": "name 'model' is not defined",
     "output_type": "error",
     "traceback": [
      "\u001b[1;31m---------------------------------------------------------------------------\u001b[0m",
      "\u001b[1;31mNameError\u001b[0m                                 Traceback (most recent call last)",
      "\u001b[1;32m<ipython-input-1-1f8a688cae5d>\u001b[0m in \u001b[0;36m<module>\u001b[1;34m\u001b[0m\n\u001b[1;32m----> 1\u001b[1;33m \u001b[0mmodel\u001b[0m\u001b[1;33m\u001b[0m\u001b[1;33m\u001b[0m\u001b[0m\n\u001b[0m",
      "\u001b[1;31mNameError\u001b[0m: name 'model' is not defined"
     ]
    }
   ],
   "source": [
    "model"
   ]
  },
  {
   "cell_type": "code",
   "execution_count": null,
   "metadata": {},
   "outputs": [],
   "source": [
    "def document_vector(doc):\n",
    "    \"\"\"Create document vectors by averaging word vectors. Remove out-of-vocabulary words.\"\"\"\n",
    "    doc = [word for word in doc if word in model.wv.vocab]\n",
    "    return np.mean(model[doc], axis=0)\n",
    "\n",
    "\n",
    "df['doc_vector'] = df['Review Text w2v'].apply(document_vector)\n",
    "#test['doc_vector'] = df['Review Text w2v'].apply(document_vector)\n"
   ]
  },
  {
   "cell_type": "code",
   "execution_count": 20,
   "metadata": {},
   "outputs": [
    {
     "data": {
      "text/plain": [
       "array([ 6.03829086e-01,  1.96059570e-01,  7.80915380e-01,  8.91746819e-01,\n",
       "        9.69782829e-01,  1.75955021e+00, -1.67067063e+00,  1.20490432e-01,\n",
       "        5.40522635e-01, -1.05649316e+00,  1.17294721e-01,  1.34982258e-01,\n",
       "       -4.18544769e-01, -4.24237937e-01, -9.92986023e-01, -4.71443385e-01,\n",
       "        1.27692854e+00, -1.20579457e+00,  1.21590638e+00, -7.13016987e-01,\n",
       "        3.57487112e-01, -6.01819038e-01, -6.86291039e-01, -5.56152761e-01,\n",
       "       -1.19293487e+00, -2.01236829e-01,  8.25563133e-01, -1.40333045e+00,\n",
       "        3.53127003e-01,  2.06574291e-01, -8.28815341e-01,  5.44629157e-01,\n",
       "       -2.69929737e-01,  1.62477767e+00,  1.10599980e-01,  1.06797583e-01,\n",
       "       -5.24778306e-01, -4.44484532e-01,  4.06017035e-01, -1.41583812e+00,\n",
       "        1.11938977e+00,  1.77339768e+00,  1.41726628e-01,  1.75510681e+00,\n",
       "        1.34429061e+00,  1.62920082e+00,  1.20786071e+00, -9.61580455e-01,\n",
       "       -8.46450686e-01,  8.07452559e-01, -5.95734239e-01, -3.36376667e-01,\n",
       "        3.06574911e-01, -8.25046539e-01,  2.40506440e-01,  4.49172497e-01,\n",
       "        2.53405988e-01, -9.17692065e-01,  3.63269895e-01, -4.54962730e-01,\n",
       "       -3.50309104e-01,  3.63158435e-01,  5.37432954e-02,  2.84981996e-01,\n",
       "       -9.59010497e-02,  1.29263186e+00, -4.08667140e-02,  9.64929581e-01,\n",
       "        7.28888884e-02, -5.00971437e-01, -3.85169648e-02, -9.08912957e-01,\n",
       "       -8.14553618e-01, -1.15557826e+00, -2.20792624e-03,  1.45768738e+00,\n",
       "       -1.33455142e-01,  1.19661689e-01,  4.01149839e-01, -1.52120841e+00,\n",
       "        1.60627258e+00,  1.22398770e+00,  6.22374058e-01,  5.72202682e-01,\n",
       "       -1.07137609e+00, -1.08059442e+00, -8.04680407e-01, -1.04880321e+00,\n",
       "       -6.77688479e-01,  5.34065783e-01,  5.28378665e-01,  3.55028301e-01,\n",
       "       -7.90534616e-01,  2.90722512e-02, -4.89653535e-02,  2.54450440e-02,\n",
       "        1.07812896e-01, -8.83821487e-01, -1.39577115e+00, -9.49040055e-01,\n",
       "       -1.89115608e+00, -6.87210914e-03, -5.11279821e-01, -1.42818379e+00,\n",
       "       -9.23453331e-01,  1.71150312e-01,  4.80293036e-01,  1.07352948e+00,\n",
       "       -1.66209430e-01, -1.18906963e+00, -6.66630626e-01,  9.00540173e-01,\n",
       "       -3.48852128e-01, -1.74181807e+00, -8.11279297e-01, -7.61716068e-01,\n",
       "        1.04359210e+00, -2.82298774e-01,  8.52116108e-01, -2.99897969e-01,\n",
       "        2.89279401e-01,  4.96867955e-01,  2.20286870e+00, -1.58092570e+00,\n",
       "        5.91159284e-01, -6.11435510e-02, -5.66037774e-01, -1.96317241e-01,\n",
       "        1.86289102e-02, -2.40438864e-01,  2.79842280e-02, -4.49463308e-01,\n",
       "        1.12255001e+00, -5.48431218e-01,  6.94610596e-01,  5.41786313e-01,\n",
       "        5.03053606e-01, -1.29224682e+00,  6.02768004e-01,  7.96802104e-01,\n",
       "       -9.01073456e-01,  7.90463567e-01,  7.59442329e-01,  9.63172376e-01,\n",
       "       -7.08898306e-02, -8.93639863e-01,  2.23519765e-02, -9.46715057e-01,\n",
       "       -4.49315637e-01,  2.18770236e-01, -6.93569005e-01, -1.74135730e-01,\n",
       "       -1.86231822e-01,  2.62033075e-01,  3.04598004e-01,  6.39104962e-01,\n",
       "       -7.37216100e-02, -1.51857817e+00, -1.59037375e+00,  1.43565762e+00,\n",
       "       -3.66592795e-01,  3.03389251e-01,  9.34813321e-01, -7.59477973e-01,\n",
       "       -2.93704689e-01,  4.21416581e-01,  3.95916790e-01, -1.71679688e+00,\n",
       "       -1.55795515e+00, -1.29388011e+00, -3.97657931e-01, -2.91101861e+00,\n",
       "        1.14870012e+00, -6.20575249e-01, -5.40236058e-03, -1.86643630e-01,\n",
       "       -1.22112060e+00,  3.88437778e-01,  3.16775590e-01, -1.34067810e+00,\n",
       "        5.56264997e-01,  1.25215948e+00, -8.49337995e-01, -8.31409812e-01,\n",
       "       -9.75576401e-01,  2.36317068e-01, -1.37038171e+00, -1.97376296e-01,\n",
       "       -1.11376560e+00, -3.24916810e-01,  7.63281345e-01, -8.06163967e-01,\n",
       "        1.55708063e+00,  8.82798791e-01, -4.48036492e-01, -7.18705133e-02,\n",
       "       -2.89882392e-01, -6.71538487e-02,  5.60967922e-01,  2.23516561e-02,\n",
       "        8.24244693e-02,  8.00329268e-01, -9.30677354e-01,  6.13629222e-01,\n",
       "        7.43352547e-02, -4.57616806e-01, -3.33389342e-01, -3.15734625e-01,\n",
       "       -2.87733048e-01, -4.21230316e-01, -8.92396390e-01,  1.23836242e-01,\n",
       "       -1.28961527e+00,  1.94180846e-01, -1.23992169e+00, -3.37494850e-01,\n",
       "        1.33469307e+00, -4.10893857e-01,  1.60125881e-01,  4.32717174e-01,\n",
       "        9.96739507e-01,  9.07895625e-01,  4.04785305e-01,  7.91039467e-01,\n",
       "        1.02257240e+00, -6.33960187e-01, -4.05175507e-01, -3.09682310e-01,\n",
       "        5.88536300e-02, -1.85749435e+00,  4.61493969e-01,  5.13584495e-01,\n",
       "        7.46104568e-02, -1.14206538e-01,  3.68994921e-01,  1.11516535e+00,\n",
       "        9.12496150e-01,  2.01975918e+00, -2.08108559e-01,  6.60389841e-01,\n",
       "       -4.62107748e-01, -4.25869972e-01,  1.04778302e+00, -1.80780518e+00,\n",
       "       -5.83793640e-01, -8.31995964e-01, -3.06370884e-01, -4.67751265e-01,\n",
       "        6.68957904e-02, -4.72277224e-01,  1.81594580e-01,  1.21314442e+00,\n",
       "        4.24426317e-01,  2.76308000e-01, -8.64108205e-02,  7.39072919e-01,\n",
       "       -1.70235038e+00,  1.15257800e+00, -3.13720196e-01,  3.80008161e-01,\n",
       "        5.84523320e-01, -4.53930110e-01,  3.61160129e-01, -6.22937202e-01,\n",
       "        1.20619977e+00,  1.37977386e+00, -2.54935890e-01, -6.87915012e-02,\n",
       "       -1.87752903e+00, -3.91022488e-02, -1.37124956e+00, -3.41133177e-01,\n",
       "        5.31113483e-02, -4.87203360e-01, -2.03013206e+00, -4.29969728e-01,\n",
       "        2.97213078e-01,  6.52318358e-01, -1.27813503e-01, -4.63807523e-01,\n",
       "       -2.10728139e-01,  2.82208771e-01, -1.30213529e-01, -1.24871634e-01,\n",
       "       -6.14231408e-01, -9.19963717e-01, -1.38567865e+00, -1.41652012e+00,\n",
       "       -1.46497917e+00,  1.13165712e+00,  1.64564863e-01,  4.14624631e-01,\n",
       "        5.03969789e-01,  4.25091326e-01,  1.35563099e+00, -3.64758193e-01,\n",
       "       -2.56732285e-01,  1.07378805e+00,  2.14215785e-01,  5.67390501e-01,\n",
       "        2.07907502e-02,  2.06017509e-01,  4.28038806e-01, -1.48680556e+00,\n",
       "       -9.59314883e-01,  4.51311857e-01,  9.73853946e-01, -1.22428715e+00,\n",
       "        1.32427049e+00, -1.72829497e+00, -1.93157986e-01,  6.37728572e-01,\n",
       "       -4.76927102e-01,  6.75875187e-01,  2.74775714e-01,  2.57675767e-01,\n",
       "       -6.42397106e-01, -1.18174326e+00, -1.34442115e+00, -1.02704585e+00,\n",
       "        2.24789932e-01, -1.39066324e-01,  1.04945250e-01, -2.86615640e-01,\n",
       "        7.45985985e-01, -6.63043916e-01,  6.94220662e-01,  9.08789933e-01,\n",
       "        4.21286643e-01,  4.28229064e-01,  8.70683372e-01, -3.68695527e-01,\n",
       "        1.48838258e+00, -4.94958192e-01,  1.29956722e+00, -9.11134601e-01,\n",
       "        4.44629520e-01, -5.03411412e-01,  5.08967116e-02, -5.64661324e-01,\n",
       "        1.73187637e+00, -1.04105270e+00, -5.53975880e-01, -1.75212964e-01,\n",
       "       -8.66576850e-01, -6.29692197e-01, -6.86291456e-02, -1.20212996e+00,\n",
       "       -6.88212454e-01, -3.63111913e-01,  5.26050389e-01,  5.42986929e-01,\n",
       "       -6.27317905e-01,  4.20701295e-01, -9.04529989e-01, -2.57630038e+00,\n",
       "       -7.51113355e-01,  6.21629119e-01, -1.87751889e-01, -9.35547829e-01,\n",
       "        1.18015420e+00, -2.42563754e-01, -1.29688609e+00,  8.92479539e-01,\n",
       "        4.17821743e-02, -1.68525353e-01, -3.56450081e-02, -9.77014065e-01,\n",
       "        1.14788985e+00,  9.95356441e-01,  5.51248372e-01, -3.75548787e-02,\n",
       "       -3.46483253e-02,  1.40499726e-01, -6.80234432e-01, -2.68964261e-01,\n",
       "       -1.61640847e+00,  8.14825445e-02,  6.30283177e-01,  1.04098730e-01,\n",
       "        5.13299033e-02,  1.02738833e+00, -6.80936217e-01, -1.03231454e+00,\n",
       "        1.47704828e+00, -3.48498523e-01,  4.34667796e-01,  6.13212250e-02,\n",
       "        2.35748842e-01, -1.48243272e+00,  1.53537542e-01,  9.05654550e-01,\n",
       "       -6.34248614e-01, -1.00789249e+00, -6.22651994e-01, -1.43122494e+00,\n",
       "        1.65991044e+00, -1.72526765e+00,  8.94959748e-01, -4.06527370e-01,\n",
       "        4.25537884e-01, -2.03069642e-01, -2.84839869e-02, -1.74830601e-01,\n",
       "        3.52007337e-02,  5.09733796e-01, -9.44767833e-01, -9.86205995e-01,\n",
       "       -6.20308295e-02,  4.90067214e-01,  1.35251924e-01, -2.70382822e-01,\n",
       "        5.63679576e-01, -3.84368487e-02,  1.48653239e-01, -8.88646990e-02,\n",
       "        4.42678928e-01, -5.89720368e-01,  9.22007859e-01, -1.33981621e+00,\n",
       "        1.55309236e+00, -1.36157835e+00, -5.18310249e-01,  4.73456383e-01,\n",
       "        2.04948023e-01, -1.37671006e+00,  1.09199035e+00,  1.01214612e+00,\n",
       "        9.09632444e-02, -1.12008905e+00,  7.90505469e-01, -8.44253674e-02,\n",
       "        1.08079159e+00, -5.16267657e-01, -1.55264461e+00, -4.41260278e-01,\n",
       "        6.70016780e-02,  1.90417230e+00,  6.21630549e-02,  3.80367130e-01,\n",
       "       -6.67310178e-01, -8.56138766e-01,  5.17948344e-02, -2.86151618e-01,\n",
       "       -7.46062756e-01,  1.12836397e+00, -4.28500950e-01,  5.97215831e-01,\n",
       "        4.49870735e-01, -2.71659553e-01,  3.45415622e-01,  5.61434627e-01,\n",
       "        3.07085574e-01, -3.57487649e-01, -8.33348393e-01,  9.36435163e-01,\n",
       "        3.76241833e-01,  7.05968320e-01, -9.01247442e-01,  6.07490659e-01,\n",
       "        4.06468332e-01,  1.52531832e-01,  5.74981511e-01, -2.03561521e+00,\n",
       "        5.41145623e-01, -9.55261767e-01,  1.28872764e+00, -2.65898436e-01,\n",
       "       -8.16324770e-01,  1.45315841e-01,  2.27753878e-01,  1.02118218e+00,\n",
       "       -1.15711145e-01,  3.64970058e-01,  7.47026086e-01, -8.11397582e-02,\n",
       "        1.29302227e+00,  1.47254264e+00,  4.50651139e-01, -3.28492880e-01,\n",
       "       -1.95575818e-01,  3.85616757e-02, -3.63430023e-01,  1.69775355e+00,\n",
       "        8.38463366e-01, -3.48781407e-01,  9.87985492e-01, -1.00507903e+00,\n",
       "        6.71226978e-01, -1.07614708e+00, -1.33130074e+00, -6.23319328e-01,\n",
       "        3.82909060e-01,  8.41972232e-01,  4.86320287e-01,  8.58477652e-01,\n",
       "        1.07891405e+00,  4.02766675e-01, -7.87628144e-02,  3.87015194e-01,\n",
       "       -9.91126299e-02,  7.99825788e-01, -4.16578390e-02,  2.31269643e-01,\n",
       "       -2.72071540e-01, -5.89970529e-01,  3.03191453e-01, -1.40581810e+00,\n",
       "        2.93448061e-01,  3.92475039e-01, -6.99163437e-01,  1.24583948e+00,\n",
       "        4.14855808e-01,  2.21958309e-01,  6.19162560e-01, -9.10248637e-01,\n",
       "       -1.10304904e+00,  1.09599340e+00,  8.77011597e-01,  2.91316032e-01,\n",
       "       -1.79463729e-01, -6.32200897e-01,  3.86530347e-02, -3.68111998e-01,\n",
       "       -1.47318709e+00,  1.07433009e+00,  3.49185973e-01,  3.20171773e-01,\n",
       "       -5.59401438e-02,  1.50013816e+00,  2.38797501e-01,  4.62355286e-01,\n",
       "        2.77118623e-01,  1.59683728e+00, -9.88629311e-02, -5.04281461e-01,\n",
       "        4.57053900e-01,  2.64846593e-01, -6.39947429e-02,  9.19210553e-01,\n",
       "        4.77912098e-01, -1.48407650e+00,  6.19599938e-01,  4.51872408e-01,\n",
       "       -3.80682975e-01, -1.24717426e+00,  5.48110127e-01, -8.47047269e-01,\n",
       "        1.41934529e-01,  8.17172676e-02], dtype=float32)"
      ]
     },
     "execution_count": 20,
     "metadata": {},
     "output_type": "execute_result"
    }
   ],
   "source": [
    "df['doc_vector'].iloc[0]"
   ]
  },
  {
   "cell_type": "code",
   "execution_count": null,
   "metadata": {},
   "outputs": [],
   "source": [
    "X = list(df['doc_vector']).shape"
   ]
  },
  {
   "cell_type": "code",
   "execution_count": 22,
   "metadata": {},
   "outputs": [],
   "source": [
    "w2v_Y=df['Label']\n",
    "w2v_X=X\n",
    "w2vX_train, w2vX_test, w2vy_train, w2vy_test = train_test_split(w2v_X,w2v_Y, test_size=.20, random_state=101)"
   ]
  },
  {
   "cell_type": "code",
   "execution_count": 23,
   "metadata": {},
   "outputs": [
    {
     "name": "stdout",
     "output_type": "stream",
     "text": [
      "[[ 457  574]\n",
      " [ 115 3383]]\n",
      "              precision    recall  f1-score   support\n",
      "\n",
      "           0       0.80      0.44      0.57      1031\n",
      "           1       0.85      0.97      0.91      3498\n",
      "\n",
      "    accuracy                           0.85      4529\n",
      "   macro avg       0.83      0.71      0.74      4529\n",
      "weighted avg       0.84      0.85      0.83      4529\n",
      "\n",
      "Accuracy Score: 0.8478692868182822\n",
      "F1 Score: 0.9075788061703556\n",
      "Average precision-recall score: 0.8522255633874495\n"
     ]
    },
    {
     "data": {
      "image/png": "[encoded data removed]",
      "text/plain": [
       "<Figure size 432x288 with 1 Axes>"
      ]
     },
     "metadata": {
      "needs_background": "light"
     },
     "output_type": "display_data"
    },
    {
     "name": "stdout",
     "output_type": "stream",
     "text": [
      "Area Under Curve: 0.92\n"
     ]
    },
    {
     "name": "stderr",
     "output_type": "stream",
     "text": [
      "<ipython-input-10-d3da9126ecf1>:58: MatplotlibDeprecationWarning: Adding an axes using the same arguments as a previous axes currently reuses the earlier instance.  In a future version, a new instance will always be created and returned.  Meanwhile, this warning can be suppressed, and the future behavior ensured, by passing a unique label to each axes instance.\n",
      "  plt.axes().set_aspect('equal')\n"
     ]
    },
    {
     "data": {
      "image/png": "[encoded data removed]",
      "text/plain": [
       "<Figure size 432x288 with 1 Axes>"
      ]
     },
     "metadata": {
      "needs_background": "light"
     },
     "output_type": "display_data"
    },
    {
     "name": "stderr",
     "output_type": "stream",
     "text": [
      "<ipython-input-10-d3da9126ecf1>:16: MatplotlibDeprecationWarning: Adding an axes using the same arguments as a previous axes currently reuses the earlier instance.  In a future version, a new instance will always be created and returned.  Meanwhile, this warning can be suppressed, and the future behavior ensured, by passing a unique label to each axes instance.\n",
      "  plt.axes().set_aspect('equal')\n"
     ]
    },
    {
     "data": {
      "image/png": "[encoded data removed]",
      "text/plain": [
       "<Figure size 432x288 with 1 Axes>"
      ]
     },
     "metadata": {
      "needs_background": "light"
     },
     "output_type": "display_data"
    },
    {
     "data": {
      "text/plain": [
       "(array([[ 457,  574],\n",
       "        [ 115, 3383]], dtype=int64),\n",
       " '              precision    recall  f1-score   support\\n\\n           0       0.80      0.44      0.57      1031\\n           1       0.85      0.97      0.91      3498\\n\\n    accuracy                           0.85      4529\\n   macro avg       0.83      0.71      0.74      4529\\nweighted avg       0.84      0.85      0.83      4529\\n')"
      ]
     },
     "execution_count": 23,
     "metadata": {},
     "output_type": "execute_result"
    }
   ],
   "source": [
    "RandomForestBinaryClassifier(w2vX_train, w2vy_train, w2vX_test, w2vy_test)"
   ]
  },
  {
   "cell_type": "code",
   "execution_count": null,
   "metadata": {},
   "outputs": [],
   "source": [
    "RandomForestBinaryClassifierTuned(w2vX_train, w2vy_train, w2vX_test, w2vy_test, 300)"
   ]
  },
  {
   "cell_type": "code",
   "execution_count": 24,
   "metadata": {},
   "outputs": [
    {
     "name": "stdout",
     "output_type": "stream",
     "text": [
      "[[ 705  326]\n",
      " [ 200 3298]]\n",
      "              precision    recall  f1-score   support\n",
      "\n",
      "           0       0.78      0.68      0.73      1031\n",
      "           1       0.91      0.94      0.93      3498\n",
      "\n",
      "    accuracy                           0.88      4529\n",
      "   macro avg       0.84      0.81      0.83      4529\n",
      "weighted avg       0.88      0.88      0.88      4529\n",
      "\n",
      "Accuracy Score: 0.8838595716493707\n",
      "F1 Score: 0.9261443414771132\n",
      "Average precision-recall score: 0.9021717532179027\n"
     ]
    },
    {
     "name": "stderr",
     "output_type": "stream",
     "text": [
      "C:\\ProgramData\\Anaconda3\\lib\\site-packages\\sklearn\\linear_model\\_logistic.py:762: ConvergenceWarning: lbfgs failed to converge (status=1):\n",
      "STOP: TOTAL NO. of ITERATIONS REACHED LIMIT.\n",
      "\n",
      "Increase the number of iterations (max_iter) or scale the data as shown in:\n",
      "    https://scikit-learn.org/stable/modules/preprocessing.html\n",
      "Please also refer to the documentation for alternative solver options:\n",
      "    https://scikit-learn.org/stable/modules/linear_model.html#logistic-regression\n",
      "  n_iter_i = _check_optimize_result(\n"
     ]
    },
    {
     "data": {
      "image/png": "[encoded data removed]",
      "text/plain": [
       "<Figure size 432x288 with 1 Axes>"
      ]
     },
     "metadata": {
      "needs_background": "light"
     },
     "output_type": "display_data"
    },
    {
     "name": "stderr",
     "output_type": "stream",
     "text": [
      "<ipython-input-10-d3da9126ecf1>:58: MatplotlibDeprecationWarning: Adding an axes using the same arguments as a previous axes currently reuses the earlier instance.  In a future version, a new instance will always be created and returned.  Meanwhile, this warning can be suppressed, and the future behavior ensured, by passing a unique label to each axes instance.\n",
      "  plt.axes().set_aspect('equal')\n"
     ]
    },
    {
     "name": "stdout",
     "output_type": "stream",
     "text": [
      "Area Under Curve: 0.95\n"
     ]
    },
    {
     "data": {
      "image/png": "[encoded data removed]",
      "text/plain": [
       "<Figure size 432x288 with 1 Axes>"
      ]
     },
     "metadata": {
      "needs_background": "light"
     },
     "output_type": "display_data"
    },
    {
     "name": "stderr",
     "output_type": "stream",
     "text": [
      "<ipython-input-10-d3da9126ecf1>:16: MatplotlibDeprecationWarning: Adding an axes using the same arguments as a previous axes currently reuses the earlier instance.  In a future version, a new instance will always be created and returned.  Meanwhile, this warning can be suppressed, and the future behavior ensured, by passing a unique label to each axes instance.\n",
      "  plt.axes().set_aspect('equal')\n"
     ]
    },
    {
     "data": {
      "image/png": "[encoded data removed]",
      "text/plain": [
       "<Figure size 432x288 with 1 Axes>"
      ]
     },
     "metadata": {
      "needs_background": "light"
     },
     "output_type": "display_data"
    },
    {
     "data": {
      "text/plain": [
       "(array([[ 705,  326],\n",
       "        [ 200, 3298]], dtype=int64),\n",
       " '              precision    recall  f1-score   support\\n\\n           0       0.78      0.68      0.73      1031\\n           1       0.91      0.94      0.93      3498\\n\\n    accuracy                           0.88      4529\\n   macro avg       0.84      0.81      0.83      4529\\nweighted avg       0.88      0.88      0.88      4529\\n')"
      ]
     },
     "execution_count": 24,
     "metadata": {},
     "output_type": "execute_result"
    }
   ],
   "source": [
    "LogisticRegression_binary_classification(w2vX_train, w2vy_train, w2vX_test, w2vy_test)"
   ]
  },
  {
   "cell_type": "code",
   "execution_count": null,
   "metadata": {},
   "outputs": [],
   "source": [
    "Decision_Tree_binary_classification_Tuned(w2vX_train, w2vy_train, w2vX_test, w2vy_test)"
   ]
  },
  {
   "cell_type": "code",
   "execution_count": null,
   "metadata": {},
   "outputs": [],
   "source": [
    "XgBoost_binary_classification_Tuned(w2vX_train, w2vy_train, w2vX_test, w2vy_test)"
   ]
  },
  {
   "cell_type": "markdown",
   "metadata": {},
   "source": [
    "## Reprsentation "
   ]
  },
  {
   "cell_type": "code",
   "execution_count": 15,
   "metadata": {},
   "outputs": [
    {
     "data": {
      "text/plain": [
       "{'love': ['beautiful', 'adore', 'gorgeous', 'amazing', 'cute'],\n",
       " 'top': ['blouse', 'shirt', 'tank', 'peplum', 'cami'],\n",
       " 'dress': ['wedding', 'slip', 'occasion', 'jumpsuit', 'shift'],\n",
       " 'hate': ['currently', 'people', 'strange', 'wrinkly', 'relaxed'],\n",
       " 'color': ['shade', 'blue', 'red', 'print', 'grey'],\n",
       " 'winter': ['summer', 'weather', 'bootie', 'season', 'sweater'],\n",
       " 'most': ['many', 'other', 'normally', 'usually', 'favorite'],\n",
       " 'wear': ['get', 'throw', 'layer', 'rock', 'use']}"
      ]
     },
     "execution_count": 15,
     "metadata": {},
     "output_type": "execute_result"
    }
   ],
   "source": [
    "similar_words = {search_term: [item[0] for item in model.wv.most_similar([search_term], topn=5)]\n",
    "                  for search_term in ['love', 'top', 'dress', 'hate', 'color', 'winter', 'most','wear']}\n",
    "similar_words"
   ]
  },
  {
   "cell_type": "code",
   "execution_count": null,
   "metadata": {},
   "outputs": [],
   "source": [
    "from sklearn.manifold import TSNE\n",
    "\n",
    "words = sum([[k] + v for k, v in similar_words.items()], [])\n",
    "wvs = model.wv[words]\n",
    "\n",
    "tsne = TSNE(n_components=2, random_state=0, n_iter=10000, perplexity=2)\n",
    "np.set_printoptions(suppress=True)\n",
    "T = tsne.fit_transform(wvs)\n",
    "labels = words\n",
    "\n",
    "plt.figure(figsize=(14, 8))\n",
    "plt.scatter(T[:, 0], T[:, 1], c='orange', edgecolors='r')\n",
    "for label, x, y in zip(labels, T[:, 0], T[:, 1]):\n",
    "    plt.annotate(label, xy=(x+1, y+1), xytext=(0, 0), textcoords='offset points')"
   ]
  },
  {
   "cell_type": "code",
   "execution_count": 16,
   "metadata": {},
   "outputs": [],
   "source": [
    "unique_words = list(set([word for sublist in [doc.split() for doc in df['Review Text Precrocessed']] for word in sublist]))"
   ]
  },
  {
   "cell_type": "code",
   "execution_count": 17,
   "metadata": {},
   "outputs": [
    {
     "data": {
      "text/plain": [
       "11493"
      ]
     },
     "execution_count": 17,
     "metadata": {},
     "output_type": "execute_result"
    }
   ],
   "source": [
    "len(unique_words)"
   ]
  },
  {
   "cell_type": "code",
   "execution_count": 18,
   "metadata": {},
   "outputs": [
    {
     "data": {
      "text/plain": [
       "['prisoner',\n",
       " 'attention',\n",
       " 'hindsight',\n",
       " 'skinnys',\n",
       " 'measument',\n",
       " 'bedelia',\n",
       " 'monogram',\n",
       " 'pig',\n",
       " 'ia',\n",
       " 'bustline',\n",
       " 'favorite',\n",
       " 'lineman',\n",
       " 'zone',\n",
       " 'zigzag',\n",
       " 'amsterdam',\n",
       " 'wynwood',\n",
       " 'nike',\n",
       " 'myriad',\n",
       " 'ashley',\n",
       " 'portray',\n",
       " 'safari',\n",
       " 'rt',\n",
       " 'live',\n",
       " 'tmie',\n",
       " 'secondhand',\n",
       " 'drappy',\n",
       " 'nat',\n",
       " 'cream',\n",
       " 'ands',\n",
       " 'sage',\n",
       " 'sunset',\n",
       " 'tig',\n",
       " 'sloppy',\n",
       " 'god',\n",
       " 'naomi',\n",
       " 'sabrina',\n",
       " 'bout',\n",
       " 'barney',\n",
       " 'cheste',\n",
       " 'brught',\n",
       " 'wee',\n",
       " 'impeccable',\n",
       " 'freezer',\n",
       " 'consolation',\n",
       " 'intricately',\n",
       " 'generaly',\n",
       " 'town',\n",
       " 'preferred',\n",
       " '180',\n",
       " 'flea',\n",
       " 'shearliing',\n",
       " 'jessica',\n",
       " 'smack',\n",
       " 'stitch',\n",
       " 'mesmerize',\n",
       " 'inconsistent',\n",
       " '17',\n",
       " 'reverse',\n",
       " 'tiger',\n",
       " 'spare',\n",
       " 'pry',\n",
       " 'imlove',\n",
       " 'busy',\n",
       " 'overhang',\n",
       " 'remove',\n",
       " 'delaney',\n",
       " 'junior',\n",
       " '128',\n",
       " 'browns',\n",
       " 'hose',\n",
       " 'deodorant',\n",
       " 'pintuck',\n",
       " 'norm',\n",
       " 'resist',\n",
       " 'madra',\n",
       " 'asser',\n",
       " 'loosly',\n",
       " 'pantyhose',\n",
       " 'cutter',\n",
       " 'game',\n",
       " 'strecthy',\n",
       " 'duller',\n",
       " 'baby',\n",
       " 'uncle',\n",
       " 'enjoy',\n",
       " 'loungin',\n",
       " 'torsoed',\n",
       " '1st',\n",
       " 'gaping',\n",
       " 'slimming',\n",
       " 'funky',\n",
       " 'matieral',\n",
       " 'newbury',\n",
       " 'tutu',\n",
       " 'mullet',\n",
       " 'beauitiful',\n",
       " 'hiking',\n",
       " 'chandelier',\n",
       " 'fulle',\n",
       " 'darle',\n",
       " 'minimalistic',\n",
       " 'debut',\n",
       " 'take',\n",
       " 'large',\n",
       " 'trepidation',\n",
       " 'minimally',\n",
       " 'toggle',\n",
       " 'dc',\n",
       " 'menti',\n",
       " '135',\n",
       " 'but',\n",
       " 'ripple',\n",
       " 'suppre',\n",
       " 'touching',\n",
       " 'light',\n",
       " 'securing',\n",
       " 'subsequently',\n",
       " 'sexified',\n",
       " 'featured',\n",
       " 'slighty',\n",
       " 'shingle',\n",
       " 'invite',\n",
       " 'dad',\n",
       " 'lola',\n",
       " 'perspiration',\n",
       " 'family',\n",
       " 'necessa',\n",
       " 'eternal',\n",
       " 'withhold',\n",
       " 'build',\n",
       " 'minority',\n",
       " 'kimonos',\n",
       " 'nudist',\n",
       " 'furthe',\n",
       " 'itnende',\n",
       " 'reviews',\n",
       " '30ddd',\n",
       " 'trough',\n",
       " 'format',\n",
       " 'lovelier',\n",
       " 'weightiness',\n",
       " 'boxine',\n",
       " 'swish',\n",
       " 'continuously',\n",
       " 'flatering',\n",
       " 'typically',\n",
       " 'uniform',\n",
       " 'undnerneath',\n",
       " 'epice',\n",
       " 'sienna',\n",
       " 'wick',\n",
       " 'beauti',\n",
       " 'southwest',\n",
       " 'accessorizing',\n",
       " 'enthusiast',\n",
       " 'no',\n",
       " 'timeless',\n",
       " 'irvine',\n",
       " 'seatbelt',\n",
       " 'deteriorate',\n",
       " 'hurry',\n",
       " 'project',\n",
       " 'returnable',\n",
       " 'component',\n",
       " 'circumstance',\n",
       " 'nephew',\n",
       " 'tushy',\n",
       " 'eq',\n",
       " 'always',\n",
       " 'beyond',\n",
       " 'mismarke',\n",
       " 'attractive',\n",
       " 'huuuge',\n",
       " 'vinta',\n",
       " 'unattache',\n",
       " 'vibe',\n",
       " 'darting',\n",
       " 'inwonderland',\n",
       " 'considering',\n",
       " 'embroider',\n",
       " 'fabulously',\n",
       " 'hwy',\n",
       " 'ethnic',\n",
       " 'tie',\n",
       " 'everyday',\n",
       " 'bearable',\n",
       " 'gambl',\n",
       " 'escalante',\n",
       " 'gogo',\n",
       " 'diss',\n",
       " 'stirrup',\n",
       " 'fattiness',\n",
       " 'nitpick',\n",
       " 'ugg',\n",
       " 'specifically',\n",
       " 'transitioning',\n",
       " 'fusible',\n",
       " 'tu',\n",
       " 'bare',\n",
       " 'customizable',\n",
       " 'trusty',\n",
       " '220lbs',\n",
       " 'wrardrobe',\n",
       " 'cutesy',\n",
       " 'inspire',\n",
       " 'artfully',\n",
       " 'abundant',\n",
       " 'knuc',\n",
       " 'nemesis',\n",
       " 'race',\n",
       " '5star',\n",
       " 'orderd',\n",
       " 'eex',\n",
       " 'gett',\n",
       " '30d',\n",
       " 'boring',\n",
       " 'sway',\n",
       " 'bu',\n",
       " 'vulgar',\n",
       " 'classier',\n",
       " 'redo',\n",
       " 'security',\n",
       " 'relief',\n",
       " 'stifle',\n",
       " 'week',\n",
       " 'around',\n",
       " '36h',\n",
       " 'pleasing',\n",
       " 'muumuu',\n",
       " 'backward',\n",
       " 'dol',\n",
       " 'midway',\n",
       " 'complete',\n",
       " 'bonus',\n",
       " 'origami',\n",
       " 'slinder',\n",
       " 'dig',\n",
       " 'elide',\n",
       " 'house',\n",
       " 'versitality',\n",
       " 'contemplating',\n",
       " 'village',\n",
       " 'legginss',\n",
       " 'cash',\n",
       " 'asap',\n",
       " 'druzy',\n",
       " 'confident',\n",
       " 'glorious',\n",
       " 'looker',\n",
       " 'cape',\n",
       " 'twice',\n",
       " 'fuzzie',\n",
       " 'supima',\n",
       " 'anyhow',\n",
       " 'librarian',\n",
       " 'hps',\n",
       " 'horrific',\n",
       " 'temple',\n",
       " 'spa',\n",
       " '134lbs',\n",
       " 'rainproof',\n",
       " 'fee',\n",
       " 'alrea',\n",
       " 'korkease',\n",
       " 'alllll',\n",
       " 'claire',\n",
       " 'talle',\n",
       " 'whi',\n",
       " 'filigree',\n",
       " 'sideways',\n",
       " 'spend',\n",
       " 'broken',\n",
       " 'washer',\n",
       " 'refernce',\n",
       " 'freshman',\n",
       " 'handwoven',\n",
       " 'strive',\n",
       " 'differemt',\n",
       " 'sz4',\n",
       " 'active',\n",
       " 'popping',\n",
       " 'submit',\n",
       " 'coutour',\n",
       " 'overal',\n",
       " 'nick',\n",
       " 'uuuuggghhh',\n",
       " 'remain',\n",
       " 'glimpse',\n",
       " 'rath',\n",
       " 'neatness',\n",
       " 'chokey',\n",
       " 'friday',\n",
       " 'crafted',\n",
       " 'prefect',\n",
       " 'happy',\n",
       " 'photograph',\n",
       " 'piece',\n",
       " 'fiber',\n",
       " '37',\n",
       " 'caribbean',\n",
       " 'assurance',\n",
       " 'waited',\n",
       " 'ot',\n",
       " 'abroad',\n",
       " 'oomph',\n",
       " 'suede',\n",
       " 'bicycle',\n",
       " 'exmaple',\n",
       " 'singly',\n",
       " 'package',\n",
       " 'anticipate',\n",
       " 'sharkbite',\n",
       " 'await',\n",
       " 'cinnamon',\n",
       " 'romp',\n",
       " 'propose',\n",
       " 'excellently',\n",
       " 'eighty',\n",
       " 'worsen',\n",
       " 'reading',\n",
       " 'normally',\n",
       " '4d',\n",
       " 'miley',\n",
       " 'definetly',\n",
       " 'glide',\n",
       " 'stopping',\n",
       " 'awhile',\n",
       " 's',\n",
       " 'steamer',\n",
       " 'flavor',\n",
       " 'formfitting',\n",
       " 'umbrella',\n",
       " 'heavier',\n",
       " 'fellow',\n",
       " 'conspicuous',\n",
       " 'hoochie',\n",
       " 'unforgiving',\n",
       " 'swtr',\n",
       " 'pony',\n",
       " 'wretche',\n",
       " 'worrisome',\n",
       " 'turn',\n",
       " 'release',\n",
       " 'rec',\n",
       " 'lasting',\n",
       " 'conservatively',\n",
       " 'satisfaction',\n",
       " 'teenager',\n",
       " 'overhead',\n",
       " 'bottom',\n",
       " 'xtr',\n",
       " 'standing',\n",
       " 'where',\n",
       " 'anticipated',\n",
       " 'toile',\n",
       " 'yank',\n",
       " 'merino',\n",
       " 'neony',\n",
       " 'tag',\n",
       " '14',\n",
       " 'legwear',\n",
       " 'interchangeable',\n",
       " 'invest',\n",
       " 'eclectic',\n",
       " 'flowinng',\n",
       " 'for',\n",
       " 'bliss',\n",
       " 'deceive',\n",
       " 'maintenance',\n",
       " 'behold',\n",
       " 'postage',\n",
       " 'sack',\n",
       " 'still',\n",
       " 'contralaterally',\n",
       " 'swell',\n",
       " 'inaccurately',\n",
       " 'ltitle',\n",
       " 'branch',\n",
       " 'retickete',\n",
       " 'skimpy',\n",
       " 'shiny',\n",
       " 'upturned',\n",
       " 'aptly',\n",
       " 'century',\n",
       " 'snuggie',\n",
       " '36dd',\n",
       " 'conditionie',\n",
       " 'madonna',\n",
       " 'maternit',\n",
       " 'cassia',\n",
       " 'term',\n",
       " 'individual',\n",
       " 'genius',\n",
       " 'sparkle',\n",
       " 'cheapy',\n",
       " 'dramatically',\n",
       " '1930',\n",
       " 'finally',\n",
       " 'tent',\n",
       " 'braid',\n",
       " 'tedious',\n",
       " 'cotton',\n",
       " 'xxxxs',\n",
       " 'seethrough',\n",
       " 'pairs',\n",
       " 'close',\n",
       " 'understatement',\n",
       " 'itlook',\n",
       " 'nly',\n",
       " 'downside',\n",
       " 'intexas',\n",
       " 'taylor',\n",
       " 'peasant',\n",
       " 'looooove',\n",
       " 'remind',\n",
       " 'peek',\n",
       " 'thoughtful',\n",
       " 'california',\n",
       " 'appreciation',\n",
       " 'washing',\n",
       " 'zippered',\n",
       " 'sari',\n",
       " 'roc',\n",
       " 'wayyyyy',\n",
       " 'copy',\n",
       " 'tolerable',\n",
       " 'unable',\n",
       " 'technically',\n",
       " 'petal',\n",
       " 'affair',\n",
       " '42',\n",
       " 'ten',\n",
       " 'half',\n",
       " 'elongating',\n",
       " 'botih',\n",
       " 'environ',\n",
       " 'slow',\n",
       " 'ample',\n",
       " 'barley',\n",
       " 'pretyy',\n",
       " 'colorfast',\n",
       " 'familiar',\n",
       " 'pucker',\n",
       " 'huge',\n",
       " 'blossom',\n",
       " 'stetchy',\n",
       " 'fluke',\n",
       " 'clothe',\n",
       " 'perhap',\n",
       " 'drier',\n",
       " 'descriptive',\n",
       " 'groom',\n",
       " 'watermelon',\n",
       " 'defin',\n",
       " 'glendale',\n",
       " 'barbie',\n",
       " 'jack',\n",
       " 'braod',\n",
       " 'brazilian',\n",
       " 'receptionist',\n",
       " 'onl',\n",
       " 'evanthe',\n",
       " 'sungarden',\n",
       " 'assymetrical',\n",
       " 'sho',\n",
       " 'downwards',\n",
       " 'tweaking',\n",
       " 'nor',\n",
       " 'afterwards',\n",
       " 'che',\n",
       " 'originality',\n",
       " 'palce',\n",
       " 'despite',\n",
       " 'marguerite',\n",
       " 'robin',\n",
       " 'translucent',\n",
       " 'clean',\n",
       " 'shift',\n",
       " 'swimsuit',\n",
       " 'stoe',\n",
       " 'provocative',\n",
       " 'commit',\n",
       " 'either',\n",
       " '134b',\n",
       " 'differential',\n",
       " 'shininess',\n",
       " 'jeep',\n",
       " 'thruout',\n",
       " 'tideline',\n",
       " 'retailerpolog',\n",
       " 'shap',\n",
       " 'flyaway',\n",
       " 'unflattere',\n",
       " 'thy',\n",
       " 'loophole',\n",
       " 'lacing',\n",
       " 'balk',\n",
       " 'accord',\n",
       " 'aplique',\n",
       " '123lbs',\n",
       " 'success',\n",
       " 'catch',\n",
       " 'throughout',\n",
       " 'readily',\n",
       " 'unicorn',\n",
       " 'seasoned',\n",
       " 'silvery',\n",
       " 'humid',\n",
       " 'loft',\n",
       " 'greige',\n",
       " 'gill',\n",
       " 'ikat',\n",
       " 'ghost',\n",
       " 'prior',\n",
       " 'sie',\n",
       " 'know',\n",
       " 'leap',\n",
       " 'male',\n",
       " 'peekaboo',\n",
       " 'disagree',\n",
       " 'foster',\n",
       " 'mui',\n",
       " 'silkiness',\n",
       " 'bedskirt',\n",
       " 'hlde',\n",
       " 'eva',\n",
       " '2004',\n",
       " 'africa',\n",
       " 'qu',\n",
       " 'action',\n",
       " 'ebough',\n",
       " 'physique',\n",
       " 'trailered',\n",
       " 'antrhopologie',\n",
       " 'effortlessly',\n",
       " 'reflective',\n",
       " 'peplum',\n",
       " 'is',\n",
       " 'tugging',\n",
       " 'graphic',\n",
       " 'throat',\n",
       " 'sloping',\n",
       " 'momma',\n",
       " 'sleepy',\n",
       " 'vienne',\n",
       " 'goldish',\n",
       " 'november',\n",
       " 'considerably',\n",
       " 'accomplish',\n",
       " 'chamois',\n",
       " 'perc',\n",
       " 'reutn',\n",
       " 'yogi',\n",
       " 'bomber',\n",
       " 'guest',\n",
       " '125ibs',\n",
       " 'flipp',\n",
       " 'fisher',\n",
       " 'wet',\n",
       " 'burlap',\n",
       " 'blaclk',\n",
       " 'related',\n",
       " 'ope',\n",
       " 'earring',\n",
       " 'stri',\n",
       " 'saldly',\n",
       " 'ehre',\n",
       " 'nonexistent',\n",
       " 'people',\n",
       " 'glistening',\n",
       " '43',\n",
       " 'marking',\n",
       " 'chance',\n",
       " 'bingo',\n",
       " 'amenable',\n",
       " 'linkage',\n",
       " 'sublime',\n",
       " 'contributer',\n",
       " 'chart',\n",
       " 'hobby',\n",
       " 'rigid',\n",
       " 'tuc',\n",
       " 'mutton',\n",
       " 'minty',\n",
       " 'carol',\n",
       " 'kneecap',\n",
       " 'park',\n",
       " 'desperately',\n",
       " 'thanskgive',\n",
       " 'wrinkly',\n",
       " 'epite',\n",
       " 'glow',\n",
       " 'festive',\n",
       " 'shmata',\n",
       " 'honest',\n",
       " 'abnormal',\n",
       " 'ansy',\n",
       " 'plainly',\n",
       " 'fashionable',\n",
       " 'accuracy',\n",
       " 'example',\n",
       " 'this',\n",
       " 'default',\n",
       " 'bikinis',\n",
       " 'patiently',\n",
       " 'enourmous',\n",
       " 'annual',\n",
       " 'continually',\n",
       " 'loose',\n",
       " 'stack',\n",
       " 'mazing',\n",
       " 'approve',\n",
       " '00',\n",
       " 'uniquely',\n",
       " 'drawback',\n",
       " 'lavend',\n",
       " 'dobby',\n",
       " '38f',\n",
       " 'bac',\n",
       " 'putting',\n",
       " 'honey',\n",
       " 'denium',\n",
       " 'lavendar',\n",
       " 'buttah',\n",
       " 'til',\n",
       " 'sat',\n",
       " 'ouside',\n",
       " 'mottle',\n",
       " 'sof',\n",
       " 'prepregnancy',\n",
       " 'detail',\n",
       " 'dust',\n",
       " 'isthe',\n",
       " 'colwyn',\n",
       " 'oood',\n",
       " 'nouveau',\n",
       " 'toucan',\n",
       " 'nye',\n",
       " 'massively',\n",
       " 'father',\n",
       " 'claw',\n",
       " 'congratulate',\n",
       " 'wond',\n",
       " 'residual',\n",
       " 'cherish',\n",
       " 'le',\n",
       " 'wrappi',\n",
       " 'mismatched',\n",
       " 'poofy',\n",
       " 'fluevog',\n",
       " 'anorak',\n",
       " 'colsely',\n",
       " 'stare',\n",
       " 'skimming',\n",
       " 'bolero',\n",
       " 'appropriateness',\n",
       " 'cutie',\n",
       " 'sick',\n",
       " 'seafolly',\n",
       " 'lavender',\n",
       " 'mildish',\n",
       " 'sake',\n",
       " 'lrg',\n",
       " 'reference',\n",
       " 'milk',\n",
       " 'rouche',\n",
       " 'agustable',\n",
       " 'the10',\n",
       " 'means',\n",
       " 'widely',\n",
       " 'untanned',\n",
       " 'jeans',\n",
       " '50th',\n",
       " '36e',\n",
       " 'generally',\n",
       " 'intolerable',\n",
       " '143lbs',\n",
       " 'collaboration',\n",
       " 'fatty',\n",
       " 'wardrobe',\n",
       " 'cosy',\n",
       " 'inherent',\n",
       " 'hoo',\n",
       " 'abused',\n",
       " 'oklahoma',\n",
       " 'smitten',\n",
       " 'jewelery',\n",
       " '116',\n",
       " 'step',\n",
       " 'complaint',\n",
       " 'fill',\n",
       " 'polite',\n",
       " 'arrange',\n",
       " 'tooth',\n",
       " '106',\n",
       " 'fathom',\n",
       " 'ooohe',\n",
       " 'forehead',\n",
       " 'walking',\n",
       " 'largish',\n",
       " 'roar',\n",
       " 'ballgown',\n",
       " 'plu',\n",
       " 'seaso',\n",
       " 'dryclean',\n",
       " 'tumble',\n",
       " 'expectant',\n",
       " 'mask',\n",
       " 'fifth',\n",
       " 'reserve',\n",
       " 'arrive',\n",
       " '0verall',\n",
       " 'weekend',\n",
       " 'bead',\n",
       " 'warren',\n",
       " 'baggy',\n",
       " 'scratching',\n",
       " 'ageing',\n",
       " 'askedher',\n",
       " 'ravel',\n",
       " 'someday',\n",
       " 'bermudas',\n",
       " 'capped',\n",
       " 'sushi',\n",
       " '152',\n",
       " 'exaggeration',\n",
       " 'begin',\n",
       " 'haunt',\n",
       " 'dangly',\n",
       " 'appearance',\n",
       " 'seasonles',\n",
       " 'attitude',\n",
       " 'age',\n",
       " 'foamy',\n",
       " 'areturn',\n",
       " 'reweave',\n",
       " 'translation',\n",
       " 'unnoticeable',\n",
       " 'duty',\n",
       " '129',\n",
       " 'midwest',\n",
       " 'terra',\n",
       " 'twinkle',\n",
       " 'obscure',\n",
       " 'extent',\n",
       " 'ecstatic',\n",
       " 'find',\n",
       " 'preferably',\n",
       " 'rol',\n",
       " 'yield',\n",
       " 'spetite',\n",
       " 'shirter',\n",
       " 'significant',\n",
       " 'raincoat',\n",
       " 'business',\n",
       " 'bear',\n",
       " '04',\n",
       " 'wad',\n",
       " 'removable',\n",
       " 'unatural',\n",
       " 'degree',\n",
       " 'bs',\n",
       " 'startle',\n",
       " 'coveted',\n",
       " 'inadvertently',\n",
       " 'backpacker',\n",
       " '34',\n",
       " 'lenox',\n",
       " 'approximately',\n",
       " 'width',\n",
       " 'lasership',\n",
       " 'cmpliment',\n",
       " 'sp',\n",
       " 'successfully',\n",
       " 'cause',\n",
       " 'apricot',\n",
       " 'seat',\n",
       " '135lbs',\n",
       " 'ultra',\n",
       " 'rachel',\n",
       " 'recommemd',\n",
       " 'swam',\n",
       " 'additionally',\n",
       " 'hay',\n",
       " 'perso',\n",
       " 'green',\n",
       " 'edgier',\n",
       " 'neve',\n",
       " 'causal',\n",
       " 'prance',\n",
       " 'likea',\n",
       " 'realistically',\n",
       " 'strangely',\n",
       " 'mon',\n",
       " 'edge',\n",
       " 'product',\n",
       " 'tennessee',\n",
       " 'yellower',\n",
       " 'primary',\n",
       " 'sadly',\n",
       " 'seam',\n",
       " 'inever',\n",
       " 'luxuriously',\n",
       " 'letter',\n",
       " 'sihrt',\n",
       " 'improve',\n",
       " 'm',\n",
       " 'preggar',\n",
       " 'dongre',\n",
       " 'zipepr',\n",
       " 'shorty',\n",
       " 'lon',\n",
       " 'derriere',\n",
       " 'tracey',\n",
       " 'flute',\n",
       " 'accessory',\n",
       " 'larkspur',\n",
       " 'oh',\n",
       " '104lbs',\n",
       " 'droopy',\n",
       " 'southeast',\n",
       " 'sup',\n",
       " 'thanksgiving',\n",
       " 'span',\n",
       " 'deem',\n",
       " '97',\n",
       " 'openly',\n",
       " 'gravely',\n",
       " 'audrey',\n",
       " 'tire',\n",
       " '110lbs',\n",
       " 'cirque',\n",
       " 'latter',\n",
       " 'quirky',\n",
       " 'nicely',\n",
       " 'starburst',\n",
       " 'pictured',\n",
       " 'shoul',\n",
       " 'vuitton',\n",
       " 'recently',\n",
       " 'foxy',\n",
       " 'encouragement',\n",
       " 'capture',\n",
       " 'peeks',\n",
       " 'amaze',\n",
       " 'demonstrate',\n",
       " 'constraining',\n",
       " 'eprson',\n",
       " 'wrn',\n",
       " 'side',\n",
       " 'abundance',\n",
       " 'unaltered',\n",
       " 'quibb',\n",
       " 'cinderella',\n",
       " 'orderer',\n",
       " 'thrilled',\n",
       " '28r',\n",
       " '2p',\n",
       " 'flocked',\n",
       " 'draper',\n",
       " 'insanely',\n",
       " 'sorely',\n",
       " 'cranberry',\n",
       " 'successful',\n",
       " 'strang',\n",
       " 'artsy',\n",
       " 'zip',\n",
       " 'tasteful',\n",
       " 'muddled',\n",
       " 'best',\n",
       " 'sneak',\n",
       " 'lar',\n",
       " 'anyday',\n",
       " 'gawdy',\n",
       " 'thighness',\n",
       " 'influenced',\n",
       " '26r',\n",
       " 'odette',\n",
       " 'humiliate',\n",
       " 'outdo',\n",
       " 'louis',\n",
       " '6p',\n",
       " 'overbeari',\n",
       " 'regulr',\n",
       " 'nicel',\n",
       " 'zippers',\n",
       " 'exclusively',\n",
       " 'upcome',\n",
       " 'pyjama',\n",
       " 'silver',\n",
       " 'truth',\n",
       " 'assumption',\n",
       " 'prioritize',\n",
       " 'vaire',\n",
       " 'delicate',\n",
       " 'subsequent',\n",
       " 'th',\n",
       " 'dreaded',\n",
       " '45',\n",
       " 'biggie',\n",
       " 'incomparable',\n",
       " 'descide',\n",
       " 'armpit',\n",
       " 'midsection',\n",
       " 'classify',\n",
       " 'retie',\n",
       " 'evocative',\n",
       " 'anwen',\n",
       " 'vaca',\n",
       " 'queen',\n",
       " 'juxtaposition',\n",
       " 'driver',\n",
       " '2s',\n",
       " 'dud',\n",
       " 'commercial',\n",
       " 'scratchy',\n",
       " 'candidate',\n",
       " '140',\n",
       " 'knitted',\n",
       " 'sofy',\n",
       " 'roller',\n",
       " 'faryl',\n",
       " 'wansup',\n",
       " 'recreation',\n",
       " 'taylore',\n",
       " 'dry',\n",
       " '130',\n",
       " 'decently',\n",
       " 'stilt',\n",
       " 'moving',\n",
       " 'accommodate',\n",
       " 'ambitious',\n",
       " 'softener',\n",
       " 'reservation',\n",
       " 'durable',\n",
       " 'hardware',\n",
       " 'chunkiness',\n",
       " 'protrusion',\n",
       " 'comfotable',\n",
       " '1980',\n",
       " 'goood',\n",
       " 'qual',\n",
       " 'gnarly',\n",
       " 'leaving',\n",
       " 'narrow',\n",
       " 'yikes',\n",
       " 'crewneck',\n",
       " '102lbs',\n",
       " 'statue',\n",
       " 'bec',\n",
       " 'trouble',\n",
       " 'wander',\n",
       " 'flatttering',\n",
       " 'skeptical',\n",
       " 'container',\n",
       " 'cutoff',\n",
       " 'agreement',\n",
       " 'acetate',\n",
       " 'polye',\n",
       " 'ballet',\n",
       " 'additio',\n",
       " 'show',\n",
       " 'apex',\n",
       " 'limitation',\n",
       " 'snack',\n",
       " 'selective',\n",
       " 'pushup',\n",
       " 'combo',\n",
       " 'juuuust',\n",
       " 'uniqueness',\n",
       " 'petiite',\n",
       " 'unfortunately',\n",
       " 'owend',\n",
       " 'hesitantly',\n",
       " 'spending',\n",
       " 'habit',\n",
       " 'clue',\n",
       " 'versatille',\n",
       " 'hedge',\n",
       " 'oo',\n",
       " '67',\n",
       " 'orlando',\n",
       " 'parti',\n",
       " 'gene',\n",
       " 'muddy',\n",
       " 'cheery',\n",
       " 'splotch',\n",
       " 'nyc',\n",
       " 'upward',\n",
       " 'minimal',\n",
       " 'cou',\n",
       " 'underdone',\n",
       " 'reorder',\n",
       " 'unexpected',\n",
       " 'neckli',\n",
       " 'casing',\n",
       " 'tattoo',\n",
       " 'friendly',\n",
       " 'transform',\n",
       " 'subpar',\n",
       " ...]"
      ]
     },
     "execution_count": 18,
     "metadata": {},
     "output_type": "execute_result"
    }
   ],
   "source": [
    "unique_words[:-10]"
   ]
  },
  {
   "cell_type": "code",
   "execution_count": null,
   "metadata": {},
   "outputs": [],
   "source": [
    "from sklearn.decomposition import PCA\n",
    "\n",
    "pca = PCA(n_components=2, random_state=0)\n",
    "pcs = pca.fit_transform(X)\n",
    "labels = unique_words[:-10]\n",
    "categories = list(df['Label'])\n",
    "plt.figure(figsize=(8, 6))\n",
    "\n",
    "for i in range(len(labels)):\n",
    "    label = labels[i]\n",
    "    color = 'orange' if label == 0 else 'blue' if label == 1 else 'green'\n",
    "    annotation_label = categories[i]\n",
    "    x, y = pcs[i]\n",
    "    plt.scatter(x, y, c=color, edgecolors='k')\n",
    "    plt.annotate(annotation_label, xy=(x+1e-4, y+1e-3), xytext=(0, 0), textcoords='offset points')\n"
   ]
  },
  {
   "cell_type": "code",
   "execution_count": null,
   "metadata": {},
   "outputs": [],
   "source": []
  },
  {
   "cell_type": "markdown",
   "metadata": {},
   "source": [
    "# GloVe Embeddings"
   ]
  },
  {
   "cell_type": "markdown",
   "metadata": {},
   "source": [
    "## Using pretrained word vectors using StanFord"
   ]
  },
  {
   "cell_type": "code",
   "execution_count": null,
   "metadata": {},
   "outputs": [],
   "source": [
    "import numpy as np"
   ]
  },
  {
   "cell_type": "code",
   "execution_count": null,
   "metadata": {},
   "outputs": [],
   "source": [
    "glove_vectors = dict()"
   ]
  },
  {
   "cell_type": "code",
   "execution_count": null,
   "metadata": {},
   "outputs": [],
   "source": [
    "%%time\n",
    "\n",
    "file = open('C:/Users/anagha.bhople/Desktop/Sentiment Analysis/GloVe Word Embedding/glove/glove.6B.100d.txt', encoding='utf-8')\n",
    "\n",
    "for line in file:\n",
    "    values = line.split()\n",
    "    \n",
    "    word  = values[0]\n",
    "    vectors = np.asarray(values[1:])\n",
    "    glove_vectors[word] = vectors\n",
    "    \n",
    "file.close()"
   ]
  },
  {
   "cell_type": "code",
   "execution_count": null,
   "metadata": {},
   "outputs": [],
   "source": [
    "glove_vectors"
   ]
  },
  {
   "cell_type": "code",
   "execution_count": null,
   "metadata": {},
   "outputs": [],
   "source": [
    "len(glove_vectors)"
   ]
  },
  {
   "cell_type": "code",
   "execution_count": null,
   "metadata": {},
   "outputs": [],
   "source": [
    "glove_vectors.get('jacket')"
   ]
  },
  {
   "cell_type": "code",
   "execution_count": null,
   "metadata": {},
   "outputs": [],
   "source": [
    "x = 'hi hello'\n",
    "vec_shape = 100"
   ]
  },
  {
   "cell_type": "code",
   "execution_count": null,
   "metadata": {},
   "outputs": [],
   "source": [
    "def get_vec(x):\n",
    "    arr = np.zeros(vec_shape)\n",
    "    text = str(x).split()\n",
    "    \n",
    "    for t in text:\n",
    "        try:\n",
    "            vec = glove_vectors.get(t).astype(float)\n",
    "            arr = arr + vec\n",
    "        except:\n",
    "            pass\n",
    "        \n",
    "    arr = arr.reshape(1, -1)[0]\n",
    "    return arr/len(text)"
   ]
  },
  {
   "cell_type": "code",
   "execution_count": null,
   "metadata": {},
   "outputs": [],
   "source": [
    "get_vec(x)"
   ]
  },
  {
   "cell_type": "code",
   "execution_count": null,
   "metadata": {},
   "outputs": [],
   "source": [
    "get_vec('hello hi how are you').shape"
   ]
  },
  {
   "cell_type": "code",
   "execution_count": null,
   "metadata": {},
   "outputs": [],
   "source": [
    "df['Review Text Precrocessed'].iloc[92]=df['Review Text Precrocessed'].iloc[100]"
   ]
  },
  {
   "cell_type": "code",
   "execution_count": null,
   "metadata": {},
   "outputs": [],
   "source": [
    "df['Review Text Precrocessed'].iloc[92]"
   ]
  },
  {
   "cell_type": "code",
   "execution_count": null,
   "metadata": {},
   "outputs": [],
   "source": [
    "%%time\n",
    "df['Review Vector Golve']=df['Review Text Precrocessed'].apply(lambda x: get_vec(x))"
   ]
  },
  {
   "cell_type": "code",
   "execution_count": null,
   "metadata": {},
   "outputs": [],
   "source": [
    "df['Review Vector Golve'].iloc[92]"
   ]
  },
  {
   "cell_type": "code",
   "execution_count": null,
   "metadata": {},
   "outputs": [],
   "source": [
    "X_glo = df['Review Vector Golve']\n",
    "Y_glo = df['Label']"
   ]
  },
  {
   "cell_type": "code",
   "execution_count": null,
   "metadata": {},
   "outputs": [],
   "source": [
    "X_glo.iloc[93]"
   ]
  },
  {
   "cell_type": "code",
   "execution_count": null,
   "metadata": {},
   "outputs": [],
   "source": [
    "X_glo = np.concatenate(X_glo, axis = 0).reshape(-1, vec_shape)"
   ]
  },
  {
   "cell_type": "code",
   "execution_count": null,
   "metadata": {},
   "outputs": [],
   "source": [
    "X_glo.shape, Y_glo.shape"
   ]
  },
  {
   "cell_type": "code",
   "execution_count": null,
   "metadata": {},
   "outputs": [],
   "source": [
    "w2v_Y=df['Label']\n",
    "w2v_X=X\n",
    "w2vX_train, w2vX_test, w2vy_train, w2vy_test = train_test_split(w2v_X,w2v_Y, test_size=.20, random_state=101)"
   ]
  },
  {
   "cell_type": "code",
   "execution_count": null,
   "metadata": {},
   "outputs": [],
   "source": [
    "X_train, X_test, y_train, y_test = train_test_split(X, y, test_size = 0.2, random_state = 0, stratify = y)"
   ]
  },
  {
   "cell_type": "code",
   "execution_count": null,
   "metadata": {},
   "outputs": [],
   "source": [
    "X_train.shape, X_test.shape"
   ]
  },
  {
   "cell_type": "code",
   "execution_count": null,
   "metadata": {},
   "outputs": [],
   "source": []
  },
  {
   "cell_type": "markdown",
   "metadata": {},
   "source": [
    "# Using Spacy"
   ]
  },
  {
   "cell_type": "code",
   "execution_count": null,
   "metadata": {},
   "outputs": [],
   "source": [
    "## https://towardsdatascience.com/understanding-feature-engineering-part-4-deep-learning-methods-for-text-data-96c44370bbfa\n",
    "## https://towardsdatascience.com/light-on-math-ml-intuitive-guide-to-understanding-glove-embeddings-b13b4f19c010"
   ]
  },
  {
   "cell_type": "code",
   "execution_count": null,
   "metadata": {},
   "outputs": [],
   "source": [
    "## pip install -U spacy --user"
   ]
  },
  {
   "cell_type": "code",
   "execution_count": 19,
   "metadata": {},
   "outputs": [
    {
     "name": "stdout",
     "output_type": "stream",
     "text": [
      "Total word vectors: 684831\n"
     ]
    }
   ],
   "source": [
    "import spacy\n",
    "import en_core_web_lg\n",
    "nlp_glove = en_core_web_lg.load()\n",
    "\n",
    "total_vectors = len(nlp_glove.vocab.vectors)\n",
    "print('Total word vectors:', total_vectors)"
   ]
  },
  {
   "cell_type": "code",
   "execution_count": 20,
   "metadata": {},
   "outputs": [
    {
     "name": "stdout",
     "output_type": "stream",
     "text": [
      "yes\n"
     ]
    }
   ],
   "source": [
    "print(\"yes\")"
   ]
  },
  {
   "cell_type": "code",
   "execution_count": 21,
   "metadata": {},
   "outputs": [],
   "source": [
    "doc_glove_vectors = np.array([nlp_glove(str(doc)).vector for doc in df['Review Text Precrocessed']])"
   ]
  },
  {
   "cell_type": "code",
   "execution_count": 28,
   "metadata": {},
   "outputs": [
    {
     "data": {
      "text/plain": [
       "(22642, 300)"
      ]
     },
     "execution_count": 28,
     "metadata": {},
     "output_type": "execute_result"
    }
   ],
   "source": [
    "doc_glove_vectors.shape"
   ]
  },
  {
   "cell_type": "code",
   "execution_count": 24,
   "metadata": {},
   "outputs": [
    {
     "data": {
      "text/html": [
       "<div>\n",
       "<style scoped>\n",
       "    .dataframe tbody tr th:only-of-type {\n",
       "        vertical-align: middle;\n",
       "    }\n",
       "\n",
       "    .dataframe tbody tr th {\n",
       "        vertical-align: top;\n",
       "    }\n",
       "\n",
       "    .dataframe thead th {\n",
       "        text-align: right;\n",
       "    }\n",
       "</style>\n",
       "<table border=\"1\" class=\"dataframe\">\n",
       "  <thead>\n",
       "    <tr style=\"text-align: right;\">\n",
       "      <th></th>\n",
       "      <th>index</th>\n",
       "      <th>Review Text</th>\n",
       "      <th>Rating</th>\n",
       "      <th>Recommended IND</th>\n",
       "      <th>Positive Feedback Count</th>\n",
       "      <th>Review Text Precrocessed</th>\n",
       "      <th>Char_Count</th>\n",
       "      <th>Word_Count</th>\n",
       "      <th>Label</th>\n",
       "      <th>Label_3C</th>\n",
       "      <th>Review Text w2v</th>\n",
       "      <th>doc_vector</th>\n",
       "      <th>ClusterLabel</th>\n",
       "    </tr>\n",
       "  </thead>\n",
       "  <tbody>\n",
       "    <tr>\n",
       "      <th>0</th>\n",
       "      <td>0.0</td>\n",
       "      <td>Absolutely wonderful - silky and sexy and comf...</td>\n",
       "      <td>4.0</td>\n",
       "      <td>1.0</td>\n",
       "      <td>0.0</td>\n",
       "      <td>absolutely wonderful silky and sexy and comfor...</td>\n",
       "      <td>171.0</td>\n",
       "      <td>8.0</td>\n",
       "      <td>1.0</td>\n",
       "      <td>1.0</td>\n",
       "      <td>[absolutely, wonderful, silky, and, sexy, and,...</td>\n",
       "      <td>[0.6667356, 0.23074262, -2.0515187, 0.23169217...</td>\n",
       "      <td>1.0</td>\n",
       "    </tr>\n",
       "    <tr>\n",
       "      <th>1</th>\n",
       "      <td>1.0</td>\n",
       "      <td>Love this dress!  it's sooo pretty.  i happene...</td>\n",
       "      <td>5.0</td>\n",
       "      <td>1.0</td>\n",
       "      <td>4.0</td>\n",
       "      <td>love this dress -PRON- is sooo pretty i happen...</td>\n",
       "      <td>1095.0</td>\n",
       "      <td>62.0</td>\n",
       "      <td>1.0</td>\n",
       "      <td>1.0</td>\n",
       "      <td>[love, this, dress, PRON, is, sooo, pretty, i,...</td>\n",
       "      <td>[-0.07581062, 0.34023374, -0.2936284, 0.148150...</td>\n",
       "      <td>0.0</td>\n",
       "    </tr>\n",
       "    <tr>\n",
       "      <th>2</th>\n",
       "      <td>2.0</td>\n",
       "      <td>I had such high hopes for this dress and reall...</td>\n",
       "      <td>3.0</td>\n",
       "      <td>0.0</td>\n",
       "      <td>0.0</td>\n",
       "      <td>i have such high hope for this dress and reall...</td>\n",
       "      <td>1785.0</td>\n",
       "      <td>98.0</td>\n",
       "      <td>0.0</td>\n",
       "      <td>2.0</td>\n",
       "      <td>[i, have, such, high, hope, for, this, dress, ...</td>\n",
       "      <td>[0.16383666, -0.27136472, 0.35035923, 0.174896...</td>\n",
       "      <td>0.0</td>\n",
       "    </tr>\n",
       "    <tr>\n",
       "      <th>3</th>\n",
       "      <td>3.0</td>\n",
       "      <td>I love, love, love this jumpsuit. it's fun, fl...</td>\n",
       "      <td>5.0</td>\n",
       "      <td>1.0</td>\n",
       "      <td>0.0</td>\n",
       "      <td>i love love love this jumpsuit -PRON- is fun f...</td>\n",
       "      <td>425.0</td>\n",
       "      <td>22.0</td>\n",
       "      <td>1.0</td>\n",
       "      <td>1.0</td>\n",
       "      <td>[i, love, love, love, this, jumpsuit, PRON, is...</td>\n",
       "      <td>[0.045769278, -0.55828094, 0.09166749, -0.5709...</td>\n",
       "      <td>1.0</td>\n",
       "    </tr>\n",
       "    <tr>\n",
       "      <th>4</th>\n",
       "      <td>4.0</td>\n",
       "      <td>This shirt is very flattering to all due to th...</td>\n",
       "      <td>5.0</td>\n",
       "      <td>1.0</td>\n",
       "      <td>6.0</td>\n",
       "      <td>this shirt is very flattering to all due to th...</td>\n",
       "      <td>673.0</td>\n",
       "      <td>36.0</td>\n",
       "      <td>1.0</td>\n",
       "      <td>1.0</td>\n",
       "      <td>[this, shirt, is, very, flattering, to, all, d...</td>\n",
       "      <td>[-0.67256707, -0.11260927, -0.24647212, 0.2660...</td>\n",
       "      <td>1.0</td>\n",
       "    </tr>\n",
       "    <tr>\n",
       "      <th>...</th>\n",
       "      <td>...</td>\n",
       "      <td>...</td>\n",
       "      <td>...</td>\n",
       "      <td>...</td>\n",
       "      <td>...</td>\n",
       "      <td>...</td>\n",
       "      <td>...</td>\n",
       "      <td>...</td>\n",
       "      <td>...</td>\n",
       "      <td>...</td>\n",
       "      <td>...</td>\n",
       "      <td>...</td>\n",
       "      <td>...</td>\n",
       "    </tr>\n",
       "    <tr>\n",
       "      <th>23481</th>\n",
       "      <td>23481.0</td>\n",
       "      <td>I was very happy to snag this dress at such a ...</td>\n",
       "      <td>5.0</td>\n",
       "      <td>1.0</td>\n",
       "      <td>0.0</td>\n",
       "      <td>i was very happy to snag this dress at such a ...</td>\n",
       "      <td>487.0</td>\n",
       "      <td>28.0</td>\n",
       "      <td>1.0</td>\n",
       "      <td>1.0</td>\n",
       "      <td>[i, was, very, happy, to, snag, this, dress, a...</td>\n",
       "      <td>[0.054669604, -0.00069097814, -0.17360154, 0.2...</td>\n",
       "      <td>NaN</td>\n",
       "    </tr>\n",
       "    <tr>\n",
       "      <th>23482</th>\n",
       "      <td>23482.0</td>\n",
       "      <td>It reminds me of maternity clothes. soft, stre...</td>\n",
       "      <td>3.0</td>\n",
       "      <td>1.0</td>\n",
       "      <td>0.0</td>\n",
       "      <td>-PRON- remind -PRON- of maternity clothe soft ...</td>\n",
       "      <td>751.0</td>\n",
       "      <td>37.0</td>\n",
       "      <td>0.0</td>\n",
       "      <td>2.0</td>\n",
       "      <td>[PRON, remind, PRON, of, maternity, clothe, so...</td>\n",
       "      <td>[0.6388619, 0.15517102, -0.008465272, 0.212260...</td>\n",
       "      <td>NaN</td>\n",
       "    </tr>\n",
       "    <tr>\n",
       "      <th>23483</th>\n",
       "      <td>23483.0</td>\n",
       "      <td>This fit well, but the top was very see throug...</td>\n",
       "      <td>3.0</td>\n",
       "      <td>0.0</td>\n",
       "      <td>1.0</td>\n",
       "      <td>this fit well but the top was very see through...</td>\n",
       "      <td>753.0</td>\n",
       "      <td>42.0</td>\n",
       "      <td>0.0</td>\n",
       "      <td>2.0</td>\n",
       "      <td>[this, fit, well, but, the, top, was, very, se...</td>\n",
       "      <td>[-0.078801565, 0.0872148, 0.21623492, 0.578276...</td>\n",
       "      <td>NaN</td>\n",
       "    </tr>\n",
       "    <tr>\n",
       "      <th>23484</th>\n",
       "      <td>23484.0</td>\n",
       "      <td>I bought this dress for a wedding i have this ...</td>\n",
       "      <td>3.0</td>\n",
       "      <td>1.0</td>\n",
       "      <td>2.0</td>\n",
       "      <td>i buy this dress for a wedding i have this sum...</td>\n",
       "      <td>1543.0</td>\n",
       "      <td>86.0</td>\n",
       "      <td>0.0</td>\n",
       "      <td>2.0</td>\n",
       "      <td>[i, buy, this, dress, for, a, wedding, i, have...</td>\n",
       "      <td>[0.16037644, -0.10358044, 0.35796753, 0.480930...</td>\n",
       "      <td>NaN</td>\n",
       "    </tr>\n",
       "    <tr>\n",
       "      <th>23485</th>\n",
       "      <td>23485.0</td>\n",
       "      <td>This dress in a lovely platinum is feminine an...</td>\n",
       "      <td>5.0</td>\n",
       "      <td>1.0</td>\n",
       "      <td>22.0</td>\n",
       "      <td>this dress in a lovely platinum is feminine an...</td>\n",
       "      <td>373.0</td>\n",
       "      <td>19.0</td>\n",
       "      <td>1.0</td>\n",
       "      <td>1.0</td>\n",
       "      <td>[this, dress, in, a, lovely, platinum, is, fem...</td>\n",
       "      <td>[-0.07963737, 0.23206908, -0.18899614, 0.56027...</td>\n",
       "      <td>NaN</td>\n",
       "    </tr>\n",
       "  </tbody>\n",
       "</table>\n",
       "<p>23463 rows × 13 columns</p>\n",
       "</div>"
      ],
      "text/plain": [
       "         index                                        Review Text  Rating  \\\n",
       "0          0.0  Absolutely wonderful - silky and sexy and comf...     4.0   \n",
       "1          1.0  Love this dress!  it's sooo pretty.  i happene...     5.0   \n",
       "2          2.0  I had such high hopes for this dress and reall...     3.0   \n",
       "3          3.0  I love, love, love this jumpsuit. it's fun, fl...     5.0   \n",
       "4          4.0  This shirt is very flattering to all due to th...     5.0   \n",
       "...        ...                                                ...     ...   \n",
       "23481  23481.0  I was very happy to snag this dress at such a ...     5.0   \n",
       "23482  23482.0  It reminds me of maternity clothes. soft, stre...     3.0   \n",
       "23483  23483.0  This fit well, but the top was very see throug...     3.0   \n",
       "23484  23484.0  I bought this dress for a wedding i have this ...     3.0   \n",
       "23485  23485.0  This dress in a lovely platinum is feminine an...     5.0   \n",
       "\n",
       "       Recommended IND  Positive Feedback Count  \\\n",
       "0                  1.0                      0.0   \n",
       "1                  1.0                      4.0   \n",
       "2                  0.0                      0.0   \n",
       "3                  1.0                      0.0   \n",
       "4                  1.0                      6.0   \n",
       "...                ...                      ...   \n",
       "23481              1.0                      0.0   \n",
       "23482              1.0                      0.0   \n",
       "23483              0.0                      1.0   \n",
       "23484              1.0                      2.0   \n",
       "23485              1.0                     22.0   \n",
       "\n",
       "                                Review Text Precrocessed  Char_Count  \\\n",
       "0      absolutely wonderful silky and sexy and comfor...       171.0   \n",
       "1      love this dress -PRON- is sooo pretty i happen...      1095.0   \n",
       "2      i have such high hope for this dress and reall...      1785.0   \n",
       "3      i love love love this jumpsuit -PRON- is fun f...       425.0   \n",
       "4      this shirt is very flattering to all due to th...       673.0   \n",
       "...                                                  ...         ...   \n",
       "23481  i was very happy to snag this dress at such a ...       487.0   \n",
       "23482  -PRON- remind -PRON- of maternity clothe soft ...       751.0   \n",
       "23483  this fit well but the top was very see through...       753.0   \n",
       "23484  i buy this dress for a wedding i have this sum...      1543.0   \n",
       "23485  this dress in a lovely platinum is feminine an...       373.0   \n",
       "\n",
       "       Word_Count  Label  Label_3C  \\\n",
       "0             8.0    1.0       1.0   \n",
       "1            62.0    1.0       1.0   \n",
       "2            98.0    0.0       2.0   \n",
       "3            22.0    1.0       1.0   \n",
       "4            36.0    1.0       1.0   \n",
       "...           ...    ...       ...   \n",
       "23481        28.0    1.0       1.0   \n",
       "23482        37.0    0.0       2.0   \n",
       "23483        42.0    0.0       2.0   \n",
       "23484        86.0    0.0       2.0   \n",
       "23485        19.0    1.0       1.0   \n",
       "\n",
       "                                         Review Text w2v  \\\n",
       "0      [absolutely, wonderful, silky, and, sexy, and,...   \n",
       "1      [love, this, dress, PRON, is, sooo, pretty, i,...   \n",
       "2      [i, have, such, high, hope, for, this, dress, ...   \n",
       "3      [i, love, love, love, this, jumpsuit, PRON, is...   \n",
       "4      [this, shirt, is, very, flattering, to, all, d...   \n",
       "...                                                  ...   \n",
       "23481  [i, was, very, happy, to, snag, this, dress, a...   \n",
       "23482  [PRON, remind, PRON, of, maternity, clothe, so...   \n",
       "23483  [this, fit, well, but, the, top, was, very, se...   \n",
       "23484  [i, buy, this, dress, for, a, wedding, i, have...   \n",
       "23485  [this, dress, in, a, lovely, platinum, is, fem...   \n",
       "\n",
       "                                              doc_vector  ClusterLabel  \n",
       "0      [0.6667356, 0.23074262, -2.0515187, 0.23169217...           1.0  \n",
       "1      [-0.07581062, 0.34023374, -0.2936284, 0.148150...           0.0  \n",
       "2      [0.16383666, -0.27136472, 0.35035923, 0.174896...           0.0  \n",
       "3      [0.045769278, -0.55828094, 0.09166749, -0.5709...           1.0  \n",
       "4      [-0.67256707, -0.11260927, -0.24647212, 0.2660...           1.0  \n",
       "...                                                  ...           ...  \n",
       "23481  [0.054669604, -0.00069097814, -0.17360154, 0.2...           NaN  \n",
       "23482  [0.6388619, 0.15517102, -0.008465272, 0.212260...           NaN  \n",
       "23483  [-0.078801565, 0.0872148, 0.21623492, 0.578276...           NaN  \n",
       "23484  [0.16037644, -0.10358044, 0.35796753, 0.480930...           NaN  \n",
       "23485  [-0.07963737, 0.23206908, -0.18899614, 0.56027...           NaN  \n",
       "\n",
       "[23463 rows x 13 columns]"
      ]
     },
     "execution_count": 24,
     "metadata": {},
     "output_type": "execute_result"
    }
   ],
   "source": [
    "from sklearn.cluster import KMeans\n",
    "\n",
    "km = KMeans(n_clusters=2, random_state=0)\n",
    "km.fit_transform(doc_glove_vectors)\n",
    "cluster_labels = km.labels_\n",
    "cluster_labels = pd.DataFrame(cluster_labels, columns=['ClusterLabel'])\n",
    "pd.concat([df, cluster_labels], axis=1)"
   ]
  },
  {
   "cell_type": "code",
   "execution_count": 26,
   "metadata": {},
   "outputs": [
    {
     "data": {
      "text/html": [
       "<div>\n",
       "<style scoped>\n",
       "    .dataframe tbody tr th:only-of-type {\n",
       "        vertical-align: middle;\n",
       "    }\n",
       "\n",
       "    .dataframe tbody tr th {\n",
       "        vertical-align: top;\n",
       "    }\n",
       "\n",
       "    .dataframe thead th {\n",
       "        text-align: right;\n",
       "    }\n",
       "</style>\n",
       "<table border=\"1\" class=\"dataframe\">\n",
       "  <thead>\n",
       "    <tr style=\"text-align: right;\">\n",
       "      <th></th>\n",
       "      <th>0</th>\n",
       "      <th>1</th>\n",
       "      <th>2</th>\n",
       "      <th>3</th>\n",
       "      <th>4</th>\n",
       "      <th>5</th>\n",
       "      <th>6</th>\n",
       "      <th>7</th>\n",
       "      <th>8</th>\n",
       "      <th>9</th>\n",
       "      <th>...</th>\n",
       "      <th>86</th>\n",
       "      <th>87</th>\n",
       "      <th>88</th>\n",
       "      <th>89</th>\n",
       "      <th>90</th>\n",
       "      <th>91</th>\n",
       "      <th>92</th>\n",
       "      <th>93</th>\n",
       "      <th>94</th>\n",
       "      <th>95</th>\n",
       "    </tr>\n",
       "  </thead>\n",
       "  <tbody>\n",
       "    <tr>\n",
       "      <th>prisoner</th>\n",
       "      <td>2.444096</td>\n",
       "      <td>-1.048554</td>\n",
       "      <td>0.338357</td>\n",
       "      <td>-1.117354</td>\n",
       "      <td>3.071404</td>\n",
       "      <td>0.099220</td>\n",
       "      <td>-0.168320</td>\n",
       "      <td>1.436996</td>\n",
       "      <td>-2.382604</td>\n",
       "      <td>1.898998</td>\n",
       "      <td>...</td>\n",
       "      <td>-0.996905</td>\n",
       "      <td>-0.528750</td>\n",
       "      <td>-1.223418</td>\n",
       "      <td>-2.071856</td>\n",
       "      <td>-1.269976</td>\n",
       "      <td>0.819373</td>\n",
       "      <td>-0.734459</td>\n",
       "      <td>-1.417824</td>\n",
       "      <td>1.669450</td>\n",
       "      <td>-2.791025</td>\n",
       "    </tr>\n",
       "    <tr>\n",
       "      <th>attention</th>\n",
       "      <td>0.433983</td>\n",
       "      <td>0.529620</td>\n",
       "      <td>-0.372036</td>\n",
       "      <td>-1.879126</td>\n",
       "      <td>0.403160</td>\n",
       "      <td>-1.539560</td>\n",
       "      <td>0.927204</td>\n",
       "      <td>0.916059</td>\n",
       "      <td>-2.876764</td>\n",
       "      <td>3.389391</td>\n",
       "      <td>...</td>\n",
       "      <td>1.344416</td>\n",
       "      <td>-0.548986</td>\n",
       "      <td>-0.686549</td>\n",
       "      <td>-0.638004</td>\n",
       "      <td>-1.403282</td>\n",
       "      <td>-0.306960</td>\n",
       "      <td>-0.011412</td>\n",
       "      <td>-0.590305</td>\n",
       "      <td>3.711290</td>\n",
       "      <td>-1.305033</td>\n",
       "    </tr>\n",
       "    <tr>\n",
       "      <th>hindsight</th>\n",
       "      <td>-0.127167</td>\n",
       "      <td>-1.730329</td>\n",
       "      <td>0.198881</td>\n",
       "      <td>-1.310831</td>\n",
       "      <td>0.027345</td>\n",
       "      <td>2.771600</td>\n",
       "      <td>1.507778</td>\n",
       "      <td>0.052187</td>\n",
       "      <td>-1.959684</td>\n",
       "      <td>1.295352</td>\n",
       "      <td>...</td>\n",
       "      <td>1.554513</td>\n",
       "      <td>-1.290472</td>\n",
       "      <td>-0.692016</td>\n",
       "      <td>-1.240656</td>\n",
       "      <td>-2.840114</td>\n",
       "      <td>0.344567</td>\n",
       "      <td>-0.370998</td>\n",
       "      <td>-0.653507</td>\n",
       "      <td>-0.911530</td>\n",
       "      <td>-3.298528</td>\n",
       "    </tr>\n",
       "    <tr>\n",
       "      <th>skinnys</th>\n",
       "      <td>2.635917</td>\n",
       "      <td>-0.445141</td>\n",
       "      <td>-0.980697</td>\n",
       "      <td>-1.594449</td>\n",
       "      <td>1.238068</td>\n",
       "      <td>-0.155139</td>\n",
       "      <td>0.340080</td>\n",
       "      <td>0.768545</td>\n",
       "      <td>-0.811695</td>\n",
       "      <td>0.869766</td>\n",
       "      <td>...</td>\n",
       "      <td>-2.069973</td>\n",
       "      <td>-0.382748</td>\n",
       "      <td>1.848460</td>\n",
       "      <td>-1.406814</td>\n",
       "      <td>-1.650574</td>\n",
       "      <td>0.982188</td>\n",
       "      <td>0.914445</td>\n",
       "      <td>0.481658</td>\n",
       "      <td>-1.010581</td>\n",
       "      <td>-2.134973</td>\n",
       "    </tr>\n",
       "    <tr>\n",
       "      <th>measument</th>\n",
       "      <td>2.513573</td>\n",
       "      <td>-0.853096</td>\n",
       "      <td>1.354463</td>\n",
       "      <td>-0.408388</td>\n",
       "      <td>3.080438</td>\n",
       "      <td>-2.280826</td>\n",
       "      <td>1.068074</td>\n",
       "      <td>3.230855</td>\n",
       "      <td>-1.020792</td>\n",
       "      <td>0.950181</td>\n",
       "      <td>...</td>\n",
       "      <td>0.563004</td>\n",
       "      <td>1.272085</td>\n",
       "      <td>0.697535</td>\n",
       "      <td>-1.806478</td>\n",
       "      <td>-1.234997</td>\n",
       "      <td>2.324682</td>\n",
       "      <td>1.329247</td>\n",
       "      <td>0.741522</td>\n",
       "      <td>-2.354919</td>\n",
       "      <td>-0.715951</td>\n",
       "    </tr>\n",
       "    <tr>\n",
       "      <th>...</th>\n",
       "      <td>...</td>\n",
       "      <td>...</td>\n",
       "      <td>...</td>\n",
       "      <td>...</td>\n",
       "      <td>...</td>\n",
       "      <td>...</td>\n",
       "      <td>...</td>\n",
       "      <td>...</td>\n",
       "      <td>...</td>\n",
       "      <td>...</td>\n",
       "      <td>...</td>\n",
       "      <td>...</td>\n",
       "      <td>...</td>\n",
       "      <td>...</td>\n",
       "      <td>...</td>\n",
       "      <td>...</td>\n",
       "      <td>...</td>\n",
       "      <td>...</td>\n",
       "      <td>...</td>\n",
       "      <td>...</td>\n",
       "      <td>...</td>\n",
       "    </tr>\n",
       "    <tr>\n",
       "      <th>cooperate</th>\n",
       "      <td>-0.962485</td>\n",
       "      <td>1.265012</td>\n",
       "      <td>1.443665</td>\n",
       "      <td>-2.212085</td>\n",
       "      <td>1.116650</td>\n",
       "      <td>0.187263</td>\n",
       "      <td>-0.234940</td>\n",
       "      <td>-1.356185</td>\n",
       "      <td>-3.535732</td>\n",
       "      <td>0.700258</td>\n",
       "      <td>...</td>\n",
       "      <td>0.002114</td>\n",
       "      <td>-0.652980</td>\n",
       "      <td>1.992082</td>\n",
       "      <td>-0.755697</td>\n",
       "      <td>-2.502037</td>\n",
       "      <td>0.428548</td>\n",
       "      <td>1.737690</td>\n",
       "      <td>-1.132909</td>\n",
       "      <td>-0.768099</td>\n",
       "      <td>-3.027782</td>\n",
       "    </tr>\n",
       "    <tr>\n",
       "      <th>ipad</th>\n",
       "      <td>-1.199534</td>\n",
       "      <td>0.406725</td>\n",
       "      <td>4.306109</td>\n",
       "      <td>-0.779370</td>\n",
       "      <td>0.273508</td>\n",
       "      <td>0.059175</td>\n",
       "      <td>1.110045</td>\n",
       "      <td>0.675611</td>\n",
       "      <td>-3.633495</td>\n",
       "      <td>2.751417</td>\n",
       "      <td>...</td>\n",
       "      <td>-0.611589</td>\n",
       "      <td>-1.073274</td>\n",
       "      <td>-0.998800</td>\n",
       "      <td>-1.890251</td>\n",
       "      <td>-2.527622</td>\n",
       "      <td>2.471528</td>\n",
       "      <td>0.033805</td>\n",
       "      <td>-0.491193</td>\n",
       "      <td>-1.193174</td>\n",
       "      <td>-2.721292</td>\n",
       "    </tr>\n",
       "    <tr>\n",
       "      <th>drama</th>\n",
       "      <td>-0.231569</td>\n",
       "      <td>0.507272</td>\n",
       "      <td>2.171112</td>\n",
       "      <td>-0.291571</td>\n",
       "      <td>0.911351</td>\n",
       "      <td>-1.533784</td>\n",
       "      <td>1.338455</td>\n",
       "      <td>-1.053177</td>\n",
       "      <td>-2.797178</td>\n",
       "      <td>3.652400</td>\n",
       "      <td>...</td>\n",
       "      <td>-1.105030</td>\n",
       "      <td>0.722793</td>\n",
       "      <td>0.291764</td>\n",
       "      <td>-0.814338</td>\n",
       "      <td>-5.990744</td>\n",
       "      <td>2.748205</td>\n",
       "      <td>-0.529849</td>\n",
       "      <td>2.176311</td>\n",
       "      <td>-0.156518</td>\n",
       "      <td>-2.615210</td>\n",
       "    </tr>\n",
       "    <tr>\n",
       "      <th>spor</th>\n",
       "      <td>-2.251201</td>\n",
       "      <td>-1.921657</td>\n",
       "      <td>0.811149</td>\n",
       "      <td>-1.549014</td>\n",
       "      <td>0.065768</td>\n",
       "      <td>0.600400</td>\n",
       "      <td>1.465902</td>\n",
       "      <td>4.977974</td>\n",
       "      <td>-0.957726</td>\n",
       "      <td>5.834974</td>\n",
       "      <td>...</td>\n",
       "      <td>1.987449</td>\n",
       "      <td>-0.871976</td>\n",
       "      <td>-1.355309</td>\n",
       "      <td>-0.672301</td>\n",
       "      <td>-2.012983</td>\n",
       "      <td>1.454068</td>\n",
       "      <td>1.498613</td>\n",
       "      <td>-0.039511</td>\n",
       "      <td>-3.119975</td>\n",
       "      <td>-1.297409</td>\n",
       "    </tr>\n",
       "    <tr>\n",
       "      <th>agitate</th>\n",
       "      <td>2.564493</td>\n",
       "      <td>-0.727144</td>\n",
       "      <td>-0.692122</td>\n",
       "      <td>-2.030880</td>\n",
       "      <td>2.436636</td>\n",
       "      <td>0.303696</td>\n",
       "      <td>1.560154</td>\n",
       "      <td>1.555782</td>\n",
       "      <td>-3.380399</td>\n",
       "      <td>0.563942</td>\n",
       "      <td>...</td>\n",
       "      <td>-1.002722</td>\n",
       "      <td>-0.086916</td>\n",
       "      <td>1.091336</td>\n",
       "      <td>-2.101338</td>\n",
       "      <td>-1.494367</td>\n",
       "      <td>0.597540</td>\n",
       "      <td>0.374758</td>\n",
       "      <td>-2.275586</td>\n",
       "      <td>-0.707814</td>\n",
       "      <td>0.635777</td>\n",
       "    </tr>\n",
       "  </tbody>\n",
       "</table>\n",
       "<p>11493 rows × 96 columns</p>\n",
       "</div>"
      ],
      "text/plain": [
       "                 0         1         2         3         4         5   \\\n",
       "prisoner   2.444096 -1.048554  0.338357 -1.117354  3.071404  0.099220   \n",
       "attention  0.433983  0.529620 -0.372036 -1.879126  0.403160 -1.539560   \n",
       "hindsight -0.127167 -1.730329  0.198881 -1.310831  0.027345  2.771600   \n",
       "skinnys    2.635917 -0.445141 -0.980697 -1.594449  1.238068 -0.155139   \n",
       "measument  2.513573 -0.853096  1.354463 -0.408388  3.080438 -2.280826   \n",
       "...             ...       ...       ...       ...       ...       ...   \n",
       "cooperate -0.962485  1.265012  1.443665 -2.212085  1.116650  0.187263   \n",
       "ipad      -1.199534  0.406725  4.306109 -0.779370  0.273508  0.059175   \n",
       "drama     -0.231569  0.507272  2.171112 -0.291571  0.911351 -1.533784   \n",
       "spor      -2.251201 -1.921657  0.811149 -1.549014  0.065768  0.600400   \n",
       "agitate    2.564493 -0.727144 -0.692122 -2.030880  2.436636  0.303696   \n",
       "\n",
       "                 6         7         8         9   ...        86        87  \\\n",
       "prisoner  -0.168320  1.436996 -2.382604  1.898998  ... -0.996905 -0.528750   \n",
       "attention  0.927204  0.916059 -2.876764  3.389391  ...  1.344416 -0.548986   \n",
       "hindsight  1.507778  0.052187 -1.959684  1.295352  ...  1.554513 -1.290472   \n",
       "skinnys    0.340080  0.768545 -0.811695  0.869766  ... -2.069973 -0.382748   \n",
       "measument  1.068074  3.230855 -1.020792  0.950181  ...  0.563004  1.272085   \n",
       "...             ...       ...       ...       ...  ...       ...       ...   \n",
       "cooperate -0.234940 -1.356185 -3.535732  0.700258  ...  0.002114 -0.652980   \n",
       "ipad       1.110045  0.675611 -3.633495  2.751417  ... -0.611589 -1.073274   \n",
       "drama      1.338455 -1.053177 -2.797178  3.652400  ... -1.105030  0.722793   \n",
       "spor       1.465902  4.977974 -0.957726  5.834974  ...  1.987449 -0.871976   \n",
       "agitate    1.560154  1.555782 -3.380399  0.563942  ... -1.002722 -0.086916   \n",
       "\n",
       "                 88        89        90        91        92        93  \\\n",
       "prisoner  -1.223418 -2.071856 -1.269976  0.819373 -0.734459 -1.417824   \n",
       "attention -0.686549 -0.638004 -1.403282 -0.306960 -0.011412 -0.590305   \n",
       "hindsight -0.692016 -1.240656 -2.840114  0.344567 -0.370998 -0.653507   \n",
       "skinnys    1.848460 -1.406814 -1.650574  0.982188  0.914445  0.481658   \n",
       "measument  0.697535 -1.806478 -1.234997  2.324682  1.329247  0.741522   \n",
       "...             ...       ...       ...       ...       ...       ...   \n",
       "cooperate  1.992082 -0.755697 -2.502037  0.428548  1.737690 -1.132909   \n",
       "ipad      -0.998800 -1.890251 -2.527622  2.471528  0.033805 -0.491193   \n",
       "drama      0.291764 -0.814338 -5.990744  2.748205 -0.529849  2.176311   \n",
       "spor      -1.355309 -0.672301 -2.012983  1.454068  1.498613 -0.039511   \n",
       "agitate    1.091336 -2.101338 -1.494367  0.597540  0.374758 -2.275586   \n",
       "\n",
       "                 94        95  \n",
       "prisoner   1.669450 -2.791025  \n",
       "attention  3.711290 -1.305033  \n",
       "hindsight -0.911530 -3.298528  \n",
       "skinnys   -1.010581 -2.134973  \n",
       "measument -2.354919 -0.715951  \n",
       "...             ...       ...  \n",
       "cooperate -0.768099 -3.027782  \n",
       "ipad      -1.193174 -2.721292  \n",
       "drama     -0.156518 -2.615210  \n",
       "spor      -3.119975 -1.297409  \n",
       "agitate   -0.707814  0.635777  \n",
       "\n",
       "[11493 rows x 96 columns]"
      ]
     },
     "execution_count": 26,
     "metadata": {},
     "output_type": "execute_result"
    }
   ],
   "source": [
    "word_glove_vectors = np.array([nlp(word).vector for word in unique_words])\n",
    "pd.DataFrame(word_glove_vectors, index=unique_words)"
   ]
  },
  {
   "cell_type": "code",
   "execution_count": 27,
   "metadata": {},
   "outputs": [
    {
     "data": {
      "image/png": "[encoded data removed]",
      "text/plain": [
       "<Figure size 864x432 with 1 Axes>"
      ]
     },
     "metadata": {
      "needs_background": "light"
     },
     "output_type": "display_data"
    }
   ],
   "source": [
    "from sklearn.manifold import TSNE\n",
    "\n",
    "tsne = TSNE(n_components=2, random_state=0, n_iter=5000, perplexity=3)\n",
    "np.set_printoptions(suppress=True)\n",
    "T = tsne.fit_transform(word_glove_vectors)\n",
    "labels = unique_words\n",
    "\n",
    "plt.figure(figsize=(12, 6))\n",
    "plt.scatter(T[:, 0], T[:, 1], c='orange', edgecolors='r')\n",
    "for label, x, y in zip(labels, T[:, 0], T[:, 1]):\n",
    "    plt.annotate(label, xy=(x+1, y+1), xytext=(0, 0), textcoords='offset points')"
   ]
  },
  {
   "cell_type": "code",
   "execution_count": 29,
   "metadata": {},
   "outputs": [],
   "source": [
    "g_Y=df['Label']\n",
    "g_X=doc_glove_vectors\n",
    "gX_train, gy_train, gX_test, gy_test = train_test_split(g_X, g_Y, test_size=.20, random_state=101)"
   ]
  },
  {
   "cell_type": "code",
   "execution_count": 41,
   "metadata": {},
   "outputs": [
    {
     "data": {
      "text/plain": [
       "(22642,)"
      ]
     },
     "execution_count": 41,
     "metadata": {},
     "output_type": "execute_result"
    }
   ],
   "source": [
    "g_Y.shape "
   ]
  },
  {
   "cell_type": "code",
   "execution_count": 42,
   "metadata": {},
   "outputs": [
    {
     "data": {
      "text/plain": [
       "(22642, 300)"
      ]
     },
     "execution_count": 42,
     "metadata": {},
     "output_type": "execute_result"
    }
   ],
   "source": [
    "g_X.shape"
   ]
  },
  {
   "cell_type": "code",
   "execution_count": 43,
   "metadata": {},
   "outputs": [
    {
     "name": "stdout",
     "output_type": "stream",
     "text": [
      "[[ 565  466]\n",
      " [ 169 3329]]\n",
      "              precision    recall  f1-score   support\n",
      "\n",
      "           0       0.77      0.55      0.64      1031\n",
      "           1       0.88      0.95      0.91      3498\n",
      "\n",
      "    accuracy                           0.86      4529\n",
      "   macro avg       0.82      0.75      0.78      4529\n",
      "weighted avg       0.85      0.86      0.85      4529\n",
      "\n",
      "Accuracy Score: 0.8597924486641643\n",
      "F1 Score: 0.9129302070478541\n",
      "Average precision-recall score: 0.8721411547421507\n"
     ]
    },
    {
     "name": "stderr",
     "output_type": "stream",
     "text": [
      "C:\\ProgramData\\Anaconda3\\lib\\site-packages\\sklearn\\linear_model\\_logistic.py:762: ConvergenceWarning: lbfgs failed to converge (status=1):\n",
      "STOP: TOTAL NO. of ITERATIONS REACHED LIMIT.\n",
      "\n",
      "Increase the number of iterations (max_iter) or scale the data as shown in:\n",
      "    https://scikit-learn.org/stable/modules/preprocessing.html\n",
      "Please also refer to the documentation for alternative solver options:\n",
      "    https://scikit-learn.org/stable/modules/linear_model.html#logistic-regression\n",
      "  n_iter_i = _check_optimize_result(\n"
     ]
    },
    {
     "data": {
      "image/png": "[encoded data removed]",
      "text/plain": [
       "<Figure size 432x288 with 1 Axes>"
      ]
     },
     "metadata": {
      "needs_background": "light"
     },
     "output_type": "display_data"
    },
    {
     "name": "stderr",
     "output_type": "stream",
     "text": [
      "<ipython-input-34-d3da9126ecf1>:58: MatplotlibDeprecationWarning: Adding an axes using the same arguments as a previous axes currently reuses the earlier instance.  In a future version, a new instance will always be created and returned.  Meanwhile, this warning can be suppressed, and the future behavior ensured, by passing a unique label to each axes instance.\n",
      "  plt.axes().set_aspect('equal')\n"
     ]
    },
    {
     "name": "stdout",
     "output_type": "stream",
     "text": [
      "Area Under Curve: 0.93\n"
     ]
    },
    {
     "data": {
      "image/png": "[encoded data removed]",
      "text/plain": [
       "<Figure size 432x288 with 1 Axes>"
      ]
     },
     "metadata": {
      "needs_background": "light"
     },
     "output_type": "display_data"
    },
    {
     "name": "stderr",
     "output_type": "stream",
     "text": [
      "<ipython-input-34-d3da9126ecf1>:16: MatplotlibDeprecationWarning: Adding an axes using the same arguments as a previous axes currently reuses the earlier instance.  In a future version, a new instance will always be created and returned.  Meanwhile, this warning can be suppressed, and the future behavior ensured, by passing a unique label to each axes instance.\n",
      "  plt.axes().set_aspect('equal')\n"
     ]
    },
    {
     "data": {
      "image/png": "[encoded data removed]",
      "text/plain": [
       "<Figure size 432x288 with 1 Axes>"
      ]
     },
     "metadata": {
      "needs_background": "light"
     },
     "output_type": "display_data"
    },
    {
     "data": {
      "text/plain": [
       "(array([[ 565,  466],\n",
       "        [ 169, 3329]], dtype=int64),\n",
       " '              precision    recall  f1-score   support\\n\\n           0       0.77      0.55      0.64      1031\\n           1       0.88      0.95      0.91      3498\\n\\n    accuracy                           0.86      4529\\n   macro avg       0.82      0.75      0.78      4529\\nweighted avg       0.85      0.86      0.85      4529\\n')"
      ]
     },
     "execution_count": 43,
     "metadata": {},
     "output_type": "execute_result"
    }
   ],
   "source": [
    "LogisticRegression_binary_classification(gX_train, gy_train, gX_test, gy_test)"
   ]
  },
  {
   "cell_type": "code",
   "execution_count": null,
   "metadata": {},
   "outputs": [],
   "source": []
  },
  {
   "cell_type": "markdown",
   "metadata": {},
   "source": [
    "# Testing"
   ]
  },
  {
   "cell_type": "code",
   "execution_count": null,
   "metadata": {},
   "outputs": [],
   "source": [
    "## Positive Review Testing"
   ]
  },
  {
   "cell_type": "code",
   "execution_count": null,
   "metadata": {},
   "outputs": [],
   "source": [
    "val=random.choice(Positives)\n",
    "Test_sentence = df.loc[ (df['Label'] == 1) & (df['index'] == val) , 'Review Text']"
   ]
  },
  {
   "cell_type": "code",
   "execution_count": null,
   "metadata": {},
   "outputs": [],
   "source": [
    "## Negative Review Testing"
   ]
  },
  {
   "cell_type": "code",
   "execution_count": null,
   "metadata": {},
   "outputs": [],
   "source": [
    "val=random.choice(Negatives)\n",
    "Test_sentence = df.loc[ (df['Label'] == 0) & (df['index'] == val) , 'Review Text']"
   ]
  },
  {
   "cell_type": "code",
   "execution_count": null,
   "metadata": {},
   "outputs": [],
   "source": [
    "## Test Your Own Sentence"
   ]
  },
  {
   "cell_type": "code",
   "execution_count": null,
   "metadata": {},
   "outputs": [],
   "source": [
    "Test_sentence =[\"This dress is very good but color is bad\"]"
   ]
  },
  {
   "cell_type": "code",
   "execution_count": null,
   "metadata": {},
   "outputs": [],
   "source": [
    "## Test According to Customer ID"
   ]
  },
  {
   "cell_type": "code",
   "execution_count": null,
   "metadata": {},
   "outputs": [],
   "source": [
    "Test_sentence = df.loc[df['index'] == 10 , 'Review Text']"
   ]
  },
  {
   "cell_type": "code",
   "execution_count": null,
   "metadata": {},
   "outputs": [],
   "source": [
    "Test_sentence"
   ]
  },
  {
   "cell_type": "code",
   "execution_count": null,
   "metadata": {},
   "outputs": [],
   "source": [
    "pd.set_option('display.max_colwidth', 1000)\n",
    "print(\"Original Review\")\n",
    "print(Test_sentence)\n",
    "print(\"\\n\")\n",
    "\n",
    "\n",
    "print(\"Actual Label\")\n",
    "Actual_label= df.loc[df['index'] == val , 'Label']\n",
    "print(Actual_label)\n",
    "print(\"\\n\")\n",
    "\n",
    "def prediction(x):\n",
    "    x=df.loc[df['index'] == val , 'Review Text Precrocessed']\n",
    "    X=tfidf.transform(x)\n",
    "    pred=clf.predict(X)\n",
    "    if pred==0:\n",
    "      return 'Negative'\n",
    "    else:\n",
    "      return 'Positive'\n",
    "\n",
    "prediction(Test_sentence)"
   ]
  },
  {
   "cell_type": "code",
   "execution_count": null,
   "metadata": {},
   "outputs": [],
   "source": []
  },
  {
   "cell_type": "code",
   "execution_count": null,
   "metadata": {},
   "outputs": [],
   "source": []
  },
  {
   "cell_type": "code",
   "execution_count": null,
   "metadata": {},
   "outputs": [],
   "source": []
  },
  {
   "cell_type": "code",
   "execution_count": null,
   "metadata": {},
   "outputs": [],
   "source": []
  },
  {
   "cell_type": "code",
   "execution_count": null,
   "metadata": {},
   "outputs": [],
   "source": []
  },
  {
   "cell_type": "code",
   "execution_count": null,
   "metadata": {},
   "outputs": [],
   "source": []
  },
  {
   "cell_type": "code",
   "execution_count": null,
   "metadata": {},
   "outputs": [],
   "source": []
  },
  {
   "cell_type": "code",
   "execution_count": null,
   "metadata": {},
   "outputs": [],
   "source": []
  },
  {
   "cell_type": "code",
   "execution_count": null,
   "metadata": {},
   "outputs": [],
   "source": []
  },
  {
   "cell_type": "code",
   "execution_count": null,
   "metadata": {},
   "outputs": [],
   "source": []
  },
  {
   "cell_type": "code",
   "execution_count": null,
   "metadata": {},
   "outputs": [],
   "source": []
  }
 ],
 "metadata": {
  "kernelspec": {
   "display_name": "Python 3",
   "language": "python",
   "name": "python3"
  },
  "language_info": {
   "codemirror_mode": {
    "name": "ipython",
    "version": 3
   },
   "file_extension": ".py",
   "mimetype": "text/x-python",
   "name": "python",
   "nbconvert_exporter": "python",
   "pygments_lexer": "ipython3",
   "version": "3.7.6rc1"
  }
 },
 "nbformat": 4,
 "nbformat_minor": 2
}
